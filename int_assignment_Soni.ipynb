{
  "nbformat": 4,
  "nbformat_minor": 0,
  "metadata": {
    "colab": {
      "name": "int_assignment_Soni.ipynb",
      "provenance": [],
      "collapsed_sections": [],
      "include_colab_link": true
    },
    "kernelspec": {
      "name": "python3",
      "display_name": "Python 3"
    }
  },
  "cells": [
    {
      "cell_type": "markdown",
      "metadata": {
        "id": "view-in-github",
        "colab_type": "text"
      },
      "source": [
        "<a href=\"https://colab.research.google.com/github/rastogi-soni/LB_DSC_SEPT_WKND_20/blob/master/int_assignment_Soni.ipynb\" target=\"_parent\"><img src=\"https://colab.research.google.com/assets/colab-badge.svg\" alt=\"Open In Colab\"/></a>"
      ]
    },
    {
      "cell_type": "code",
      "metadata": {
        "id": "8A5Jw5NR1iEI",
        "outputId": "c1d58da2-2378-4905-81dc-2e1a9332ba9b",
        "colab": {
          "base_uri": "https://localhost:8080/",
          "height": 35
        }
      },
      "source": [
        "#Declare an int value and store it in a variable. \n",
        "\n",
        "a = 10\n",
        "\n",
        "#Check the type and print the id of the same.\n",
        "print ('Type and id are' ,type(a), id(a))\n"
      ],
      "execution_count": null,
      "outputs": [
        {
          "output_type": "stream",
          "text": [
            "Type and id are <class 'int'> 10914784\n"
          ],
          "name": "stdout"
        }
      ]
    },
    {
      "cell_type": "code",
      "metadata": {
        "id": "0YU8LFTn1rAX",
        "outputId": "ddad21a5-0db3-4e75-ae51-a29a0c06f919",
        "colab": {
          "base_uri": "https://localhost:8080/",
          "height": 52
        }
      },
      "source": [
        "#Take one int value between 0 - 256.\n",
        "#Assign it to two different variables.\n",
        "#Check the id of both the variables. It should come same. Check why?\n",
        "\n",
        "a = 10\n",
        "b = 10\n",
        "print ('id of a and b are', id(a), id(b))\n",
        "print (a is b)\n",
        "\n",
        "#Take one int value either less than -5 or greater than 256.\n",
        "#Assign it to two different variables.\n",
        "#Check the id of both the variables. It should come different.Check why?\n",
        "\n",
        "\n"
      ],
      "execution_count": null,
      "outputs": [
        {
          "output_type": "stream",
          "text": [
            "id of a and b are 10914784 10914784\n",
            "True\n"
          ],
          "name": "stdout"
        }
      ]
    },
    {
      "cell_type": "code",
      "metadata": {
        "id": "YzEIG0ZZ1tSK",
        "outputId": "8f5e7004-5a13-4bfc-b09a-4b70b8094db9",
        "colab": {
          "base_uri": "https://localhost:8080/",
          "height": 139
        }
      },
      "source": [
        "#Arithmatic Operations on integers\n",
        "#Take two different intger values.\n",
        "a = 50\n",
        "b = 30\n",
        "#Store them in two different variables.\n",
        "#Do below operations on them:-\n",
        "    #Find sum of both numbers\n",
        "print(a + b)\n",
        "    #Find differce between them\n",
        "print(a - b)\n",
        "    #Find the product of both numbers.\n",
        "print(a * b)\n",
        "    #Find value after dividing first num with second number\n",
        "print(a / b)\n",
        "    #Find the remainder after dividing first number with second number\n",
        "print(a % b)\n",
        "    #Find the quotient after dividing first number with second number\n",
        "print (a / b)\n",
        "    #Find the result of first num to the power of second number.\n",
        "print (a ** b)"
      ],
      "execution_count": null,
      "outputs": [
        {
          "output_type": "stream",
          "text": [
            "80\n",
            "20\n",
            "1500\n",
            "1.6666666666666667\n",
            "20\n",
            "1.6666666666666667\n",
            "931322574615478515625000000000000000000000000000000\n"
          ],
          "name": "stdout"
        }
      ]
    },
    {
      "cell_type": "code",
      "metadata": {
        "id": "GGM7CdzA1wGn",
        "outputId": "39137ad5-ca77-4ffa-dcf5-a5965f19fcce",
        "colab": {
          "base_uri": "https://localhost:8080/",
          "height": 87
        }
      },
      "source": [
        "#Comparison Operators on integers\n",
        "#Take two different intger values.\n",
        "a = 50\n",
        "b = 30\n",
        "#Store them in two different variables.\n",
        "#Do below operations on them:-\n",
        "    #Compare se two numbers with below operator:-\n",
        "        #Greater than, '>'\n",
        "print(a > b)\n",
        "        #Smaller than, '<'\n",
        "print(a < b)\n",
        "        #Greater than or equal to, '>='\n",
        "print(a >= b)\n",
        "        #Less than or equal to, '<='\n",
        "print(a <= b)\n",
        "#Observe their output(return type should be boolean)"
      ],
      "execution_count": null,
      "outputs": [
        {
          "output_type": "stream",
          "text": [
            "True\n",
            "False\n",
            "True\n",
            "False\n"
          ],
          "name": "stdout"
        }
      ]
    },
    {
      "cell_type": "code",
      "metadata": {
        "id": "9x904sUE1y9t",
        "outputId": "cb8da365-c315-44e8-bd4a-c3b07b5fdef2",
        "colab": {
          "base_uri": "https://localhost:8080/",
          "height": 52
        }
      },
      "source": [
        "#Equality Operator\n",
        "#Take two different intger values.\n",
        "#Store them in two different variables.\n",
        "a = 30\n",
        "b = 50\n",
        "#Equuate them using equality operator (==, !=)\n",
        "print(a == b)\n",
        "#Observe the output(return type should be boolean)\n",
        "print (a != b)"
      ],
      "execution_count": null,
      "outputs": [
        {
          "output_type": "stream",
          "text": [
            "False\n",
            "True\n"
          ],
          "name": "stdout"
        }
      ]
    },
    {
      "cell_type": "code",
      "metadata": {
        "id": "JmQFHUwc11S-",
        "outputId": "361e25de-0532-4aeb-e91d-ac73366c8d0c",
        "colab": {
          "base_uri": "https://localhost:8080/",
          "height": 191
        }
      },
      "source": [
        "#Logical operators\n",
        "#Observe the output of below code\n",
        "#Cross check the output manually\n",
        "\n",
        "print(10 and 20)       #----------------------------------------->Output is 20\n",
        "print(0 and 20)        #----------------------------------------->Output is 0\n",
        "print(20 and 0)        #----------------------------------------->Output is 0\n",
        "print(0 and 0)         #----------------------------------------->Output is 0\n",
        "\n",
        "print(10 or 20)        #----------------------------------------->Output is 10\n",
        "print(0 or 20)         #----------------------------------------->Output is 20\n",
        "print(20 or 0)         #----------------------------------------->Output is 20\n",
        "print(0 or 0)          #----------------------------------------->Output is 0\n",
        "\n",
        "print(not 10)          #----------------------------------------->Output is False\n",
        "print(not 0)           #----------------------------------------->Output is True"
      ],
      "execution_count": null,
      "outputs": [
        {
          "output_type": "stream",
          "text": [
            "20\n",
            "0\n",
            "0\n",
            "0\n",
            "10\n",
            "20\n",
            "20\n",
            "0\n",
            "False\n",
            "True\n"
          ],
          "name": "stdout"
        }
      ]
    },
    {
      "cell_type": "code",
      "metadata": {
        "id": "-0tvoulX14Hi",
        "outputId": "2c7b2b79-8a26-4bcd-844d-4a0e2b8d1870",
        "colab": {
          "base_uri": "https://localhost:8080/",
          "height": 121
        }
      },
      "source": [
        "#Bitwise Operators\n",
        "#Do below operations on the values provided below:-\n",
        "a = 10\n",
        "b = 20\n",
        "    #Bitwise and(&) -----------------------------------------> 10, 20   -------> Output is 0\n",
        "print(10 & 20)\n",
        "    #Bitwise or(|)  -----------------------------------------> 10, 20   -------> Output is 30\n",
        "print(10 | 20)\n",
        "    #Bitwise(^)     -----------------------------------------> 10, 20   -------> Output is 30\n",
        "print(10 ^ 20)\n",
        "    #Bitwise negation(~) ------------------------------------> 10       -------> Output is -11\n",
        "print(~10)\n",
        "    #Bitwise left shift  ------------------------------------> 10,2     -------> Output is 40\n",
        "print(10 << 2)\n",
        "    #Bitwise right shift ------------------------------------> 10,2     -------> Output is 2\n",
        "print (10 >> 2)\n",
        "#Cross check the output manually"
      ],
      "execution_count": null,
      "outputs": [
        {
          "output_type": "stream",
          "text": [
            "0\n",
            "30\n",
            "30\n",
            "-11\n",
            "40\n",
            "2\n"
          ],
          "name": "stdout"
        }
      ]
    },
    {
      "cell_type": "code",
      "metadata": {
        "id": "YCcx-Qx016hg",
        "outputId": "4aec7661-7c0c-4fda-c9f2-3cbb00a30b7e",
        "colab": {
          "base_uri": "https://localhost:8080/",
          "height": 87
        }
      },
      "source": [
        "#What is the output of expression inside print statement. Cross check before running the program.\n",
        "a = 10\n",
        "b = 10\n",
        "print(a is b)          #True or False?\n",
        "print(a is not b)      #True or False?\n",
        "\n",
        "a = 1000\n",
        "b = 1000\n",
        "print(a is b)          #True or False?\n",
        "print(a is not b)      #True or False?"
      ],
      "execution_count": null,
      "outputs": [
        {
          "output_type": "stream",
          "text": [
            "True\n",
            "False\n",
            "False\n",
            "True\n"
          ],
          "name": "stdout"
        }
      ]
    },
    {
      "cell_type": "code",
      "metadata": {
        "id": "Un2To3XN1_Il",
        "outputId": "9106d83f-45fd-4cce-bb92-ac6bae115abb",
        "colab": {
          "base_uri": "https://localhost:8080/",
          "height": 35
        }
      },
      "source": [
        "#What is the output of expression inside print statement. Cross check before running the program.\n",
        "print(10+(10*32)//2**5&20+(~(-10))<<2)"
      ],
      "execution_count": null,
      "outputs": [
        {
          "output_type": "stream",
          "text": [
            "20\n"
          ],
          "name": "stdout"
        }
      ]
    },
    {
      "cell_type": "code",
      "metadata": {
        "id": "kGRb5RMd1_1I",
        "outputId": "0f8621cc-dd88-415d-8a99-3730104e20af",
        "colab": {
          "base_uri": "https://localhost:8080/",
          "height": 121
        }
      },
      "source": [
        "#Membership operation\n",
        "#in, not in are two membership operators and it returns boolean value\n",
        "\n",
        "print('2' in 'Python2.7.8')\n",
        "print(10 in [10,10.20,10+20j,'Python'])\n",
        "print(10 in (10,10.20,10+20j,'Python'))\n",
        "print(2 in {1,2,3})\n",
        "print(3 in {1:100, 2:200, 3:300})\n",
        "print(10 in range(20))"
      ],
      "execution_count": null,
      "outputs": [
        {
          "output_type": "stream",
          "text": [
            "True\n",
            "True\n",
            "True\n",
            "True\n",
            "True\n",
            "True\n"
          ],
          "name": "stdout"
        }
      ]
    },
    {
      "cell_type": "code",
      "metadata": {
        "id": "Es7iSvL92B9W",
        "outputId": "0f52dd00-f0b4-4199-9dff-6b255dcb5510",
        "colab": {
          "base_uri": "https://localhost:8080/",
          "height": 69
        }
      },
      "source": [
        "#An integer can be represented in binary, octal or hexadecimal form.\n",
        "#Declare one binary, one octal and one hexadecimal value and store them in three different variables.\n",
        "a = 0b1010000\n",
        "\n",
        "b = 0o7436\n",
        "\n",
        "c = 0xfade\n",
        "\n",
        "#Convert 9876 to its binary, octal and hexadecimal equivalent and print their corresponding value.\n",
        "print(bin(9876))\n",
        "print(oct(9876))\n",
        "print(hex(9876))"
      ],
      "execution_count": null,
      "outputs": [
        {
          "output_type": "stream",
          "text": [
            "0b10011010010100\n",
            "0o23224\n",
            "0x2694\n"
          ],
          "name": "stdout"
        }
      ]
    },
    {
      "cell_type": "code",
      "metadata": {
        "id": "Hm0r03lH2E0i",
        "outputId": "8f7ecbea-8f99-4e92-8529-0af6ec7c5c7e",
        "colab": {
          "base_uri": "https://localhost:8080/",
          "height": 225
        }
      },
      "source": [
        "#What will be the outut of following:-\n",
        "a = 0b1010000\n",
        "print(a)\n",
        "\n",
        "b = 0o7436\n",
        "print(b)\n",
        "\n",
        "c = 0xfade\n",
        "print(c)\n",
        "\n",
        "print(bin(80))\n",
        "\n",
        "print(oct(3870))\n",
        "\n",
        "print(hex(64222))\n",
        "\n",
        "print(bin(0b1010000))\n",
        "\n",
        "print(bin(0xfade))\n",
        "\n",
        "print(oct(0xfade))\n",
        "\n",
        "print(oct(0o7436))\n",
        "\n",
        "print(hex(0b1010000))\n",
        "\n",
        "print(hex(0xfade))"
      ],
      "execution_count": null,
      "outputs": [
        {
          "output_type": "stream",
          "text": [
            "80\n",
            "3870\n",
            "64222\n",
            "0b1010000\n",
            "0o7436\n",
            "0xfade\n",
            "0b1010000\n",
            "0b1111101011011110\n",
            "0o175336\n",
            "0o7436\n",
            "0x50\n",
            "0xfade\n"
          ],
          "name": "stdout"
        }
      ]
    }
  ]
}
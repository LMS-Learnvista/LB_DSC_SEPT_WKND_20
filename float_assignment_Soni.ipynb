{
  "nbformat": 4,
  "nbformat_minor": 0,
  "metadata": {
    "colab": {
      "name": "float_assignment_Soni.ipynb",
      "provenance": [],
      "collapsed_sections": [],
      "include_colab_link": true
    },
    "kernelspec": {
      "name": "python3",
      "display_name": "Python 3"
    }
  },
  "cells": [
    {
      "cell_type": "markdown",
      "metadata": {
        "id": "view-in-github",
        "colab_type": "text"
      },
      "source": [
        "<a href=\"https://colab.research.google.com/github/rastogi-soni/LB_DSC_SEPT_WKND_20/blob/master/float_assignment_Soni.ipynb\" target=\"_parent\"><img src=\"https://colab.research.google.com/assets/colab-badge.svg\" alt=\"Open In Colab\"/></a>"
      ]
    },
    {
      "cell_type": "code",
      "metadata": {
        "id": "dlrMB-Qy2taV",
        "outputId": "3754b57f-173e-4539-eb98-28e01d77d31d",
        "colab": {
          "base_uri": "https://localhost:8080/",
          "height": 35
        }
      },
      "source": [
        "#Declare a float value and store it in a variable. \n",
        "a = 5.20\n",
        "\n",
        "\n",
        "\n",
        "\n",
        "#Check the type and print the id of the same.\n",
        "print ('Type and id of a is', type(a), id(a))\n",
        "\n"
      ],
      "execution_count": null,
      "outputs": [
        {
          "output_type": "stream",
          "text": [
            "Type and id of a is <class 'float'> 140507196804528\n"
          ],
          "name": "stdout"
        }
      ]
    },
    {
      "cell_type": "code",
      "metadata": {
        "id": "IL4fVDHg2wbI",
        "outputId": "487b53b0-c7d0-4ff8-a7e1-b2c850fdad0d",
        "colab": {
          "base_uri": "https://localhost:8080/",
          "height": 139
        }
      },
      "source": [
        "#Arithmatic Operations on float\n",
        "#Take two different float values.\n",
        "#Store them in two different variables.\n",
        "a = 5.20\n",
        "b = 3.10\n",
        "#Do below operations on them:-\n",
        "    #Find sum of both numbers\n",
        "print(a+b)\n",
        "\n",
        "    #Find differce between them\n",
        "print(a-b)\n",
        "    #Find the product of both numbers.\n",
        "print(a*b)\n",
        "    #Find value after dividing first num with second number\n",
        "print(a/b)\n",
        "    #Find the remainder after dividing first number with second number\n",
        "print(a%b)\n",
        "    #Find the quotient after dividing first number with second number\n",
        "print(a/b)\n",
        "    #Find the result of first num to the power of second number.\n",
        "print(a**b)"
      ],
      "execution_count": null,
      "outputs": [
        {
          "output_type": "stream",
          "text": [
            "8.3\n",
            "2.1\n",
            "16.12\n",
            "1.6774193548387097\n",
            "2.1\n",
            "1.6774193548387097\n",
            "165.80986483300362\n"
          ],
          "name": "stdout"
        }
      ]
    },
    {
      "cell_type": "code",
      "metadata": {
        "id": "atCFaH6c2492",
        "outputId": "3e6e4808-f1dc-419e-bbb3-42470d285b56",
        "colab": {
          "base_uri": "https://localhost:8080/",
          "height": 87
        }
      },
      "source": [
        "#Comparison Operators on float\n",
        "#Take two different float values.\n",
        "#Store them in two different variables.\n",
        "a = 5.20\n",
        "b = 3.10\n",
        "#Do below operations on them:-\n",
        "    #Compare these two numbers with below operator:-\n",
        "        #Greater than, '>'\n",
        "print(a > b)\n",
        "        #Smaller than, '<'\n",
        "print(a < b)\n",
        "        #Greater than or equal to, '>='\n",
        "print(a >= b)\n",
        "        #Less than or equal to, '<='\n",
        "print(a <= b)\n",
        "#Observe their output(return type should be boolean)\n",
        "\n",
        "\n",
        "\n",
        "\n",
        "\n",
        "\n",
        "\n",
        "\n"
      ],
      "execution_count": null,
      "outputs": [
        {
          "output_type": "stream",
          "text": [
            "True\n",
            "False\n",
            "True\n",
            "False\n"
          ],
          "name": "stdout"
        }
      ]
    },
    {
      "cell_type": "code",
      "metadata": {
        "id": "agi3U3863A5i",
        "outputId": "c32218e8-db76-4960-9dca-48033a4f2adf",
        "colab": {
          "base_uri": "https://localhost:8080/",
          "height": 52
        }
      },
      "source": [
        "#Equality Operator\n",
        "#Take two different float values.\n",
        "#Store them in two different variables.\n",
        "a = 5.20\n",
        "b = 3.10\n",
        "#Equuate them using equality operator (==, !=)\n",
        "print(a == b)\n",
        "print(a != b)\n",
        "#Observe the output(return type should be boolean)\n",
        "\n",
        "\n",
        "\n",
        "\n",
        "\n",
        "\n",
        "\n"
      ],
      "execution_count": null,
      "outputs": [
        {
          "output_type": "stream",
          "text": [
            "False\n",
            "True\n"
          ],
          "name": "stdout"
        }
      ]
    },
    {
      "cell_type": "code",
      "metadata": {
        "id": "3HLlgaEt3EnJ",
        "outputId": "f4740b98-6bb8-432a-d511-e09b9e69e845",
        "colab": {
          "base_uri": "https://localhost:8080/",
          "height": 191
        }
      },
      "source": [
        "#Logical operators\n",
        "#Observe the output of below code\n",
        "#Cross check the output manually\n",
        "\n",
        "print(10.20 and 20.30)       #both are true and second value taken >Output is 20.3\n",
        "print(0.0 and 20.30)         #First is false so first value taken->Output is 0.0\n",
        "print(20.30 and 0.0)         #Goes to till second and second value is false so second is taken>Output is 0.0\n",
        "print(0.0 and 0.0)           #First is false so first value is taken->Output is 0.0\n",
        "\n",
        "print(10.20 or 20.30)        #First is True so first value is taken>Output is 10.2\n",
        "print(0.0 or 20.30)          #Goes to till second and second is true second value is taken->Output is 20.3\n",
        "print(20.30 or 0.0)          #First is True so first value is taken->Output is 20.3\n",
        "print(0.0 or 0.0)            #Goes to till second and secod is also false and second value is taken>Output is 0.0\n",
        "\n",
        "print(not 10.20)             #-Not of true is false->Output is False\n",
        "print(not 0.0)               #Not of false is True>Output is True"
      ],
      "execution_count": null,
      "outputs": [
        {
          "output_type": "stream",
          "text": [
            "20.3\n",
            "0.0\n",
            "0.0\n",
            "0.0\n",
            "10.2\n",
            "20.3\n",
            "20.3\n",
            "0.0\n",
            "False\n",
            "True\n"
          ],
          "name": "stdout"
        }
      ]
    },
    {
      "cell_type": "code",
      "metadata": {
        "id": "7YdyRNtk3UZd",
        "outputId": "3343f78f-a188-4295-b3de-277479739c46",
        "colab": {
          "base_uri": "https://localhost:8080/",
          "height": 52
        }
      },
      "source": [
        "#What is the output of expression inside print statement. Cross check before running the program.\n",
        "a = 10.20\n",
        "b = 10.20\n",
        "print(a is b)          #True or False? True 10.20<256\n",
        "print(a is not b)      #True or False? False\n",
        "\n",
        "\n",
        "# Why the Id of float values are different when the same value is assigned to two different variables\n",
        "# ex: a = 10.5 b=10.5. but id will be same if I assign the variable having float i.e. a=c then both a and c's\n",
        "# Id are same\n",
        "\n",
        "# #Object reusability concept is not applicable on float values. Optimization is not useful as there are infinite float values and hence we are getting different ids\n",
        "# It would be easier for Python to keep track of the referenced object, so the id() of a will be the same as that of c."
      ],
      "execution_count": null,
      "outputs": [
        {
          "output_type": "stream",
          "text": [
            "False\n",
            "True\n"
          ],
          "name": "stdout"
        }
      ]
    },
    {
      "cell_type": "code",
      "metadata": {
        "id": "iTvnIMLd3VLW"
      },
      "source": [
        "#Bitwise operation is not applicable between instances of float.\n",
        "## Why the Id of float values are different when the same value is assigned to two different variables\n",
        "## ex: a = 10.5 b=10.5. but id will be same if I assign the variable having float i.e. a=c then both a anc c's\n",
        "## Id are same\n",
        "#Object reusability concept is not applicable on float values."
      ],
      "execution_count": null,
      "outputs": []
    },
    {
      "cell_type": "code",
      "metadata": {
        "id": "29AVJHpx3YUo",
        "outputId": "d97aab8b-2d7b-44ec-9bcc-5a0712457cb1",
        "colab": {
          "base_uri": "https://localhost:8080/",
          "height": 121
        }
      },
      "source": [
        "#Membership operation\n",
        "#in, not in are two membership operators and it returns boolean value\n",
        "\n",
        "print('2.7' in 'Python2.7.8')              #True\n",
        "print(10.20 in [10,10.20,10+20j,'Python']) #True\n",
        "print(10.20 in (10,10.20,10+20j,'Python')) # True\n",
        "print(20.30 in {1,20.30,30+40j})           # True\n",
        "print(2.3 in {1:100, 2.3:200, 30+40j:300}) # True\n",
        "print(10 in range(20))                     # True"
      ],
      "execution_count": null,
      "outputs": [
        {
          "output_type": "stream",
          "text": [
            "True\n",
            "True\n",
            "True\n",
            "True\n",
            "True\n",
            "True\n"
          ],
          "name": "stdout"
        }
      ]
    }
  ]
}
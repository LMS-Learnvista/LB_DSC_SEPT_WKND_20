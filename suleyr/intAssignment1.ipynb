{
 "cells": [
  {
   "cell_type": "code",
   "execution_count": 2,
   "metadata": {},
   "outputs": [
    {
     "name": "stdout",
     "output_type": "stream",
     "text": [
      "10\n",
      "<class 'int'> 140729571096640\n"
     ]
    }
   ],
   "source": [
    "#Declare an int value and store it in a variable. \n",
    "\n",
    "a=10\n",
    "print(a)\n",
    "\n",
    "\n",
    "#Check the type and print the id of the same.\n",
    "print(type(a),id(a))"
   ]
  },
  {
   "cell_type": "code",
   "execution_count": 5,
   "metadata": {},
   "outputs": [
    {
     "name": "stdout",
     "output_type": "stream",
     "text": [
      "140729571097920\n",
      "140729571097920\n",
      "2167535101040\n",
      "2167535101360\n"
     ]
    }
   ],
   "source": [
    "#Take one int value between 0 - 256.\n",
    "#Assign it to two different variables.\n",
    "#Check the id of both the variables. It should come same. Check why?\n",
    "a=50\n",
    "b=50\n",
    "print(id(a))\n",
    "print(id(b))\n",
    "\n",
    "\n",
    "#Take one int value either less than -5 or greater than 256.\n",
    "#Assign it to two different variables.\n",
    "#Check the id of both the variables. It should come different.Check why?\n",
    "a=400\n",
    "b=400\n",
    "print(id(a))\n",
    "print(id(b))\n",
    "\n",
    "#Object reusability concept is valid for integers from -5 to 256 only, hence ids in memory are same for numbers betw this range\n"
   ]
  },
  {
   "cell_type": "code",
   "execution_count": 6,
   "metadata": {},
   "outputs": [
    {
     "name": "stdout",
     "output_type": "stream",
     "text": [
      "100\n",
      "-40\n",
      "2100\n",
      "0.42857142857142855\n",
      "0\n",
      "30\n",
      "22539340290692258087863249000000000000000000000000000000\n"
     ]
    }
   ],
   "source": [
    "#Arithmatic Operations on integers\n",
    "#Take two different intger values.\n",
    "#Store them in two different variables.\n",
    "a=30\n",
    "b=70\n",
    "\n",
    "#Do below operations on them:-\n",
    "#Find sum of both numbers\n",
    "print(a+b)\n",
    "#Find differce between them\n",
    "print(a-b)\n",
    "#Find the product of both numbers.\n",
    "print(a*b)\n",
    "#Find value after dividing first num with second number\n",
    "print(a/b)\n",
    "#Find the quotient after dividing first number with second number\n",
    "print(a//b)\n",
    "#Find the remainder after dividing first number with second number\n",
    "print(a%b)\n",
    "#Find the result of first num to the power of second number.\n",
    "print(b**a)"
   ]
  },
  {
   "cell_type": "code",
   "execution_count": 7,
   "metadata": {},
   "outputs": [
    {
     "name": "stdout",
     "output_type": "stream",
     "text": [
      "True\n",
      "False\n",
      "True\n",
      "False\n"
     ]
    }
   ],
   "source": [
    "#Comparison Operators on integers\n",
    "#Take two different intger values.\n",
    "#Store them in two different variables.\n",
    "a=90\n",
    "b=40\n",
    "#Do below operations on them:-\n",
    "#Compare se two numbers with below operator:-\n",
    "#Greater than, '>'\n",
    "print(a>b)\n",
    "\n",
    "#Smaller than, '<'\n",
    "print(a<b)\n",
    "\n",
    "#Greater than or equal to, '>='\n",
    "print(a>=b)\n",
    "\n",
    "#Less than or equal to, '<='\n",
    "print(a<=b)\n",
    "\n",
    "#Observe their output(return type should be boolean)"
   ]
  },
  {
   "cell_type": "code",
   "execution_count": 8,
   "metadata": {},
   "outputs": [
    {
     "name": "stdout",
     "output_type": "stream",
     "text": [
      "False\n",
      "True\n"
     ]
    }
   ],
   "source": [
    "#Equality Operator\n",
    "#Take two different intger values.\n",
    "#Store them in two different variables.\n",
    "a=90\n",
    "b=40\n",
    "\n",
    "#Equuate them using equality operator (==, !=)\n",
    "print(a==b)\n",
    "print(a!=b)\n",
    "\n",
    "#Observe the output(return type should be boolean)"
   ]
  },
  {
   "cell_type": "code",
   "execution_count": 9,
   "metadata": {},
   "outputs": [
    {
     "name": "stdout",
     "output_type": "stream",
     "text": [
      "20\n",
      "0\n",
      "0\n",
      "0\n",
      "10\n",
      "20\n",
      "20\n",
      "0\n",
      "False\n",
      "True\n"
     ]
    }
   ],
   "source": [
    "#Logical operators\n",
    "#Observe the output of below code\n",
    "#Cross check the output manually\n",
    "\n",
    "print(10 and 20)       #----------------------------------------->Output is 20\n",
    "print(0 and 20)        #----------------------------------------->Output is 0\n",
    "print(20 and 0)        #----------------------------------------->Output is 0\n",
    "print(0 and 0)         #----------------------------------------->Output is 0\n",
    "\n",
    "print(10 or 20)        #----------------------------------------->Output is 10\n",
    "print(0 or 20)         #----------------------------------------->Output is 20\n",
    "print(20 or 0)         #----------------------------------------->Output is 20\n",
    "print(0 or 0)          #----------------------------------------->Output is 0\n",
    "\n",
    "print(not 10)          #----------------------------------------->Output is False\n",
    "print(not 0)           #----------------------------------------->Output is True"
   ]
  },
  {
   "cell_type": "code",
   "execution_count": 24,
   "metadata": {},
   "outputs": [
    {
     "name": "stdout",
     "output_type": "stream",
     "text": [
      "0b1010\n",
      "0b10100\n",
      "0b0 0\n",
      "0b11110 30\n",
      "0b11110 30\n",
      "-0b1011 -11\n",
      "-0b10101 -21\n",
      "0b1001 9\n",
      "0b101000 40\n",
      "0b10 2\n"
     ]
    }
   ],
   "source": [
    "#Bitwise Operators\n",
    "a=10\n",
    "b=20\n",
    "c=-10\n",
    "print(bin(a))\n",
    "print(bin(b))\n",
    "#Do below operations on the values provided below:-\n",
    "#Bitwise and(&) -----------------------------------------> 10, 20   -------> Output is 0\n",
    "print(bin(a&b),(a&b))\n",
    "\n",
    "#Bitwise or(|)  -----------------------------------------> 10, 20   -------> Output is 30\n",
    "print(bin(a|b),(a|b))\n",
    "\n",
    "#Bitwise(^)     -----------------------------------------> 10, 20   -------> Output is 30\n",
    "print(bin(a^b),a^b)\n",
    "\n",
    "#Bitwise negation(~) ------------------------------------> 10       -------> Output is -11\n",
    "print(bin(~a),~a)\n",
    "print(bin(~b),~b)\n",
    "print(bin(~c),~c)\n",
    "# negative(number +1) -> -(a+1)\n",
    "#Bitwise left shift  ------------------------------------> 10,2     -------> Output is 40\n",
    "print(bin(a<<2),a<<2)\n",
    "#adding zeros to right of binary number-> equi multiplying by 10,100...\n",
    "\n",
    "#Bitwise right shift ------------------------------------> 10,2     -------> Output is 2\n",
    "print(bin(a>>2),a>>2)\n",
    "#adding zeros to left of binary number-> equi dividing by 10,100...\n",
    "\n",
    "#Cross check the output manually"
   ]
  },
  {
   "cell_type": "code",
   "execution_count": 22,
   "metadata": {},
   "outputs": [
    {
     "name": "stdout",
     "output_type": "stream",
     "text": [
      "True\n",
      "False\n",
      "False\n",
      "True\n"
     ]
    }
   ],
   "source": [
    "#What is the output of expression inside print statement. Cross check before running the program.\n",
    "a = 10\n",
    "b = 10\n",
    "print(a is b)          #True or False?\n",
    "print(a is not b)      #True or False?\n",
    "\n",
    "a = 1000\n",
    "b = 1000\n",
    "print(a is b)          #True or False?\n",
    "print(a is not b)      #True or False?"
   ]
  },
  {
   "cell_type": "code",
   "execution_count": 74,
   "metadata": {
    "scrolled": true
   },
   "outputs": [
    {
     "name": "stdout",
     "output_type": "stream",
     "text": [
      "20\n",
      "320\n",
      "9\n",
      "32\n",
      "10\n",
      "20 29\n",
      "116\n",
      "20\n"
     ]
    }
   ],
   "source": [
    "#What is the output of expression inside print statement. Cross check before running the program.\n",
    "print(10+(10*32)//2**5&20+(~(-10))<<2)\n",
    "print(10*32) #evaluate parentheses\n",
    "print(~(-10)) #evaluate parentheses\n",
    "#print(10+320//2**5&20+9<<2)\n",
    "print(2**5)#evaluate exponents\n",
    "#print(10+320//32&20+9<<2)\n",
    "print(320//32) #evaluate division\n",
    "#print(10+10&20+9<<2)\n",
    "print(10+10,20+9) #evaluate addition\n",
    "#print(20&29<<2)\n",
    "print(29<<2) #evaluate <<\n",
    "print(20&116) # #evaluate &b\n"
   ]
  },
  {
   "cell_type": "code",
   "execution_count": 75,
   "metadata": {},
   "outputs": [
    {
     "name": "stdout",
     "output_type": "stream",
     "text": [
      "True\n",
      "True\n",
      "True\n",
      "True\n",
      "True\n",
      "True\n"
     ]
    }
   ],
   "source": [
    "#Membership operation\n",
    "#in, not in are two membership operators and it returns boolean value\n",
    "\n",
    "print('2' in 'Python2.7.8')\n",
    "print(10 in [10,10.20,10+20j,'Python'])\n",
    "print(10 in (10,10.20,10+20j,'Python'))\n",
    "print(2 in {1,2,3})\n",
    "print(3 in {1:100, 2:200, 3:300})\n",
    "print(10 in range(20))"
   ]
  },
  {
   "cell_type": "code",
   "execution_count": 79,
   "metadata": {},
   "outputs": [
    {
     "name": "stdout",
     "output_type": "stream",
     "text": [
      "80\n",
      "3870\n",
      "64222\n",
      "0b10011010010100\n",
      "0o23224\n",
      "0x2694\n"
     ]
    }
   ],
   "source": [
    "#An integer can be represented in binary, octal or hexadecimal form.\n",
    "#Declare one binary, one octal and one hexadecimal value and store them in three different variables.\n",
    "#Convert 9876 to its binary, octal and hexadecimal equivalent and print their corresponding value\n",
    "\n",
    "a = 0b1010000\n",
    "print(a)\n",
    "\n",
    "b = 0o7436\n",
    "print(b)\n",
    "\n",
    "c = 0xfade\n",
    "print(c)\n",
    "\n",
    "print(bin(9876))\n",
    "\n",
    "print(oct(9876))\n",
    "\n",
    "print(hex(9876))"
   ]
  },
  {
   "cell_type": "code",
   "execution_count": 80,
   "metadata": {},
   "outputs": [
    {
     "name": "stdout",
     "output_type": "stream",
     "text": [
      "80\n",
      "3870\n",
      "64222\n",
      "0b1010000\n",
      "0o7436\n",
      "0xfade\n",
      "0b1010000\n",
      "0b1111101011011110\n",
      "0o175336\n",
      "0o7436\n",
      "0x50\n",
      "0xfade\n"
     ]
    }
   ],
   "source": [
    "#What will be the outut of following:-\n",
    "a = 0b1010000\n",
    "print(a)\n",
    "\n",
    "b = 0o7436\n",
    "print(b)\n",
    "\n",
    "c = 0xfade\n",
    "print(c)\n",
    "\n",
    "print(bin(80))\n",
    "\n",
    "print(oct(3870))\n",
    "\n",
    "print(hex(64222))\n",
    "\n",
    "print(bin(0b1010000))\n",
    "\n",
    "print(bin(0xfade))\n",
    "\n",
    "print(oct(0xfade))\n",
    "\n",
    "print(oct(0o7436))\n",
    "\n",
    "print(hex(0b1010000))\n",
    "\n",
    "print(hex(0xfade))"
   ]
  }
 ],
 "metadata": {
  "kernelspec": {
   "display_name": "Python 3",
   "language": "python",
   "name": "python3"
  },
  "language_info": {
   "codemirror_mode": {
    "name": "ipython",
    "version": 3
   },
   "file_extension": ".py",
   "mimetype": "text/x-python",
   "name": "python",
   "nbconvert_exporter": "python",
   "pygments_lexer": "ipython3",
   "version": "3.8.3"
  }
 },
 "nbformat": 4,
 "nbformat_minor": 4
}

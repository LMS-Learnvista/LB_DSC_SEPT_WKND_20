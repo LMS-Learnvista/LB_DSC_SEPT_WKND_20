{
 "cells": [
  {
   "cell_type": "markdown",
   "metadata": {
    "id": "7JIFn6BP4M0R"
   },
   "source": [
    "##### Declare a boolean value and store it in a variable. "
   ]
  },
  {
   "cell_type": "code",
   "execution_count": 1,
   "metadata": {},
   "outputs": [],
   "source": [
    "a = True"
   ]
  },
  {
   "cell_type": "markdown",
   "metadata": {
    "id": "7JIFn6BP4M0R"
   },
   "source": [
    "##### Check the type and print the id of the same."
   ]
  },
  {
   "cell_type": "code",
   "execution_count": 2,
   "metadata": {},
   "outputs": [
    {
     "name": "stdout",
     "output_type": "stream",
     "text": [
      "Type:  <class 'bool'>\n",
      "id:  140724588816720\n"
     ]
    }
   ],
   "source": [
    "print(\"Type: \",type(a))\n",
    "print(\"id: \",id(a))"
   ]
  },
  {
   "cell_type": "code",
   "execution_count": 16,
   "metadata": {
    "id": "o9bjjhN64kAP"
   },
   "outputs": [
    {
     "name": "stdout",
     "output_type": "stream",
     "text": [
      "140724589339312\n",
      "140724589339312\n"
     ]
    },
    {
     "data": {
      "text/plain": [
       "'Object Reusability concept'"
      ]
     },
     "execution_count": 16,
     "metadata": {},
     "output_type": "execute_result"
    }
   ],
   "source": [
    "#Take one boolean value between 0 - 256.\n",
    "#Assign it to two different variables.\n",
    "\n",
    "x = 10\n",
    "y = 10\n",
    "\n",
    "#Check the id of both the variables. It should come same. Check why?\n",
    "\n",
    "print(id(x))\n",
    "print(id(y))\n",
    "\n",
    "\"\"\"Object Reusability concept\"\"\"\n",
    "\n",
    "\n"
   ]
  },
  {
   "cell_type": "markdown",
   "metadata": {
    "id": "yr4ETGSf4l5y"
   },
   "source": [
    "##### Arithmatic Operations on boolean data"
   ]
  },
  {
   "cell_type": "code",
   "execution_count": 26,
   "metadata": {
    "id": "yr4ETGSf4l5y"
   },
   "outputs": [
    {
     "name": "stdout",
     "output_type": "stream",
     "text": [
      "1\n",
      "1\n",
      "0\n",
      "1\n"
     ]
    }
   ],
   "source": [
    "#Take two different boolean values.\n",
    "#Store them in two different variables.\n",
    "\n",
    "p = True\n",
    "q = False\n",
    "\n",
    "#Do below operations on them:-\n",
    "\n",
    "#Find sum of both values\n",
    "    \n",
    "print(p+q)\n",
    "\n",
    "\n",
    "#Find differce between them\n",
    "\n",
    "print(p-q)\n",
    "\n",
    "#Find the product of both.\n",
    "\n",
    "print(p*q)\n",
    "\n",
    "#Find value after dividing first value with second value\n",
    "    \n",
    "# print(p/q)\n",
    "    \n",
    "#Find the remainder after dividing first value with second value\n",
    "    \n",
    "# print(p%q)\n",
    "    \n",
    "#Find the quotient after dividing first value with second value\n",
    "    \n",
    "# print(p//q)\n",
    "    \n",
    "#Find the result of first value to the power of second value.\n",
    "    \n",
    "print(p**q)\n",
    "\n",
    "\n",
    "\n",
    "\n",
    "\n",
    "\n",
    "\n",
    "\n",
    "\n",
    "    "
   ]
  },
  {
   "cell_type": "markdown",
   "metadata": {
    "id": "xG4mX84E4n2O"
   },
   "source": [
    "##### Comparison Operators on boolean values"
   ]
  },
  {
   "cell_type": "code",
   "execution_count": 14,
   "metadata": {
    "id": "xG4mX84E4n2O"
   },
   "outputs": [
    {
     "name": "stdout",
     "output_type": "stream",
     "text": [
      "True\n",
      "False\n",
      "True\n",
      "False\n"
     ]
    }
   ],
   "source": [
    "#Take two different boolean values.\n",
    "#Store them in two different variables.\n",
    "\n",
    "u = 8032\n",
    "v = 2383\n",
    "\n",
    "#Do below operations on them:-\n",
    "\n",
    "#Compare these two values with below operator:-\n",
    "\n",
    "#Greater than, '>'\n",
    "    \n",
    "print(u > v)\n",
    "\n",
    "#less than, '<'\n",
    "\n",
    "print(u < v)\n",
    "    \n",
    "#Greater than or equal to, '>='\n",
    "\n",
    "print(u >= v)\n",
    "\n",
    "#Less than or equal to, '<='    \n",
    "\n",
    "print(u <= v)\n",
    "\n",
    "#Observe their output(return type should be boolean)"
   ]
  },
  {
   "cell_type": "markdown",
   "metadata": {
    "id": "TUIo2Z9V4qBJ"
   },
   "source": [
    "##### Equality Operator"
   ]
  },
  {
   "cell_type": "code",
   "execution_count": 13,
   "metadata": {
    "id": "TUIo2Z9V4qBJ"
   },
   "outputs": [
    {
     "name": "stdout",
     "output_type": "stream",
     "text": [
      "False\n",
      "True\n"
     ]
    }
   ],
   "source": [
    "#Take two different boolean values.\n",
    "#Store them in two different variables.\n",
    "\n",
    "y = 14\n",
    "z = 11\n",
    "\n",
    "#Equuate them using equality operator (==, !=)\n",
    "\n",
    "print(y==z)\n",
    "print(y!=z)\n",
    "\n",
    "#Observe the output(return type should be boolean)"
   ]
  },
  {
   "cell_type": "markdown",
   "metadata": {
    "id": "XukEq5E44rxv"
   },
   "source": [
    "##### Logical operators"
   ]
  },
  {
   "cell_type": "code",
   "execution_count": 7,
   "metadata": {
    "id": "XukEq5E44rxv"
   },
   "outputs": [
    {
     "name": "stdout",
     "output_type": "stream",
     "text": [
      "True\n",
      "False\n",
      "False\n",
      "False\n",
      "True\n",
      "True\n",
      "True\n",
      "False\n",
      "False\n",
      "True\n"
     ]
    }
   ],
   "source": [
    "#Observe the output of below code\n",
    "#Cross check the output manually\n",
    "\n",
    "print(True and True)        #----------------------------------------->Output is True\n",
    "print(False and True)        #----------------------------------------->Output is False\n",
    "print(True and False)        #----------------------------------------->Output is False\n",
    "print(False and False)       #----------------------------------------->Output is False\n",
    "\n",
    "print(True or True)          #----------------------------------------->Output is True\n",
    "print(False or True)         #----------------------------------------->Output is True\n",
    "print(True or False)         #----------------------------------------->Output is True\n",
    "print(False or False)        #----------------------------------------->Output is False\n",
    "\n",
    "print(not True)              #----------------------------------------->Output is False\n",
    "print(not False)             #----------------------------------------->Output is True"
   ]
  },
  {
   "cell_type": "markdown",
   "metadata": {
    "id": "02jPgt094vK-"
   },
   "source": [
    "##### Bitwise Operators"
   ]
  },
  {
   "cell_type": "code",
   "execution_count": 11,
   "metadata": {
    "id": "02jPgt094vK-"
   },
   "outputs": [
    {
     "name": "stdout",
     "output_type": "stream",
     "text": [
      "True\n",
      "True\n",
      "True\n",
      "-2\n",
      "4\n",
      "0\n"
     ]
    }
   ],
   "source": [
    "#Do below operations on the values provided below:-\n",
    "\n",
    "#Bitwise and(&) -----------------------------------------> True, True    -------> Output is True\n",
    "    \n",
    "print(True & True)\n",
    "\n",
    "#Bitwise or(|)  -----------------------------------------> True, False   -------> Output is True\n",
    "\n",
    "print(True|False)\n",
    "\n",
    "#Bitwise(^)     -----------------------------------------> True, False   -------> Output is True\n",
    "\n",
    "print(True^False)  \n",
    "\n",
    "#Bitwise negation(~) ------------------------------------> True          -------> Output is -2\n",
    "\n",
    "print(~True)  \n",
    "\n",
    "#Bitwise left shift  ------------------------------------> True,2        -------> Output is 4\n",
    "\n",
    "print(True << 2)\n",
    "\n",
    "#Bitwise right shift ------------------------------------> True,2        -------> Output is 0\n",
    "\n",
    "print(True >> 2)\n",
    "\n",
    "#Cross check the output manually"
   ]
  },
  {
   "cell_type": "code",
   "execution_count": 8,
   "metadata": {
    "id": "cy5i7sWz4v_c"
   },
   "outputs": [
    {
     "name": "stdout",
     "output_type": "stream",
     "text": [
      "True\n",
      "False\n",
      "True\n",
      "False\n"
     ]
    }
   ],
   "source": [
    "#What is the output of expression inside print statement. Cross check before running the program.\n",
    "a = True\n",
    "b = True\n",
    "print(a is b)          #True or False?   #\n",
    "print(a is not b)      #True or False?\n",
    "\n",
    "a = False\n",
    "b = False\n",
    "print(a is b)          #True or False?\n",
    "print(a is not b)      #True or False?\n"
   ]
  },
  {
   "cell_type": "code",
   "execution_count": 9,
   "metadata": {
    "id": "AOcPQi8544M-"
   },
   "outputs": [
    {
     "name": "stdout",
     "output_type": "stream",
     "text": [
      "True\n",
      "True\n",
      "True\n",
      "True\n",
      "True\n"
     ]
    }
   ],
   "source": [
    "#Membership operation\n",
    "#in, not in are two membership operators and it returns boolean value\n",
    "\n",
    "print(True in [10,10.20,10+20j,'Python', True])\n",
    "print(False in (10,10.20,10+20j,'Python', False))\n",
    "print(True in {1,2,3, True})\n",
    "print(True in {True:100, False:200, True:300})\n",
    "print(False in {True:100, False:200, True:300})"
   ]
  },
  {
   "cell_type": "code",
   "execution_count": null,
   "metadata": {
    "id": "MPa1Lpco46Ja"
   },
   "outputs": [],
   "source": []
  }
 ],
 "metadata": {
  "colab": {
   "name": "Boolean_Assignement.ipynb",
   "provenance": []
  },
  "kernelspec": {
   "display_name": "Python 3",
   "language": "python",
   "name": "python3"
  },
  "language_info": {
   "codemirror_mode": {
    "name": "ipython",
    "version": 3
   },
   "file_extension": ".py",
   "mimetype": "text/x-python",
   "name": "python",
   "nbconvert_exporter": "python",
   "pygments_lexer": "ipython3",
   "version": "3.7.4"
  }
 },
 "nbformat": 4,
 "nbformat_minor": 1
}

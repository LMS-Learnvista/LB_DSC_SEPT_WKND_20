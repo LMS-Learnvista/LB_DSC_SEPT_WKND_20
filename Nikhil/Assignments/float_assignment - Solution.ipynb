{
 "cells": [
  {
   "cell_type": "markdown",
   "metadata": {
    "id": "dlrMB-Qy2taV"
   },
   "source": [
    "##### Declare a float value and store it in a variable. "
   ]
  },
  {
   "cell_type": "code",
   "execution_count": 3,
   "metadata": {},
   "outputs": [],
   "source": [
    "f = 15.25"
   ]
  },
  {
   "cell_type": "markdown",
   "metadata": {
    "id": "dlrMB-Qy2taV"
   },
   "source": [
    "##### Check the type and print the id of the same."
   ]
  },
  {
   "cell_type": "code",
   "execution_count": 4,
   "metadata": {},
   "outputs": [
    {
     "name": "stdout",
     "output_type": "stream",
     "text": [
      "Type:  <class 'float'>\n",
      "Id:  2394210554864\n"
     ]
    }
   ],
   "source": [
    "print(\"Type: \",type(f))\n",
    "print(\"Id: \",id(f))"
   ]
  },
  {
   "cell_type": "markdown",
   "metadata": {
    "id": "IL4fVDHg2wbI"
   },
   "source": [
    "##### Arithmatic Operations on float"
   ]
  },
  {
   "cell_type": "code",
   "execution_count": 11,
   "metadata": {
    "id": "IL4fVDHg2wbI"
   },
   "outputs": [
    {
     "name": "stdout",
     "output_type": "stream",
     "text": [
      "Sum of 20.15 and 10.95 is: 31.099999999999998\n",
      "Diff of 20.15 and 10.95 is: 9.2\n",
      "Product of 20.15 and 10.95 is: 220.64249999999998\n",
      "Division of 20.15 and 10.95 is: 1.8401826484018264\n",
      "Remainder of 20.15 and 10.95 is: 9.2\n",
      "Quotient of 20.15 and 10.95 is: 1.0\n",
      "Power of 20.15 and 10.95 is: 191342658060436.1\n"
     ]
    }
   ],
   "source": [
    "#Take two different float values.\n",
    "#Store them in two different variables.\n",
    "\n",
    "a = 20.15\n",
    "b = 10.95\n",
    "\n",
    "#Do below operations on them:-\n",
    "\n",
    "#Find sum of both numbers\n",
    "\n",
    "print(f\"Sum of {a} and {b} is:\",a+b)\n",
    "\n",
    "#Find differce between them\n",
    "\n",
    "print(f\"Diff of {a} and {b} is:\",a-b)\n",
    "\n",
    "#Find the product of both numbers.\n",
    "\n",
    "print(f\"Product of {a} and {b} is:\",a*b)\n",
    "\n",
    "#Find value after dividing first num with second number\n",
    "\n",
    "print(f\"Division of {a} and {b} is:\",a/b)\n",
    "\n",
    "#Find the remainder after dividing first number with second number\n",
    "\n",
    "print(f\"Remainder of {a} and {b} is:\",a%b)\n",
    "\n",
    "#Find the quotient after dividing first number with second number\n",
    "\n",
    "print(f\"Quotient of {a} and {b} is:\",a//b)\n",
    "\n",
    "#Find the result of first num to the power of second number.\n",
    "\n",
    "print(f\"Power of {a} and {b} is:\",a**b)"
   ]
  },
  {
   "cell_type": "markdown",
   "metadata": {
    "id": "atCFaH6c2492"
   },
   "source": [
    "##### Comparison Operators on float"
   ]
  },
  {
   "cell_type": "code",
   "execution_count": 12,
   "metadata": {
    "id": "atCFaH6c2492"
   },
   "outputs": [
    {
     "name": "stdout",
     "output_type": "stream",
     "text": [
      "True\n",
      "False\n",
      "True\n",
      "False\n"
     ]
    }
   ],
   "source": [
    "#Take two different float values.\n",
    "#Store them in two different variables.\n",
    "\n",
    "x = 30.05\n",
    "y = 20.55\n",
    "\n",
    "#Do below operations on them:-\n",
    "\n",
    "#Compare these two numbers with below operator:-\n",
    "\n",
    "#Greater than, '>'\n",
    "\n",
    "print(x>y)\n",
    "\n",
    "#Smaller than, '<'\n",
    "\n",
    "print(x<y)\n",
    "\n",
    "#Greater than or equal to, '>='\n",
    "\n",
    "print(x>=y)\n",
    "\n",
    "#Less than or equal to, '<='\n",
    "\n",
    "print(x<=y)\n",
    "\n",
    "#Observe their output(return type should be boolean)"
   ]
  },
  {
   "cell_type": "markdown",
   "metadata": {
    "id": "agi3U3863A5i"
   },
   "source": [
    "##### Equality Operator"
   ]
  },
  {
   "cell_type": "code",
   "execution_count": 13,
   "metadata": {
    "id": "agi3U3863A5i"
   },
   "outputs": [
    {
     "name": "stdout",
     "output_type": "stream",
     "text": [
      "False\n",
      "True\n"
     ]
    }
   ],
   "source": [
    "#Take two different float values.\n",
    "#Store them in two different variables.\n",
    "p = 25.45\n",
    "q = 30.80\n",
    "\n",
    "#Equuate them using equality operator (==, !=)\n",
    "\n",
    "print(p==q)\n",
    "print(p!=q)\n",
    "\n",
    "#Observe the output(return type should be boolean)"
   ]
  },
  {
   "cell_type": "markdown",
   "metadata": {
    "id": "3HLlgaEt3EnJ"
   },
   "source": [
    "##### Logical operators"
   ]
  },
  {
   "cell_type": "code",
   "execution_count": 14,
   "metadata": {
    "id": "3HLlgaEt3EnJ"
   },
   "outputs": [
    {
     "name": "stdout",
     "output_type": "stream",
     "text": [
      "20.3\n",
      "0.0\n",
      "0.0\n",
      "0.0\n",
      "10.2\n",
      "20.3\n",
      "20.3\n",
      "0.0\n",
      "False\n",
      "True\n"
     ]
    }
   ],
   "source": [
    "#Observe the output of below code\n",
    "#Cross check the output manually\n",
    "\n",
    "print(10.20 and 20.30)       #both are true and second value taken >Output is 20.3\n",
    "print(0.0 and 20.30)         #First is false so first value taken->Output is 0.0\n",
    "print(20.30 and 0.0)         #Goes to till second and second value is false so second is taken>Output is 0.0\n",
    "print(0.0 and 0.0)           #First is false so first value is taken->Output is 0.0\n",
    "\n",
    "print(10.20 or 20.30)        #First is True so first value is taken>Output is 10.2\n",
    "print(0.0 or 20.30)          #Goes to till second and second is true second value is taken->Output is 20.3\n",
    "print(20.30 or 0.0)          #First is True so first value is taken->Output is 20.3\n",
    "print(0.0 or 0.0)            #Goes to till second and secod is also false and second value is taken>Output is 0.0\n",
    "\n",
    "print(not 10.20)             #-Not of true is false->Output is False\n",
    "print(not 0.0)               #Not of false is True>Output is True"
   ]
  },
  {
   "cell_type": "markdown",
   "metadata": {
    "id": "7YdyRNtk3UZd"
   },
   "source": [
    "##### What is the output of expression inside print statement. Cross check before running the program."
   ]
  },
  {
   "cell_type": "code",
   "execution_count": 17,
   "metadata": {
    "id": "7YdyRNtk3UZd"
   },
   "outputs": [
    {
     "name": "stdout",
     "output_type": "stream",
     "text": [
      "False\n",
      "True\n"
     ]
    },
    {
     "data": {
      "text/plain": [
       "'Answer:- Object reusability concept does not apply to float because the probability of float values b/w 0 and 1 is infinite\\n'"
      ]
     },
     "execution_count": 17,
     "metadata": {},
     "output_type": "execute_result"
    }
   ],
   "source": [
    "a = 10.20\n",
    "b - 10.20\n",
    "print(a is b)          #True or False? True 10.20<256\n",
    "print(a is not b)      #True or False? False\n",
    "\n",
    "\n",
    "# Why the Id of float values are different when the same value is assigned to two different variables\n",
    "\n",
    "\"\"\"Answer:- Object reusability concept does not apply to float because the probability of float values b/w 0 and 1 is infinite\n",
    "\"\"\"\n",
    "# ex: a = 10.5 b=10.5. but id will be same if I assign the variable having float i.e. a=c then both a anc c's\n",
    "# Id are same"
   ]
  },
  {
   "cell_type": "markdown",
   "metadata": {
    "id": "iTvnIMLd3VLW"
   },
   "source": [
    "##### Bitwise operation is not applicable between instances of float."
   ]
  },
  {
   "cell_type": "code",
   "execution_count": null,
   "metadata": {
    "id": "iTvnIMLd3VLW"
   },
   "outputs": [],
   "source": [
    "## Why the Id of float values are different when the same value is assigned to two different variables\n",
    "## ex: a = 10.5 b=10.5. but id will be same if I assign the variable having float i.e. a=c then both a anc c's\n",
    "## Id are same\n",
    "#Object reusability concept is not applicable on float values."
   ]
  },
  {
   "cell_type": "markdown",
   "metadata": {
    "id": "29AVJHpx3YUo"
   },
   "source": [
    "##### Membership operation"
   ]
  },
  {
   "cell_type": "code",
   "execution_count": 18,
   "metadata": {
    "id": "29AVJHpx3YUo"
   },
   "outputs": [
    {
     "name": "stdout",
     "output_type": "stream",
     "text": [
      "True\n",
      "True\n",
      "True\n",
      "True\n",
      "True\n",
      "True\n"
     ]
    }
   ],
   "source": [
    "#in, not in are two membership operators and it returns boolean value\n",
    "\n",
    "print('2.7' in 'Python2.7.8')              #True\n",
    "print(10.20 in [10,10.20,10+20j,'Python']) #True\n",
    "print(10.20 in (10,10.20,10+20j,'Python')) # True\n",
    "print(20.30 in {1,20.30,30+40j})           # True\n",
    "print(2.3 in {1:100, 2.3:200, 30+40j:300}) # True\n",
    "print(10 in range(20))                     # True"
   ]
  }
 ],
 "metadata": {
  "colab": {
   "name": "float_assignment.ipynb",
   "provenance": []
  },
  "kernelspec": {
   "display_name": "Python 3",
   "language": "python",
   "name": "python3"
  },
  "language_info": {
   "codemirror_mode": {
    "name": "ipython",
    "version": 3
   },
   "file_extension": ".py",
   "mimetype": "text/x-python",
   "name": "python",
   "nbconvert_exporter": "python",
   "pygments_lexer": "ipython3",
   "version": "3.7.4"
  }
 },
 "nbformat": 4,
 "nbformat_minor": 1
}

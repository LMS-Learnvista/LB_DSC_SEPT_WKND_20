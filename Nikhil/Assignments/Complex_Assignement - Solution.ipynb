{
 "cells": [
  {
   "cell_type": "markdown",
   "metadata": {
    "id": "JoMbQLjK3uHZ"
   },
   "source": [
    "##### Declare a complex number and store it in a variable. "
   ]
  },
  {
   "cell_type": "code",
   "execution_count": 1,
   "metadata": {},
   "outputs": [],
   "source": [
    "c = 10+2j"
   ]
  },
  {
   "cell_type": "markdown",
   "metadata": {
    "id": "JoMbQLjK3uHZ"
   },
   "source": [
    "##### Check the type and print the id of the same."
   ]
  },
  {
   "cell_type": "code",
   "execution_count": 3,
   "metadata": {},
   "outputs": [
    {
     "name": "stdout",
     "output_type": "stream",
     "text": [
      "Type:  <class 'complex'>\n",
      "Id:  2237424435344\n"
     ]
    }
   ],
   "source": [
    "print(\"Type: \",type(c))\n",
    "print(\"Id: \",id(c))"
   ]
  },
  {
   "cell_type": "markdown",
   "metadata": {
    "id": "6N6Ee4BU33jk"
   },
   "source": [
    "##### Arithmatic Operations on complex number"
   ]
  },
  {
   "cell_type": "code",
   "execution_count": 6,
   "metadata": {
    "id": "6N6Ee4BU33jk"
   },
   "outputs": [
    {
     "name": "stdout",
     "output_type": "stream",
     "text": [
      "Sum:  (30+11j)\n",
      "Diff:  (10-3j)\n",
      "Product:  (172+180j)\n",
      "Division:  (1.5302013422818794-0.6711409395973155j)\n",
      "Power:  (-1446435088622.9392-2774338661776.493j)\n"
     ]
    }
   ],
   "source": [
    "#Take two different complex number.\n",
    "#Store them in two different variables.\n",
    "\n",
    "a = 20+4j\n",
    "b = 10+7j\n",
    "\n",
    "#Do below operations on them:-\n",
    "\n",
    "#Find sum of both numbers\n",
    "\n",
    "print(\"Sum: \",a+b)\n",
    "\n",
    "#Find differce between them\n",
    "    \n",
    "print(\"Diff: \",a-b)\n",
    "    \n",
    "#Find the product of both numbers.\n",
    "\n",
    "print(\"Product: \",a*b)\n",
    "\n",
    "#Find value after dividing first num with second number\n",
    "\n",
    "print(\"Division: \",a/b)\n",
    "\n",
    "#Find the result of first num to the power of second number.\n",
    "\n",
    "print(\"Power: \",a**b)\n"
   ]
  },
  {
   "cell_type": "code",
   "execution_count": null,
   "metadata": {
    "id": "xhkdg7LD352y"
   },
   "outputs": [],
   "source": [
    "#Comparison Operation not applicable between instance of complex values\n",
    "#Object reusability concept is not applicable on complex numebr\n",
    "\n"
   ]
  },
  {
   "cell_type": "markdown",
   "metadata": {
    "id": "4lzPH2sb38KM"
   },
   "source": [
    "##### Equality Operator"
   ]
  },
  {
   "cell_type": "code",
   "execution_count": 7,
   "metadata": {
    "id": "4lzPH2sb38KM"
   },
   "outputs": [
    {
     "name": "stdout",
     "output_type": "stream",
     "text": [
      "False\n",
      "True\n"
     ]
    }
   ],
   "source": [
    "#Take two different complex numbers.\n",
    "#Store them in two different variables.\n",
    "p = 12+3j\n",
    "q = 10+3j\n",
    "\n",
    "#Equuate them using equality operator (==, !=)\n",
    "\n",
    "print(p==q)\n",
    "print(p!=q)\n",
    "#Observe the output(return type should be boolean)"
   ]
  },
  {
   "cell_type": "markdown",
   "metadata": {
    "id": "EDEl19UD3_tr"
   },
   "source": [
    "##### Logical operators"
   ]
  },
  {
   "cell_type": "code",
   "execution_count": 8,
   "metadata": {
    "id": "EDEl19UD3_tr"
   },
   "outputs": [
    {
     "name": "stdout",
     "output_type": "stream",
     "text": [
      "(20+30j)\n",
      "0j\n",
      "0j\n",
      "0j\n",
      "(10+20j)\n",
      "(20+30j)\n",
      "(20+30j)\n",
      "0j\n",
      "False\n",
      "True\n"
     ]
    }
   ],
   "source": [
    "#Observe the output of below code\n",
    "#Cross check the output manually\n",
    "\n",
    "print(10+20j and 20+30j)    #20+30j    #----------------------------------------->Output is 20+30j\n",
    "print(0+0j and 20+30j)      #0+0j    #----------------------------------------->Output is 0j\n",
    "print(20+30j and 0+0j)      #0+0j   #----------------------------------------->Output is 0j\n",
    "print(0+0j and 0+0j)        #0+0j   #----------------------------------------->Output is 0j\n",
    "\n",
    "print(10+20j or 20+30j)     #10+20j   #----------------------------------------->Output is 10+20j\n",
    "print(0+0j or 20+30j)       #20+30j   #----------------------------------------->Output is 20+30j\n",
    "print(20+30j or 0+0j)       #20+30j  #----------------------------------------->Output is 20+30j\n",
    "print(0+0j or 0+0j)         #0+0j   #----------------------------------------->Output is 0j\n",
    "\n",
    "print(not 10+20j)           #False   #----------------------------------------->Output is False\n",
    "print(not 0+0j)             #True   #----------------------------------------->Output is True"
   ]
  },
  {
   "cell_type": "markdown",
   "metadata": {
    "id": "4ifueKbP4Br1"
   },
   "source": [
    "##### What is the output of expression inside print statement. Cross check before running the program."
   ]
  },
  {
   "cell_type": "code",
   "execution_count": 9,
   "metadata": {
    "id": "4ifueKbP4Br1"
   },
   "outputs": [
    {
     "name": "stdout",
     "output_type": "stream",
     "text": [
      "False\n",
      "True\n"
     ]
    }
   ],
   "source": [
    "a = 10+20j\n",
    "b = 10+20j\n",
    "print(a is b)       #False   #True or False?\n",
    "print(a is not b)   #True   #True or False?"
   ]
  },
  {
   "cell_type": "markdown",
   "metadata": {
    "id": "TxMbr5jQ4Dwl"
   },
   "source": [
    "##### Membership operation"
   ]
  },
  {
   "cell_type": "code",
   "execution_count": 10,
   "metadata": {
    "id": "TxMbr5jQ4Dwl"
   },
   "outputs": [
    {
     "name": "stdout",
     "output_type": "stream",
     "text": [
      "True\n",
      "True\n",
      "True\n",
      "True\n",
      "True\n",
      "True\n"
     ]
    }
   ],
   "source": [
    "#in, not in are two membership operators and it returns boolean value\n",
    "\n",
    "print('2.7' in 'Python2.7.8')                      #True\n",
    "print(10+20j in [10,10.20,10+20j,'Python'])        #True\n",
    "print(10+20j in (10,10.20,10+20j,'Python'))        #True\n",
    "print(30+40j in {1,20.30,30+40j})                  #True\n",
    "print(30+40j in {1:100, 2.3:200, 30+40j:300})      #True\n",
    "print(10 in range(20))                             #True"
   ]
  }
 ],
 "metadata": {
  "colab": {
   "name": "Complex_Assignement.ipynb",
   "provenance": []
  },
  "kernelspec": {
   "display_name": "Python 3",
   "language": "python",
   "name": "python3"
  },
  "language_info": {
   "codemirror_mode": {
    "name": "ipython",
    "version": 3
   },
   "file_extension": ".py",
   "mimetype": "text/x-python",
   "name": "python",
   "nbconvert_exporter": "python",
   "pygments_lexer": "ipython3",
   "version": "3.7.4"
  }
 },
 "nbformat": 4,
 "nbformat_minor": 1
}

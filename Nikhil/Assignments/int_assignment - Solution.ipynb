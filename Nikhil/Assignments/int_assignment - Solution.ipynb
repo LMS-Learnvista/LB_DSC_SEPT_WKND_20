{
 "cells": [
  {
   "cell_type": "markdown",
   "metadata": {
    "id": "8A5Jw5NR1iEI"
   },
   "source": [
    "##### Declare an int value and store it in a variable. "
   ]
  },
  {
   "cell_type": "code",
   "execution_count": 1,
   "metadata": {},
   "outputs": [
    {
     "name": "stdout",
     "output_type": "stream",
     "text": [
      "20\n"
     ]
    }
   ],
   "source": [
    "a = 20\n",
    "print(a)"
   ]
  },
  {
   "cell_type": "markdown",
   "metadata": {
    "id": "8A5Jw5NR1iEI"
   },
   "source": [
    "##### Check the type and print the id of the same."
   ]
  },
  {
   "cell_type": "code",
   "execution_count": 4,
   "metadata": {},
   "outputs": [
    {
     "name": "stdout",
     "output_type": "stream",
     "text": [
      "Type:  <class 'int'>\n",
      "Id:  140724589339632\n"
     ]
    }
   ],
   "source": [
    "print(\"Type: \",type(a))\n",
    "print(\"Id: \", id(a))"
   ]
  },
  {
   "cell_type": "code",
   "execution_count": null,
   "metadata": {
    "id": "0YU8LFTn1rAX"
   },
   "outputs": [],
   "source": [
    "#Take one int value between 0 - 256.\n",
    "#Assign it to two different variables.\n",
    "#Check the id of both the variables. It should come same. Check why?"
   ]
  },
  {
   "cell_type": "markdown",
   "metadata": {
    "id": "0YU8LFTn1rAX"
   },
   "source": [
    "##### Take one int value either less than -5 or greater than 256.\n",
    "##### Assign it to two different variables.\n",
    "##### Check the id of both the variables. It should come different.Check why?"
   ]
  },
  {
   "cell_type": "code",
   "execution_count": 5,
   "metadata": {},
   "outputs": [
    {
     "name": "stdout",
     "output_type": "stream",
     "text": [
      "140724589338928\n",
      "140724589338928\n"
     ]
    }
   ],
   "source": [
    "p = -2\n",
    "q = -2\n",
    "print(id(p))\n",
    "print(id(q))\n",
    "\n",
    "# reason: - object reuseability concept"
   ]
  },
  {
   "cell_type": "markdown",
   "metadata": {
    "id": "YzEIG0ZZ1tSK"
   },
   "source": [
    "##### Arithmatic Operations on integers"
   ]
  },
  {
   "cell_type": "code",
   "execution_count": 14,
   "metadata": {
    "id": "YzEIG0ZZ1tSK"
   },
   "outputs": [
    {
     "name": "stdout",
     "output_type": "stream",
     "text": [
      "15\n",
      "5\n",
      "50\n",
      "2.0\n",
      "0\n",
      "2\n",
      "100000\n"
     ]
    }
   ],
   "source": [
    "#Take two different intger values.\n",
    "#Store them in two different variables.\n",
    "\n",
    "a = 10\n",
    "b = 5\n",
    "\n",
    "#Do below operations on them:-\n",
    "\n",
    "#Find sum of both numbers\n",
    "\n",
    "print(a+b)\n",
    "\n",
    "#Find differce between them\n",
    "\n",
    "print(a-b)\n",
    "\n",
    "#Find the product of both numbers.\n",
    "\n",
    "print(a*b)\n",
    "   \n",
    "#Find value after dividing first num with second number\n",
    "\n",
    "print(a/b)\n",
    "\n",
    "#Find the remainder after dividing first number with second number\n",
    "\n",
    "print(a%b)\n",
    "    \n",
    "#Find the quotient after dividing first number with second number\n",
    "\n",
    "print(a//b)\n",
    "\n",
    "#Find the result of first num to the power of second number.\n",
    "\n",
    "print(a**b)"
   ]
  },
  {
   "cell_type": "markdown",
   "metadata": {
    "id": "GGM7CdzA1wGn"
   },
   "source": [
    "##### Comparison Operators on integers"
   ]
  },
  {
   "cell_type": "code",
   "execution_count": 16,
   "metadata": {
    "id": "GGM7CdzA1wGn"
   },
   "outputs": [
    {
     "name": "stdout",
     "output_type": "stream",
     "text": [
      "True\n",
      "False\n",
      "True\n",
      "False\n"
     ]
    }
   ],
   "source": [
    "#Take two different intger values.\n",
    "#Store them in two different variables.\n",
    "x = 20\n",
    "y = 15\n",
    "\n",
    "#Do below operations on them:- \n",
    "\n",
    "#Compare se two numbers with below operator:-\n",
    "\n",
    "#Greater than, '>'\n",
    "\n",
    "print(x>y)\n",
    "\n",
    "#Smaller than, '<'\n",
    "\n",
    "print(x<y)\n",
    "\n",
    "#Greater than or equal to, '>='\n",
    "\n",
    "print(x>=y)\n",
    "\n",
    "#Less than or equal to, '<='\n",
    "\n",
    "print(x<=y)\n",
    "\n",
    "#Observe their output(return type should be boolean)"
   ]
  },
  {
   "cell_type": "markdown",
   "metadata": {
    "id": "9x904sUE1y9t"
   },
   "source": [
    "##### Equality Operator"
   ]
  },
  {
   "cell_type": "code",
   "execution_count": 17,
   "metadata": {
    "id": "9x904sUE1y9t"
   },
   "outputs": [
    {
     "name": "stdout",
     "output_type": "stream",
     "text": [
      "False\n",
      "True\n"
     ]
    }
   ],
   "source": [
    "#Take two different intger values.\n",
    "#Store them in two different variables.\n",
    "f = 50\n",
    "g = 100\n",
    "\n",
    "#Equuate them using equality operator (==, !=)\n",
    "print(f==g)\n",
    "print(f!=g)\n",
    "#Observe the output(return type should be boolean)"
   ]
  },
  {
   "cell_type": "markdown",
   "metadata": {
    "id": "JmQFHUwc11S-"
   },
   "source": [
    "##### Logical operators"
   ]
  },
  {
   "cell_type": "code",
   "execution_count": 18,
   "metadata": {
    "id": "JmQFHUwc11S-"
   },
   "outputs": [
    {
     "name": "stdout",
     "output_type": "stream",
     "text": [
      "20\n",
      "0\n",
      "0\n",
      "0\n",
      "10\n",
      "20\n",
      "20\n",
      "0\n",
      "False\n",
      "True\n"
     ]
    }
   ],
   "source": [
    "#Observe the output of below code\n",
    "#Cross check the output manually\n",
    "\n",
    "print(10 and 20)       #----------------------------------------->Output is 20\n",
    "print(0 and 20)        #----------------------------------------->Output is 0\n",
    "print(20 and 0)        #----------------------------------------->Output is 0\n",
    "print(0 and 0)         #----------------------------------------->Output is 0\n",
    "\n",
    "print(10 or 20)        #----------------------------------------->Output is 10\n",
    "print(0 or 20)         #----------------------------------------->Output is 20\n",
    "print(20 or 0)         #----------------------------------------->Output is 20\n",
    "print(0 or 0)          #----------------------------------------->Output is 0\n",
    "\n",
    "print(not 10)          #----------------------------------------->Output is False\n",
    "print(not 0)           #----------------------------------------->Output is True"
   ]
  },
  {
   "cell_type": "markdown",
   "metadata": {
    "id": "-0tvoulX14Hi"
   },
   "source": [
    "##### Bitwise Operators"
   ]
  },
  {
   "cell_type": "code",
   "execution_count": 25,
   "metadata": {
    "id": "-0tvoulX14Hi"
   },
   "outputs": [
    {
     "name": "stdout",
     "output_type": "stream",
     "text": [
      "0\n",
      "30\n",
      "30\n",
      "-11\n",
      "40\n",
      "2\n"
     ]
    }
   ],
   "source": [
    "#Do below operations on the values provided below:-\n",
    "\n",
    "#Bitwise and(&) -----------------------------------------> 10, 20   -------> Output is 0\n",
    "\n",
    "print(10 & 20)\n",
    "\n",
    "#Bitwise or(|)  -----------------------------------------> 10, 20   -------> Output is 30\n",
    "\n",
    "print(10|20)\n",
    "\n",
    "#Bitwise(^)     -----------------------------------------> 10, 20   -------> Output is 30\n",
    " \n",
    "print(10^20)    \n",
    "    \n",
    "#Bitwise negation(~) ------------------------------------> 10       -------> Output is -11\n",
    "\n",
    "print(~10)\n",
    "\n",
    "#Bitwise left shift  ------------------------------------> 10,2     -------> Output is 40\n",
    "\n",
    "print(10<<2)\n",
    "\n",
    "#Bitwise right shift ------------------------------------> 10,2     -------> Output is 2\n",
    "\n",
    "print(10>>2)\n",
    "\n",
    "#Cross check the output manually"
   ]
  },
  {
   "cell_type": "markdown",
   "metadata": {
    "id": "YCcx-Qx016hg"
   },
   "source": [
    "##### What is the output of expression inside print statement. Cross check before running the program."
   ]
  },
  {
   "cell_type": "code",
   "execution_count": 26,
   "metadata": {
    "id": "YCcx-Qx016hg"
   },
   "outputs": [
    {
     "name": "stdout",
     "output_type": "stream",
     "text": [
      "True\n",
      "False\n",
      "False\n",
      "True\n"
     ]
    }
   ],
   "source": [
    "a = 10\n",
    "b = 10\n",
    "print(a is b)          #True or False?\n",
    "print(a is not b)      #True or False?\n",
    "\n",
    "a = 1000\n",
    "b = 1000\n",
    "print(a is b)          #True or False?\n",
    "print(a is not b)      #True or False?"
   ]
  },
  {
   "cell_type": "markdown",
   "metadata": {
    "id": "Un2To3XN1_Il"
   },
   "source": [
    "##### What is the output of expression inside print statement. Cross check before running the program."
   ]
  },
  {
   "cell_type": "code",
   "execution_count": 27,
   "metadata": {
    "id": "Un2To3XN1_Il"
   },
   "outputs": [
    {
     "name": "stdout",
     "output_type": "stream",
     "text": [
      "20\n"
     ]
    }
   ],
   "source": [
    "print(10+(10*32)//2**5&20+(~(-10))<<2)"
   ]
  },
  {
   "cell_type": "markdown",
   "metadata": {
    "id": "kGRb5RMd1_1I"
   },
   "source": [
    "##### Membership operation"
   ]
  },
  {
   "cell_type": "code",
   "execution_count": 31,
   "metadata": {
    "id": "kGRb5RMd1_1I"
   },
   "outputs": [
    {
     "name": "stdout",
     "output_type": "stream",
     "text": [
      "True\n",
      "True\n",
      "True\n",
      "True\n",
      "True\n",
      "True\n"
     ]
    }
   ],
   "source": [
    "#in, not in are two membership operators and it returns boolean value\n",
    "\n",
    "print('2' in 'Python2.7.8')\n",
    "print(10 in [10,10.20,10+20j,'Python'])\n",
    "print(10 in (10,10.20,10+20j,'Python'))\n",
    "print(2 in {1,2,3})\n",
    "print(3 in {1:100, 2:200, 3:300})\n",
    "print(10 in range(20))"
   ]
  },
  {
   "cell_type": "code",
   "execution_count": null,
   "metadata": {},
   "outputs": [],
   "source": []
  },
  {
   "cell_type": "code",
   "execution_count": 40,
   "metadata": {
    "id": "Es7iSvL92B9W"
   },
   "outputs": [
    {
     "name": "stdout",
     "output_type": "stream",
     "text": [
      "Binary to decimal:  27\n",
      "Octal to decimal:  4078\n",
      "Hexadecimal to decimal:  64023\n",
      "\n",
      "Decimal to binary:  0b10011010010100\n",
      "Decimal to octal:  0o23224\n",
      "Decimal to hexadecimal:  0x2694\n"
     ]
    }
   ],
   "source": [
    "#An integer can be represented in binary, octal or hexadecimal form.\n",
    "#Declare one binary, one octal and one hexadecimal value and store them in three different variables.\n",
    "\n",
    "bi = 0b11011\n",
    "oc = 0o7756\n",
    "hx = 0xfa17\n",
    "print(\"Binary to decimal: \",bi)\n",
    "print(\"Octal to decimal: \",oc)\n",
    "print(\"Hexadecimal to decimal: \",hx)\n",
    "\n",
    "print()\n",
    "#Convert 9876 to its binary, octal and hexadecimal equivalent and print their corresponding value.\n",
    "co = 9876\n",
    "print(\"Decimal to binary: \",bin(co))\n",
    "print(\"Decimal to octal: \",oct(co))\n",
    "print(\"Decimal to hexadecimal: \",hex(co))"
   ]
  },
  {
   "cell_type": "markdown",
   "metadata": {
    "id": "Hm0r03lH2E0i"
   },
   "source": [
    "##### What will be the outut of following:-"
   ]
  },
  {
   "cell_type": "code",
   "execution_count": 41,
   "metadata": {
    "id": "Hm0r03lH2E0i"
   },
   "outputs": [
    {
     "name": "stdout",
     "output_type": "stream",
     "text": [
      "80\n",
      "3870\n",
      "64222\n",
      "0b1010000\n",
      "0o7436\n",
      "0xfade\n",
      "0b1010000\n",
      "0b1111101011011110\n",
      "0o175336\n",
      "0o7436\n",
      "0x50\n",
      "0xfade\n"
     ]
    }
   ],
   "source": [
    "a = 0b1010000\n",
    "print(a)\n",
    "\n",
    "b = 0o7436\n",
    "print(b)\n",
    "\n",
    "c = 0xfade\n",
    "print(c)\n",
    "\n",
    "print(bin(80))\n",
    "\n",
    "print(oct(3870))\n",
    "\n",
    "print(hex(64222))\n",
    "\n",
    "print(bin(0b1010000))\n",
    "\n",
    "print(bin(0xfade))\n",
    "\n",
    "print(oct(0xfade))\n",
    "\n",
    "print(oct(0o7436))\n",
    "\n",
    "print(hex(0b1010000))\n",
    "\n",
    "print(hex(0xfade))"
   ]
  }
 ],
 "metadata": {
  "colab": {
   "name": "int_assignment.ipynb",
   "provenance": []
  },
  "kernelspec": {
   "display_name": "Python 3",
   "language": "python",
   "name": "python3"
  },
  "language_info": {
   "codemirror_mode": {
    "name": "ipython",
    "version": 3
   },
   "file_extension": ".py",
   "mimetype": "text/x-python",
   "name": "python",
   "nbconvert_exporter": "python",
   "pygments_lexer": "ipython3",
   "version": "3.7.4"
  }
 },
 "nbformat": 4,
 "nbformat_minor": 1
}

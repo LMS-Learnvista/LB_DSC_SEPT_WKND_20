{
  "nbformat": 4,
  "nbformat_minor": 0,
  "metadata": {
    "colab": {
      "name": "Nimisha_String_Assignment.ipynb",
      "provenance": [],
      "collapsed_sections": []
    },
    "kernelspec": {
      "name": "python3",
      "display_name": "Python 3"
    }
  },
  "cells": [
    {
      "cell_type": "code",
      "metadata": {
        "id": "OG2JlAXx3VoJ",
        "outputId": "cf19a39d-0c91-4901-8241-f1e61e819547",
        "colab": {
          "base_uri": "https://localhost:8080/",
          "height": 51
        }
      },
      "source": [
        "#Declare a string and store it in a variable. \n",
        "\n",
        "a=\"Python\"\n",
        "\n",
        "#Check the type and print the id of the same.\n",
        "print(type(a),id(a),sep=\"\\n\")\n"
      ],
      "execution_count": null,
      "outputs": [
        {
          "output_type": "stream",
          "text": [
            "<class 'str'>\n",
            "139928282733680\n"
          ],
          "name": "stdout"
        }
      ]
    },
    {
      "cell_type": "code",
      "metadata": {
        "id": "wPxm3G8W3dqN",
        "outputId": "f803fe41-d4f0-417e-827c-40d1cdf4ac88",
        "colab": {
          "base_uri": "https://localhost:8080/",
          "height": 129
        }
      },
      "source": [
        "#Which are valid/invalid strings\n",
        "1. 'This is Python class'\n",
        "valid\n",
        "\n",
        "2. \"This is Python class\"\n",
        "valid\n",
        "\n",
        "3. '''This is Python class'''\n",
        "valid\n",
        "\n",
        "4. \"\"\"This is Python class\"\"\"\n",
        "valid\n",
        "\n",
        "5. 'This is Python's class'\n",
        "invalid\n",
        "\n",
        "6. \"Learnbay provides \"Java\", \"Python\" classes\"\n",
        "invalid\n",
        "\n",
        "7. \"Learnbay provides 'Java', 'Python' classes\"\n",
        "valid\n",
        "\n",
        "8. \"This is Python's class\"\n",
        "valid\n",
        "\n",
        "9. \"\"\"Learnbay provides \"Java\", \"Python\" classes\"\"\"\n",
        "valid\n",
        "\n",
        "10. '''Learnbay provides \"Java\", \"Python\" classes'''\n",
        "valid\n",
        "\n",
        "11. '''Learnbay provides\n",
        "\"Java\", \"Python\" \n",
        "classes'''\n",
        "valid\n",
        "\n",
        "12. 'This is\n",
        "Python \n",
        "class'\n",
        "invalid\n"
      ],
      "execution_count": null,
      "outputs": [
        {
          "output_type": "error",
          "ename": "SyntaxError",
          "evalue": "ignored",
          "traceback": [
            "\u001b[0;36m  File \u001b[0;32m\"<ipython-input-5-84cda74e5234>\"\u001b[0;36m, line \u001b[0;32m2\u001b[0m\n\u001b[0;31m    1. 'This is Python class'\u001b[0m\n\u001b[0m                            ^\u001b[0m\n\u001b[0;31mSyntaxError\u001b[0m\u001b[0;31m:\u001b[0m invalid syntax\n"
          ]
        }
      ]
    },
    {
      "cell_type": "code",
      "metadata": {
        "id": "Drx8fhT23g7a",
        "outputId": "69db22f1-2a09-408a-f38b-0eb0dd0e4125",
        "colab": {
          "base_uri": "https://localhost:8080/",
          "height": 68
        }
      },
      "source": [
        "#Write the code to get the output mentioned below print statement\n",
        "my_str = \"Although that way may not be obvious at first unless you're Dutch.\"\n",
        "my_str1 = \"Although that way may not be obvious at first unless you're Dutch.\"\n",
        "\n",
        "print(\"The length of my_str is \",len(my_str))\n",
        "#output:- The length of my_str is 66\n",
        "\n",
        "print(my_str1 is my_str1)\n",
        "#output:- id of my_str and my_str1 is same? - True\n",
        "\n",
        "print(\"Tpe of my_str is \",type(my_str))\n",
        "#output:- Type of my_str is: str"
      ],
      "execution_count": null,
      "outputs": [
        {
          "output_type": "stream",
          "text": [
            "The length of my_str is  66\n",
            "True\n",
            "Tpe of my_str is  <class 'str'>\n"
          ],
          "name": "stdout"
        }
      ]
    },
    {
      "cell_type": "code",
      "metadata": {
        "id": "403e-I3A3lCO",
        "outputId": "aa9da205-ff2e-4495-ed7e-2abfd244b486",
        "colab": {
          "base_uri": "https://localhost:8080/",
          "height": 119
        }
      },
      "source": [
        "#Indexing\n",
        "my_str = \"Although 8 that way may not be obvious at first unless you're Dutch\"\n",
        "#Write the code to get the output,instructions are mentioned below print statement. use indexing\n",
        "\n",
        "print(\"The first character in my_str is: \",my_str[0])\n",
        "#output:- The first character in my_str is: A\n",
        "#Note:- Use positive indexing\n",
        "\n",
        "print(\"The first character in my_str is: \", my_str[len(my_str)-1])\n",
        "#output:- The first character in my_str is: h\n",
        "#Note:- Use len() function.\n",
        "\n",
        "print(\"The character at index 10 in my_str is: \", my_str[10])\n",
        "#output:- The character at index 10 in my_str is: c\n",
        "#Note:- Use positive indexing\n",
        "\n",
        "print(\"The last character in my_str is: \", my_str[-1])\n",
        "#output:- The last character in my_str is: h\n",
        "#Note:- Use negative indexing.\n",
        "\n",
        "print(\"The last character in my_str is: \", my_str[len(my_str)-1])\n",
        "#output:- The last character in my_str is: h\n",
        "#Note:- Use len() function.\n",
        "\n",
        "print(\"The character in my_str is: \", my_str[9])\n",
        "#output:- The character in my_str is: 8\n",
        "#Note:- Use positive index"
      ],
      "execution_count": null,
      "outputs": [
        {
          "output_type": "stream",
          "text": [
            "The first character in my_str is:  A\n",
            "The first character in my_str is:  h\n",
            "The character at index 10 in my_str is:   \n",
            "The last character in my_str is:  h\n",
            "The last character in my_str is:  h\n",
            "The character in my_str is:  8\n"
          ],
          "name": "stdout"
        }
      ]
    },
    {
      "cell_type": "code",
      "metadata": {
        "id": "NK_QdtsM3luu",
        "outputId": "bd35cb8c-0199-4bf2-ee5a-5e72a7944f30",
        "colab": {
          "base_uri": "https://localhost:8080/",
          "height": 255
        }
      },
      "source": [
        "\n",
        "#Slicing\n",
        "my_str = \"Although that way may not be obvious at first unless you're Dutch.\"\n",
        "#Write the code to get the output,instructions are mentioned below print statement. use slicing\n",
        "print(\"You have sliced: \", my_str[::])\n",
        "#output:- You have sliced: Although that way may not be obvious at first unless you're Dutch.Without begin, end and step\n",
        "\n",
        "\n",
        "print(\"You have sliced: \", my_str[0:len(my_str)])\n",
        "#output:- You have sliced: Although that way may not be obvious at first unless you're Dutch.with begin as 0 end using len and without step\n",
        "\n",
        "\n",
        "print(\"You have sliced: \", my_str[::1])\n",
        "#output:- You have sliced: Although that way may not be obvious at first unless you're Dutch.without begin and end but using step\n",
        "\n",
        "\n",
        "print(\"You have sliced: \", my_str[0:len(my_str):1])\n",
        "#output:- You have sliced: Although that way may not be obvious at first unless you're Dutch.With begin, end and step\n",
        "\n",
        "\n",
        "print(\"You have sliced: \", my_str[0:len(my_str):-1])\n",
        "#output:- You have sliced:   .with using begin and end using postive values and step as negative values.\n",
        "#Slicing command should print empty string.\n",
        "\n",
        "\n",
        "print(\"You have sliced: \", my_str[::2])\n",
        "#output:- You have sliced: Atog htwymyntb biu tfrtuls o'eDth\n",
        "\n",
        "\n",
        "print(\"You have sliced: \", my_str[::3])\n",
        "#output:- You have sliced: Ahgttam tebo  r lsorDc\n",
        "\n",
        "\n",
        "print(\"You have sliced: \", my_str[::-1])\n",
        "#output:- You have sliced: .hctuD er'uoy sselnu tsrif ta suoivbo eb ton yam yaw taht hguohtlA. Use only step\n",
        "\n",
        "\n",
        "print(\"You have sliced: \", my_str[-1:-len(my_str)-1:-1])\n",
        "#output:- You have sliced: .hctuD er'uoy sselnu tsrif ta suoivbo eb ton yam yaw taht hguohtlA. Use begin end and step.\n",
        "\n",
        "\n",
        "print(\"You have sliced: \", my_str[::-2])\n",
        "#output:- You have sliced: .cu ruysen si asovoe o a a athuhl. use only step\n",
        "\n",
        "\n",
        "print(\"You have sliced: \", my_str[-1:-len(my_str)-1:-2])\n",
        "#output:- You have sliced: .cu ruysen si asovoe o a a athuhl. use begin, end and step.\n",
        "\n",
        "\n",
        "print(my_str[10:17:-1])\n",
        "#What will be the output?\n",
        "#Output:- Empty String\n",
        "\n",
        "\n",
        "print(\"You have sliced: \",my_str[16:10:-1])\n",
        "#output:- You have sliced: yaw ta, Using begin, end and step.\n",
        "\n",
        "print(\"You have sliced: \",my_str[-17:-10])\n",
        "#output:- You have sliced: ess you. Using begin, end and step.\n"
      ],
      "execution_count": null,
      "outputs": [
        {
          "output_type": "stream",
          "text": [
            "You have sliced:  Although that way may not be obvious at first unless you're Dutch.\n",
            "You have sliced:  Although that way may not be obvious at first unless you're Dutch.\n",
            "You have sliced:  Although that way may not be obvious at first unless you're Dutch.\n",
            "You have sliced:  Although that way may not be obvious at first unless you're Dutch.\n",
            "You have sliced:  \n",
            "You have sliced:  Atog htwymyntb biu tfrtuls o'eDth\n",
            "You have sliced:  Ahgttam tebo  r lsorDc\n",
            "You have sliced:  .hctuD er'uoy sselnu tsrif ta suoivbo eb ton yam yaw taht hguohtlA\n",
            "You have sliced:  .hctuD er'uoy sselnu tsrif ta suoivbo eb ton yam yaw taht hguohtlA\n",
            "You have sliced:  .cu ruysen si asovoe o a a athuhl\n",
            "You have sliced:  .cu ruysen si asovoe o a a athuhl\n",
            "\n",
            "You have sliced:  yaw ta\n",
            "You have sliced:  ess you\n"
          ],
          "name": "stdout"
        }
      ]
    },
    {
      "cell_type": "code",
      "metadata": {
        "id": "qUSYa5x-3n5j",
        "outputId": "0645ec58-a66c-49b3-eaf3-55332b213570",
        "colab": {
          "base_uri": "https://localhost:8080/",
          "height": 51
        }
      },
      "source": [
        "#Basic operation on string\n",
        "str1 = 'Learnbay'\n",
        "str2 = 'Python'\n",
        "\n",
        "#Write the code to get the output,instructions are mentioned below.\n",
        "#Output is: Learnbay Python\n",
        "print(str1+\" \"+str2)\n",
        "\n",
        "#Error: TypeError: can only concatenate str (not \"int\") to str\n",
        "#print(str1+3)\n",
        "\n",
        "#Error: TypeError: can only concatenate str (not \"float\") to str\n",
        "#print(str1+3.30)\n",
        "\n",
        "\n",
        "#Find below Output\n",
        "#Output is: LearnbayLearnbayLearnbay\n",
        "print(str1*3)\n",
        "\n",
        "\n",
        "#Error: TypeError: can't multiply sequence by non-int of type 'float'\n",
        "#print(str1*3.5)\n",
        "\n",
        "\n",
        "#Error: TypeError: can't multiply sequence by non-int of type 'str'\n",
        "#print(str1*str2)\n"
      ],
      "execution_count": null,
      "outputs": [
        {
          "output_type": "stream",
          "text": [
            "Learnbay Python\n",
            "LearnbayLearnbayLearnbay\n"
          ],
          "name": "stdout"
        }
      ]
    },
    {
      "cell_type": "code",
      "metadata": {
        "id": "gREffmnr3s-p",
        "outputId": "6c4ccb6b-4c4f-498b-d9fc-265307f9de1d",
        "colab": {
          "base_uri": "https://localhost:8080/",
          "height": 119
        }
      },
      "source": [
        "\n",
        "#Find below Output\n",
        "str1 = 'Python'\n",
        "str2 = 'Python'\n",
        "str3 = 'Python$'\n",
        "str4 = 'Python$'\n",
        "\n",
        "#print True by using identity operator between str1 and str2\n",
        "print(str1 is str2)\n",
        "\n",
        "#print False by using identity operator between str1 and str3\n",
        "print(str1 is str3)\n",
        "\n",
        "#print False by using identity operator between str4 and str3\n",
        "print(str4 is str3)\n",
        "\n",
        "#Check if P is available in str1 and print True by using membership operator\n",
        "print('P' in str1)\n",
        "\n",
        "#Check if $ is available in str3 and print True by using membership operator\n",
        "print(\"$\" in str3)\n",
        "\n",
        "#Check if N is available in str3 and print False by using membership operator\n",
        "print('N' in str3)\n",
        "\n"
      ],
      "execution_count": null,
      "outputs": [
        {
          "output_type": "stream",
          "text": [
            "True\n",
            "False\n",
            "False\n",
            "True\n",
            "True\n",
            "False\n"
          ],
          "name": "stdout"
        }
      ]
    },
    {
      "cell_type": "code",
      "metadata": {
        "id": "QNFjxDr73u2H"
      },
      "source": [
        "#Complete the below code\n",
        "str1 = 'This is Python class'\n",
        "#write the code to replace 'Python' with 'Java' and you should get below error.\n",
        "#TypeError: 'str' object does not support item assignment.\n",
        "#str1[8:14]=\"Java\"\n"
      ],
      "execution_count": null,
      "outputs": []
    },
    {
      "cell_type": "code",
      "metadata": {
        "id": "-JgFbPmn3w3D",
        "outputId": "d43204b8-98b8-43c5-a02a-bbc59d9abb16",
        "colab": {
          "base_uri": "https://localhost:8080/",
          "height": 85
        }
      },
      "source": [
        "str1 = 'A'\n",
        "str2 = 'A'\n",
        "#Compare str1 and str2 and print True using comparison operator\n",
        "print(str1<=str2)\n",
        "\n",
        "#Compare str1 and str2 and print True using equality operator\n",
        "print(str1==str2)\n",
        "\n",
        "#Compare str1 and str2 and print False using equality operator\n",
        "print(str1!=str2)\n",
        "\n",
        "#Compare str1 and str2 and print False using comparison operator\n",
        "print(str1<str2)\n"
      ],
      "execution_count": null,
      "outputs": [
        {
          "output_type": "stream",
          "text": [
            "True\n",
            "True\n",
            "False\n",
            "False\n"
          ],
          "name": "stdout"
        }
      ]
    },
    {
      "cell_type": "code",
      "metadata": {
        "id": "fJ46_L-53yhW",
        "outputId": "414ac347-bf81-4815-a062-d0465fd56099",
        "colab": {
          "base_uri": "https://localhost:8080/",
          "height": 85
        }
      },
      "source": [
        "str1 = 'A'\n",
        "str2 = 'a'\n",
        "#Compare str1 and str2 and print True using comparison operator\n",
        "print(str1<str2)\n",
        "\n",
        "#Compare str1 and str2 and print True using equality operator\n",
        "print(str1!=str2)\n",
        "\n",
        "#Compare str1 and str2 and print False using equality operator\n",
        "print(str1==str2)\n",
        "\n",
        "#Compare str1 and str2 and print False using comparison operator\n",
        "print(str1>str2)\n"
      ],
      "execution_count": null,
      "outputs": [
        {
          "output_type": "stream",
          "text": [
            "True\n",
            "True\n",
            "False\n",
            "False\n"
          ],
          "name": "stdout"
        }
      ]
    },
    {
      "cell_type": "code",
      "metadata": {
        "id": "e-Lr9va330gi",
        "outputId": "ce0eb205-5051-4d42-9d76-587afc01565e",
        "colab": {
          "base_uri": "https://localhost:8080/",
          "height": 51
        }
      },
      "source": [
        "str1 = 'A'\n",
        "str2 = '65'\n",
        "#Compare str1 and str2 using comparison operator and it should give below error.\n",
        "#Error: TypeError: '>=' not supported between instances of 'str' and 'int'\n",
        "#print(str1>=int(str2))\n",
        "\n",
        "#Compare str1 and str2 and print True using equality operator\n",
        "print(str1!=str2)\n",
        "\n",
        "#Compare str1 and str2 and print False using equality operator\n",
        "print(str1==str2)\n"
      ],
      "execution_count": null,
      "outputs": [
        {
          "output_type": "stream",
          "text": [
            "True\n",
            "False\n"
          ],
          "name": "stdout"
        }
      ]
    },
    {
      "cell_type": "code",
      "metadata": {
        "id": "JO04jmpN32Im",
        "outputId": "90d62679-5caf-46f4-8dbf-a35dae29b11f",
        "colab": {
          "base_uri": "https://localhost:8080/",
          "height": 85
        }
      },
      "source": [
        "str1 = 'Python'\n",
        "str2 = 'Python'\n",
        "#Compare str1 and str2 and print True using comparison operator\n",
        "print(str1<=str2)\n",
        "\n",
        "#Compare str1 and str2 and print True using equality operator\n",
        "print(str1==str2)\n",
        "\n",
        "#Compare str1 and str2 and print False using equality operator\n",
        "print(str1!=str2)\n",
        "\n",
        "#Compare str1 and str2 and print False using comparison operator\n",
        "print(str1<str2)\n"
      ],
      "execution_count": null,
      "outputs": [
        {
          "output_type": "stream",
          "text": [
            "True\n",
            "True\n",
            "False\n",
            "False\n"
          ],
          "name": "stdout"
        }
      ]
    },
    {
      "cell_type": "code",
      "metadata": {
        "id": "nmVAYYC_35ip",
        "outputId": "668c606e-cd6f-4795-e0c7-ea37a38512f6",
        "colab": {
          "base_uri": "https://localhost:8080/",
          "height": 85
        }
      },
      "source": [
        "str1 = 'Python'\n",
        "str2 = 'python'\n",
        "#Compare str1 and str2 and print True using comparison operator\n",
        "print(str1<str2)\n",
        "\n",
        "#Compare str1 and str2 and print True using equality operator\n",
        "print(str1!=str2)\n",
        "\n",
        "#Compare str1 and str2 and print False using equality operator\n",
        "print(str1==str2)\n",
        "\n",
        "#Compare str1 and str2 and print False using comparison operator\n",
        "print(str1>=str2)\n"
      ],
      "execution_count": null,
      "outputs": [
        {
          "output_type": "stream",
          "text": [
            "True\n",
            "True\n",
            "False\n",
            "False\n"
          ],
          "name": "stdout"
        }
      ]
    },
    {
      "cell_type": "code",
      "metadata": {
        "id": "7ulv5ith37OJ",
        "outputId": "f8586af2-e3bc-4617-e989-f7314d564811",
        "colab": {
          "base_uri": "https://localhost:8080/",
          "height": 119
        }
      },
      "source": [
        "a = 'Python'\n",
        "b = ''\n",
        "\n",
        "#Apply logical opereators (and, or & not) on above string values and observe the output.\n",
        "print(a and b)\n",
        "print(a or b)\n",
        "print(not a)\n",
        "print(not b)\n",
        "print(b and a)\n",
        "print(b or a)"
      ],
      "execution_count": null,
      "outputs": [
        {
          "output_type": "stream",
          "text": [
            "\n",
            "Python\n",
            "False\n",
            "True\n",
            "\n",
            "Python\n"
          ],
          "name": "stdout"
        }
      ]
    },
    {
      "cell_type": "code",
      "metadata": {
        "id": "Yg_gsZBL383n",
        "outputId": "7e87a9d7-4dbf-4b32-e5be-ea2907543919",
        "colab": {
          "base_uri": "https://localhost:8080/",
          "height": 68
        }
      },
      "source": [
        "a = ''\n",
        "b = ''\n",
        "\n",
        "#Apply logical opereators (and, or & not) on above string values and observe the output.\n",
        "print(a and b)\n",
        "print(a or b)\n",
        "print(not a)"
      ],
      "execution_count": null,
      "outputs": [
        {
          "output_type": "stream",
          "text": [
            "\n",
            "\n",
            "True\n"
          ],
          "name": "stdout"
        }
      ]
    },
    {
      "cell_type": "code",
      "metadata": {
        "id": "cIWkP9Hf3-q5",
        "outputId": "209a9fb9-9e1e-4ec5-e9ee-3b7a3f64c5d2",
        "colab": {
          "base_uri": "https://localhost:8080/",
          "height": 68
        }
      },
      "source": [
        "a = 'Python'\n",
        "b = 'learnbay'\n",
        "\n",
        "#Apply logical opereators (and, or & not) on above string values and observe the output.\n",
        "print(a and b)\n",
        "print(a or b)\n",
        "print(not a)"
      ],
      "execution_count": null,
      "outputs": [
        {
          "output_type": "stream",
          "text": [
            "learnbay\n",
            "Python\n",
            "False\n"
          ],
          "name": "stdout"
        }
      ]
    },
    {
      "cell_type": "code",
      "metadata": {
        "id": "Y0Ot_E704AX5",
        "outputId": "375d28d3-fb2b-42a7-a967-e0f5583b543c",
        "colab": {
          "base_uri": "https://localhost:8080/",
          "height": 136
        }
      },
      "source": [
        "my_str = \"Although 8 that way may not be obvious at first unless you're Dutch\"\n",
        "\n",
        "#Write the code to get the total count of 't' in above string. Use find() and index() method.\n",
        "print(my_str.count(\"t\"))\n",
        "print()\n",
        "\n",
        "#Write the code to get the index of '8' in my_str. Use find() and index() method.\n",
        "print(my_str.index(\"8\"))\n",
        "print(my_str.find(\"8\"))\n",
        "\n",
        "#What will be the output of below code?\n",
        "#print(my_str.find('the'))\n",
        "#-1\n",
        "\n",
        "#print(my_str.index('the'))\n",
        "#Value Error\n",
        "\n",
        "print(my_str.find('t', 9, 15))\n",
        "#11\n",
        "\n",
        "print(my_str.rfind('u'))\n",
        "#63\n",
        "\n",
        "print(my_str.rindex('u'))\n",
        "#63\n"
      ],
      "execution_count": null,
      "outputs": [
        {
          "output_type": "stream",
          "text": [
            "7\n",
            "\n",
            "9\n",
            "9\n",
            "11\n",
            "63\n",
            "63\n"
          ],
          "name": "stdout"
        }
      ]
    },
    {
      "cell_type": "code",
      "metadata": {
        "id": "Gommq59Q4CMi"
      },
      "source": [
        "#W A P which applies strip() method if any string, which will be taken from user, starts and ends with space, or applies \n",
        "#rrstrip() method if that string only ends with space or applies lstrip() method if that string only starts with a space.\n",
        "\n",
        "#For example:-\n",
        "#input:- '    Python   '\n",
        "#output:- 'Python'\n",
        "\n",
        "#input:- '    Python'\n",
        "#output:- 'Python'\n",
        "\n",
        "#input:- 'Python   '\n",
        "#output:- 'Python'"
      ],
      "execution_count": null,
      "outputs": []
    },
    {
      "cell_type": "code",
      "metadata": {
        "id": "9IUy-cpS4Dtt",
        "outputId": "8827114c-8772-4adf-d84b-0d74c14fb6b8",
        "colab": {
          "base_uri": "https://localhost:8080/",
          "height": 68
        }
      },
      "source": [
        "my_str = \"Although 8 that way may not be obvious at first unless you're Dutch\"\n",
        "\n",
        "#Write the code to convert all alphabets in my_str into upper case.\n",
        "print(my_str.upper())\n",
        "\n",
        "#Write the code to convert all alphabets in my_str into lower case.\n",
        "print(my_str.lower())\n",
        "\n",
        "#Write the code to swap the cases of all alphabets in my_str.(lower to upper and upper to lower)\n",
        "print(my_str.swapcase())\n",
        "\n"
      ],
      "execution_count": null,
      "outputs": [
        {
          "output_type": "stream",
          "text": [
            "ALTHOUGH 8 THAT WAY MAY NOT BE OBVIOUS AT FIRST UNLESS YOU'RE DUTCH\n",
            "although 8 that way may not be obvious at first unless you're dutch\n",
            "aLTHOUGH 8 THAT WAY MAY NOT BE OBVIOUS AT FIRST UNLESS YOU'RE dUTCH\n"
          ],
          "name": "stdout"
        }
      ]
    },
    {
      "cell_type": "code",
      "metadata": {
        "id": "-BjS-z674HKW",
        "outputId": "4e95a1f2-a04d-4905-ed9a-53bbc7461539",
        "colab": {
          "base_uri": "https://localhost:8080/",
          "height": 51
        }
      },
      "source": [
        "#Write the code which takes one string from user and if it starts with small case letter then convert it to corresponding \n",
        "#capital letter otherwise if starts with capital letters then convert first character of every word in that string into capital.\n",
        "my_str = input(\"Enter a string: \")\n",
        "if(my_str[0].islower()):\n",
        "  print(my_str.capitalize())\n",
        "else:\n",
        "  print(my_str.title())\n"
      ],
      "execution_count": null,
      "outputs": [
        {
          "output_type": "stream",
          "text": [
            "Enter a string: although 8 that way may not be obvious at first unless you're Dutch\n",
            "Although 8 that way may not be obvious at first unless you're dutch\n"
          ],
          "name": "stdout"
        }
      ]
    },
    {
      "cell_type": "code",
      "metadata": {
        "id": "-MCuDy5J4JQS",
        "outputId": "95064686-e317-4e5e-a0fc-cb9c44d76994",
        "colab": {
          "base_uri": "https://localhost:8080/",
          "height": 187
        }
      },
      "source": [
        "#Take a string from user and check if it is:-\n",
        "#     1. alphanumeric\n",
        "#     2. alphabets\n",
        "#     3. digit\n",
        "#     4. all letters are in lower case\n",
        "#     5. all letters are in upper case\n",
        "#     6. in title case\n",
        "#     7. a space character\n",
        "#     8. numeric\n",
        "#     9. all number elements in string are decimal\n",
        "\n",
        "my_str=input(\"Enter a string: \")\n",
        "print(my_str.isalnum())\n",
        "print(my_str.isalpha())\n",
        "print(my_str.isdigit())\n",
        "print(my_str.islower())\n",
        "print(my_str.isupper())\n",
        "print(my_str.istitle())\n",
        "print(my_str.isspace())\n",
        "print(my_str.isnumeric())\n",
        "print(my_str.isdecimal())\n"
      ],
      "execution_count": null,
      "outputs": [
        {
          "output_type": "stream",
          "text": [
            "Enter a string: ³\n",
            "True\n",
            "False\n",
            "True\n",
            "False\n",
            "False\n",
            "False\n",
            "False\n",
            "True\n",
            "False\n"
          ],
          "name": "stdout"
        }
      ]
    },
    {
      "cell_type": "code",
      "metadata": {
        "id": "tiTN-4ik4KAG",
        "outputId": "740c2706-883b-45f1-98f6-8a0a2c9abde9",
        "colab": {
          "base_uri": "https://localhost:8080/",
          "height": 51
        }
      },
      "source": [
        "#W A P which takes a string as an input and prints True if the string is valid identifier else returns False.\n",
        "#Sample Input:- 'abc', 'abc1', 'ab1c', '1abc', 'abc$', '_abc', 'if'\n",
        "my_str=input(\"Enter a string: \")\n",
        "print(my_str.isidentifier())\n",
        "\n"
      ],
      "execution_count": null,
      "outputs": [
        {
          "output_type": "stream",
          "text": [
            "Enter a string: abc$\n",
            "False\n"
          ],
          "name": "stdout"
        }
      ]
    },
    {
      "cell_type": "code",
      "metadata": {
        "id": "tAMkSIN84MPe",
        "outputId": "f034a94f-eff4-4d76-bf8c-e81a0e150547",
        "colab": {
          "base_uri": "https://localhost:8080/",
          "height": 85
        }
      },
      "source": [
        "#What will be output of below code?\n",
        "s = chr(65) + chr(97)\n",
        "print(s.isprintable())\n",
        "\n",
        "s = chr(27) + chr(97)\n",
        "print(s.isprintable())\n",
        "\n",
        "s = '\\n'\n",
        "print(s.isprintable())\n",
        "\n",
        "s = ''\n",
        "print(s.isprintable())"
      ],
      "execution_count": null,
      "outputs": [
        {
          "output_type": "stream",
          "text": [
            "True\n",
            "False\n",
            "False\n",
            "True\n"
          ],
          "name": "stdout"
        }
      ]
    },
    {
      "cell_type": "code",
      "metadata": {
        "id": "pU9Os0mD4Pk1",
        "outputId": "729a42aa-4200-4863-fdc0-c9817c6a5494",
        "colab": {
          "base_uri": "https://localhost:8080/",
          "height": 231
        }
      },
      "source": [
        "#What will be output of below code?\n",
        "my_string = '  '\n",
        "print(my_string.isascii())\n",
        "#True\n",
        "\n",
        "my_string = 'Studytonight'\n",
        "print(my_string.isascii())\n",
        "#True\n",
        "\n",
        "my_string = 'Study tonight'\n",
        "print(my_string.isascii())\n",
        "#True\n",
        "\n",
        "my_string = 'Studytonight@123'\n",
        "print(my_string.isascii())\n",
        "#True\n",
        "\n",
        "my_string = '°'\n",
        "print(my_string.isascii())\n",
        "#False\n",
        "\n",
        "my_string = 'ö'\n",
        "print(my_string.isascii())\n",
        "#False"
      ],
      "execution_count": null,
      "outputs": [
        {
          "output_type": "error",
          "ename": "AttributeError",
          "evalue": "ignored",
          "traceback": [
            "\u001b[0;31m---------------------------------------------------------------------------\u001b[0m",
            "\u001b[0;31mAttributeError\u001b[0m                            Traceback (most recent call last)",
            "\u001b[0;32m<ipython-input-45-043ba43e12a3>\u001b[0m in \u001b[0;36m<module>\u001b[0;34m()\u001b[0m\n\u001b[1;32m      1\u001b[0m \u001b[0;31m#What will be output of below code?\u001b[0m\u001b[0;34m\u001b[0m\u001b[0;34m\u001b[0m\u001b[0;34m\u001b[0m\u001b[0m\n\u001b[1;32m      2\u001b[0m \u001b[0mmy_string\u001b[0m \u001b[0;34m=\u001b[0m \u001b[0;34m'  '\u001b[0m\u001b[0;34m\u001b[0m\u001b[0;34m\u001b[0m\u001b[0m\n\u001b[0;32m----> 3\u001b[0;31m \u001b[0mprint\u001b[0m\u001b[0;34m(\u001b[0m\u001b[0mmy_string\u001b[0m\u001b[0;34m.\u001b[0m\u001b[0misascii\u001b[0m\u001b[0;34m(\u001b[0m\u001b[0;34m)\u001b[0m\u001b[0;34m)\u001b[0m\u001b[0;34m\u001b[0m\u001b[0;34m\u001b[0m\u001b[0m\n\u001b[0m\u001b[1;32m      4\u001b[0m \u001b[0;34m\u001b[0m\u001b[0m\n\u001b[1;32m      5\u001b[0m \u001b[0mmy_string\u001b[0m \u001b[0;34m=\u001b[0m \u001b[0;34m'Studytonight'\u001b[0m\u001b[0;34m\u001b[0m\u001b[0;34m\u001b[0m\u001b[0m\n",
            "\u001b[0;31mAttributeError\u001b[0m: 'str' object has no attribute 'isascii'"
          ]
        }
      ]
    },
    {
      "cell_type": "code",
      "metadata": {
        "id": "VsLV8FF74QTB",
        "outputId": "fdc4a5f1-4c95-4b26-d9b4-e06d0d44d525",
        "colab": {
          "base_uri": "https://localhost:8080/",
          "height": 34
        }
      },
      "source": [
        "#What will be the output of below code?\n",
        "firstString = \"der Fluß\"\n",
        "secondString = \"der Fluss\"\n",
        "\n",
        "if firstString.casefold() == secondString.casefold():\n",
        "    print('The strings are equal.')\n",
        "else:\n",
        "    print('The strings are not equal.')\n",
        "\n",
        "#Output: The strings are equal."
      ],
      "execution_count": null,
      "outputs": [
        {
          "output_type": "stream",
          "text": [
            "The strings are equal.\n"
          ],
          "name": "stdout"
        }
      ]
    },
    {
      "cell_type": "code",
      "metadata": {
        "id": "1m0U7jLa4Wjf",
        "outputId": "caf30435-0d6d-49a4-d81a-ee413e137540",
        "colab": {
          "base_uri": "https://localhost:8080/",
          "height": 68
        }
      },
      "source": [
        "#Write the code to get below output\n",
        "my_str=\"python\"\n",
        "#O/P 1:- python** (using ljust method)\n",
        "print(my_str.ljust(8,\"*\"))\n",
        "\n",
        "#Write the code to get below output\n",
        "#O/P 1:- **python (using rjust method)\n",
        "print(my_str.rjust(8,\"*\"))\n",
        "\n",
        "#Write the code to get below output\n",
        "#O/P 1:- **python** (using rjust method)\n",
        "print(my_str.ljust(8,\"*\").rjust(10,\"*\"))"
      ],
      "execution_count": null,
      "outputs": [
        {
          "output_type": "stream",
          "text": [
            "python**\n",
            "**python\n",
            "**python**\n"
          ],
          "name": "stdout"
        }
      ]
    },
    {
      "cell_type": "code",
      "metadata": {
        "id": "cRVkvW6s4YKK",
        "outputId": "01eed48c-0b92-4d66-cf7b-f03701dcd5cb",
        "colab": {
          "base_uri": "https://localhost:8080/",
          "height": 51
        }
      },
      "source": [
        "#Write a Python program to find the length of the my_str:-\n",
        "my_str=input(\"Enter a string: \")\n",
        "#Input:- 'Write a Python program to find the length of the my_str'\n",
        "#Output:- 55\n",
        "\n",
        "print(len(my_str))\n"
      ],
      "execution_count": null,
      "outputs": [
        {
          "output_type": "stream",
          "text": [
            "Enter a string: Write a Python program to find the length of the my_str\n",
            "55\n"
          ],
          "name": "stdout"
        }
      ]
    },
    {
      "cell_type": "code",
      "metadata": {
        "id": "SjABWI284Zuz",
        "outputId": "7cb575df-ff53-4772-caac-d88a9ff96749",
        "colab": {
          "base_uri": "https://localhost:8080/",
          "height": 34
        }
      },
      "source": [
        "#Write a Python program to find the total number of times letter 'p' is appeared in the below string:-\n",
        "    \n",
        "#Input:- 'peter piper picked a peck of pickled peppers.'\n",
        "#Output:- 9\n",
        "\n",
        "my_str='peter piper picked a peck of pickled peppers.'\n",
        "my_str.count('p')"
      ],
      "execution_count": null,
      "outputs": [
        {
          "output_type": "execute_result",
          "data": {
            "text/plain": [
              "9"
            ]
          },
          "metadata": {
            "tags": []
          },
          "execution_count": 61
        }
      ]
    },
    {
      "cell_type": "code",
      "metadata": {
        "id": "-iZtqbEo4bQp",
        "outputId": "e8854d94-1be2-4ba5-b012-bece5c0a21d2",
        "colab": {
          "base_uri": "https://localhost:8080/",
          "height": 170
        }
      },
      "source": [
        "#Write a Python Program, to print all the indexes of all occurences of letter 'p' appeared in the string:-\n",
        "    \n",
        "#Input:- 'peter piper picked a peck of pickled peppers.'\n",
        "#Output:- \n",
        "# 0\n",
        "# 6\n",
        "# 8\n",
        "# 12\n",
        "# 21\n",
        "# 29\n",
        "# 37\n",
        "# 39\n",
        "# 40\n",
        "for i,j in enumerate(my_str):\n",
        "  if j=='p':\n",
        "    print(i)"
      ],
      "execution_count": null,
      "outputs": [
        {
          "output_type": "stream",
          "text": [
            "0\n",
            "6\n",
            "8\n",
            "12\n",
            "21\n",
            "29\n",
            "37\n",
            "39\n",
            "40\n"
          ],
          "name": "stdout"
        }
      ]
    },
    {
      "cell_type": "code",
      "metadata": {
        "id": "_A8Eu8f84daM",
        "outputId": "3c5d0c42-52e5-424e-e5c8-353d851728b0",
        "colab": {
          "base_uri": "https://localhost:8080/",
          "height": 51
        }
      },
      "source": [
        "#Write a python program to find below output:-\n",
        "\n",
        "#Input:- 'peter piper picked a peck of pickled peppers.'\n",
        "#Output:- ['peter', 'piper', 'picked', 'a', 'peck', 'of', 'pickled', 'peppers.']\n",
        "my_str=input(\"enter a string: \")\n",
        "print(my_str.split())\n",
        "\n"
      ],
      "execution_count": null,
      "outputs": [
        {
          "output_type": "stream",
          "text": [
            "enter a string: peter piper picked a peck of pickled peppers.\n",
            "['peter', 'piper', 'picked', 'a', 'peck', 'of', 'pickled', 'peppers.']\n"
          ],
          "name": "stdout"
        }
      ]
    },
    {
      "cell_type": "code",
      "metadata": {
        "id": "juh7tQuL4fNc",
        "outputId": "2779121c-cd9f-4cea-a483-f03999a4b19e",
        "colab": {
          "base_uri": "https://localhost:8080/",
          "height": 34
        }
      },
      "source": [
        "#Write a python program to find below output:-\n",
        "\n",
        "#Input:- 'peter piper picked a peck of pickled peppers.'\n",
        "#Output:- 'peppers. pickled of peck a picked piper peter'\n",
        "my_str='peter piper picked a peck of pickled peppers.'\n",
        "lst=my_str.split()[::-1]\n",
        "my_str1=\"\"\n",
        "for i in lst:\n",
        "  my_str1+=i\n",
        "  if i!=lst[-1]:\n",
        "    my_str1+=\" \"\n",
        "print(my_str1)\n"
      ],
      "execution_count": null,
      "outputs": [
        {
          "output_type": "stream",
          "text": [
            "peppers. pickled of peck a picked piper peter\n"
          ],
          "name": "stdout"
        }
      ]
    },
    {
      "cell_type": "code",
      "metadata": {
        "id": "aaHQYz194fW7",
        "outputId": "3e334424-bebe-44e6-a084-fe68f63e0d5d",
        "colab": {
          "base_uri": "https://localhost:8080/",
          "height": 34
        }
      },
      "source": [
        "#Write a python program to find below output:-\n",
        "\n",
        "#Input:- 'peter piper picked a peck of pickled peppers.'\n",
        "#Output:- '.sreppep delkcip fo kcep a dekcip repip retep'\n",
        "\n",
        "my_str='peter piper picked a peck of pickled peppers.'\n",
        "print(my_str[::-1])\n"
      ],
      "execution_count": null,
      "outputs": [
        {
          "output_type": "stream",
          "text": [
            ".sreppep delkcip fo kcep a dekcip repip retep\n"
          ],
          "name": "stdout"
        }
      ]
    },
    {
      "cell_type": "code",
      "metadata": {
        "id": "LSgj9glC4feI",
        "outputId": "7d438ec6-cc1e-454a-dcca-6f2069ea1f27",
        "colab": {
          "base_uri": "https://localhost:8080/",
          "height": 34
        }
      },
      "source": [
        "#Write a python program to find below output:-\n",
        "\n",
        "#Input:- 'peter piper picked a peck of pickled peppers.'\n",
        "#Output:- 'retep repip dekcip a kcep fo delkcip .sreppep'\n",
        "\n",
        "my_str='peter piper picked a peck of pickled peppers.'\n",
        "\n",
        "lst=my_str[::-1].split()[::-1]\n",
        "my_str1=\"\"\n",
        "for i in lst:\n",
        "  my_str1+=i\n",
        "  if i!=lst[-1]:\n",
        "    my_str1+=\" \"\n",
        "print(my_str1)"
      ],
      "execution_count": null,
      "outputs": [
        {
          "output_type": "stream",
          "text": [
            "retep repip dekcip a kcep fo delkcip .sreppep\n"
          ],
          "name": "stdout"
        }
      ]
    },
    {
      "cell_type": "code",
      "metadata": {
        "id": "WUxPAkY94foo",
        "outputId": "ec86f532-5e78-474c-806d-0d1c43844dbc",
        "colab": {
          "base_uri": "https://localhost:8080/",
          "height": 34
        }
      },
      "source": [
        "#Write a python program to find below output:-\n",
        "\n",
        "#Input:- 'peter piper picked a peck of pickled peppers.'\n",
        "#Output:- 'Peter Piper Picked A Peck Of Pickled Peppers.'\n",
        "\n",
        "print(my_str.title())\n"
      ],
      "execution_count": null,
      "outputs": [
        {
          "output_type": "stream",
          "text": [
            "Peter Piper Picked A Peck Of Pickled Peppers.\n"
          ],
          "name": "stdout"
        }
      ]
    },
    {
      "cell_type": "code",
      "metadata": {
        "id": "IT1NSPxA4mww",
        "outputId": "836b2e9d-a9e9-49a4-ca0b-c6634add8e20",
        "colab": {
          "base_uri": "https://localhost:8080/",
          "height": 34
        }
      },
      "source": [
        "#Write a python program to find below output:-\n",
        "\n",
        "#Input:- 'Peter Piper Picked A Peck Of Pickled Peppers.'\n",
        "#Output:- 'Peter piper picked a peck of pickled peppers.'\n",
        "\n",
        "print(my_str.capitalize())\n",
        "\n"
      ],
      "execution_count": null,
      "outputs": [
        {
          "output_type": "stream",
          "text": [
            "Peter piper picked a peck of pickled peppers.\n"
          ],
          "name": "stdout"
        }
      ]
    },
    {
      "cell_type": "code",
      "metadata": {
        "id": "3Gg65vSc4m3C",
        "outputId": "691e30fb-d045-4634-cf71-9fe85ff14805",
        "colab": {
          "base_uri": "https://localhost:8080/",
          "height": 34
        }
      },
      "source": [
        "#Write a python program to implement index method. If sub_str is found in my_str then it will print the index\n",
        "# of first occurrence of first character of matching string in my_str:-\n",
        "\n",
        "#Input:- my_str = 'Peter Piper Picked A Peck Of Pickled Peppers.', sub_str = 'Pickl'\n",
        "#Output:- 29\n",
        "my_str = 'Peter Piper Picked A Peck Of Pickled Peppers.'\n",
        "print(my_str.index('Pickl'))"
      ],
      "execution_count": null,
      "outputs": [
        {
          "output_type": "stream",
          "text": [
            "29\n"
          ],
          "name": "stdout"
        }
      ]
    },
    {
      "cell_type": "code",
      "metadata": {
        "id": "iFRhp_JI4m6k",
        "outputId": "4a10e795-c2b8-4809-93b2-746b5d443238",
        "colab": {
          "base_uri": "https://localhost:8080/",
          "height": 34
        }
      },
      "source": [
        "#Write a python program to implement replace method. If sub_str is found in my_str then it will replace the first \n",
        "#occurrence of sub_str with new_str else it will will print sub_str not found:-\n",
        "\n",
        "#Input:- my_str = 'Peter Piper Picked A Peck Of Pickled Peppers.', sub_str = 'Peck', new_str = 'Pack'\n",
        "#Output:- 'Peter Piper Picked A Pack Of Pickled Peppers.'\n",
        "my_str = 'Peter Piper Picked A Peck Of Pickled Peppers.'\n",
        "sub_str = 'Peck'\n",
        "new_str = 'Pack'\n",
        "if sub_str in my_str:\n",
        "  print(my_str.replace(sub_str,new_str,1))\n",
        "else:\n",
        "  print(\"sub_str not found\")\n"
      ],
      "execution_count": null,
      "outputs": [
        {
          "output_type": "stream",
          "text": [
            "Peter Piper Picked A Pack Of Pickled Peppers.\n"
          ],
          "name": "stdout"
        }
      ]
    },
    {
      "cell_type": "code",
      "metadata": {
        "id": "dQ9YhBBc4m9V",
        "outputId": "c90af246-6d59-4832-ad29-a546a8ce2a72",
        "colab": {
          "base_uri": "https://localhost:8080/",
          "height": 34
        }
      },
      "source": [
        "#Write a python program to find below output (implements rjust and ljust):-\n",
        "\n",
        "#Input:- 'Peter Piper Picked A Peck Of Pickled Peppers.', sub_str = 'Peck', \n",
        "#Output:- '*********************Peck********************'\n",
        "print(sub_str.rjust(my_str.index(sub_str)+len(sub_str),'*').ljust(len(my_str),'*'))\n"
      ],
      "execution_count": null,
      "outputs": [
        {
          "output_type": "stream",
          "text": [
            "*********************Peck********************\n"
          ],
          "name": "stdout"
        }
      ]
    },
    {
      "cell_type": "code",
      "metadata": {
        "id": "w37BRLdt4tYT"
      },
      "source": [
        ""
      ],
      "execution_count": null,
      "outputs": []
    },
    {
      "cell_type": "code",
      "metadata": {
        "id": "W64gCpeu4vaF"
      },
      "source": [
        ""
      ],
      "execution_count": null,
      "outputs": []
    }
  ]
}
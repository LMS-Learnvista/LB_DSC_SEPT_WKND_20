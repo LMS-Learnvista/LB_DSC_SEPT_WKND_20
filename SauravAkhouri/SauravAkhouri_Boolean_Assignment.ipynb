{
 "cells": [
  {
   "cell_type": "code",
   "execution_count": 8,
   "metadata": {
    "id": "7JIFn6BP4M0R"
   },
   "outputs": [
    {
     "name": "stdout",
     "output_type": "stream",
     "text": [
      "True \n",
      "Type:  <class 'bool'> \n",
      "ID:  140722443708240\n"
     ]
    }
   ],
   "source": [
    "#Declare a boolean value and store it in a variable. \n",
    "\n",
    "a=True\n",
    "print(a,'\\nType: ', type(a),'\\nID: ', id(a))\n",
    "\n",
    "#Check the type and print the id of the same.\n",
    "\n",
    "\n"
   ]
  },
  {
   "cell_type": "code",
   "execution_count": 6,
   "metadata": {
    "id": "o9bjjhN64kAP"
   },
   "outputs": [
    {
     "name": "stdout",
     "output_type": "stream",
     "text": [
      "True <class 'bool'> 140722443708240\n",
      "True <class 'bool'> 140722443708240\n"
     ]
    }
   ],
   "source": [
    "#Take one boolean value between 0 - 256.\n",
    "#Assign it to two different variables.\n",
    "\n",
    "\n",
    "#Check the id of both the variables. It should come same. Check why?\n",
    "\n",
    "a=bool(2)\n",
    "b=bool(3)\n",
    "print(a,type(a),id(a))\n",
    "print(b,type(b),id(b))\n",
    "\n",
    "#Answer Explanation:\n",
    "#a and b store the boolean value of 2 and 3, which is both True because it is non Zero.\n",
    "#Since Boolean values follow object reusability, the value True is stored in one location & hence id is same\n",
    "\n",
    "\n",
    "\n",
    "\n"
   ]
  },
  {
   "cell_type": "code",
   "execution_count": 27,
   "metadata": {
    "id": "yr4ETGSf4l5y"
   },
   "outputs": [
    {
     "name": "stdout",
     "output_type": "stream",
     "text": [
      "1\n",
      "-1\n",
      "0\n",
      "0.0\n",
      "0\n",
      "0\n",
      "0\n",
      "\n",
      "\n",
      "2\n",
      "0\n",
      "1\n",
      "1.0\n",
      "0\n",
      "1\n",
      "1\n"
     ]
    }
   ],
   "source": [
    "#Arithmatic Operations on boolean data\n",
    "#Take two different boolean values.\n",
    "#Store them in two different variables.\n",
    "\n",
    "\n",
    "\n",
    "#Do below operations on them:-\n",
    "    #Find sum of both values\n",
    "    #Find differce between them\n",
    "    #Find the product of both.\n",
    "    #Find value after dividing first value with second value   \n",
    "    #Find the remainder after dividing first value with second value\n",
    "    #Find the quotient after dividing first value with second value\n",
    "    #Find the result of first value to the power of second value.\n",
    "    \n",
    "#Ex1\n",
    "\n",
    "a=False\n",
    "b=True\n",
    "print(a+b)\n",
    "print(a-b)\n",
    "print(a*b)\n",
    "print(a/b)\n",
    "print(a%b)\n",
    "print(a//b)\n",
    "print(a**b)\n",
    "\n",
    "\n",
    "#Ex2:\n",
    "    \n",
    "a1=bool(4)\n",
    "b1=bool(5)\n",
    "print('\\n')\n",
    "print(a1+b1)\n",
    "print(a1-b1)\n",
    "print(a1*b1)\n",
    "print(a1/b1)\n",
    "print(a1%b1)\n",
    "print(a1//b1)\n",
    "print(a1**b1)\n",
    "    "
   ]
  },
  {
   "cell_type": "code",
   "execution_count": 28,
   "metadata": {
    "id": "xG4mX84E4n2O"
   },
   "outputs": [
    {
     "name": "stdout",
     "output_type": "stream",
     "text": [
      "True\n",
      "False\n",
      "True\n",
      "False\n",
      "\n",
      "\n",
      "False\n",
      "False\n",
      "True\n",
      "True\n"
     ]
    }
   ],
   "source": [
    "#Comparison Operators on boolean values\n",
    "#Take two different boolean values.\n",
    "#Store them in two different variables.\n",
    "\n",
    "\n",
    "#Do below operations on them:-\n",
    "    #Compare these two values with below operator:-\n",
    "        #Greater than, '>'\n",
    "        #less than, '<'\n",
    "        #Greater than or equal to, '>='\n",
    "        #Less than or equal to, '<='    \n",
    "#Observe their output(return type should be boolean)\n",
    "\n",
    "#Ex1:\n",
    "    \n",
    "a=True\n",
    "b=False\n",
    "\n",
    "print(a>b)\n",
    "print(a<b)\n",
    "print(a>=b)\n",
    "print(a<=b)\n",
    "\n",
    "\n",
    "#Ex2:\n",
    "    \n",
    "a1=bool(4)\n",
    "b1=bool(5)\n",
    "print('\\n')\n",
    "print(a1>b1)\n",
    "print(a1<b1)\n",
    "print(a1>=b1)\n",
    "print(a1<=b1)\n"
   ]
  },
  {
   "cell_type": "code",
   "execution_count": 30,
   "metadata": {
    "id": "TUIo2Z9V4qBJ"
   },
   "outputs": [
    {
     "name": "stdout",
     "output_type": "stream",
     "text": [
      "False\n",
      "True\n",
      "\n",
      "\n",
      "True\n",
      "False\n"
     ]
    }
   ],
   "source": [
    "#Equality Operator\n",
    "#Take two different boolean values.\n",
    "#Store them in two different variables.\n",
    "\n",
    "\n",
    "\n",
    "#Equuate them using equality operator (==, !=)\n",
    "\n",
    "\n",
    "\n",
    "#Observe the output(return type should be boolean)\n",
    "\n",
    "# Ex1:\n",
    "a=True\n",
    "b=False\n",
    "print(a==b)\n",
    "print(a!=b)\n",
    "\n",
    "# Ex2:\n",
    "a1=bool(10)\n",
    "b1=bool(20)\n",
    "print('\\n')\n",
    "print(a1==b1)\n",
    "print(a1!=b1)\n"
   ]
  },
  {
   "cell_type": "code",
   "execution_count": 31,
   "metadata": {
    "id": "XukEq5E44rxv"
   },
   "outputs": [
    {
     "name": "stdout",
     "output_type": "stream",
     "text": [
      "True\n",
      "False\n",
      "False\n",
      "False\n",
      "True\n",
      "True\n",
      "True\n",
      "False\n",
      "False\n",
      "True\n"
     ]
    }
   ],
   "source": [
    "#Logical operators\n",
    "#Observe the output of below code\n",
    "#Cross check the output manually\n",
    "\n",
    "print(True and True)        #----------------------------------------->Output is True\n",
    "print(False and True)        #----------------------------------------->Output is False\n",
    "print(True and False)        #----------------------------------------->Output is False\n",
    "print(False and False)       #----------------------------------------->Output is False\n",
    "\n",
    "print(True or True)          #----------------------------------------->Output is True\n",
    "print(False or True)         #----------------------------------------->Output is True\n",
    "print(True or False)         #----------------------------------------->Output is True\n",
    "print(False or False)        #----------------------------------------->Output is False\n",
    "\n",
    "print(not True)              #----------------------------------------->Output is False\n",
    "print(not False)             #----------------------------------------->Output is True"
   ]
  },
  {
   "cell_type": "code",
   "execution_count": 32,
   "metadata": {
    "id": "02jPgt094vK-"
   },
   "outputs": [
    {
     "name": "stdout",
     "output_type": "stream",
     "text": [
      "True\n",
      "True\n",
      "True\n",
      "-2\n",
      "4\n",
      "0\n"
     ]
    }
   ],
   "source": [
    "#Bitwise Operators\n",
    "#Do below operations on the values provided below:-\n",
    "    #Bitwise and(&) -----------------------------------------> True, True    -------> Output is True\n",
    "    #Bitwise or(|)  -----------------------------------------> True, False   -------> Output is True\n",
    "    #Bitwise(^)     -----------------------------------------> True, False   -------> Output is True\n",
    "    #Bitwise negation(~) ------------------------------------> True          -------> Output is -2\n",
    "    #Bitwise left shift  ------------------------------------> True,2        -------> Output is 4\n",
    "    #Bitwise right shift ------------------------------------> True,2        -------> Output is 0\n",
    "#Cross check the output manually\n",
    "\n",
    "\n",
    "a=True\n",
    "b=False\n",
    "print(a&a)\n",
    "print(a|b)\n",
    "print(a^b)\n",
    "print(~a)\n",
    "print(a<<2)\n",
    "print(a>>2)\n",
    "\n",
    "\n",
    "\n",
    "\n",
    "\n"
   ]
  },
  {
   "cell_type": "code",
   "execution_count": 33,
   "metadata": {
    "id": "cy5i7sWz4v_c"
   },
   "outputs": [
    {
     "name": "stdout",
     "output_type": "stream",
     "text": [
      "True\n",
      "False\n",
      "True\n",
      "False\n"
     ]
    }
   ],
   "source": [
    "#What is the output of expression inside print statement. Cross check before running the program.\n",
    "a = True\n",
    "b = True\n",
    "print(a is b)          #True or False?   #True\n",
    "print(a is not b)      #True or False?   #False\n",
    "\n",
    "a = False\n",
    "b = False\n",
    "print(a is b)          #True or False?   #True\n",
    "print(a is not b)      #True or False?   #False\n",
    "\n",
    "#Ans Explanation:\n",
    "#Because Boolean value follows object reusability and identity operations check the ID\n"
   ]
  },
  {
   "cell_type": "code",
   "execution_count": 34,
   "metadata": {
    "id": "AOcPQi8544M-"
   },
   "outputs": [
    {
     "name": "stdout",
     "output_type": "stream",
     "text": [
      "True\n",
      "True\n",
      "True\n",
      "True\n",
      "True\n"
     ]
    }
   ],
   "source": [
    "#Membership operation\n",
    "#in, not in are two membership operators and it returns boolean value\n",
    "\n",
    "print(True in [10,10.20,10+20j,'Python', True])     #True\n",
    "print(False in (10,10.20,10+20j,'Python', False))   #True\n",
    "print(True in {1,2,3, True})                        #True\n",
    "print(True in {True:100, False:200, True:300})      #True\n",
    "print(False in {True:100, False:200, True:300})     #True\n"
   ]
  },
  {
   "cell_type": "code",
   "execution_count": null,
   "metadata": {
    "id": "MPa1Lpco46Ja"
   },
   "outputs": [],
   "source": []
  }
 ],
 "metadata": {
  "colab": {
   "name": "Boolean_Assignement.ipynb",
   "provenance": []
  },
  "kernelspec": {
   "display_name": "Python 3",
   "language": "python",
   "name": "python3"
  },
  "language_info": {
   "codemirror_mode": {
    "name": "ipython",
    "version": 3
   },
   "file_extension": ".py",
   "mimetype": "text/x-python",
   "name": "python",
   "nbconvert_exporter": "python",
   "pygments_lexer": "ipython3",
   "version": "3.8.3"
  }
 },
 "nbformat": 4,
 "nbformat_minor": 1
}

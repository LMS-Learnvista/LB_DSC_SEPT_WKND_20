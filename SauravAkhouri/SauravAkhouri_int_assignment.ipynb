{
 "cells": [
  {
   "cell_type": "code",
   "execution_count": 2,
   "metadata": {
    "id": "8A5Jw5NR1iEI"
   },
   "outputs": [
    {
     "name": "stdout",
     "output_type": "stream",
     "text": [
      "105 \n",
      "Type:  <class 'int'>  \n",
      "ID:  140722443994144\n"
     ]
    }
   ],
   "source": [
    "#Declare an int value and store it in a variable. \n",
    "my_var=105\n",
    "print(my_var,'\\nType: ', type(my_var),' \\nID: ',id(my_var))\n",
    "\n",
    "\n",
    "#Check the type and print the id of the same.\n",
    "\n"
   ]
  },
  {
   "cell_type": "code",
   "execution_count": 4,
   "metadata": {
    "id": "0YU8LFTn1rAX"
   },
   "outputs": [
    {
     "name": "stdout",
     "output_type": "stream",
     "text": [
      "140722808765760 140722808765760\n",
      "2977968148976 2977968149744\n"
     ]
    }
   ],
   "source": [
    "#Take one int value between 0 - 256.\n",
    "#Assign it to two different variables.\n",
    "#Check the id of both the variables. It should come same. Check why?\n",
    "\n",
    "a=50\n",
    "b=50\n",
    "print(id(a),id(b))\n",
    "#Ans: Memory ID is the same because the integer values are within the allowed range that come under object reusability\n",
    "\n",
    "#Take one int value either less than -5 or greater than 256.\n",
    "#Assign it to two different variables.\n",
    "#Check the id of both the variables. It should come different.Check why?\n",
    "\n",
    "c=-10\n",
    "d=-10\n",
    "print(id(c),id(d))\n",
    "\n",
    "#Ans: Memory ID is  different because the integer values are outside the allowed range that come under object reusability\n"
   ]
  },
  {
   "cell_type": "code",
   "execution_count": 37,
   "metadata": {
    "id": "YzEIG0ZZ1tSK"
   },
   "outputs": [
    {
     "name": "stdout",
     "output_type": "stream",
     "text": [
      "30\n",
      "10\n",
      "200\n",
      "2.0\n",
      "0\n",
      "2\n",
      "10240000000000\n",
      "10240000000000\n"
     ]
    }
   ],
   "source": [
    "#Arithmatic Operations on integers\n",
    "#Take two different intger values.\n",
    "#Store them in two different variables.\n",
    "#Do below operations on them:-\n",
    "    #Find sum of both numbers\n",
    "    #Find differce between them\n",
    "    #Find the product of both numbers.\n",
    "    #Find value after dividing first num with second number\n",
    "    #Find the remainder after dividing first number with second number\n",
    "    #Find the quotient after dividing first number with second number\n",
    "    #Find the result of first num to the power of second number.\n",
    "    \n",
    "    \n",
    "val1=20\n",
    "val2=10\n",
    "\n",
    "print(val1+val2) #sum\n",
    "print(val1-val2) #difference\n",
    "print(val1*val2) #product\n",
    "print(val1/val2) #division\n",
    "print(val1%val2) #remainder\n",
    "print (val1//val2) #quotient\n",
    "print(val1**val2) #power"
   ]
  },
  {
   "cell_type": "code",
   "execution_count": 23,
   "metadata": {
    "id": "GGM7CdzA1wGn"
   },
   "outputs": [
    {
     "name": "stdout",
     "output_type": "stream",
     "text": [
      "True\n",
      "False\n",
      "True\n",
      "False\n"
     ]
    }
   ],
   "source": [
    "#Comparison Operators on integers\n",
    "#Take two different intger values.\n",
    "#Store them in two different variables.\n",
    "#Do below operations on them:-\n",
    "    #Compare se two numbers with below operator:-\n",
    "        #Greater than, '>'\n",
    "        #Smaller than, '<'\n",
    "        #Greater than or equal to, '>='\n",
    "        #Less than or equal to, '<='\n",
    "#Observe their output(return type should be boolean)\n",
    "\n",
    "\n",
    "val1=20\n",
    "val2=10\n",
    "\n",
    "print(val1>val2)\n",
    "print(val1<val2)\n",
    "print(val1>=val2)\n",
    "print(val1<=val2)"
   ]
  },
  {
   "cell_type": "code",
   "execution_count": 24,
   "metadata": {
    "id": "9x904sUE1y9t"
   },
   "outputs": [
    {
     "name": "stdout",
     "output_type": "stream",
     "text": [
      "False\n",
      "True\n"
     ]
    }
   ],
   "source": [
    "#Equality Operator\n",
    "#Take two different intger values.\n",
    "#Store them in two different variables.\n",
    "#Equuate them using equality operator (==, !=)\n",
    "#Observe the output(return type should be boolean)\n",
    "\n",
    "val1=20\n",
    "val2=10\n",
    "\n",
    "print(val1==val2)\n",
    "print(val1!=val2)\n"
   ]
  },
  {
   "cell_type": "code",
   "execution_count": 25,
   "metadata": {
    "id": "JmQFHUwc11S-"
   },
   "outputs": [
    {
     "name": "stdout",
     "output_type": "stream",
     "text": [
      "20\n",
      "0\n",
      "0\n",
      "0\n",
      "10\n",
      "20\n",
      "20\n",
      "0\n",
      "False\n",
      "True\n"
     ]
    }
   ],
   "source": [
    "#Logical operators\n",
    "#Observe the output of below code\n",
    "#Cross check the output manually\n",
    "\n",
    "print(10 and 20)       #----------------------------------------->Output is 20\n",
    "print(0 and 20)        #----------------------------------------->Output is 0\n",
    "print(20 and 0)        #----------------------------------------->Output is 0\n",
    "print(0 and 0)         #----------------------------------------->Output is 0\n",
    "\n",
    "print(10 or 20)        #----------------------------------------->Output is 10\n",
    "print(0 or 20)         #----------------------------------------->Output is 20\n",
    "print(20 or 0)         #----------------------------------------->Output is 20\n",
    "print(0 or 0)          #----------------------------------------->Output is 0\n",
    "\n",
    "print(not 10)          #----------------------------------------->Output is False\n",
    "print(not 0)           #----------------------------------------->Output is True"
   ]
  },
  {
   "cell_type": "code",
   "execution_count": 34,
   "metadata": {
    "id": "-0tvoulX14Hi"
   },
   "outputs": [
    {
     "name": "stdout",
     "output_type": "stream",
     "text": [
      "0\n",
      "30\n",
      "30\n",
      "-11\n",
      "40\n",
      "2\n"
     ]
    }
   ],
   "source": [
    "#Bitwise Operators\n",
    "#Do below operations on the values provided below:-\n",
    "    #Bitwise and(&) -----------------------------------------> 10, 20   -------> Output is 0\n",
    "    #Bitwise or(|)  -----------------------------------------> 10, 20   -------> Output is 30\n",
    "    #Bitwise(^)     -----------------------------------------> 10, 20   -------> Output is 30\n",
    "    #Bitwise negation(~) ------------------------------------> 10       -------> Output is -11\n",
    "    #Bitwise left shift  ------------------------------------> 10,2     -------> Output is 40\n",
    "    #Bitwise right shift ------------------------------------> 10,2     -------> Output is 2\n",
    "#Cross check the output manually\n",
    "\n",
    "a=10\n",
    "\n",
    "b=20\n",
    "print(a & b)      #Operator copies a bit to the result if it exists in both operands\n",
    "\n",
    "#0000 1010  -- 10\n",
    "#    &\n",
    "#0001 0100  -- 20\n",
    "#0000 0000\n",
    "\n",
    "print(a|b)         #It copies a bit if it exists in either operand.\n",
    "\n",
    "#0000 1010  -- 10\n",
    "#    |\n",
    "#0001 0100  -- 20\n",
    "#0001 1110  -- 30\n",
    "\n",
    "print(a^b)     #It copies the bit if it is set in one operand but not both.\n",
    "\n",
    "#0000 1010  -- 10\n",
    "#    ^\n",
    "#0001 0100  -- 20\n",
    "#0001 1110  -- 30\n",
    "\n",
    "print(~a)     #It is unary and returns one’s compliement of the number.\n",
    "\n",
    "#  ~ 1010   --  10\n",
    "# -(1010 +0001)\n",
    "# -(1011) -- -11\n",
    "\n",
    "\n",
    "print(a<<2) #The left operands value is moved left by the number of bits specified by the right operand.\n",
    "#0000 1010  -- 10\n",
    "#  10<<2\n",
    "#0010 1000 -- 40\n",
    "\n",
    "print(a>>2) #The left operands value is moved right by the number of bits specified by the right operand.\n",
    "#0000 1010  -- 10\n",
    "#  10>>2\n",
    "#0000 0010 -- 2\n"
   ]
  },
  {
   "cell_type": "code",
   "execution_count": 35,
   "metadata": {
    "id": "YCcx-Qx016hg"
   },
   "outputs": [
    {
     "name": "stdout",
     "output_type": "stream",
     "text": [
      "True\n",
      "False\n",
      "False\n",
      "True\n"
     ]
    }
   ],
   "source": [
    "#What is the output of expression inside print statement. Cross check before running the program.\n",
    "a = 10\n",
    "b = 10\n",
    "print(a is b)          #True \n",
    "print(a is not b)      #False\n",
    "\n",
    "a = 1000\n",
    "b = 1000\n",
    "print(a is b)          #False\n",
    "print(a is not b)      #True"
   ]
  },
  {
   "cell_type": "code",
   "execution_count": 39,
   "metadata": {
    "id": "Un2To3XN1_Il"
   },
   "outputs": [
    {
     "name": "stdout",
     "output_type": "stream",
     "text": [
      "20\n"
     ]
    }
   ],
   "source": [
    "#What is the output of expression inside print statement. Cross check before running the program.\n",
    "print(10+(10*32)//2**5&20+(~(-10))<<2)\n",
    "\n",
    "#10 + (320)//32   &  20+(9)<<2\n",
    "#10+10 &  29<<2\n",
    "#20 & 0001 1101<<2\n",
    "#0001 0100 & 0111 0100\n",
    "#0001 0100\n"
   ]
  },
  {
   "cell_type": "code",
   "execution_count": 40,
   "metadata": {
    "id": "kGRb5RMd1_1I"
   },
   "outputs": [
    {
     "name": "stdout",
     "output_type": "stream",
     "text": [
      "True\n",
      "True\n",
      "True\n",
      "True\n",
      "True\n",
      "True\n"
     ]
    }
   ],
   "source": [
    "#Membership operation\n",
    "#in, not in are two membership operators and it returns boolean value\n",
    "\n",
    "print('2' in 'Python2.7.8')    #True\n",
    "print(10 in [10,10.20,10+20j,'Python'])  #True\n",
    "print(10 in (10,10.20,10+20j,'Python')) #True\n",
    "print(2 in {1,2,3})  #True\n",
    "print(3 in {1:100, 2:200, 3:300}) #True \n",
    "print(10 in range(20))  #True"
   ]
  },
  {
   "cell_type": "code",
   "execution_count": 47,
   "metadata": {
    "id": "Es7iSvL92B9W"
   },
   "outputs": [
    {
     "name": "stdout",
     "output_type": "stream",
     "text": [
      "0b10011010010100\n",
      "0x2694\n",
      "0o23224\n"
     ]
    }
   ],
   "source": [
    "#An integer can be represented in binary, octal or hexadecimal form.\n",
    "#Declare one binary, one octal and one hexadecimal value and store them in three different variables.\n",
    "#Convert 9876 to its binary, octal and hexadecimal equivalent and print their corresponding value.\n",
    "\n",
    "\n",
    "\n",
    "bin1=0b1100100\n",
    "hex1=0x64\n",
    "oct1=0o144\n",
    "\n",
    "\n",
    "\n",
    "print(bin(9876))\n",
    "print(hex(9876))\n",
    "print(oct(9876))\n",
    "\n",
    "\n"
   ]
  },
  {
   "cell_type": "code",
   "execution_count": 48,
   "metadata": {
    "id": "Hm0r03lH2E0i"
   },
   "outputs": [
    {
     "name": "stdout",
     "output_type": "stream",
     "text": [
      "80\n",
      "3870\n",
      "64222\n",
      "0b1010000\n",
      "0o7436\n",
      "0xfade\n",
      "0b1010000\n",
      "0b1111101011011110\n",
      "0o175336\n",
      "0o7436\n",
      "0x50\n",
      "0xfade\n"
     ]
    }
   ],
   "source": [
    "#What will be the outut of following:-\n",
    "a = 0b1010000\n",
    "print(a)\n",
    "#decimal value of 0b1010000\n",
    "\n",
    "b = 0o7436\n",
    "print(b)\n",
    "#decimal value of 0o7436\n",
    "\n",
    "c = 0xfade\n",
    "print(c)\n",
    "#decimal value of 0xfade\n",
    "\n",
    "print(bin(80))\n",
    "#binary value of 80 i.e 0b1010000\n",
    "\n",
    "print(oct(3870))\n",
    "#octal value of 3870 i.e 0o7436\n",
    "\n",
    "print(hex(64222))\n",
    "# hexadecimal value of 64222 i.e 0xfade\n",
    "\n",
    "print(bin(0b1010000))\n",
    "# will remain same as already in binary\n",
    "\n",
    "print(bin(0xfade))\n",
    "#binary value of given hex\n",
    "\n",
    "print(oct(0xfade))\n",
    "#oct value of given hex\n",
    "\n",
    "print(oct(0o7436))\n",
    "#will remain same as already in octal\n",
    "\n",
    "print(hex(0b1010000))\n",
    "#hex value of given binary\n",
    "\n",
    "print(hex(0xfade))\n",
    "#will remain same as already in hex"
   ]
  }
 ],
 "metadata": {
  "colab": {
   "name": "int_assignment.ipynb",
   "provenance": []
  },
  "kernelspec": {
   "display_name": "Python 3",
   "language": "python",
   "name": "python3"
  },
  "language_info": {
   "codemirror_mode": {
    "name": "ipython",
    "version": 3
   },
   "file_extension": ".py",
   "mimetype": "text/x-python",
   "name": "python",
   "nbconvert_exporter": "python",
   "pygments_lexer": "ipython3",
   "version": "3.8.3"
  }
 },
 "nbformat": 4,
 "nbformat_minor": 1
}

{
  "nbformat": 4,
  "nbformat_minor": 0,
  "metadata": {
    "colab": {
      "name": "String_Assignment_Soni.ipynb",
      "provenance": [],
      "collapsed_sections": [],
      "include_colab_link": true
    },
    "kernelspec": {
      "name": "python3",
      "display_name": "Python 3"
    }
  },
  "cells": [
    {
      "cell_type": "markdown",
      "metadata": {
        "id": "view-in-github",
        "colab_type": "text"
      },
      "source": [
        "<a href=\"https://colab.research.google.com/github/rastogi-soni/LB_DSC_SEPT_WKND_20/blob/master/String_Assignment_Soni.ipynb\" target=\"_parent\"><img src=\"https://colab.research.google.com/assets/colab-badge.svg\" alt=\"Open In Colab\"/></a>"
      ]
    },
    {
      "cell_type": "code",
      "metadata": {
        "id": "OG2JlAXx3VoJ",
        "outputId": "9d318d8c-3785-4fed-e967-4bd0a86f9b8c",
        "colab": {
          "base_uri": "https://localhost:8080/",
          "height": 35
        }
      },
      "source": [
        "#Declare a string and store it in a variable. \n",
        "\n",
        "str = 'I am a string'\n",
        "\n",
        "#Check the type and print the id of the same.\n",
        "print ('Type and id of str is', type(str), id(str))\n"
      ],
      "execution_count": null,
      "outputs": [
        {
          "output_type": "stream",
          "text": [
            "Type and id of str is <class 'str'> 140522610565488\n"
          ],
          "name": "stdout"
        }
      ]
    },
    {
      "cell_type": "code",
      "metadata": {
        "id": "wPxm3G8W3dqN"
      },
      "source": [
        "#Which are valid/invalid strings\n",
        "1. 'This is Python class'\n",
        "valid\n",
        "\n",
        "2. \"This is Python class\"\n",
        "valid\n",
        "\n",
        "3. '''This is Python class'''\n",
        "valid\n",
        "\n",
        "4. s = \"\"\"This is Python class\"\"\"\n",
        "type(s)\n",
        "valid\n",
        "\n",
        "5. 'This is Python's class'\n",
        "invalid\n",
        "\n",
        "6. \"Learnbay provides \"Java\", \"Python\" classes\"\n",
        "invalid\n",
        "\n",
        "7. \"Learnbay provides 'Java', 'Python' classes\"\n",
        "valid\n",
        "\n",
        "8. \"This is Python's class\"\n",
        "valid\n",
        "\n",
        "9. \"\"\"Learnbay provides \"Java\", \"Python\" classes\"\"\"\n",
        "valid\n",
        "\n",
        "10. '''Learnbay provides \"Java\", \"Python\" classes'''\n",
        "valid  \n",
        "\n",
        "11. '''Learnbay provides\n",
        "\"Java\", \"Python\" \n",
        "classes'''\n",
        "valid\n",
        "\n",
        "12. 'This is\n",
        "Python \n",
        "class'\n",
        "invalid\n"
      ],
      "execution_count": null,
      "outputs": []
    },
    {
      "cell_type": "code",
      "metadata": {
        "id": "Drx8fhT23g7a",
        "outputId": "0ca95ed6-440a-48ab-a446-833b357fb8ea",
        "colab": {
          "base_uri": "https://localhost:8080/",
          "height": 69
        }
      },
      "source": [
        "#Write the code to get the output mentioned below print statement\n",
        "my_str = \"Although that way may not be obvious at first unless you're Dutch.\"\n",
        "my_str1 = \"Although that way may not be obvious at first unless you're Dutch.\"\n",
        "\n",
        "print(\"The length of my_str  is :\", len(my_str))\n",
        "#output:- The length of my_str is 66\n",
        "\n",
        "print(\"id of my_str and my_str1 is same? - \", (my_str is my_str1))\n",
        "#output:- id of my_str and my_str1 is same? - True\n",
        "\n",
        "print('Type of my_str is', type(str))\n",
        "#output:- Type of my_str is: str"
      ],
      "execution_count": null,
      "outputs": [
        {
          "output_type": "stream",
          "text": [
            "The length of my_str  is : 66\n",
            "id of my_str and my_str1 is same? -  False\n",
            "Type of my_str is <class 'str'>\n"
          ],
          "name": "stdout"
        }
      ]
    },
    {
      "cell_type": "code",
      "metadata": {
        "id": "403e-I3A3lCO",
        "outputId": "0fd2f5d2-0fed-4ebf-fa33-9b2539dd9618",
        "colab": {
          "base_uri": "https://localhost:8080/",
          "height": 121
        }
      },
      "source": [
        "#Indexing\n",
        "my_str = \"Although 8 that way may not be obvious at first unless you're Dutch\"\n",
        "#Write the code to get the output,instructions are mentioned below print statement. use indexing\n",
        "\n",
        "print(\"The first character in my_str is:\", my_str[0])\n",
        "#output:- The first character in my_str is: A\n",
        "#Note:- Use positive indexing\n",
        "\n",
        "print(\"The first character in my_str is:\" , my_str[-len(my_str)])\n",
        "#output:- The first character in my_str is: h\n",
        "#Note:- Use len() function.\n",
        "\n",
        "print(\"The character at index 10 in my_str is: \", my_str[10])\n",
        "#output:- The character at index 10 in my_str is: c --there is a blank at index 10\n",
        "#Note:- Use positive indexing\n",
        "\n",
        "print(\"The last character in my_str is: \", my_str[-1])\n",
        "#output:- The last character in my_str is: h\n",
        "#Note:- Use negative indexing.\n",
        "\n",
        "print(\"The last character in my_str is:\" , my_str[len(my_str)-1])\n",
        "#output:- The last character in my_str is: h\n",
        "#Note:- Use len() function.\n",
        "\n",
        "print(f'{my_str.find(\"8\")}th character in my_str is: 8')\n",
        "#output:- The character in my_str is: 8\n",
        "#Note:- Use positive index"
      ],
      "execution_count": null,
      "outputs": [
        {
          "output_type": "stream",
          "text": [
            "The first character in my_str is: A\n",
            "The first character in my_str is: A\n",
            "The character at index 10 in my_str is:   \n",
            "The last character in my_str is:  h\n",
            "The last character in my_str is: h\n",
            "9th character in my_str is: 8\n"
          ],
          "name": "stdout"
        }
      ]
    },
    {
      "cell_type": "code",
      "metadata": {
        "id": "NK_QdtsM3luu",
        "outputId": "15a51dd6-e550-49ce-b42e-487e1357f11f",
        "colab": {
          "base_uri": "https://localhost:8080/",
          "height": 260
        }
      },
      "source": [
        "\n",
        "#Slicing\n",
        "my_str = \"Although that way may not be obvious at first unless you're Dutch.\"\n",
        "#Write the code to get the output,instructions are mentioned below print statement. use slicing\n",
        "print(f'You have sliced: {my_str[::]}Without begin, end and step')\n",
        "#output:- You have sliced: Although that way may not be obvious at first unless you're Dutch.Without begin, end and step\n",
        "\n",
        "\n",
        "print(f'You have sliced: {my_str[0:len(my_str)]}with begin as 0 end using len and without step')\n",
        "#output:- You have sliced: Although that way may not be obvious at first unless you're Dutch.with begin as 0 end using len and without step\n",
        "\n",
        "\n",
        "print(f'You have sliced: {my_str[::1]}without begin and end but using step')\n",
        "#output:- You have sliced: Although that way may not be obvious at first unless you're Dutch.without begin and end but using step\n",
        "\n",
        "\n",
        "print(f'You have sliced: {my_str[0:len(my_str):1]}With begin, end and step')\n",
        "#output:- You have sliced: Although that way may not be obvious at first unless you're Dutch.With begin, end and step\n",
        "\n",
        "\n",
        "print(f'You have sliced:   {my_str[0:1:-1]}with using begin and end using postive values and step as negative values.')\n",
        "#output:- You have sliced:   .with using begin and end using postive values and step as negative values.\n",
        "#Slicing command should print empty string.\n",
        "\n",
        "\n",
        "print(f'You have sliced: {my_str[0:len(my_str):2]}')\n",
        "#output:- You have sliced: Atog htwymyntb biu tfrtuls o'eDth\n",
        "\n",
        "\n",
        "print(f'You have sliced: {my_str[0:len(my_str):3]}')\n",
        "#output:- You have sliced: Ahgttam tebo  r lsorDc\n",
        "\n",
        "\n",
        "print(f'You have sliced: {my_str[::-1]}. Use only step')\n",
        "#output:- You have sliced: .hctuD er'uoy sselnu tsrif ta suoivbo eb ton yam yaw taht hguohtlA. Use only step\n",
        "\n",
        "\n",
        "print(f'You have sliced: {my_str[-1:-(len(my_str)+1):-1]}. Use begin end and step.')\n",
        "#output:- You have sliced: .hctuD er'uoy sselnu tsrif ta suoivbo eb ton yam yaw taht hguohtlA. Use begin end and step.\n",
        "\n",
        "print(f'You have sliced: {my_str[::-2]}. Use only step.')\n",
        "#output:- You have sliced: .cu ruysen si asovoe o a a athuhl. use only step\n",
        "\n",
        "\n",
        "print(f'You have sliced: {my_str[-1:-(len(my_str)+1):-2]}. Use begin, end and step.')\n",
        "#output:- You have sliced: .cu ruysen si asovoe o a a athuhl. use begin, end and step.\n",
        "\n",
        "\n",
        "print(my_str[10:17:-1])\n",
        "#What will be the output? empty string\n",
        "\n",
        "# print(my_str.index(\"a\"))\n",
        "# print(my_str.index(\"y\"))\n",
        "print(f'You have sliced: {my_str[16:10:-1]} , Using begin, end and step.')\n",
        "#output:- You have sliced: yaw ta, Using begin, end and step.\n",
        "\n",
        "print(f'You have sliced: {my_str[-17:-10:1]}. Using begin, end and step.')\n",
        "#output:- You have sliced: ess you. Using begin, end and step.\n"
      ],
      "execution_count": null,
      "outputs": [
        {
          "output_type": "stream",
          "text": [
            "You have sliced: Although that way may not be obvious at first unless you're Dutch.Without begin, end and step\n",
            "You have sliced: Although that way may not be obvious at first unless you're Dutch.with begin as 0 end using len and without step\n",
            "You have sliced: Although that way may not be obvious at first unless you're Dutch.without begin and end but using step\n",
            "You have sliced: Although that way may not be obvious at first unless you're Dutch.With begin, end and step\n",
            "You have sliced:   with using begin and end using postive values and step as negative values.\n",
            "You have sliced: Atog htwymyntb biu tfrtuls o'eDth\n",
            "You have sliced: Ahgttam tebo  r lsorDc\n",
            "You have sliced: .hctuD er'uoy sselnu tsrif ta suoivbo eb ton yam yaw taht hguohtlA. Use only step\n",
            "You have sliced: .hctuD er'uoy sselnu tsrif ta suoivbo eb ton yam yaw taht hguohtlA. Use begin end and step.\n",
            "You have sliced: .cu ruysen si asovoe o a a athuhl. Use only step.\n",
            "You have sliced: .cu ruysen si asovoe o a a athuhl. Use begin, end and step.\n",
            "\n",
            "You have sliced: yaw ta , Using begin, end and step.\n",
            "You have sliced: ess you. Using begin, end and step.\n"
          ],
          "name": "stdout"
        }
      ]
    },
    {
      "cell_type": "code",
      "metadata": {
        "id": "qUSYa5x-3n5j",
        "outputId": "38cee006-43cd-4a0a-c720-ec46ee30b8b1",
        "colab": {
          "base_uri": "https://localhost:8080/",
          "height": 52
        }
      },
      "source": [
        "#Basic operation on string\n",
        "str1 = 'Learnbay'\n",
        "str2 = 'Python'\n",
        "\n",
        "#Write the code to get the output,instructions are mentioned below.\n",
        "#Output is: Learnbay Python\n",
        "print (f'Output is: {str1 + \" \" +str2}')\n",
        "\n",
        "#Error: TypeError: can only concatenate str (not \"int\") to str\n",
        "\n",
        "#Error: TypeError: can only concatenate str (not \"float\") to str\n",
        "#print (str1 + 1)\n",
        "\n",
        "\n",
        "#Find below Output\n",
        "#Output is: LearnbayLearnbayLearnbay\n",
        "print(\"Output is: \",str1*3)\n",
        "\n",
        "#Error: TypeError: can't multiply sequence by non-int of type 'float'\n",
        "\n",
        "\n",
        "#Error: TypeError: can't multiply sequence by non-int of type 'str'\n",
        "#print(\"Output is: \",str1*3.1)\n"
      ],
      "execution_count": null,
      "outputs": [
        {
          "output_type": "stream",
          "text": [
            "Output is: Learnbay Python\n",
            "Output is:  LearnbayLearnbayLearnbay\n"
          ],
          "name": "stdout"
        }
      ]
    },
    {
      "cell_type": "code",
      "metadata": {
        "id": "gREffmnr3s-p",
        "outputId": "19ba792e-fb36-44cf-b6d0-833289a9081c",
        "colab": {
          "base_uri": "https://localhost:8080/",
          "height": 121
        }
      },
      "source": [
        "#Find below Output\n",
        "str1 = 'Python'\n",
        "str2 = 'Python'\n",
        "str3 = 'Python$'\n",
        "str4 = 'Python$'\n",
        "\n",
        "#print True by using identity operator between str1 and str2\n",
        "print(str1 is str2)\n",
        "\n",
        "#print False by using identity operator between str1 and str3\n",
        "print(str1 is str3)\n",
        "\n",
        "#print False by using identity operator between str4 and str3\n",
        "print(str3 is str4)\n",
        "\n",
        "#Check if P is available in str1 and print True by using membership operator\n",
        "print('P' in str1)\n",
        "\n",
        "#Check if $ is available in str3 and print True by using membership operator\n",
        "print('$' in str3)\n",
        "\n",
        "#Check if N is available in str3 and print False by using membership operator\n",
        "print('N' in str1)\n",
        "\n"
      ],
      "execution_count": null,
      "outputs": [
        {
          "output_type": "stream",
          "text": [
            "True\n",
            "False\n",
            "False\n",
            "True\n",
            "True\n",
            "False\n"
          ],
          "name": "stdout"
        }
      ]
    },
    {
      "cell_type": "code",
      "metadata": {
        "id": "QNFjxDr73u2H",
        "outputId": "aabd2dcf-9ae3-4d59-a60a-4e1495f325e0",
        "colab": {
          "base_uri": "https://localhost:8080/",
          "height": 35
        }
      },
      "source": [
        "#Complete the below code\n",
        "str1 = 'This is Python class'\n",
        "#write the code to replace 'Python' with 'Java' and you should get below error.\n",
        "sub_str='Python'\n",
        "new_str='Java'\n",
        "print(str1.replace(sub_str,new_str))\n",
        "#TypeError: 'str' object does not support item assignment.\n",
        "#str1[8]='J'\n",
        "\n",
        "\n",
        "\n"
      ],
      "execution_count": null,
      "outputs": [
        {
          "output_type": "stream",
          "text": [
            "This is Java class\n"
          ],
          "name": "stdout"
        }
      ]
    },
    {
      "cell_type": "code",
      "metadata": {
        "id": "-JgFbPmn3w3D",
        "outputId": "e321f3fd-a9d1-43f4-f0eb-bb21f4e57829",
        "colab": {
          "base_uri": "https://localhost:8080/",
          "height": 87
        }
      },
      "source": [
        "str1 = 'A'\n",
        "str2 = 'A'\n",
        "#Compare str1 and str2 and print True using comparison operator\n",
        "print(str1 is str2)\n",
        "\n",
        "#Compare str1 and str2 and print True using equality operator\n",
        "print(str1==str2)\n",
        "\n",
        "#Compare str1 and str2 and print False using equality operator\n",
        "print((str1!=str2))\n",
        "\n",
        "#Compare str1 and str2 and print False using comparison operator\n",
        "print(str1 is not str2)\n"
      ],
      "execution_count": null,
      "outputs": [
        {
          "output_type": "stream",
          "text": [
            "True\n",
            "True\n",
            "False\n",
            "False\n"
          ],
          "name": "stdout"
        }
      ]
    },
    {
      "cell_type": "code",
      "metadata": {
        "id": "fJ46_L-53yhW",
        "outputId": "ec6252ed-7603-429d-9307-27f5625a3db6",
        "colab": {
          "base_uri": "https://localhost:8080/",
          "height": 87
        }
      },
      "source": [
        "str1 = 'A'\n",
        "str2 = 'a'\n",
        "#Compare str1 and str2 and print True using comparison operator\n",
        "print((str1!=str2))\n",
        "\n",
        "#Compare str1 and str2 and print True using equality operator\n",
        "print(str1 is not str2)\n",
        "\n",
        "#Compare str1 and str2 and print False using equality operator\n",
        "print(str1 is str2)\n",
        "\n",
        "#Compare str1 and str2 and print False using comparison operator\n",
        "print((str1==str2))\n"
      ],
      "execution_count": null,
      "outputs": [
        {
          "output_type": "stream",
          "text": [
            "True\n",
            "True\n",
            "False\n",
            "False\n"
          ],
          "name": "stdout"
        }
      ]
    },
    {
      "cell_type": "code",
      "metadata": {
        "id": "e-Lr9va330gi",
        "outputId": "68e7a606-5cf9-4f71-ab90-8acbd877454f",
        "colab": {
          "base_uri": "https://localhost:8080/",
          "height": 52
        }
      },
      "source": [
        "str1 = 'A'\n",
        "str2 = '65'\n",
        "#Compare str1 and str2 using comparison operator and it should give below error.\n",
        "#Error: TypeError: '>=' not supported between instances of 'str' and 'int'\n",
        "#print (str2 >= 65)\n",
        "#Compare str1 and str2 and print True using equality operator\n",
        "print (chr(int(str2))==str1)\n",
        "\n",
        "#Compare str1 and str2 and print False using equality operator\n",
        "print (str1==str2)\n"
      ],
      "execution_count": null,
      "outputs": [
        {
          "output_type": "stream",
          "text": [
            "True\n",
            "False\n"
          ],
          "name": "stdout"
        }
      ]
    },
    {
      "cell_type": "code",
      "metadata": {
        "id": "JO04jmpN32Im",
        "outputId": "b3b4e5ff-b9b4-41aa-d84c-4e644b5c1d06",
        "colab": {
          "base_uri": "https://localhost:8080/",
          "height": 87
        }
      },
      "source": [
        "str1 = 'Python'\n",
        "str2 = 'Python'\n",
        "#Compare str1 and str2 and print True using comparison operator\n",
        "print((str1==str2))\n",
        "\n",
        "\n",
        "#Compare str1 and str2 and print True using equality operator\n",
        "print(str1 is str2)\n",
        "\n",
        "#Compare str1 and str2 and print False using equality operator\n",
        "print(str1 is not str2)\n",
        "\n",
        "#Compare str1 and str2 and print False using comparison operator\n",
        "print(str1 != str2)\n"
      ],
      "execution_count": null,
      "outputs": [
        {
          "output_type": "stream",
          "text": [
            "True\n",
            "True\n",
            "False\n",
            "False\n"
          ],
          "name": "stdout"
        }
      ]
    },
    {
      "cell_type": "code",
      "metadata": {
        "id": "nmVAYYC_35ip",
        "outputId": "fa0a45e6-6662-4f29-c5be-af1b5601efbd",
        "colab": {
          "base_uri": "https://localhost:8080/",
          "height": 87
        }
      },
      "source": [
        "str1 = 'Python'\n",
        "str2 = 'python'\n",
        "#Compare str1 and str2 and print True using comparison operator\n",
        "print(str1 != str2)\n",
        "\n",
        "#Compare str1 and str2 and print True using equality operator\n",
        "print(str1 is not str2)\n",
        "\n",
        "#Compare str1 and str2 and print False using equality operator\n",
        "print(str1 is str2)\n",
        "\n",
        "#Compare str1 and str2 and print False using comparison operator\n",
        "print(str1 == str2)\n"
      ],
      "execution_count": null,
      "outputs": [
        {
          "output_type": "stream",
          "text": [
            "True\n",
            "True\n",
            "False\n",
            "False\n"
          ],
          "name": "stdout"
        }
      ]
    },
    {
      "cell_type": "code",
      "metadata": {
        "id": "7ulv5ith37OJ",
        "outputId": "0926f770-2107-4059-8961-2c355d6eac80",
        "colab": {
          "base_uri": "https://localhost:8080/",
          "height": 87
        }
      },
      "source": [
        "a = 'Python'\n",
        "b = ''\n",
        "\n",
        "#Apply logical opereators (and, or & not) on above string values and observe the output.\n",
        "print(a and b)\n",
        "print(a or b)\n",
        "print(not a)\n",
        "print(not b)\n"
      ],
      "execution_count": null,
      "outputs": [
        {
          "output_type": "stream",
          "text": [
            "\n",
            "Python\n",
            "False\n",
            "True\n"
          ],
          "name": "stdout"
        }
      ]
    },
    {
      "cell_type": "code",
      "metadata": {
        "id": "Yg_gsZBL383n",
        "outputId": "71fdb1f9-2e5e-405f-af61-c04fb259d4e6",
        "colab": {
          "base_uri": "https://localhost:8080/",
          "height": 87
        }
      },
      "source": [
        "a = ''\n",
        "b = ''\n",
        "\n",
        "#Apply logical opereators (and, or & not) on above string values and observe the output.\n",
        "print(a and b)\n",
        "print(a or b)\n",
        "print(not a)\n",
        "print(not b)"
      ],
      "execution_count": null,
      "outputs": [
        {
          "output_type": "stream",
          "text": [
            "\n",
            "\n",
            "True\n",
            "True\n"
          ],
          "name": "stdout"
        }
      ]
    },
    {
      "cell_type": "code",
      "metadata": {
        "id": "cIWkP9Hf3-q5",
        "outputId": "8b27a854-3060-4931-832a-7bc56ad51a92",
        "colab": {
          "base_uri": "https://localhost:8080/",
          "height": 87
        }
      },
      "source": [
        "a = 'Python'\n",
        "b = 'learnbay'\n",
        "\n",
        "#Apply logical opereators (and, or & not) on above string values and observe the output.\n",
        "print(a and b)\n",
        "print(a or b)\n",
        "print(not a)\n",
        "print(not b)"
      ],
      "execution_count": null,
      "outputs": [
        {
          "output_type": "stream",
          "text": [
            "learnbay\n",
            "Python\n",
            "False\n",
            "False\n"
          ],
          "name": "stdout"
        }
      ]
    },
    {
      "cell_type": "code",
      "metadata": {
        "id": "Y0Ot_E704AX5",
        "outputId": "ab9dca1a-90a8-46dc-8b05-f96ed7844fdf",
        "colab": {
          "base_uri": "https://localhost:8080/",
          "height": 139
        }
      },
      "source": [
        "#Write the code to get the total count of 't' in above string. Use find() and index() method.\n",
        "my_str = \"Although 8 that way may not be obvious at first unless you're Dutch\"\n",
        "result = []\n",
        "k = 0\n",
        "while k < len(my_str):\n",
        "  k = my_str.find('t', k)\n",
        "  if k == -1:\n",
        "    break\n",
        "  else:\n",
        "    result.append(k)\n",
        "    k += 1\n",
        "print(len(result))\n",
        "\n",
        "#Write the code to get the index of '8' in my_str. Use find() and index() method.\n",
        "print(my_str.find('8'))\n",
        "print(my_str.index('8'))\n",
        "\n",
        "#What will be the output of below code?\n",
        "print(my_str.find('the'))\n",
        "#-1\n",
        "\n",
        "#print(my_str.index('the'))\n",
        "#Value Error\n",
        "\n",
        "print(my_str.find('t', 9, 15))\n",
        "#11\n",
        "\n",
        "print(my_str.rfind('u'))\n",
        "#63\n",
        "\n",
        "print(my_str.rindex('u'))\n",
        "#63\n"
      ],
      "execution_count": null,
      "outputs": [
        {
          "output_type": "stream",
          "text": [
            "7\n",
            "9\n",
            "9\n",
            "-1\n",
            "11\n",
            "63\n",
            "63\n"
          ],
          "name": "stdout"
        }
      ]
    },
    {
      "cell_type": "code",
      "metadata": {
        "id": "Gommq59Q4CMi",
        "outputId": "fc41ee02-fb7b-40f3-c591-24f48b42e8cb",
        "colab": {
          "base_uri": "https://localhost:8080/",
          "height": 52
        }
      },
      "source": [
        "#W A P which applies strip() method if any string, which will be taken from user, starts and ends with space, or applies \n",
        "#rrstrip() method if that string only ends with space or applies lstrip() method if that string only starts with a space.\n",
        "\n",
        "#For example:-\n",
        "#input:- '    Python   '\n",
        "#output:- 'Python'\n",
        "\n",
        "#input:- '    Python'\n",
        "#output:- 'Python'\n",
        "\n",
        "#input:- 'Python   '\n",
        "#output:- 'Python'\n",
        "\n",
        "my_str = input(\"Enter any string: \") \n",
        "if (my_str[0] == ' ' and my_str[len(my_str)-1] == ' '):\n",
        "  my_str = my_str.strip()\n",
        "elif (my_str[0] == ' ' and my_str[len(my_str)-1] != ' '):\n",
        "  my_str = my_str.lstrip()\n",
        "else:\n",
        "  my_str = my_str.rstrip()\n",
        "print(my_str)\n"
      ],
      "execution_count": null,
      "outputs": [
        {
          "output_type": "stream",
          "text": [
            "Enter any string: Python\n",
            "Python\n"
          ],
          "name": "stdout"
        }
      ]
    },
    {
      "cell_type": "code",
      "metadata": {
        "id": "9IUy-cpS4Dtt",
        "outputId": "f5f2b845-98e9-40e3-eff4-5b797f5594e6",
        "colab": {
          "base_uri": "https://localhost:8080/",
          "height": 69
        }
      },
      "source": [
        "my_str = \"Although 8 that way may not be obvious at first unless you're Dutch\"\n",
        "\n",
        "#Write the code to convert all alphabets in my_str into upper case.\n",
        "print(my_str.upper())\n",
        "\n",
        "#Write the code to convert all alphabets in my_str into lower case.\n",
        "print(my_str.lower())\n",
        "\n",
        "#Write the code to swap the cases of all alphabets in my_str.(lower to upper and upper to lower)\n",
        "print(my_str.swapcase())\n"
      ],
      "execution_count": null,
      "outputs": [
        {
          "output_type": "stream",
          "text": [
            "ALTHOUGH 8 THAT WAY MAY NOT BE OBVIOUS AT FIRST UNLESS YOU'RE DUTCH\n",
            "although 8 that way may not be obvious at first unless you're dutch\n",
            "aLTHOUGH 8 THAT WAY MAY NOT BE OBVIOUS AT FIRST UNLESS YOU'RE dUTCH\n"
          ],
          "name": "stdout"
        }
      ]
    },
    {
      "cell_type": "code",
      "metadata": {
        "id": "LT-YKnk1V8fm"
      },
      "source": [
        ""
      ],
      "execution_count": null,
      "outputs": []
    },
    {
      "cell_type": "code",
      "metadata": {
        "id": "-BjS-z674HKW",
        "outputId": "4c150913-80eb-4bf2-ef49-99950555fb62",
        "colab": {
          "base_uri": "https://localhost:8080/",
          "height": 52
        }
      },
      "source": [
        "#Write the code which takes one string from user and if it starts with small case letter then convert it to corresponding \n",
        "#capital letter otherwise if starts with capital letters then convert first character of every word in that string into capital.\n",
        "\n",
        "my_str = input(\"Enter any string: \") \n",
        "if my_str[0].isupper():\n",
        "  my_str = my_str.title()\n",
        "else:\n",
        "  my_str = my_str.capitalize()\n",
        "print(my_str)\n"
      ],
      "execution_count": null,
      "outputs": [
        {
          "output_type": "stream",
          "text": [
            "Enter any string: I am doing Python assignment\n",
            "I Am Doing Python Assignment\n"
          ],
          "name": "stdout"
        }
      ]
    },
    {
      "cell_type": "code",
      "metadata": {
        "id": "-MCuDy5J4JQS",
        "outputId": "7a713f02-e0fb-4994-9c6d-4f9afb516d44",
        "colab": {
          "base_uri": "https://localhost:8080/",
          "height": 87
        }
      },
      "source": [
        "#Take a string from user and check if it is:-\n",
        "#     1. alphanumeric\n",
        "#     2. alphabets\n",
        "#     3. digit\n",
        "#     4. all letters are in lower case\n",
        "#     5. all letters are in upper case\n",
        "#     6. in title case\n",
        "#     7. a space character\n",
        "#     8. numeric\n",
        "#     9. all number elements in string are decimal\n",
        "\n",
        "my_str = input(\"Enter any string: \") \n",
        "if my_str.isalnum():\n",
        "  print('alphanumeric')\n",
        "if my_str.isalpha():\n",
        "  print('alphabets')\n",
        "if my_str.isdigit():\n",
        "  print('digit')\n",
        "if my_str.islower():\n",
        "  print('all letters are in lower case')\n",
        "if my_str.isupper():\n",
        "  print('all letters are in upper')\n",
        "if my_str.istitle():\n",
        "  print('in title case')\n",
        "if my_str.strip() == '':\n",
        "  print('a space character')\n",
        "if my_str.isnumeric():\n",
        "  print('numeric')\n",
        "if my_str.isdecimal():\n",
        "  print('all number elements in string are decimal')\n"
      ],
      "execution_count": null,
      "outputs": [
        {
          "output_type": "stream",
          "text": [
            "Enter any string: PYTHON\n",
            "alphanumeric\n",
            "alphabets\n",
            "all letters are in upper\n"
          ],
          "name": "stdout"
        }
      ]
    },
    {
      "cell_type": "code",
      "metadata": {
        "id": "tiTN-4ik4KAG",
        "outputId": "b8d0dd94-b852-418b-847c-fe595fcd61f0",
        "colab": {
          "base_uri": "https://localhost:8080/",
          "height": 52
        }
      },
      "source": [
        "#W A P which takes a string as an input and prints True if the string is valid identifier else returns False.\n",
        "#Sample Input:- 'abc', 'abc1', 'ab1c', '1abc', 'abc$', '_abc', 'if'\n",
        "\n",
        "my_str = input(\"Enter any string: \") \n",
        "print(my_str.isidentifier())\n"
      ],
      "execution_count": null,
      "outputs": [
        {
          "output_type": "stream",
          "text": [
            "Enter any string: abc$\n",
            "False\n"
          ],
          "name": "stdout"
        }
      ]
    },
    {
      "cell_type": "code",
      "metadata": {
        "id": "tAMkSIN84MPe",
        "outputId": "0ca55b6c-edaf-4b97-91ac-86de4d272010",
        "colab": {
          "base_uri": "https://localhost:8080/",
          "height": 87
        }
      },
      "source": [
        "#What will be output of below code?\n",
        "s = chr(65) + chr(97)\n",
        "print(s.isprintable())\n",
        "\n",
        "s = chr(27) + chr(97)\n",
        "print(s.isprintable())\n",
        "\n",
        "s = '\\n'\n",
        "print(s.isprintable())\n",
        "\n",
        "s = ''\n",
        "print(s.isprintable())\n"
      ],
      "execution_count": null,
      "outputs": [
        {
          "output_type": "stream",
          "text": [
            "True\n",
            "False\n",
            "False\n",
            "True\n"
          ],
          "name": "stdout"
        }
      ]
    },
    {
      "cell_type": "code",
      "metadata": {
        "id": "pU9Os0mD4Pk1",
        "outputId": "5f2732c9-21a0-45e9-cf54-6d34079ff948",
        "colab": {
          "base_uri": "https://localhost:8080/",
          "height": 235
        }
      },
      "source": [
        "#AAAA What will be output of below code?\n",
        "my_string = '  '\n",
        "print(my_string.isascii())\n",
        "\n",
        "my_string = 'Studytonight'\n",
        "print(my_string.isascii())\n",
        "\n",
        "my_string = 'Study tonight'\n",
        "print(my_string.isascii())\n",
        "\n",
        "my_string = 'Studytonight@123'\n",
        "print(my_string.isascii())\n",
        "\n",
        "my_string = '°'\n",
        "print(my_string.isascii())\n",
        "\n",
        "my_string = 'ö'\n",
        "print(my_string.isascii())"
      ],
      "execution_count": null,
      "outputs": [
        {
          "output_type": "error",
          "ename": "AttributeError",
          "evalue": "ignored",
          "traceback": [
            "\u001b[0;31m---------------------------------------------------------------------------\u001b[0m",
            "\u001b[0;31mAttributeError\u001b[0m                            Traceback (most recent call last)",
            "\u001b[0;32m<ipython-input-1-6f581ef5c4c3>\u001b[0m in \u001b[0;36m<module>\u001b[0;34m()\u001b[0m\n\u001b[1;32m      1\u001b[0m \u001b[0;31m#What will be output of below code?\u001b[0m\u001b[0;34m\u001b[0m\u001b[0;34m\u001b[0m\u001b[0;34m\u001b[0m\u001b[0m\n\u001b[1;32m      2\u001b[0m \u001b[0mmy_string\u001b[0m \u001b[0;34m=\u001b[0m \u001b[0;34m'  '\u001b[0m\u001b[0;34m\u001b[0m\u001b[0;34m\u001b[0m\u001b[0m\n\u001b[0;32m----> 3\u001b[0;31m \u001b[0mprint\u001b[0m\u001b[0;34m(\u001b[0m\u001b[0mmy_string\u001b[0m\u001b[0;34m.\u001b[0m\u001b[0misascii\u001b[0m\u001b[0;34m(\u001b[0m\u001b[0;34m)\u001b[0m\u001b[0;34m)\u001b[0m\u001b[0;34m\u001b[0m\u001b[0;34m\u001b[0m\u001b[0m\n\u001b[0m\u001b[1;32m      4\u001b[0m \u001b[0;34m\u001b[0m\u001b[0m\n\u001b[1;32m      5\u001b[0m \u001b[0mmy_string\u001b[0m \u001b[0;34m=\u001b[0m \u001b[0;34m'Studytonight'\u001b[0m\u001b[0;34m\u001b[0m\u001b[0;34m\u001b[0m\u001b[0m\n",
            "\u001b[0;31mAttributeError\u001b[0m: 'str' object has no attribute 'isascii'"
          ]
        }
      ]
    },
    {
      "cell_type": "code",
      "metadata": {
        "id": "VsLV8FF74QTB",
        "outputId": "ebf37392-f425-46af-cd67-2c1e45461d49",
        "colab": {
          "base_uri": "https://localhost:8080/",
          "height": 35
        }
      },
      "source": [
        "#What will be the output of below code?\n",
        "firstString = \"der Fluß\"\n",
        "secondString = \"der Fluss\"\n",
        "\n",
        "if firstString.casefold() == secondString.casefold():\n",
        "    print('The strings are equal.')\n",
        "else:\n",
        "    print('The strings are not equal.')"
      ],
      "execution_count": null,
      "outputs": [
        {
          "output_type": "stream",
          "text": [
            "The strings are equal.\n"
          ],
          "name": "stdout"
        }
      ]
    },
    {
      "cell_type": "code",
      "metadata": {
        "id": "1m0U7jLa4Wjf",
        "outputId": "599fb3ad-0de4-45c5-e9c9-d3dc7dfc6f7f",
        "colab": {
          "base_uri": "https://localhost:8080/",
          "height": 69
        }
      },
      "source": [
        "#Write the code to get below output\n",
        "#O/P 1:- python** (using ljust method)\n",
        "string = 'python'\n",
        " \n",
        "print(string.ljust(len(string)+2, '*')) \n",
        "\n",
        "#Write the code to get below output\n",
        "#O/P 1:- **python (using rjust method)\n",
        "print(string.rjust(len(string)+2, '*')) \n",
        "\n",
        "#Write the code to get below output\n",
        "#O/P 1:- **python** (using rjust method)\n",
        "print(string.center(len(string)+4, '*')) "
      ],
      "execution_count": null,
      "outputs": [
        {
          "output_type": "stream",
          "text": [
            "python**\n",
            "**python\n",
            "**python**\n"
          ],
          "name": "stdout"
        }
      ]
    },
    {
      "cell_type": "code",
      "metadata": {
        "id": "cRVkvW6s4YKK",
        "outputId": "06c04801-31bc-4e03-c6c0-bb50fc309086",
        "colab": {
          "base_uri": "https://localhost:8080/",
          "height": 35
        }
      },
      "source": [
        "#Write a Python program to find the length of the my_str:-\n",
        "\n",
        "#Input:- 'Write a Python program to find the length of the my_str'\n",
        "#Output:- 55\n",
        "my_str = 'Write a Python program to find the length of the my_str'\n",
        "print(\"Output:\" , len(my_str))"
      ],
      "execution_count": null,
      "outputs": [
        {
          "output_type": "stream",
          "text": [
            "Output: 55\n"
          ],
          "name": "stdout"
        }
      ]
    },
    {
      "cell_type": "code",
      "metadata": {
        "id": "SjABWI284Zuz",
        "outputId": "d201f1fa-26f8-4fcb-9ff6-442e7e17da33",
        "colab": {
          "base_uri": "https://localhost:8080/",
          "height": 35
        }
      },
      "source": [
        "#Write a Python program to find the total number of times letter 'p' is appeared in the below string:-\n",
        "    \n",
        "#Input:- 'peter piper picked a peck of pickled peppers.'\n",
        "#Output:- 9\n",
        "my_str = 'peter piper picked a peck of pickled peppers.'\n",
        "print(\"Output:\", my_str.count('p'))\n"
      ],
      "execution_count": null,
      "outputs": [
        {
          "output_type": "stream",
          "text": [
            "Output: 9\n"
          ],
          "name": "stdout"
        }
      ]
    },
    {
      "cell_type": "code",
      "metadata": {
        "id": "-iZtqbEo4bQp",
        "outputId": "e6119553-2840-418b-ace4-8a27b70a55b4",
        "colab": {
          "base_uri": "https://localhost:8080/",
          "height": 35
        }
      },
      "source": [
        "#Write a Python Program, to print all the indexes of all occurences of letter 'p' appeared in the string:-\n",
        "    \n",
        "#Input:- 'peter piper picked a peck of pickled peppers.'\n",
        "#Output:- \n",
        "# 0\n",
        "# 6\n",
        "# 8\n",
        "# 12\n",
        "# 21\n",
        "# 29\n",
        "# 37\n",
        "# 39\n",
        "# 40\n",
        "my_str = 'peter piper picked a peck of pickled peppers.'\n",
        "result = []\n",
        "k = 0\n",
        "while k < len(my_str):\n",
        "  k = my_str.find('p', k)\n",
        "  if k == -1:\n",
        "    break\n",
        "  else:\n",
        "    result.append(k)\n",
        "    k += 1\n",
        "print(result)"
      ],
      "execution_count": null,
      "outputs": [
        {
          "output_type": "stream",
          "text": [
            "[0, 6, 8, 12, 21, 29, 37, 39, 40]\n"
          ],
          "name": "stdout"
        }
      ]
    },
    {
      "cell_type": "code",
      "metadata": {
        "id": "_A8Eu8f84daM",
        "outputId": "4b9582ad-02e2-4e7e-d7f5-a7d70500ce42",
        "colab": {
          "base_uri": "https://localhost:8080/",
          "height": 35
        }
      },
      "source": [
        "#Write a python program to find below output:-\n",
        "\n",
        "#Input:- 'peter piper picked a peck of pickled peppers.'\n",
        "#Output:- ['peter', 'piper', 'picked', 'a', 'peck', 'of', 'pickled', 'peppers']\n",
        "my_str = 'peter piper picked a peck of pickled peppers.'\n",
        "print(my_str.split())\n"
      ],
      "execution_count": null,
      "outputs": [
        {
          "output_type": "stream",
          "text": [
            "['peter', 'piper', 'picked', 'a', 'peck', 'of', 'pickled', 'peppers.']\n"
          ],
          "name": "stdout"
        }
      ]
    },
    {
      "cell_type": "code",
      "metadata": {
        "id": "juh7tQuL4fNc",
        "outputId": "8bc2fed5-e629-420d-d174-4952c71b2398",
        "colab": {
          "base_uri": "https://localhost:8080/",
          "height": 52
        }
      },
      "source": [
        "#Write a python program to find below output:-\n",
        "\n",
        "#Input:- 'peter piper picked a peck of pickled peppers.'\n",
        "#Output:- 'peppers pickled of peck a picked piper peter'\n",
        "my_lst = []\n",
        "my_str = 'peter piper picked a peck of pickled peppers.'\n",
        "my_lst = list(my_str.split())\n",
        "print(my_lst)\n",
        "print(' '.join(my_lst[::-1])) \n"
      ],
      "execution_count": null,
      "outputs": [
        {
          "output_type": "stream",
          "text": [
            "['peter', 'piper', 'picked', 'a', 'peck', 'of', 'pickled', 'peppers.']\n",
            "peppers. pickled of peck a picked piper peter\n"
          ],
          "name": "stdout"
        }
      ]
    },
    {
      "cell_type": "code",
      "metadata": {
        "id": "aaHQYz194fW7",
        "outputId": "0eedf6b8-d64e-40dd-fcc1-c11a354d5d2f",
        "colab": {
          "base_uri": "https://localhost:8080/",
          "height": 35
        }
      },
      "source": [
        "#Write a python program to find below output:-\n",
        "\n",
        "#Input:- 'peter piper picked a peck of pickled peppers.'\n",
        "#Output:- 'sreppep delkcip fo kcep a dekcip repip retep'\n",
        "my_str = 'peter piper picked a peck of pickled peppers.'\n",
        "print(my_str[-2:-(len(my_str)+1):-1])"
      ],
      "execution_count": null,
      "outputs": [
        {
          "output_type": "stream",
          "text": [
            "sreppep delkcip fo kcep a dekcip repip retep\n"
          ],
          "name": "stdout"
        }
      ]
    },
    {
      "cell_type": "code",
      "metadata": {
        "id": "LSgj9glC4feI",
        "outputId": "e5c36529-4a9a-471d-8521-bda81611b72f",
        "colab": {
          "base_uri": "https://localhost:8080/",
          "height": 35
        }
      },
      "source": [
        "#Write a python program to find below output:-\n",
        "\n",
        "#Input:- 'peter piper picked a peck of pickled peppers.'\n",
        "#Output:- 'retep repip dekcip a kcep fo delkcip sreppep'\n",
        "my_lst = []\n",
        "my_str = 'peter piper picked a peck of pickled peppers.'\n",
        "my_lst = list(my_str[-2:-(len(my_str)+1):-1].split())\n",
        "print(' '.join(my_lst[::-1])) \n"
      ],
      "execution_count": null,
      "outputs": [
        {
          "output_type": "stream",
          "text": [
            "retep repip dekcip a kcep fo delkcip sreppep\n"
          ],
          "name": "stdout"
        }
      ]
    },
    {
      "cell_type": "code",
      "metadata": {
        "id": "WUxPAkY94foo",
        "outputId": "2c9709a5-45b0-4950-e8b7-eb7f3899ec42",
        "colab": {
          "base_uri": "https://localhost:8080/",
          "height": 35
        }
      },
      "source": [
        "#Write a python program to find below output:-\n",
        "\n",
        "#Input:- 'peter piper picked a peck of pickled peppers.'\n",
        "#Output:- 'Peter Piper Picked A Peck Of Pickled Peppers'\n",
        "\n",
        "my_str = 'Peter Piper Picked A Peck Of Pickled Peppers.'\n",
        "print(my_str.title()[0:len(my_str)-1])"
      ],
      "execution_count": null,
      "outputs": [
        {
          "output_type": "stream",
          "text": [
            "Peter Piper Picked A Peck Of Pickled Peppers\n"
          ],
          "name": "stdout"
        }
      ]
    },
    {
      "cell_type": "code",
      "metadata": {
        "id": "IT1NSPxA4mww",
        "outputId": "6149984c-b422-4224-b886-c56d47751845",
        "colab": {
          "base_uri": "https://localhost:8080/",
          "height": 35
        }
      },
      "source": [
        "#Write a python program to find below output:-\n",
        "\n",
        "#Input:- 'Peter Piper Picked A Peck Of Pickled Peppers.'\n",
        "#Output:- 'Peter piper picked a peck of pickled peppers'\n",
        "\n",
        "my_str = 'Peter Piper Picked A Peck Of Pickled Peppers.'\n",
        "print(my_str.capitalize()[0:len(my_str)-1])"
      ],
      "execution_count": null,
      "outputs": [
        {
          "output_type": "stream",
          "text": [
            "Peter piper picked a peck of pickled peppers\n"
          ],
          "name": "stdout"
        }
      ]
    },
    {
      "cell_type": "code",
      "metadata": {
        "id": "3Gg65vSc4m3C",
        "outputId": "694bb81a-40e1-4fc9-aa98-a71f78f790b9",
        "colab": {
          "base_uri": "https://localhost:8080/",
          "height": 35
        }
      },
      "source": [
        "#Write a python program to implement index method. If sub_str is found in my_str then it will print the index\n",
        "# of first occurrence of first character of matching string in my_str:-\n",
        "\n",
        "#Input:- my_str = 'Peter Piper Picked A Peck Of Pickled Peppers.', sub_str = 'Pickl'\n",
        "#Output:- 29\n",
        "\n",
        "my_str = 'Peter Piper Picked A Peck Of Pickled Peppers.'\n",
        "sub_str = 'Pickl'\n",
        "\n",
        "sub_len = len(sub_str)\n",
        "\n",
        "for i in range(len(my_str)):\n",
        "  if my_str[i] == sub_str[0]:\n",
        "    if my_str[i:(i+sub_len)] == sub_str:\n",
        "      print(i)\n",
        "\n",
        "  else:\n",
        "    continue"
      ],
      "execution_count": null,
      "outputs": [
        {
          "output_type": "stream",
          "text": [
            "29\n"
          ],
          "name": "stdout"
        }
      ]
    },
    {
      "cell_type": "code",
      "metadata": {
        "id": "iFRhp_JI4m6k",
        "outputId": "c9d47da5-d6b8-4ce9-dfb5-4766edcb6454",
        "colab": {
          "base_uri": "https://localhost:8080/",
          "height": 35
        }
      },
      "source": [
        "#Write a python program to implement replace method. If sub_str is found in my_str then it will replace the first \n",
        "#occurrence of sub_str with new_str else it will will print sub_str not found:-\n",
        "\n",
        "#Input:- my_str = 'Peter Piper Picked A Peck Of Pickled Peppers.', sub_str = 'Peck', new_str = 'Pack'\n",
        "#Output:- 'Peter Piper Picked A Pack Of Pickled Peppers.'\n",
        "my_str = 'Peter Piper Picked A Peck Of Pickled Peppers.'\n",
        "sub_str = 'Peck'\n",
        "new_str = 'Pack'\n",
        "sub_len = len(sub_str)\n",
        "str1 = ''\n",
        "\n",
        "for i in range(len(my_str)):\n",
        "  if my_str[i] == sub_str[0]:\n",
        "    if my_str[i:(i+sub_len)] == sub_str:\n",
        "      str1 = my_str[0:i]+ new_str + my_str[(i+sub_len):len(my_str)]\n",
        "      print(str1)\n",
        "  else:\n",
        "    continue\n",
        "\n"
      ],
      "execution_count": null,
      "outputs": [
        {
          "output_type": "stream",
          "text": [
            "Peter Piper Picked A Pack Of Pickled Peppers.\n"
          ],
          "name": "stdout"
        }
      ]
    },
    {
      "cell_type": "code",
      "metadata": {
        "id": "dQ9YhBBc4m9V",
        "outputId": "aa5f66a7-e934-441d-bcb0-62e0d03869a4",
        "colab": {
          "base_uri": "https://localhost:8080/",
          "height": 35
        }
      },
      "source": [
        "#Write a python program to find below output (implements rjust and ljust):-\n",
        "\n",
        "#Input:- 'Peter Piper Picked A Peck Of Pickled Peppers.', sub_str = 'Peck', \n",
        "#Output:- '*********************Peck********************'\n",
        "\n",
        "sub_str = 'Peck'\n",
        "inp_str = 'Peter Piper Picked A Peck Of Pickled Peppers.'\n",
        "sub_str.rjust((inp_str.find(sub_str)-1), '*').ljust(len(inp_str)-len(sub_str), '*')\n"
      ],
      "execution_count": null,
      "outputs": [
        {
          "output_type": "execute_result",
          "data": {
            "application/vnd.google.colaboratory.intrinsic+json": {
              "type": "string"
            },
            "text/plain": [
              "'****************Peck*********************'"
            ]
          },
          "metadata": {
            "tags": []
          },
          "execution_count": 30
        }
      ]
    },
    {
      "cell_type": "code",
      "metadata": {
        "id": "w37BRLdt4tYT",
        "outputId": "a4c20012-992f-47fa-a820-7a2b0ce95431",
        "colab": {
          "base_uri": "https://localhost:8080/",
          "height": 35
        }
      },
      "source": [
        "#Write a python program to find below output (implement partition and rpartition):-\n",
        "\n",
        "#Input:- 'This is Python class', sep = 'is', \n",
        "#Output:- ['This', 'is', 'Python class']\n",
        "\n",
        "inp_str = 'This is Python class'\n",
        "list(inp_str.partition(' is'))\n"
      ],
      "execution_count": null,
      "outputs": [
        {
          "output_type": "execute_result",
          "data": {
            "text/plain": [
              "['This', ' is', ' Python class']"
            ]
          },
          "metadata": {
            "tags": []
          },
          "execution_count": 29
        }
      ]
    },
    {
      "cell_type": "code",
      "metadata": {
        "id": "W64gCpeu4vaF",
        "outputId": "9e0f6572-d31c-4478-d923-ef07761770ea",
        "colab": {
          "base_uri": "https://localhost:8080/",
          "height": 69
        }
      },
      "source": [
        "#Write a python program which takes one input string from user and encode it in below format:-\n",
        "     #Input:- 'Python'\n",
        "     #Output:- 'R{vjqp'\n",
        "        \n",
        "my_str = 'Python'\n",
        "for i in range(len(my_str)):\n",
        "  my_str = my_str.replace(my_str[i],chr(ord(my_str[i])+2))\n",
        "print(my_str)\n",
        "        \n",
        "        \n",
        "        \n",
        "\n",
        "       #Input:- 'Python'\n",
        "       #Output:- 'Rwvfql'\n",
        "\n",
        "my_str = 'Python'\n",
        "for i in range(len(my_str)):\n",
        "  if i%2==0:\n",
        "    my_str = my_str.replace(my_str[i],chr(ord(my_str[i])+2))\n",
        "  else:\n",
        "    my_str = my_str.replace(my_str[i],chr(ord(my_str[i])-2))\n",
        "print(my_str)\n",
        "                \n",
        "        \n",
        "        \n",
        "        \n",
        "        \n",
        "       #Input:- 'Python'\n",
        "       #Output:- 'R{vfml'\n",
        "        \n",
        "my_str = 'Python'\n",
        "for i in range(len(my_str)):\n",
        "  if i<=2:\n",
        "    my_str = my_str.replace(my_str[i],chr(ord(my_str[i])+2))\n",
        "  else:\n",
        "    my_str = my_str.replace(my_str[i],chr(ord(my_str[i])-2))\n",
        "print(my_str)      \n",
        "        \n",
        "        \n",
        "        "
      ],
      "execution_count": null,
      "outputs": [
        {
          "output_type": "stream",
          "text": [
            "R{vjqp\n",
            "Rwvfql\n",
            "R{vfml\n"
          ],
          "name": "stdout"
        }
      ]
    }
  ]
}
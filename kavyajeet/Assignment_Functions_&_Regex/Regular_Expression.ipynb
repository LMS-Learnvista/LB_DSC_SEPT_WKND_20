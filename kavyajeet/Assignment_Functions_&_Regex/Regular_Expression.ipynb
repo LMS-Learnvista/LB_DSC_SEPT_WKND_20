{
  "nbformat": 4,
  "nbformat_minor": 0,
  "metadata": {
    "colab": {
      "name": "Regular_Expression.ipynb",
      "provenance": [],
      "include_colab_link": true
    },
    "kernelspec": {
      "name": "python3",
      "display_name": "Python 3"
    }
  },
  "cells": [
    {
      "cell_type": "markdown",
      "metadata": {
        "id": "view-in-github",
        "colab_type": "text"
      },
      "source": [
        "<a href=\"https://colab.research.google.com/github/kavyajeetbora/LB_DSC_SEPT_WKND_20/blob/master/kavyajeet/Assignment_Functions_%26_Regex/Regular_Expression.ipynb\" target=\"_parent\"><img src=\"https://colab.research.google.com/assets/colab-badge.svg\" alt=\"Open In Colab\"/></a>"
      ]
    },
    {
      "cell_type": "code",
      "metadata": {
        "id": "xMLU30SQxZCH",
        "outputId": "1e8d4da8-00b7-4a3b-c2cc-da148244ce9e",
        "colab": {
          "base_uri": "https://localhost:8080/"
        }
      },
      "source": [
        "#Write the regular expression and use proper method which gives output as:- 'cat' in str.\n",
        "import re\n",
        "str = 'cat mat bat rat'\n",
        "regex = r\"c\\w+\"\n",
        "re.findall(regex,str)"
      ],
      "execution_count": 3,
      "outputs": [
        {
          "output_type": "execute_result",
          "data": {
            "text/plain": [
              "['cat']"
            ]
          },
          "metadata": {
            "tags": []
          },
          "execution_count": 3
        }
      ]
    },
    {
      "cell_type": "code",
      "metadata": {
        "id": "zMiSTGMHx6Dv",
        "outputId": "90d9adc7-9164-417c-bd24-969384a5c885",
        "colab": {
          "base_uri": "https://localhost:8080/"
        }
      },
      "source": [
        "#Write the regular expression and use proper method which gives output as:- 'rat' in str.\n",
        "import re\n",
        "str = 'cat mat bat rat'\n",
        "regex = r\"r\\w+\"\n",
        "re.findall(regex,str)"
      ],
      "execution_count": 5,
      "outputs": [
        {
          "output_type": "execute_result",
          "data": {
            "text/plain": [
              "['rat']"
            ]
          },
          "metadata": {
            "tags": []
          },
          "execution_count": 5
        }
      ]
    },
    {
      "cell_type": "code",
      "metadata": {
        "id": "qBoYFjf5x6Mm",
        "outputId": "489b1102-26ff-494d-a3cd-677b3bc7c985",
        "colab": {
          "base_uri": "https://localhost:8080/"
        }
      },
      "source": [
        "#Write the regular expression and use proper method which gives output as:- ['mat', 'man'] in str.\n",
        "import re\n",
        "str = 'cat mat bat rat man'\n",
        "regex = r\"m\\w+\"\n",
        "re.findall(regex,str)"
      ],
      "execution_count": 4,
      "outputs": [
        {
          "output_type": "execute_result",
          "data": {
            "text/plain": [
              "['mat', 'man']"
            ]
          },
          "metadata": {
            "tags": []
          },
          "execution_count": 4
        }
      ]
    },
    {
      "cell_type": "code",
      "metadata": {
        "id": "qmxmqzX_x6QR",
        "outputId": "f921af79-4d3f-490b-b50b-0bc42a1ab370",
        "colab": {
          "base_uri": "https://localhost:8080/"
        }
      },
      "source": [
        "#Write the regular expression and use proper method which gives output as:- \n",
        "#['Python', 's', 'Programming', 'is', 'very', 'easy', 'to', 'learn'] in str.\n",
        "import re\n",
        "str = \"Python's Programming: is very easy to learn\"\n",
        "regex = r\"\\W\"\n",
        "re.split(regex,str)"
      ],
      "execution_count": 7,
      "outputs": [
        {
          "output_type": "execute_result",
          "data": {
            "text/plain": [
              "['Python', 's', 'Programming', '', 'is', 'very', 'easy', 'to', 'learn']"
            ]
          },
          "metadata": {
            "tags": []
          },
          "execution_count": 7
        }
      ]
    },
    {
      "cell_type": "code",
      "metadata": {
        "id": "LxGl1o7px6Vi",
        "outputId": "4ecec1a3-ce3f-4ec9-a12e-e2b60675f14a",
        "colab": {
          "base_uri": "https://localhost:8080/",
          "height": 36
        }
      },
      "source": [
        "#Write the regular expression and use proper method which gives output as:- Python Programming: is very easy to learn in str.\n",
        "import re\n",
        "str = \"Python's Programming: is very easy to learn\"\n",
        "regex = r\"'\\w+\"\n",
        "re.sub(regex,repl=\"\",string=str)"
      ],
      "execution_count": 13,
      "outputs": [
        {
          "output_type": "execute_result",
          "data": {
            "application/vnd.google.colaboratory.intrinsic+json": {
              "type": "string"
            },
            "text/plain": [
              "'Python Programming: is very easy to learn'"
            ]
          },
          "metadata": {
            "tags": []
          },
          "execution_count": 13
        }
      ]
    },
    {
      "cell_type": "code",
      "metadata": {
        "id": "9uIpb614x6Yb",
        "outputId": "07fdd40a-959f-4858-fbef-becac96781a2",
        "colab": {
          "base_uri": "https://localhost:8080/"
        }
      },
      "source": [
        "#Write the regular expression and use proper method which Retrieves all words starting with p.\n",
        "#Output:- ['peter', 'per', 'picked', 'peck', 'pickled', 'peppers']\n",
        "import re\n",
        "str = \"peter giper picked a peck of pickled peppers\"\n",
        "regex = r\"p\\w+\"\n",
        "re.findall(regex,str)"
      ],
      "execution_count": 14,
      "outputs": [
        {
          "output_type": "execute_result",
          "data": {
            "text/plain": [
              "['peter', 'per', 'picked', 'peck', 'pickled', 'peppers']"
            ]
          },
          "metadata": {
            "tags": []
          },
          "execution_count": 14
        }
      ]
    },
    {
      "cell_type": "code",
      "metadata": {
        "id": "N0vFkePdx6bN",
        "outputId": "2637872c-a5b4-4890-ab34-c3adc81832ff",
        "colab": {
          "base_uri": "https://localhost:8080/"
        }
      },
      "source": [
        "#Write the regular expression and use proper method which Retrieves all words starting with p except 'per' which is not a separate word.\n",
        "#Output:- ['peter', 'picked', 'peck', 'pickled', 'peppers']\n",
        "import re\n",
        "str = \"peter giper picked a peck of pickled peppers\"\n",
        "regex = r\"^p\\w+\"\n",
        "re.findall(regex,str)"
      ],
      "execution_count": 50,
      "outputs": [
        {
          "output_type": "execute_result",
          "data": {
            "text/plain": [
              "[]"
            ]
          },
          "metadata": {
            "tags": []
          },
          "execution_count": 50
        }
      ]
    },
    {
      "cell_type": "code",
      "metadata": {
        "id": "mbiypO3yx6eE",
        "outputId": "ed511fa5-629f-4e01-b9bb-9a996d990fff",
        "colab": {
          "base_uri": "https://localhost:8080/"
        }
      },
      "source": [
        "#Write the regular expression and use proper method which Retrieves all words starting with a digit.\n",
        "#Output:- ['8th', '11th']\n",
        "import re\n",
        "str = 'The election in delhi will be held on 8th and result for the same will be declared on 11th'\n",
        "regex = r\"\\d\\w+\"\n",
        "re.findall(regex,str)"
      ],
      "execution_count": 22,
      "outputs": [
        {
          "output_type": "execute_result",
          "data": {
            "text/plain": [
              "['8th', '11th']"
            ]
          },
          "metadata": {
            "tags": []
          },
          "execution_count": 22
        }
      ]
    },
    {
      "cell_type": "code",
      "metadata": {
        "id": "6ZUWWd6bx6g8",
        "outputId": "c605edfb-9552-4d1c-d834-6c5928a954b7",
        "colab": {
          "base_uri": "https://localhost:8080/"
        }
      },
      "source": [
        "#Write the regular expression and use proper method which Retrieves all words having 5 characters.\n",
        "#Output:- ['peter', 'giper']\n",
        "import re\n",
        "str = \"peter giper picked a peck of pickled peppers\"\n",
        "regex = r\"\\b\\w{5}\\b\"\n",
        "re.findall(regex,str)"
      ],
      "execution_count": 24,
      "outputs": [
        {
          "output_type": "execute_result",
          "data": {
            "text/plain": [
              "['peter', 'giper']"
            ]
          },
          "metadata": {
            "tags": []
          },
          "execution_count": 24
        }
      ]
    },
    {
      "cell_type": "code",
      "metadata": {
        "id": "syuXvEXox6jt",
        "outputId": "e0051426-360d-415a-d609-1169569c2d45",
        "colab": {
          "base_uri": "https://localhost:8080/"
        }
      },
      "source": [
        "#Write the regular expression and use proper method which Retrieves all words having at least 4 characters.\n",
        "#Output:- ['Retrieving',  'words', 'having', 'least', 'characters']\n",
        "import re\n",
        "str = \"Retrieving all words having at least 4 characters\"\n",
        "regex = r\"\\b\\w{4,}\\b\"\n",
        "re.findall(regex,str)"
      ],
      "execution_count": 25,
      "outputs": [
        {
          "output_type": "execute_result",
          "data": {
            "text/plain": [
              "['Retrieving', 'words', 'having', 'least', 'characters']"
            ]
          },
          "metadata": {
            "tags": []
          },
          "execution_count": 25
        }
      ]
    },
    {
      "cell_type": "code",
      "metadata": {
        "id": "MtXo1Hf8x6ma",
        "outputId": "5d19be4d-b7e2-4e25-f5be-88bf38373a64",
        "colab": {
          "base_uri": "https://localhost:8080/"
        }
      },
      "source": [
        "#Write the regular expression and use proper method which Retrieves all words having at characters between 3 to 5 words.\n",
        "#Output:- ['all', 'words', 'least']\n",
        "import re\n",
        "str = \"Retrieving all words having at least 4 characters\"\n",
        "regex = r\"\\b\\w{3,5}\\b\"\n",
        "re.findall(regex,str)"
      ],
      "execution_count": 26,
      "outputs": [
        {
          "output_type": "execute_result",
          "data": {
            "text/plain": [
              "['all', 'words', 'least']"
            ]
          },
          "metadata": {
            "tags": []
          },
          "execution_count": 26
        }
      ]
    },
    {
      "cell_type": "code",
      "metadata": {
        "id": "RlvMct7xx6pE",
        "outputId": "571bcc5b-007a-4b38-ebbc-fc567de30a39",
        "colab": {
          "base_uri": "https://localhost:8080/"
        }
      },
      "source": [
        "#Write the regular expression and use proper method which Retrieves only digits from the string.\n",
        "#Output:- ['8', '11']\n",
        "import re\n",
        "str = 'The election in delhi will be held on 8 and result for the same will be declared on 11'\n",
        "regex = r\"\\d+\"\n",
        "re.findall(regex,str)"
      ],
      "execution_count": 28,
      "outputs": [
        {
          "output_type": "execute_result",
          "data": {
            "text/plain": [
              "['8', '11']"
            ]
          },
          "metadata": {
            "tags": []
          },
          "execution_count": 28
        }
      ]
    },
    {
      "cell_type": "code",
      "metadata": {
        "id": "wdD4cSyJx6us",
        "outputId": "1f6f82ce-516b-4a43-a4cb-58d18e100d1d",
        "colab": {
          "base_uri": "https://localhost:8080/"
        }
      },
      "source": [
        "#Write the regular expression and use proper method which Retrieves last word if starts with c from the given string.\n",
        "#Output:- ['characters']\n",
        "import re\n",
        "str = \"Retrieving all words having at least 4 characters\"\n",
        "regex = r\"c\\w+\"\n",
        "re.findall(regex,str)"
      ],
      "execution_count": 29,
      "outputs": [
        {
          "output_type": "execute_result",
          "data": {
            "text/plain": [
              "['characters']"
            ]
          },
          "metadata": {
            "tags": []
          },
          "execution_count": 29
        }
      ]
    },
    {
      "cell_type": "code",
      "metadata": {
        "id": "HsVGzJVbx6sl",
        "outputId": "b4852797-fb79-4131-9ec4-e4ec164e63d7",
        "colab": {
          "base_uri": "https://localhost:8080/"
        }
      },
      "source": [
        "#Write the regular expression and use proper method which Retrieves a phone number from the given string.\n",
        "#Output:- 1234567890\n",
        "import re\n",
        "str = \"Learnbay : 1234567890\"\n",
        "regex = r\"\\d{10}\"\n",
        "re.findall(regex,str)"
      ],
      "execution_count": 30,
      "outputs": [
        {
          "output_type": "execute_result",
          "data": {
            "text/plain": [
              "['1234567890']"
            ]
          },
          "metadata": {
            "tags": []
          },
          "execution_count": 30
        }
      ]
    },
    {
      "cell_type": "code",
      "metadata": {
        "id": "LvG3jTtvyQKk",
        "outputId": "7c738fa0-c726-42a6-edb7-3fd29e9970b2",
        "colab": {
          "base_uri": "https://localhost:8080/"
        }
      },
      "source": [
        "##Write the regular expression and use proper method which Etracts name from the string but not number.\n",
        "#Output:- Learnbay : \n",
        "import re\n",
        "str = \"Learnbay : 1234567890\"\n",
        "regex = r\"[^\\d]+\"\n",
        "re.findall(regex,str)"
      ],
      "execution_count": 39,
      "outputs": [
        {
          "output_type": "execute_result",
          "data": {
            "text/plain": [
              "['Learnbay : ']"
            ]
          },
          "metadata": {
            "tags": []
          },
          "execution_count": 39
        }
      ]
    },
    {
      "cell_type": "code",
      "metadata": {
        "id": "drArGXgKyQNz",
        "outputId": "eb0597db-514d-4443-a0b2-8775db77dc17",
        "colab": {
          "base_uri": "https://localhost:8080/"
        }
      },
      "source": [
        "##Write the regular expression and use proper method which Retrieves name starting with 'an' or 'ak'.\n",
        "#Output:- ['anil', 'akhil', 'anant', 'ankur']\n",
        "import re\n",
        "str = 'anil akhil anant abhi arun arati arundhati abhijit ankur'\n",
        "regex = r\"a[nk]\\w+\"\n",
        "re.findall(regex,str)"
      ],
      "execution_count": 38,
      "outputs": [
        {
          "output_type": "execute_result",
          "data": {
            "text/plain": [
              "['anil', 'akhil', 'anant', 'ankur']"
            ]
          },
          "metadata": {
            "tags": []
          },
          "execution_count": 38
        }
      ]
    }
  ]
}
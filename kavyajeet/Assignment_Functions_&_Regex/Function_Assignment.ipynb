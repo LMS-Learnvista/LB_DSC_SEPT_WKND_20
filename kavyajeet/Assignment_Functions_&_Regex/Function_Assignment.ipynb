{
  "nbformat": 4,
  "nbformat_minor": 0,
  "metadata": {
    "colab": {
      "name": "Function_Assignment.ipynb",
      "provenance": [],
      "include_colab_link": true
    },
    "kernelspec": {
      "name": "python3",
      "display_name": "Python 3"
    }
  },
  "cells": [
    {
      "cell_type": "markdown",
      "metadata": {
        "id": "view-in-github",
        "colab_type": "text"
      },
      "source": [
        "<a href=\"https://colab.research.google.com/github/kavyajeetbora/LB_DSC_SEPT_WKND_20/blob/master/kavyajeet/Assignment_Functions_%26_Regex/Function_Assignment.ipynb\" target=\"_parent\"><img src=\"https://colab.research.google.com/assets/colab-badge.svg\" alt=\"Open In Colab\"/></a>"
      ]
    },
    {
      "cell_type": "code",
      "metadata": {
        "id": "1YVTYu-CuCOO",
        "outputId": "24f16863-5d0b-4a11-a87f-1b2be81451b6",
        "colab": {
          "base_uri": "https://localhost:8080/"
        }
      },
      "source": [
        "# Define a function calls addNumber(x, y) that takes in two number and returns the sum of the two numbers.\n",
        "\n",
        "def addNumber(x,y):\n",
        "    return x+y\n",
        "\n",
        "print(addNumber(4.99,5))"
      ],
      "execution_count": null,
      "outputs": [
        {
          "output_type": "stream",
          "text": [
            "9.99\n"
          ],
          "name": "stdout"
        }
      ]
    },
    {
      "cell_type": "code",
      "metadata": {
        "id": "1-gIq-Rju2i2",
        "outputId": "0e19fbd4-481e-455d-9921-418291e851f7",
        "colab": {
          "base_uri": "https://localhost:8080/"
        }
      },
      "source": [
        "# Define a function calls subtractNumber(x, y) that takes in two numbers and returns the difference of the two numbers.\n",
        "\n",
        "def subtractNumber(x,y):\n",
        "    return x-y\n",
        "\n",
        "print(subtractNumber(4.99,5))"
      ],
      "execution_count": null,
      "outputs": [
        {
          "output_type": "stream",
          "text": [
            "-0.009999999999999787\n"
          ],
          "name": "stdout"
        }
      ]
    },
    {
      "cell_type": "code",
      "metadata": {
        "id": "kiAE0iLbviG9",
        "outputId": "0a336cb2-71b9-4a52-c080-8883a9ceac4c",
        "colab": {
          "base_uri": "https://localhost:8080/"
        }
      },
      "source": [
        "# Write a function getBiggerNumber(x, y) that takes in two numbers as arguments and returns the bigger number.\n",
        "\n",
        "def getBiggerNumber(x,y):\n",
        "    return max(x,y)\n",
        "\n",
        "print(getBiggerNumber(4.99,5))\n",
        "\n"
      ],
      "execution_count": null,
      "outputs": [
        {
          "output_type": "stream",
          "text": [
            "5\n"
          ],
          "name": "stdout"
        }
      ]
    },
    {
      "cell_type": "code",
      "metadata": {
        "id": "10B5oVcZh16d",
        "outputId": "74892e85-45cf-424d-a2f3-ef12ff9837a1",
        "colab": {
          "base_uri": "https://localhost:8080/"
        }
      },
      "source": [
        "# Python provides many built-in modules with many useful functions. \n",
        "# One such module is the math module. The math module provides many useful functions such as sqrt(x), pow(x, y), ceil(x), floor(x) etc. \n",
        "# You will need to do a \"import math\" before you are allowed to use the functions within the math module.\n",
        "\n",
        "import math\n",
        "# Calculate the square root of 16 and stores it in the variable a\n",
        "a = math.sqrt(16)\n",
        "print(a)\n",
        "\n",
        "# Calculate 3 to the power of 5 and stores it in the variable b\n",
        "b = math.pow(3,5)\n",
        "print(b)\n",
        "\n",
        "# Calculate area of circle with radius = 3.0 by making use of the math.pi constant and store it in the variable c\n",
        "c = math.pi*math.pow(3,2)\n",
        "print(c)"
      ],
      "execution_count": null,
      "outputs": [
        {
          "output_type": "stream",
          "text": [
            "4.0\n",
            "243.0\n",
            "28.274333882308138\n"
          ],
          "name": "stdout"
        }
      ]
    },
    {
      "cell_type": "code",
      "metadata": {
        "id": "Yado0B99h2E_",
        "outputId": "8bd90a6e-45ea-4970-a477-78a1deeafd54",
        "colab": {
          "base_uri": "https://localhost:8080/"
        }
      },
      "source": [
        "# Write a function to convert temperature from Celsius to Fahrenheit scale.\n",
        "# oC to oF Conversion: Multipy by 9, then divide by 5, then add 32.\n",
        "\n",
        "def Cel2Fah(celsius):\n",
        "    '''\n",
        "    converts the given temperature in celsius to fahrenheit\n",
        "    '''\n",
        "    return celsius*9/5 + 32\n",
        "\n",
        "# Note: Return a string of 2 decimal places.\n",
        "# In - Cel2Fah(28.0)\n",
        "# Out - '82.40'\n",
        "# In - Cel2Fah(0.00)\n",
        "# Out - '32.00'\n",
        "\n",
        "print(Cel2Fah(28.0))\n",
        "print(Cel2Fah(0))"
      ],
      "execution_count": null,
      "outputs": [
        {
          "output_type": "stream",
          "text": [
            "82.4\n",
            "32.0\n"
          ],
          "name": "stdout"
        }
      ]
    },
    {
      "cell_type": "code",
      "metadata": {
        "id": "n7lsFol9h2ID",
        "outputId": "db463dbf-691e-43a8-96a8-4d5a15249d87",
        "colab": {
          "base_uri": "https://localhost:8080/"
        }
      },
      "source": [
        "# Write a function to compute the BMI of a person.\n",
        "#     BMI = weight(kg)  /  ( height(m)*height(m) )\n",
        "\n",
        "# Note: Return a string of 1 decimal place.\n",
        "# In - BMI(63, 1.7)\n",
        "# Out - '21.8'\n",
        "# In - BMI(110, 2)\n",
        "# Out - '27.5'\n",
        "\n",
        "def BMI(weight,height):\n",
        "    return round(weight/height**2,1)\n",
        "\n",
        "print(BMI(63, 1.7))\n",
        "print(BMI(110, 2))"
      ],
      "execution_count": null,
      "outputs": [
        {
          "output_type": "stream",
          "text": [
            "21.8\n",
            "27.5\n"
          ],
          "name": "stdout"
        }
      ]
    },
    {
      "cell_type": "code",
      "metadata": {
        "id": "f2tV1AU8h2LN",
        "outputId": "98a77295-e4d9-4fef-b714-97dc6158d98f",
        "colab": {
          "base_uri": "https://localhost:8080/"
        }
      },
      "source": [
        "# Write a function percent(value, total) that takes in two numbers as arguments, and returns the percentage value as an integer.\n",
        "# In - percent(46, 90)\n",
        "# Out - 51\n",
        "# In - percent(51, 51)\n",
        "# Out - 100\n",
        "# In - percent(63, 12)\n",
        "# Out - 525\n",
        "\n",
        "def percent(value,total):\n",
        "    '''\n",
        "    takes in two numbers as arguments, and returns the percentage value as an integer\n",
        "    '''\n",
        "    return int(value/total*100)\n",
        "\n",
        "print(percent(51, 51))\n",
        "print(percent(63, 12))"
      ],
      "execution_count": null,
      "outputs": [
        {
          "output_type": "stream",
          "text": [
            "100\n",
            "525\n"
          ],
          "name": "stdout"
        }
      ]
    },
    {
      "cell_type": "code",
      "metadata": {
        "id": "QyoWR3dQh2OZ",
        "outputId": "07d71a9d-0215-4f12-eaca-e09222842355",
        "colab": {
          "base_uri": "https://localhost:8080/"
        }
      },
      "source": [
        "# Write a function to compute the hypotenuse given sides a and b of the triangle.\n",
        "# Hint: You can use math.sqrt(x) to compute the square root of x.\n",
        "# In - hypotenuse(3, 4)\n",
        "# Out - 5\n",
        "# In - hypotenuse(5, 12)\n",
        "# Out - 13\n",
        "\n",
        "\n",
        "def hypotenuse(a,b):\n",
        "    '''\n",
        "    returns the hypotenuse given sides a and b of the triangle\n",
        "    ''' \n",
        "    return math.sqrt(a**2 + b**2)\n",
        "\n",
        "\n",
        "print(hypotenuse(3, 4))\n",
        "print(hypotenuse(5, 12))"
      ],
      "execution_count": null,
      "outputs": [
        {
          "output_type": "stream",
          "text": [
            "5.0\n",
            "13.0\n"
          ],
          "name": "stdout"
        }
      ]
    },
    {
      "cell_type": "code",
      "metadata": {
        "id": "XthPUigkh2Ro",
        "outputId": "d6b1be2d-a521-4e3a-9090-3569b4717ee3",
        "colab": {
          "base_uri": "https://localhost:8080/"
        }
      },
      "source": [
        "# Write a function getSumOfLastDigits() that takes in a list of positive numbers and returns the sum of all the last digits in the list.\n",
        "# getSumOfLastDigits([2, 3, 4])\n",
        "# 9\n",
        "# getSumOfLastDigits([1, 23, 456])\n",
        "# 10\n",
        "\n",
        "\n",
        "def getSumOfLastDigits(values):\n",
        "    '''\n",
        "    Takes a list of positive numbers and returns the sum of the last digits of each number in the list\n",
        "    '''\n",
        "    total = 0\n",
        "    if len(values)>0:\n",
        "        for i in values:\n",
        "            total += int(str(i)[-1])\n",
        "        return total\n",
        "    else:\n",
        "        print(\"Empty list\")\n",
        "        return None\n",
        "\n",
        "\n",
        "print(getSumOfLastDigits([2, 3, 4]))\n",
        "print(getSumOfLastDigits([2, 3, 44]))\n",
        "print(getSumOfLastDigits([1, 23, 456]))"
      ],
      "execution_count": null,
      "outputs": [
        {
          "output_type": "stream",
          "text": [
            "9\n",
            "9\n",
            "10\n"
          ],
          "name": "stdout"
        }
      ]
    },
    {
      "cell_type": "code",
      "metadata": {
        "id": "T-uIqm9Mh2Un",
        "outputId": "79c93115-027c-402b-f412-d5fa68a8ad6a",
        "colab": {
          "base_uri": "https://localhost:8080/"
        }
      },
      "source": [
        "# Write a function that uses a default value.\n",
        "# In - introduce('Lim', 20)\n",
        "# Out - 'My name is Lim. I am 20 years old.'\n",
        "# In - introduce('Ahmad')\n",
        "# Out - 'My name is Ahmad. My age is secret.'\n",
        "\n",
        "def introduce(name,age=None):\n",
        "    introduction = \"My name is %s. \" % name\n",
        "    if age:\n",
        "        introduction += \"I am %d years old\" % age\n",
        "    else:\n",
        "        introduction += \"My age is secret\"\n",
        "    return introduction\n",
        "\n",
        "\n",
        "print(introduce(\"Lim\",20))\n",
        "print(introduce(\"Ahmad\"))"
      ],
      "execution_count": null,
      "outputs": [
        {
          "output_type": "stream",
          "text": [
            "My name is Lim. I am 20 years old\n",
            "My name is Ahmad. My age is secret\n"
          ],
          "name": "stdout"
        }
      ]
    },
    {
      "cell_type": "code",
      "metadata": {
        "id": "h0pXo5vH6wA-",
        "outputId": "4b7fd91d-b797-46ba-e1f2-1704117df52b",
        "colab": {
          "base_uri": "https://localhost:8080/"
        }
      },
      "source": [
        "# Write a function isEquilateral(x, y, z) that accepts the 3 sides of a triangle as arguments. \n",
        "# The program should return True if it is an equilateral triangle.\n",
        "\n",
        "# In - isEquilateral(2, 4, 3)\n",
        "# False - False\n",
        "# In - isEquilateral(3, 3, 3)\n",
        "# Out - True\n",
        "# In - isEquilateral(-3, -3, -3)\n",
        "# Out - False\n",
        "\n",
        "def isEquilateral(x, y, z):\n",
        "    return x==y==z and x>0 and y>0 and z>0\n",
        "\n",
        "print(isEquilateral(2, 4, 3))\n",
        "print(isEquilateral(3,3,3))\n",
        "print(isEquilateral(-3, -3, -3))"
      ],
      "execution_count": null,
      "outputs": [
        {
          "output_type": "stream",
          "text": [
            "False\n",
            "True\n",
            "False\n"
          ],
          "name": "stdout"
        }
      ]
    },
    {
      "cell_type": "code",
      "metadata": {
        "id": "3NvcKCkn6wFy",
        "outputId": "c21b12a9-0eec-49ac-bf5c-d0954c8bfaf3",
        "colab": {
          "base_uri": "https://localhost:8080/"
        }
      },
      "source": [
        "# For a quadratic equation in the form of ax2+bx+c, the discriminant, D is b2-4ac. Write a function to compute the discriminant, D.\n",
        "# In - quadratic(1, 2, 3)\n",
        "# Out - 'The discriminant is -8.'\n",
        "# In - quadratic(1, 3, 2)\n",
        "# Out - 'The discriminant is 1.'\n",
        "# In - quadratic(1, 4, 4)\n",
        "# Out - 'The discriminant is 0.'\n",
        "\n",
        "def quadratic(a,b,c):\n",
        "    return b**2 - 4*a*c\n",
        "\n",
        "print(quadratic(1, 2, 3))\n",
        "print(quadratic(1, 3, 2))\n",
        "print(quadratic(1,4,4))"
      ],
      "execution_count": null,
      "outputs": [
        {
          "output_type": "stream",
          "text": [
            "-8\n",
            "1\n",
            "0\n"
          ],
          "name": "stdout"
        }
      ]
    },
    {
      "cell_type": "code",
      "metadata": {
        "id": "ihmuttBS6wJQ",
        "outputId": "8f8a5743-2456-4102-8b00-d2a3fc6e45f2",
        "colab": {
          "base_uri": "https://localhost:8080/"
        }
      },
      "source": [
        "# Define a function calls addFirstAndLast(x) that takes in a list of numbers and returns the sum of the first and last numbers.\n",
        "# In - addFirstAndLast([])\n",
        "# Out - 0\n",
        "# In - addFirstAndLast([2, 7, 3])\n",
        "# Out - 5\n",
        "# In - addFirstAndLast([10])\n",
        "# Out - 10\n",
        "\n",
        "def addFirstAndLast(lst):\n",
        "  if len(lst) == 1:\n",
        "    return lst[0]\n",
        "  elif len(lst)>=2:\n",
        "    return lst[0] + lst[-1]\n",
        "  else:\n",
        "    return 'List is empty'\n",
        "\n",
        "addFirstAndLast([2,7,3])"
      ],
      "execution_count": null,
      "outputs": [
        {
          "output_type": "execute_result",
          "data": {
            "text/plain": [
              "5"
            ]
          },
          "metadata": {
            "tags": []
          },
          "execution_count": 35
        }
      ]
    },
    {
      "cell_type": "code",
      "metadata": {
        "id": "lEt9HNPI6wM0",
        "outputId": "29acff69-4201-4fe1-c09b-758456ef502f",
        "colab": {
          "base_uri": "https://localhost:8080/"
        }
      },
      "source": [
        "# Complete the 'lambda' expression so that it returns True if the argument is an even number, and False otherwise.\n",
        "\n",
        "# (lambda num : True if num%2 == 0 else False)(6)\n",
        "func = lambda x: True if x%2==0 else False\n",
        "func(6)"
      ],
      "execution_count": null,
      "outputs": [
        {
          "output_type": "execute_result",
          "data": {
            "text/plain": [
              "True"
            ]
          },
          "metadata": {
            "tags": []
          },
          "execution_count": 37
        }
      ]
    },
    {
      "cell_type": "code",
      "metadata": {
        "id": "JYWSZXPg6wQN",
        "outputId": "abd24de8-5dc4-4b63-c2be-ba619b08f7c4",
        "colab": {
          "base_uri": "https://localhost:8080/",
          "height": 36
        }
      },
      "source": [
        "# getScore.__doc__\n",
        "# 'A function that computes and returns the final score.'\n",
        "\n",
        "def getScore():\n",
        "  ''''A function that computes and returns the final score.'''\n",
        "  pass\n",
        "getScore.__doc__"
      ],
      "execution_count": null,
      "outputs": [
        {
          "output_type": "execute_result",
          "data": {
            "application/vnd.google.colaboratory.intrinsic+json": {
              "type": "string"
            },
            "text/plain": [
              "\"'A function that computes and returns the final score.\""
            ]
          },
          "metadata": {
            "tags": []
          },
          "execution_count": 38
        }
      ]
    },
    {
      "cell_type": "code",
      "metadata": {
        "id": "zmi81hi76wTK",
        "outputId": "7439743d-654d-439a-d8c5-44ade917e42c",
        "colab": {
          "base_uri": "https://localhost:8080/"
        }
      },
      "source": [
        "# In Python, it is possible to pass a function as a argument to another function. \n",
        "# Write a function useFunction(func, num) that takes in a function and a number as arguments. \n",
        "# The useFunction should produce the output shown in the examples given below.\n",
        "\n",
        "# def addOne(x):\n",
        "#   return x + 1\n",
        "# useFunction(addOne, 4)\n",
        "# 25\n",
        "# useFunction(addOne, 9)\n",
        "# 100\n",
        "# useFunction(addOne, 0)\n",
        "# 1\n",
        "\n",
        "def addOne(x):\n",
        "    return x+1\n",
        "\n",
        "\n",
        "def useFunction(func, num):\n",
        "    return func(num)**2\n",
        "\n",
        "print(useFunction(addOne, 4))\n",
        "print(useFunction(addOne, 9))\n",
        "print(useFunction(addOne, 0))"
      ],
      "execution_count": null,
      "outputs": [
        {
          "output_type": "stream",
          "text": [
            "25\n",
            "100\n",
            "1\n"
          ],
          "name": "stdout"
        }
      ]
    }
  ]
}
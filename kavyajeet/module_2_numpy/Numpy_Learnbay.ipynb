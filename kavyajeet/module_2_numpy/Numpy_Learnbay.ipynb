{
  "nbformat": 4,
  "nbformat_minor": 0,
  "metadata": {
    "colab": {
      "name": "Numpy_Learnbay.ipynb",
      "provenance": [],
      "authorship_tag": "ABX9TyM5wYZksBv2fiUzOGxbajU/",
      "include_colab_link": true
    },
    "kernelspec": {
      "name": "python3",
      "display_name": "Python 3"
    }
  },
  "cells": [
    {
      "cell_type": "markdown",
      "metadata": {
        "id": "view-in-github",
        "colab_type": "text"
      },
      "source": [
        "<a href=\"https://colab.research.google.com/github/kavyajeetbora/LB_DSC_SEPT_WKND_20/blob/master/kavyajeet/module_2_numpy/Numpy_Learnbay.ipynb\" target=\"_parent\"><img src=\"https://colab.research.google.com/assets/colab-badge.svg\" alt=\"Open In Colab\"/></a>"
      ]
    },
    {
      "cell_type": "markdown",
      "metadata": {
        "id": "QcWxYIckwQ32"
      },
      "source": [
        "# Module 2: Numpy"
      ]
    },
    {
      "cell_type": "markdown",
      "metadata": {
        "id": "hxWbEoTXwVpo"
      },
      "source": [
        "1. Storage space comparison between numpy array and list"
      ]
    },
    {
      "cell_type": "code",
      "metadata": {
        "id": "e-o7X-o7wMrP",
        "outputId": "fb862b1c-ec40-4217-c6ac-048a7cb44a21",
        "colab": {
          "base_uri": "https://localhost:8080/"
        }
      },
      "source": [
        "import numpy as np\n",
        "import time\n",
        "import sys\n",
        "\n",
        "S = range(1000)\n",
        "D = np.arange(1000)\n",
        "\n",
        "sys.getsizeof(S)\n",
        "sys.getsizeof(D)"
      ],
      "execution_count": 3,
      "outputs": [
        {
          "output_type": "execute_result",
          "data": {
            "text/plain": [
              "8096"
            ]
          },
          "metadata": {
            "tags": []
          },
          "execution_count": 3
        }
      ]
    }
  ]
}
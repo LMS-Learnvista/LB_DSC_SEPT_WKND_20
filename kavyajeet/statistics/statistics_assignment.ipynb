{
  "nbformat": 4,
  "nbformat_minor": 0,
  "metadata": {
    "colab": {
      "name": "statistics_assignment.ipynb",
      "provenance": [],
      "authorship_tag": "ABX9TyOWBBRP917V6wkiWyqJ6zeP",
      "include_colab_link": true
    },
    "kernelspec": {
      "name": "python3",
      "display_name": "Python 3"
    }
  },
  "cells": [
    {
      "cell_type": "markdown",
      "metadata": {
        "id": "view-in-github",
        "colab_type": "text"
      },
      "source": [
        "<a href=\"https://colab.research.google.com/github/kavyajeetbora/LB_DSC_SEPT_WKND_20/blob/master/kavyajeet/statistics/statistics_assignment.ipynb\" target=\"_parent\"><img src=\"https://colab.research.google.com/assets/colab-badge.svg\" alt=\"Open In Colab\"/></a>"
      ]
    },
    {
      "cell_type": "code",
      "metadata": {
        "id": "MCnOi8WMe5Gk"
      },
      "source": [
        "import numpy as np\r\n",
        "import pandas as pd\r\n",
        "import matplotlib.pyplot as plt\r\n",
        "import seaborn as sns\r\n",
        "from scipy.stats import skew, kurtosis, spearmanr"
      ],
      "execution_count": 17,
      "outputs": []
    },
    {
      "cell_type": "markdown",
      "metadata": {
        "id": "5p0TNSdEfyXY"
      },
      "source": [
        "## 1. Determine the central tendency of the below Population:\r\n",
        "\r\n",
        "-993, -23,18,-2,-6,98,45,32,-45,843,1024,-256\r\n"
      ]
    },
    {
      "cell_type": "code",
      "metadata": {
        "colab": {
          "base_uri": "https://localhost:8080/"
        },
        "id": "qhP9j-WnfLYV",
        "outputId": "a17d592a-fcd1-48f6-d370-5cb350f037f7"
      },
      "source": [
        "a = [-993, -23,18,-2,-6,98,45,32,-45,843,1024,-256]\r\n",
        "print(np.mean(a))"
      ],
      "execution_count": 18,
      "outputs": [
        {
          "output_type": "stream",
          "text": [
            "61.25\n"
          ],
          "name": "stdout"
        }
      ]
    },
    {
      "cell_type": "markdown",
      "metadata": {
        "id": "tBPsBKjhf-it"
      },
      "source": [
        "## 2. Calculate the Standard Deviation and Variance of the below sample :\r\n",
        "\r\n",
        "c\r\n"
      ]
    },
    {
      "cell_type": "code",
      "metadata": {
        "colab": {
          "base_uri": "https://localhost:8080/"
        },
        "id": "3RRZZlClgBs9",
        "outputId": "569d222f-a5e7-4eb8-d8b9-e22e4ebf605c"
      },
      "source": [
        "a = [-99, -2,18,-23,-61,1,982,45,32,-45]\r\n",
        "print(\"standard deviation:\", np.std(a,ddof=1))\r\n",
        "print(\"variance:\",np.var(a,ddof=1))"
      ],
      "execution_count": 19,
      "outputs": [
        {
          "output_type": "stream",
          "text": [
            "standard deviation: 318.30586268905296\n",
            "variance: 101318.62222222223\n"
          ],
          "name": "stdout"
        }
      ]
    },
    {
      "cell_type": "markdown",
      "metadata": {
        "id": "jRZV3JiHgTng"
      },
      "source": [
        "## 3. You have 8 numbers. The mean is 6. You add 5 to each number in the group. What is the new mean?\r\n",
        "\r\n"
      ]
    },
    {
      "cell_type": "code",
      "metadata": {
        "colab": {
          "base_uri": "https://localhost:8080/"
        },
        "id": "g74_4SU2gTIY",
        "outputId": "2705c8bf-fdaa-4c2e-e911-6e557bfbc3c9"
      },
      "source": [
        "6 + 5 "
      ],
      "execution_count": 20,
      "outputs": [
        {
          "output_type": "execute_result",
          "data": {
            "text/plain": [
              "11"
            ]
          },
          "metadata": {
            "tags": []
          },
          "execution_count": 20
        }
      ]
    },
    {
      "cell_type": "markdown",
      "metadata": {
        "id": "ICAMJ4XyiOrv"
      },
      "source": [
        "## 4. You have 15 numbers. The mean is 10, and the variance is 4. You multiply each number by 3. What is the new standard deviation?"
      ]
    },
    {
      "cell_type": "code",
      "metadata": {
        "colab": {
          "base_uri": "https://localhost:8080/"
        },
        "id": "Bcqye7egiMjw",
        "outputId": "4b959ba9-9ab2-4841-ee64-6719eab6e97d"
      },
      "source": [
        "print(\"The new standard deviation is:\", 3*2)"
      ],
      "execution_count": 21,
      "outputs": [
        {
          "output_type": "stream",
          "text": [
            "The new standard deviation is: 6\n"
          ],
          "name": "stdout"
        }
      ]
    },
    {
      "cell_type": "markdown",
      "metadata": {
        "id": "hEzNXXs6rTjW"
      },
      "source": [
        "## 5. Temperature of 5 cities are given, from the given values, what would be the mean and standard deviation of temperature in Celsius?\r\n",
        "\r\n",
        "(Hint: Celsius = 0.556F - 17.778)\r\n",
        "\r\n",
        "| City | Degrees Fahrenheit|\r\n",
        "|:----:|:-----------------:|\r\n",
        "|Delhi| 82 |\r\n",
        "|Bangalore| 77 |\r\n",
        "|Coorg | 41 |\r\n",
        "|Coimbatore | 78 |\r\n",
        "|Chennai | 84 |\r\n"
      ]
    },
    {
      "cell_type": "code",
      "metadata": {
        "colab": {
          "base_uri": "https://localhost:8080/",
          "height": 198
        },
        "id": "rl1Ojwhzrqxs",
        "outputId": "50334cb2-7ca0-4688-9e14-bb2c348da4ae"
      },
      "source": [
        "temps = {\"City\":[\"Delhi\",\"Bangalore\",\"Coorg\",\"Coimbatore\",\"Chennai\"], \"Temperature (F)\":[82,77,41,78,84]}\r\n",
        "df = pd.DataFrame(temps,columns=[\"City\", \"Temperature (F)\"])\r\n",
        "def celsius(F):\r\n",
        "    return 0.556*F - 17.778\r\n",
        "\r\n",
        "df"
      ],
      "execution_count": 22,
      "outputs": [
        {
          "output_type": "execute_result",
          "data": {
            "text/html": [
              "<div>\n",
              "<style scoped>\n",
              "    .dataframe tbody tr th:only-of-type {\n",
              "        vertical-align: middle;\n",
              "    }\n",
              "\n",
              "    .dataframe tbody tr th {\n",
              "        vertical-align: top;\n",
              "    }\n",
              "\n",
              "    .dataframe thead th {\n",
              "        text-align: right;\n",
              "    }\n",
              "</style>\n",
              "<table border=\"1\" class=\"dataframe\">\n",
              "  <thead>\n",
              "    <tr style=\"text-align: right;\">\n",
              "      <th></th>\n",
              "      <th>City</th>\n",
              "      <th>Temperature (F)</th>\n",
              "    </tr>\n",
              "  </thead>\n",
              "  <tbody>\n",
              "    <tr>\n",
              "      <th>0</th>\n",
              "      <td>Delhi</td>\n",
              "      <td>82</td>\n",
              "    </tr>\n",
              "    <tr>\n",
              "      <th>1</th>\n",
              "      <td>Bangalore</td>\n",
              "      <td>77</td>\n",
              "    </tr>\n",
              "    <tr>\n",
              "      <th>2</th>\n",
              "      <td>Coorg</td>\n",
              "      <td>41</td>\n",
              "    </tr>\n",
              "    <tr>\n",
              "      <th>3</th>\n",
              "      <td>Coimbatore</td>\n",
              "      <td>78</td>\n",
              "    </tr>\n",
              "    <tr>\n",
              "      <th>4</th>\n",
              "      <td>Chennai</td>\n",
              "      <td>84</td>\n",
              "    </tr>\n",
              "  </tbody>\n",
              "</table>\n",
              "</div>"
            ],
            "text/plain": [
              "         City  Temperature (F)\n",
              "0       Delhi               82\n",
              "1   Bangalore               77\n",
              "2       Coorg               41\n",
              "3  Coimbatore               78\n",
              "4     Chennai               84"
            ]
          },
          "metadata": {
            "tags": []
          },
          "execution_count": 22
        }
      ]
    },
    {
      "cell_type": "code",
      "metadata": {
        "colab": {
          "base_uri": "https://localhost:8080/",
          "height": 198
        },
        "id": "ff4916bbtWPK",
        "outputId": "5b812206-dff4-4480-b0c4-9c0327014707"
      },
      "source": [
        "df[\"Temperature (C)\"] = df['Temperature (F)'].apply(celsius)\r\n",
        "df"
      ],
      "execution_count": 23,
      "outputs": [
        {
          "output_type": "execute_result",
          "data": {
            "text/html": [
              "<div>\n",
              "<style scoped>\n",
              "    .dataframe tbody tr th:only-of-type {\n",
              "        vertical-align: middle;\n",
              "    }\n",
              "\n",
              "    .dataframe tbody tr th {\n",
              "        vertical-align: top;\n",
              "    }\n",
              "\n",
              "    .dataframe thead th {\n",
              "        text-align: right;\n",
              "    }\n",
              "</style>\n",
              "<table border=\"1\" class=\"dataframe\">\n",
              "  <thead>\n",
              "    <tr style=\"text-align: right;\">\n",
              "      <th></th>\n",
              "      <th>City</th>\n",
              "      <th>Temperature (F)</th>\n",
              "      <th>Temperature (C)</th>\n",
              "    </tr>\n",
              "  </thead>\n",
              "  <tbody>\n",
              "    <tr>\n",
              "      <th>0</th>\n",
              "      <td>Delhi</td>\n",
              "      <td>82</td>\n",
              "      <td>27.814</td>\n",
              "    </tr>\n",
              "    <tr>\n",
              "      <th>1</th>\n",
              "      <td>Bangalore</td>\n",
              "      <td>77</td>\n",
              "      <td>25.034</td>\n",
              "    </tr>\n",
              "    <tr>\n",
              "      <th>2</th>\n",
              "      <td>Coorg</td>\n",
              "      <td>41</td>\n",
              "      <td>5.018</td>\n",
              "    </tr>\n",
              "    <tr>\n",
              "      <th>3</th>\n",
              "      <td>Coimbatore</td>\n",
              "      <td>78</td>\n",
              "      <td>25.590</td>\n",
              "    </tr>\n",
              "    <tr>\n",
              "      <th>4</th>\n",
              "      <td>Chennai</td>\n",
              "      <td>84</td>\n",
              "      <td>28.926</td>\n",
              "    </tr>\n",
              "  </tbody>\n",
              "</table>\n",
              "</div>"
            ],
            "text/plain": [
              "         City  Temperature (F)  Temperature (C)\n",
              "0       Delhi               82           27.814\n",
              "1   Bangalore               77           25.034\n",
              "2       Coorg               41            5.018\n",
              "3  Coimbatore               78           25.590\n",
              "4     Chennai               84           28.926"
            ]
          },
          "metadata": {
            "tags": []
          },
          "execution_count": 23
        }
      ]
    },
    {
      "cell_type": "code",
      "metadata": {
        "colab": {
          "base_uri": "https://localhost:8080/"
        },
        "id": "XqMVU36zttl6",
        "outputId": "d617c2a0-44a0-4abf-fb41-6568bf973742"
      },
      "source": [
        "print(\"Mean of the temperature in celsius:\", np.mean(df[\"Temperature (C)\"]))\r\n",
        "print(\"Standard deviation of the temperature in celsius:\",np.std(df[\"Temperature (C)\"]))"
      ],
      "execution_count": 24,
      "outputs": [
        {
          "output_type": "stream",
          "text": [
            "Mean of the temperature in celsius: 22.476400000000005\n",
            "Standard deviation of the temperature in celsius: 8.84442046942591\n"
          ],
          "name": "stdout"
        }
      ]
    },
    {
      "cell_type": "markdown",
      "metadata": {
        "id": "s4NlZf9IuJFw"
      },
      "source": [
        "## 5. Construct a boxplot for the following data set.\r\n",
        "\r\n",
        "3, 5, 8, 8, 9, 11, 12, 12, 13, 13, 163,5,8,8,9,11,12,12,13,13,16\r\n"
      ]
    },
    {
      "cell_type": "code",
      "metadata": {
        "colab": {
          "base_uri": "https://localhost:8080/",
          "height": 321
        },
        "id": "rnyHEN53uLa4",
        "outputId": "58c171b8-5f33-4329-e738-766756439764"
      },
      "source": [
        "a = [3, 5, 8, 8, 9, 11, 12, 12, 13, 13, 163,5,8,8,9,11,12,12,13,13,16]\r\n",
        "sns.boxplot(a)\r\n",
        "plt.show()"
      ],
      "execution_count": 25,
      "outputs": [
        {
          "output_type": "stream",
          "text": [
            "/usr/local/lib/python3.6/dist-packages/seaborn/_decorators.py:43: FutureWarning: Pass the following variable as a keyword arg: x. From version 0.12, the only valid positional argument will be `data`, and passing other arguments without an explicit keyword will result in an error or misinterpretation.\n",
            "  FutureWarning\n"
          ],
          "name": "stderr"
        },
        {
          "output_type": "display_data",
          "data": {
            "image/png": "[encoded data removed]",
            "text/plain": [
              "<Figure size 432x288 with 1 Axes>"
            ]
          },
          "metadata": {
            "tags": [],
            "needs_background": "light"
          }
        }
      ]
    },
    {
      "cell_type": "markdown",
      "metadata": {
        "id": "CE-ze8BYkHvR"
      },
      "source": [
        "Contains an outlier 163 which can be clearly seen in the above plot."
      ]
    },
    {
      "cell_type": "markdown",
      "metadata": {
        "id": "NvYt8RJruXw4"
      },
      "source": [
        "##7. Consider below dataset, calculate the skewness and then tell if it is left skewed or right skewed?\r\n",
        "\r\n",
        "12,   13,   54,   56 ,  25\r\n"
      ]
    },
    {
      "cell_type": "code",
      "metadata": {
        "colab": {
          "base_uri": "https://localhost:8080/"
        },
        "id": "tzZmDVUEudGK",
        "outputId": "9b2fd849-0b1b-4a0c-dca3-7161db644ef6"
      },
      "source": [
        "skew([12, 13, 54, 56 , 25])"
      ],
      "execution_count": 26,
      "outputs": [
        {
          "output_type": "execute_result",
          "data": {
            "text/plain": [
              "0.2563317051472635"
            ]
          },
          "metadata": {
            "tags": []
          },
          "execution_count": 26
        }
      ]
    },
    {
      "cell_type": "markdown",
      "metadata": {
        "id": "PtmIlgasu6pl"
      },
      "source": [
        "The given data is positively skewed or the distribution leans towards the left similar to the blue plot in the image below:\r\n",
        "\r\n",
        "![skewness](https://www.allaboutcircuits.com/uploads/articles/understanding-the-normal-distribution-parametric-tests-skewness-and-kurtosis-rk-aac-image2.jpg)\r\n"
      ]
    },
    {
      "cell_type": "markdown",
      "metadata": {
        "id": "sW_LEJAyvAmV"
      },
      "source": [
        "## 8. Determine the excess-kurtosis of the below dataset and then categorize it according to the type of kurtosis it is and give its characteristics.\r\n",
        "\r\n",
        "12,   13,   54,   56 ,  25\r\n"
      ]
    },
    {
      "cell_type": "code",
      "metadata": {
        "colab": {
          "base_uri": "https://localhost:8080/"
        },
        "id": "USRLTBIsvAIZ",
        "outputId": "35710a90-b578-405b-b624-d5f036bfbbee"
      },
      "source": [
        "b = [12,   13,   54,   56 ,  25]\r\n",
        "print(kurtosis(b))"
      ],
      "execution_count": 27,
      "outputs": [
        {
          "output_type": "stream",
          "text": [
            "-1.7721210214761647\n"
          ],
          "name": "stdout"
        }
      ]
    },
    {
      "cell_type": "markdown",
      "metadata": {
        "id": "DU1M-SPq3HbA"
      },
      "source": [
        "A high positive value indicates a peaked, or leptokurtic, curve. A high negative value indicates a flattened, or Platykurtic, curve.\r\n",
        "\r\n",
        "![](https://www.researchgate.net/profile/Yang_Wu42/publication/303770982/figure/fig6/AS:613520190214153@1523286020558/Leptokurtic-or-platykurtic-degree-difference-of-curves-with-different-kurtosis.png)\r\n",
        "\r\n",
        "In this case the kurtosis value is less than zero indicating **flattened curve**. This indicates that there is *more probability mass in the tails than a normal distribution*. Or in other words a distribution with a negative kurtosis value indicates that the distribution has **lighter tails than the normal distribution**.\r\n",
        "\r\n",
        "\r\n",
        "\r\n"
      ]
    },
    {
      "cell_type": "markdown",
      "metadata": {
        "id": "60hP9h_FbVa5"
      },
      "source": [
        "##9. Determine the outliers in the below dataset using IQR formula.\r\n",
        "1, 99, 100, 101, 103, 109, 110, 201\r\n"
      ]
    },
    {
      "cell_type": "code",
      "metadata": {
        "colab": {
          "base_uri": "https://localhost:8080/"
        },
        "id": "2N78Wg-_bvwd",
        "outputId": "120bfe0f-c463-4f21-b4ab-b38ad0de6ed9"
      },
      "source": [
        "b = [1, 99, 100, 101, 103, 109, 110, 201]\r\n",
        "q1,q2 = np.percentile(b, [25,75])\r\n",
        "iqr = q2-q1\r\n",
        "print(\"interquartile range of the given data is:\",iqr)"
      ],
      "execution_count": 28,
      "outputs": [
        {
          "output_type": "stream",
          "text": [
            "interquartile range of the given data is: 9.5\n"
          ],
          "name": "stdout"
        }
      ]
    },
    {
      "cell_type": "markdown",
      "metadata": {
        "id": "3DEdfwpIb89X"
      },
      "source": [
        "## 10. Determine the outlier in the below dataset using Z-score.\r\n",
        "\r\n",
        "\r\n",
        "![link text](https://cdn-images-1.medium.com/max/800/0*2NlsLGlMtgtII_hN.)\r\n",
        "\r\n",
        "Considering z_score of 3 as outlier from the above figure\r\n",
        "\r\n",
        "\r\n",
        "       \r\n",
        "\r\n"
      ]
    },
    {
      "cell_type": "code",
      "metadata": {
        "colab": {
          "base_uri": "https://localhost:8080/"
        },
        "id": "tLDDOX83b_-g",
        "outputId": "d800e8d9-c920-4849-d3d3-63bd74123904"
      },
      "source": [
        "z = np.array([1.5895, 1.6508, 1.7131, 1.7136,1.7212, 1.7296, 1.7343, 1.7663, 1.8018, 1.8394, 1.8869, 1.9357, 1.9482, 2.1038, 10.8135, -0.0012])\r\n",
        "print(z[abs(z)>=3])"
      ],
      "execution_count": 29,
      "outputs": [
        {
          "output_type": "stream",
          "text": [
            "[10.8135]\n"
          ],
          "name": "stdout"
        }
      ]
    },
    {
      "cell_type": "markdown",
      "metadata": {
        "id": "wx9mWWrXcpga"
      },
      "source": [
        "## 11. Below is the mark obtained by some students. Construct a bar chart for it:"
      ]
    },
    {
      "cell_type": "code",
      "metadata": {
        "colab": {
          "base_uri": "https://localhost:8080/",
          "height": 198
        },
        "id": "qzBpZsZgcuyp",
        "outputId": "a8e9aa6d-6101-4df1-e1f1-9c327b5a9ac1"
      },
      "source": [
        "a = {\"name\":[\"Rohan\",\"Bhavya\",\"Sri\",\"Riteish\",\"Neha\"], \"Marks\":[83,72,96,37,64]}\r\n",
        "data = pd.DataFrame(a)\r\n",
        "data"
      ],
      "execution_count": 30,
      "outputs": [
        {
          "output_type": "execute_result",
          "data": {
            "text/html": [
              "<div>\n",
              "<style scoped>\n",
              "    .dataframe tbody tr th:only-of-type {\n",
              "        vertical-align: middle;\n",
              "    }\n",
              "\n",
              "    .dataframe tbody tr th {\n",
              "        vertical-align: top;\n",
              "    }\n",
              "\n",
              "    .dataframe thead th {\n",
              "        text-align: right;\n",
              "    }\n",
              "</style>\n",
              "<table border=\"1\" class=\"dataframe\">\n",
              "  <thead>\n",
              "    <tr style=\"text-align: right;\">\n",
              "      <th></th>\n",
              "      <th>name</th>\n",
              "      <th>Marks</th>\n",
              "    </tr>\n",
              "  </thead>\n",
              "  <tbody>\n",
              "    <tr>\n",
              "      <th>0</th>\n",
              "      <td>Rohan</td>\n",
              "      <td>83</td>\n",
              "    </tr>\n",
              "    <tr>\n",
              "      <th>1</th>\n",
              "      <td>Bhavya</td>\n",
              "      <td>72</td>\n",
              "    </tr>\n",
              "    <tr>\n",
              "      <th>2</th>\n",
              "      <td>Sri</td>\n",
              "      <td>96</td>\n",
              "    </tr>\n",
              "    <tr>\n",
              "      <th>3</th>\n",
              "      <td>Riteish</td>\n",
              "      <td>37</td>\n",
              "    </tr>\n",
              "    <tr>\n",
              "      <th>4</th>\n",
              "      <td>Neha</td>\n",
              "      <td>64</td>\n",
              "    </tr>\n",
              "  </tbody>\n",
              "</table>\n",
              "</div>"
            ],
            "text/plain": [
              "      name  Marks\n",
              "0    Rohan     83\n",
              "1   Bhavya     72\n",
              "2      Sri     96\n",
              "3  Riteish     37\n",
              "4     Neha     64"
            ]
          },
          "metadata": {
            "tags": []
          },
          "execution_count": 30
        }
      ]
    },
    {
      "cell_type": "code",
      "metadata": {
        "colab": {
          "base_uri": "https://localhost:8080/",
          "height": 295
        },
        "id": "Mb4o_QpzdFrJ",
        "outputId": "69991c3f-500f-401d-a776-309e8eb1b8a5"
      },
      "source": [
        "sns.barplot(x=\"name\",y=\"Marks\",data=data)\r\n",
        "plt.title(\"Student's marks\")\r\n",
        "plt.show()"
      ],
      "execution_count": 31,
      "outputs": [
        {
          "output_type": "display_data",
          "data": {
            "image/png": "[encoded data removed]",
            "text/plain": [
              "<Figure size 432x288 with 1 Axes>"
            ]
          },
          "metadata": {
            "tags": [],
            "needs_background": "light"
          }
        }
      ]
    },
    {
      "cell_type": "markdown",
      "metadata": {
        "id": "I4pF4ILOdO_s"
      },
      "source": [
        "## 12. Covariance\r\n",
        "\r\n",
        "Below are some observations obtained from a hospital and shows glucose level of some patients. Check the correlation of the variables and then tell if it has positive, negative or no relation between them. Calculate co-variance and also plot a scatter-plot to see the relation visually.\r\n",
        "\r\n",
        "**Covariance** is a statistical tool that is used to determine the relationship between the movement of two variables\r\n",
        "\r\n",
        "it is denoted by:\r\n",
        "\r\n",
        "$cov_{x,y} = \\frac{\\sum(x_i-\\bar{x})(y_i-\\bar{y})}{N-1}$\r\n",
        "\r\n",
        "when two variables are propotionate then they show a positive covariance value and vice versa.\r\n"
      ]
    },
    {
      "cell_type": "code",
      "metadata": {
        "id": "wb6PrTmwdsjf"
      },
      "source": [
        "def covariance(x,y):\r\n",
        "    '''\r\n",
        "    Returns the covariance between two given variables\r\n",
        "    '''\r\n",
        "    if (len(x)==len(y)) and (len(x)>1 and len(y)>1):\r\n",
        "        xm = np.mean(x)\r\n",
        "        ym = np.mean(y)\r\n",
        "        sum = 0\r\n",
        "        for i in range(len(x)):\r\n",
        "            sum += (x[i]-xm)*(y[i]-ym)\r\n",
        "        return sum/(len(x)-1)\r\n",
        "    else:\r\n",
        "        return None"
      ],
      "execution_count": 32,
      "outputs": []
    },
    {
      "cell_type": "code",
      "metadata": {
        "colab": {
          "base_uri": "https://localhost:8080/",
          "height": 228
        },
        "id": "qWeTWhBIedMM",
        "outputId": "eb3a1ae5-f6dc-430b-a6d4-bf62b6c87f97"
      },
      "source": [
        "a = {\"patient\":[\"A\",\"B\",\"C\",\"D\",\"E\",\"F\"], \"Age (years)\":[46,24,28,42,59,48], \"Glucose Level\":[99,65,78,79,89,82]}\r\n",
        "df = pd.DataFrame(a)\r\n",
        "df"
      ],
      "execution_count": 33,
      "outputs": [
        {
          "output_type": "execute_result",
          "data": {
            "text/html": [
              "<div>\n",
              "<style scoped>\n",
              "    .dataframe tbody tr th:only-of-type {\n",
              "        vertical-align: middle;\n",
              "    }\n",
              "\n",
              "    .dataframe tbody tr th {\n",
              "        vertical-align: top;\n",
              "    }\n",
              "\n",
              "    .dataframe thead th {\n",
              "        text-align: right;\n",
              "    }\n",
              "</style>\n",
              "<table border=\"1\" class=\"dataframe\">\n",
              "  <thead>\n",
              "    <tr style=\"text-align: right;\">\n",
              "      <th></th>\n",
              "      <th>patient</th>\n",
              "      <th>Age (years)</th>\n",
              "      <th>Glucose Level</th>\n",
              "    </tr>\n",
              "  </thead>\n",
              "  <tbody>\n",
              "    <tr>\n",
              "      <th>0</th>\n",
              "      <td>A</td>\n",
              "      <td>46</td>\n",
              "      <td>99</td>\n",
              "    </tr>\n",
              "    <tr>\n",
              "      <th>1</th>\n",
              "      <td>B</td>\n",
              "      <td>24</td>\n",
              "      <td>65</td>\n",
              "    </tr>\n",
              "    <tr>\n",
              "      <th>2</th>\n",
              "      <td>C</td>\n",
              "      <td>28</td>\n",
              "      <td>78</td>\n",
              "    </tr>\n",
              "    <tr>\n",
              "      <th>3</th>\n",
              "      <td>D</td>\n",
              "      <td>42</td>\n",
              "      <td>79</td>\n",
              "    </tr>\n",
              "    <tr>\n",
              "      <th>4</th>\n",
              "      <td>E</td>\n",
              "      <td>59</td>\n",
              "      <td>89</td>\n",
              "    </tr>\n",
              "    <tr>\n",
              "      <th>5</th>\n",
              "      <td>F</td>\n",
              "      <td>48</td>\n",
              "      <td>82</td>\n",
              "    </tr>\n",
              "  </tbody>\n",
              "</table>\n",
              "</div>"
            ],
            "text/plain": [
              "  patient  Age (years)  Glucose Level\n",
              "0       A           46             99\n",
              "1       B           24             65\n",
              "2       C           28             78\n",
              "3       D           42             79\n",
              "4       E           59             89\n",
              "5       F           48             82"
            ]
          },
          "metadata": {
            "tags": []
          },
          "execution_count": 33
        }
      ]
    },
    {
      "cell_type": "code",
      "metadata": {
        "colab": {
          "base_uri": "https://localhost:8080/"
        },
        "id": "k67X4cYQeyJ6",
        "outputId": "db7d8df7-eaf5-4dcb-b262-ed8e18d88882"
      },
      "source": [
        "covariance(df['Age (years)'], df[\"Glucose Level\"])"
      ],
      "execution_count": 34,
      "outputs": [
        {
          "output_type": "execute_result",
          "data": {
            "text/plain": [
              "109.8"
            ]
          },
          "metadata": {
            "tags": []
          },
          "execution_count": 34
        }
      ]
    },
    {
      "cell_type": "markdown",
      "metadata": {
        "id": "n-3b4e2Ie9q-"
      },
      "source": [
        "Since the covariance is positive value, this indicates that Age and Glucose level have a direct proportionality relationship. \r\n",
        "\r\n",
        "We can visualize this relation in scatterplot between the two variables:\r\n"
      ]
    },
    {
      "cell_type": "code",
      "metadata": {
        "id": "le3oZIClfPtY",
        "colab": {
          "base_uri": "https://localhost:8080/",
          "height": 295
        },
        "outputId": "7ba1e5bf-139c-49ff-a14c-4fc505fc0b89"
      },
      "source": [
        "sns.scatterplot(x=\"Age (years)\", y=\"Glucose Level\", data=df)\r\n",
        "plt.title(\"Age (years) vs Glucose Level\")\r\n",
        "plt.show()"
      ],
      "execution_count": 35,
      "outputs": [
        {
          "output_type": "display_data",
          "data": {
            "image/png": "[encoded data removed]",
            "text/plain": [
              "<Figure size 432x288 with 1 Axes>"
            ]
          },
          "metadata": {
            "tags": [],
            "needs_background": "light"
          }
        }
      ]
    },
    {
      "cell_type": "markdown",
      "metadata": {
        "id": "pleXNfaBffBS"
      },
      "source": [
        "## 13.  Correlation\r\n",
        "\r\n",
        "Try to find out if there is any correlation between Physical Activity and Blood Pressure. Calculate Spearman Rank Correlation."
      ]
    },
    {
      "cell_type": "code",
      "metadata": {
        "colab": {
          "base_uri": "https://localhost:8080/",
          "height": 348
        },
        "id": "Q28tELCWgapJ",
        "outputId": "928f7d44-58d5-484d-8f95-72d49bb89688"
      },
      "source": [
        "a = {\"Name\":[\"Alan\",\"Carl\",\"David\",\"Don\",\"John\",\"Matt\",\"Mike\",\"Neal\",\"Rick\",\"Rob\"], \r\n",
        "     \"Physical activity (min)\":[60,55,25,50,40,45,35,10,30,20], \r\n",
        "     \"Blood pressure (mm Hg)\":[118,117,120,121,119,122,123,124,125,126]}\r\n",
        "df = pd.DataFrame(a)\r\n",
        "df"
      ],
      "execution_count": 36,
      "outputs": [
        {
          "output_type": "execute_result",
          "data": {
            "text/html": [
              "<div>\n",
              "<style scoped>\n",
              "    .dataframe tbody tr th:only-of-type {\n",
              "        vertical-align: middle;\n",
              "    }\n",
              "\n",
              "    .dataframe tbody tr th {\n",
              "        vertical-align: top;\n",
              "    }\n",
              "\n",
              "    .dataframe thead th {\n",
              "        text-align: right;\n",
              "    }\n",
              "</style>\n",
              "<table border=\"1\" class=\"dataframe\">\n",
              "  <thead>\n",
              "    <tr style=\"text-align: right;\">\n",
              "      <th></th>\n",
              "      <th>Name</th>\n",
              "      <th>Physical activity (min)</th>\n",
              "      <th>Blood pressure (mm Hg)</th>\n",
              "    </tr>\n",
              "  </thead>\n",
              "  <tbody>\n",
              "    <tr>\n",
              "      <th>0</th>\n",
              "      <td>Alan</td>\n",
              "      <td>60</td>\n",
              "      <td>118</td>\n",
              "    </tr>\n",
              "    <tr>\n",
              "      <th>1</th>\n",
              "      <td>Carl</td>\n",
              "      <td>55</td>\n",
              "      <td>117</td>\n",
              "    </tr>\n",
              "    <tr>\n",
              "      <th>2</th>\n",
              "      <td>David</td>\n",
              "      <td>25</td>\n",
              "      <td>120</td>\n",
              "    </tr>\n",
              "    <tr>\n",
              "      <th>3</th>\n",
              "      <td>Don</td>\n",
              "      <td>50</td>\n",
              "      <td>121</td>\n",
              "    </tr>\n",
              "    <tr>\n",
              "      <th>4</th>\n",
              "      <td>John</td>\n",
              "      <td>40</td>\n",
              "      <td>119</td>\n",
              "    </tr>\n",
              "    <tr>\n",
              "      <th>5</th>\n",
              "      <td>Matt</td>\n",
              "      <td>45</td>\n",
              "      <td>122</td>\n",
              "    </tr>\n",
              "    <tr>\n",
              "      <th>6</th>\n",
              "      <td>Mike</td>\n",
              "      <td>35</td>\n",
              "      <td>123</td>\n",
              "    </tr>\n",
              "    <tr>\n",
              "      <th>7</th>\n",
              "      <td>Neal</td>\n",
              "      <td>10</td>\n",
              "      <td>124</td>\n",
              "    </tr>\n",
              "    <tr>\n",
              "      <th>8</th>\n",
              "      <td>Rick</td>\n",
              "      <td>30</td>\n",
              "      <td>125</td>\n",
              "    </tr>\n",
              "    <tr>\n",
              "      <th>9</th>\n",
              "      <td>Rob</td>\n",
              "      <td>20</td>\n",
              "      <td>126</td>\n",
              "    </tr>\n",
              "  </tbody>\n",
              "</table>\n",
              "</div>"
            ],
            "text/plain": [
              "    Name  Physical activity (min)  Blood pressure (mm Hg)\n",
              "0   Alan                       60                     118\n",
              "1   Carl                       55                     117\n",
              "2  David                       25                     120\n",
              "3    Don                       50                     121\n",
              "4   John                       40                     119\n",
              "5   Matt                       45                     122\n",
              "6   Mike                       35                     123\n",
              "7   Neal                       10                     124\n",
              "8   Rick                       30                     125\n",
              "9    Rob                       20                     126"
            ]
          },
          "metadata": {
            "tags": []
          },
          "execution_count": 36
        }
      ]
    },
    {
      "cell_type": "code",
      "metadata": {
        "colab": {
          "base_uri": "https://localhost:8080/"
        },
        "id": "opH-QTsNg9_P",
        "outputId": "b77e86f9-40a2-4aab-a6eb-cceea847a3ad"
      },
      "source": [
        "spearmanr(a=df['Physical activity (min)'], b=df['Blood pressure (mm Hg)'])"
      ],
      "execution_count": 38,
      "outputs": [
        {
          "output_type": "execute_result",
          "data": {
            "text/plain": [
              "SpearmanrResult(correlation=-0.7575757575757575, pvalue=0.011143446799694208)"
            ]
          },
          "metadata": {
            "tags": []
          },
          "execution_count": 38
        }
      ]
    },
    {
      "cell_type": "code",
      "metadata": {
        "colab": {
          "base_uri": "https://localhost:8080/",
          "height": 279
        },
        "id": "VXDlll_OhSlK",
        "outputId": "845a8717-3bad-4a5b-ee5e-d4e7761ec184"
      },
      "source": [
        "sns.scatterplot(x='Physical activity (min)', y=\"Blood pressure (mm Hg)\", data=df)\r\n",
        "plt.title('Physical activity vs Blood pressure\")\r\n",
        "plt.show()"
      ],
      "execution_count": 39,
      "outputs": [
        {
          "output_type": "display_data",
          "data": {
            "image/png": "[encoded data removed]",
            "text/plain": [
              "<Figure size 432x288 with 1 Axes>"
            ]
          },
          "metadata": {
            "tags": [],
            "needs_background": "light"
          }
        }
      ]
    },
    {
      "cell_type": "markdown",
      "metadata": {
        "id": "ChvBc3JLhj79"
      },
      "source": [
        "Shows a negative spearman correlation, indicating that there is a negative relation between the two. \r\n",
        "\r\n",
        "Also the correlation value is 0.75 stating there is a **strong negative correlation** as per the image below:\r\n",
        "\r\n",
        "![correlation](https://www.mathsisfun.com/data/images/correlation-examples.svg)"
      ]
    }
  ]
}
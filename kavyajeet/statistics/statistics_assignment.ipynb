{
  "nbformat": 4,
  "nbformat_minor": 0,
  "metadata": {
    "colab": {
      "name": "statistics_assignment.ipynb",
      "provenance": [],
      "authorship_tag": "ABX9TyO/ePeiMa4e89cxS8KERFth",
      "include_colab_link": true
    },
    "kernelspec": {
      "name": "python3",
      "display_name": "Python 3"
    }
  },
  "cells": [
    {
      "cell_type": "markdown",
      "metadata": {
        "id": "view-in-github",
        "colab_type": "text"
      },
      "source": [
        "<a href=\"https://colab.research.google.com/github/kavyajeetbora/LB_DSC_SEPT_WKND_20/blob/master/kavyajeet/statistics/statistics_assignment.ipynb\" target=\"_parent\"><img src=\"https://colab.research.google.com/assets/colab-badge.svg\" alt=\"Open In Colab\"/></a>"
      ]
    },
    {
      "cell_type": "code",
      "metadata": {
        "id": "MCnOi8WMe5Gk"
      },
      "source": [
        "import numpy as np\r\n",
        "import pandas as pd\r\n",
        "import matplotlib.pyplot as plt\r\n",
        "import seaborn as sns\r\n",
        "from scipy.stats import skew, kurtosis, spearmanr"
      ],
      "execution_count": 1,
      "outputs": []
    },
    {
      "cell_type": "markdown",
      "metadata": {
        "id": "5p0TNSdEfyXY"
      },
      "source": [
        "## 1. Determine the central tendency of the below Population:\r\n",
        "\r\n",
        "-993, -23,18,-2,-6,98,45,32,-45,843,1024,-256\r\n"
      ]
    },
    {
      "cell_type": "code",
      "metadata": {
        "colab": {
          "base_uri": "https://localhost:8080/"
        },
        "id": "qhP9j-WnfLYV",
        "outputId": "67723ec0-cfe6-4415-b1f7-5a99dfb76685"
      },
      "source": [
        "a = [-993, -23,18,-2,-6,98,45,32,-45,843,1024,-256]\r\n",
        "print(np.mean(a))"
      ],
      "execution_count": null,
      "outputs": [
        {
          "output_type": "stream",
          "text": [
            "61.25\n"
          ],
          "name": "stdout"
        }
      ]
    },
    {
      "cell_type": "markdown",
      "metadata": {
        "id": "tBPsBKjhf-it"
      },
      "source": [
        "## 2. Calculate the Standard Deviation and Variance of the below sample :\r\n",
        "\r\n",
        "c\r\n"
      ]
    },
    {
      "cell_type": "code",
      "metadata": {
        "colab": {
          "base_uri": "https://localhost:8080/"
        },
        "id": "3RRZZlClgBs9",
        "outputId": "eee135df-737c-44dd-e603-094015770f3b"
      },
      "source": [
        "a = [-99, -2,18,-23,-61,1,982,45,32,-45]\r\n",
        "print(\"standard deviation:\", np.std(a,ddof=1))\r\n",
        "print(\"variance:\",np.var(a,ddof=1))"
      ],
      "execution_count": null,
      "outputs": [
        {
          "output_type": "stream",
          "text": [
            "standard deviation: 318.30586268905296\n",
            "variance: 101318.62222222223\n"
          ],
          "name": "stdout"
        }
      ]
    },
    {
      "cell_type": "markdown",
      "metadata": {
        "id": "jRZV3JiHgTng"
      },
      "source": [
        "## 3. You have 8 numbers. The mean is 6. You add 5 to each number in the group. What is the new mean?\r\n",
        "\r\n"
      ]
    },
    {
      "cell_type": "code",
      "metadata": {
        "colab": {
          "base_uri": "https://localhost:8080/"
        },
        "id": "g74_4SU2gTIY",
        "outputId": "192a83a2-a5f0-4979-cfb2-453d962b1446"
      },
      "source": [
        "6 + 5 "
      ],
      "execution_count": null,
      "outputs": [
        {
          "output_type": "execute_result",
          "data": {
            "text/plain": [
              "11"
            ]
          },
          "metadata": {
            "tags": []
          },
          "execution_count": 11
        }
      ]
    },
    {
      "cell_type": "markdown",
      "metadata": {
        "id": "ICAMJ4XyiOrv"
      },
      "source": [
        "## 4. You have 15 numbers. The mean is 10, and the variance is 4. You multiply each number by 3. What is the new standard deviation?"
      ]
    },
    {
      "cell_type": "code",
      "metadata": {
        "colab": {
          "base_uri": "https://localhost:8080/"
        },
        "id": "Bcqye7egiMjw",
        "outputId": "5bc2db21-0d11-4196-9b6e-ce8bb398ad80"
      },
      "source": [
        "print(\"The new standard deviation is:\", 3*2)"
      ],
      "execution_count": null,
      "outputs": [
        {
          "output_type": "stream",
          "text": [
            "The new standard deviation is: 6\n"
          ],
          "name": "stdout"
        }
      ]
    },
    {
      "cell_type": "markdown",
      "metadata": {
        "id": "hEzNXXs6rTjW"
      },
      "source": [
        "## 5. Temperature of 5 cities are given, from the given values, what would be the mean and standard deviation of temperature in Celsius?\r\n",
        "\r\n",
        "(Hint: Celsius = 0.556F - 17.778)\r\n",
        "\r\n",
        "| City | Degrees Fahrenheit|\r\n",
        "|:----:|:-----------------:|\r\n",
        "|Delhi| 82 |\r\n",
        "|Bangalore| 77 |\r\n",
        "|Coorg | 41 |\r\n",
        "|Coimbatore | 78 |\r\n",
        "|Chennai | 84 |\r\n"
      ]
    },
    {
      "cell_type": "code",
      "metadata": {
        "colab": {
          "base_uri": "https://localhost:8080/",
          "height": 198
        },
        "id": "rl1Ojwhzrqxs",
        "outputId": "a2b670f2-697f-44a1-8501-eef7e21e8d62"
      },
      "source": [
        "temps = {\"City\":[\"Delhi\",\"Bangalore\",\"Coorg\",\"Coimbatore\",\"Chennai\"], \"Temperature (F)\":[82,77,41,78,84]}\r\n",
        "df = pd.DataFrame(temps,columns=[\"City\", \"Temperature (F)\"])\r\n",
        "def celsius(F):\r\n",
        "    return 0.556*F - 17.778\r\n",
        "\r\n",
        "df"
      ],
      "execution_count": null,
      "outputs": [
        {
          "output_type": "execute_result",
          "data": {
            "text/html": [
              "<div>\n",
              "<style scoped>\n",
              "    .dataframe tbody tr th:only-of-type {\n",
              "        vertical-align: middle;\n",
              "    }\n",
              "\n",
              "    .dataframe tbody tr th {\n",
              "        vertical-align: top;\n",
              "    }\n",
              "\n",
              "    .dataframe thead th {\n",
              "        text-align: right;\n",
              "    }\n",
              "</style>\n",
              "<table border=\"1\" class=\"dataframe\">\n",
              "  <thead>\n",
              "    <tr style=\"text-align: right;\">\n",
              "      <th></th>\n",
              "      <th>City</th>\n",
              "      <th>Temperature (F)</th>\n",
              "    </tr>\n",
              "  </thead>\n",
              "  <tbody>\n",
              "    <tr>\n",
              "      <th>0</th>\n",
              "      <td>Delhi</td>\n",
              "      <td>82</td>\n",
              "    </tr>\n",
              "    <tr>\n",
              "      <th>1</th>\n",
              "      <td>Bangalore</td>\n",
              "      <td>77</td>\n",
              "    </tr>\n",
              "    <tr>\n",
              "      <th>2</th>\n",
              "      <td>Coorg</td>\n",
              "      <td>41</td>\n",
              "    </tr>\n",
              "    <tr>\n",
              "      <th>3</th>\n",
              "      <td>Coimbatore</td>\n",
              "      <td>78</td>\n",
              "    </tr>\n",
              "    <tr>\n",
              "      <th>4</th>\n",
              "      <td>Chennai</td>\n",
              "      <td>84</td>\n",
              "    </tr>\n",
              "  </tbody>\n",
              "</table>\n",
              "</div>"
            ],
            "text/plain": [
              "         City  Temperature (F)\n",
              "0       Delhi               82\n",
              "1   Bangalore               77\n",
              "2       Coorg               41\n",
              "3  Coimbatore               78\n",
              "4     Chennai               84"
            ]
          },
          "metadata": {
            "tags": []
          },
          "execution_count": 17
        }
      ]
    },
    {
      "cell_type": "code",
      "metadata": {
        "colab": {
          "base_uri": "https://localhost:8080/",
          "height": 198
        },
        "id": "ff4916bbtWPK",
        "outputId": "281e0697-fc73-480a-800e-f9fe12461b3a"
      },
      "source": [
        "df[\"Temperature (C)\"] = df['Temperature (F)'].apply(celsius)\r\n",
        "df"
      ],
      "execution_count": null,
      "outputs": [
        {
          "output_type": "execute_result",
          "data": {
            "text/html": [
              "<div>\n",
              "<style scoped>\n",
              "    .dataframe tbody tr th:only-of-type {\n",
              "        vertical-align: middle;\n",
              "    }\n",
              "\n",
              "    .dataframe tbody tr th {\n",
              "        vertical-align: top;\n",
              "    }\n",
              "\n",
              "    .dataframe thead th {\n",
              "        text-align: right;\n",
              "    }\n",
              "</style>\n",
              "<table border=\"1\" class=\"dataframe\">\n",
              "  <thead>\n",
              "    <tr style=\"text-align: right;\">\n",
              "      <th></th>\n",
              "      <th>City</th>\n",
              "      <th>Temperature (F)</th>\n",
              "      <th>Temperature (C)</th>\n",
              "    </tr>\n",
              "  </thead>\n",
              "  <tbody>\n",
              "    <tr>\n",
              "      <th>0</th>\n",
              "      <td>Delhi</td>\n",
              "      <td>82</td>\n",
              "      <td>27.814</td>\n",
              "    </tr>\n",
              "    <tr>\n",
              "      <th>1</th>\n",
              "      <td>Bangalore</td>\n",
              "      <td>77</td>\n",
              "      <td>25.034</td>\n",
              "    </tr>\n",
              "    <tr>\n",
              "      <th>2</th>\n",
              "      <td>Coorg</td>\n",
              "      <td>41</td>\n",
              "      <td>5.018</td>\n",
              "    </tr>\n",
              "    <tr>\n",
              "      <th>3</th>\n",
              "      <td>Coimbatore</td>\n",
              "      <td>78</td>\n",
              "      <td>25.590</td>\n",
              "    </tr>\n",
              "    <tr>\n",
              "      <th>4</th>\n",
              "      <td>Chennai</td>\n",
              "      <td>84</td>\n",
              "      <td>28.926</td>\n",
              "    </tr>\n",
              "  </tbody>\n",
              "</table>\n",
              "</div>"
            ],
            "text/plain": [
              "         City  Temperature (F)  Temperature (C)\n",
              "0       Delhi               82           27.814\n",
              "1   Bangalore               77           25.034\n",
              "2       Coorg               41            5.018\n",
              "3  Coimbatore               78           25.590\n",
              "4     Chennai               84           28.926"
            ]
          },
          "metadata": {
            "tags": []
          },
          "execution_count": 19
        }
      ]
    },
    {
      "cell_type": "code",
      "metadata": {
        "colab": {
          "base_uri": "https://localhost:8080/"
        },
        "id": "XqMVU36zttl6",
        "outputId": "2d62466e-c8bd-4a8c-ffc2-b1ce87dfa1d8"
      },
      "source": [
        "print(\"Mean of the temperature in celsius:\", np.mean(df[\"Temperature (C)\"]))\r\n",
        "print(\"Standard deviation of the temperature in celsius:\",np.std(df[\"Temperature (C)\"]))"
      ],
      "execution_count": null,
      "outputs": [
        {
          "output_type": "stream",
          "text": [
            "Mean of the temperature in celsius: 22.476400000000005\n",
            "Standard deviation of the temperature in celsius: 8.84442046942591\n"
          ],
          "name": "stdout"
        }
      ]
    },
    {
      "cell_type": "markdown",
      "metadata": {
        "id": "s4NlZf9IuJFw"
      },
      "source": [
        "## 5. Construct a boxplot for the following data set.\r\n",
        "\r\n",
        "3, 5, 8, 8, 9, 11, 12, 12, 13, 13, 163,5,8,8,9,11,12,12,13,13,16\r\n"
      ]
    },
    {
      "cell_type": "code",
      "metadata": {
        "colab": {
          "base_uri": "https://localhost:8080/",
          "height": 321
        },
        "id": "rnyHEN53uLa4",
        "outputId": "7f6e24f7-aa63-4643-817c-7052cf1e67da"
      },
      "source": [
        "a = [3, 5, 8, 8, 9, 11, 12, 12, 13, 13, 163,5,8,8,9,11,12,12,13,13,16]\r\n",
        "sns.boxplot(a)\r\n",
        "plt.show()"
      ],
      "execution_count": null,
      "outputs": [
        {
          "output_type": "stream",
          "text": [
            "/usr/local/lib/python3.6/dist-packages/seaborn/_decorators.py:43: FutureWarning: Pass the following variable as a keyword arg: x. From version 0.12, the only valid positional argument will be `data`, and passing other arguments without an explicit keyword will result in an error or misinterpretation.\n",
            "  FutureWarning\n"
          ],
          "name": "stderr"
        },
        {
          "output_type": "display_data",
          "data": {
            "image/png": "[encoded data removed]",
            "text/plain": [
              "<Figure size 432x288 with 1 Axes>"
            ]
          },
          "metadata": {
            "tags": [],
            "needs_background": "light"
          }
        }
      ]
    },
    {
      "cell_type": "markdown",
      "metadata": {
        "id": "NvYt8RJruXw4"
      },
      "source": [
        "##7. Consider below dataset, calculate the skewness and then tell if it is left skewed or right skewed?\r\n",
        "\r\n",
        "12,   13,   54,   56 ,  25\r\n"
      ]
    },
    {
      "cell_type": "code",
      "metadata": {
        "colab": {
          "base_uri": "https://localhost:8080/"
        },
        "id": "tzZmDVUEudGK",
        "outputId": "20edb217-ac99-4637-9a43-257f0efbc2e5"
      },
      "source": [
        "skew([12, 13, 54, 56 , 25])"
      ],
      "execution_count": null,
      "outputs": [
        {
          "output_type": "execute_result",
          "data": {
            "text/plain": [
              "0.2563317051472635"
            ]
          },
          "metadata": {
            "tags": []
          },
          "execution_count": 30
        }
      ]
    },
    {
      "cell_type": "markdown",
      "metadata": {
        "id": "PtmIlgasu6pl"
      },
      "source": [
        "The given data is positively skewed"
      ]
    },
    {
      "cell_type": "markdown",
      "metadata": {
        "id": "sW_LEJAyvAmV"
      },
      "source": [
        "## 8. Determine the excess-kurtosis of the below dataset and then categorize it according to the type of kurtosis it is and give its characteristics.\r\n",
        "\r\n",
        "12,   13,   54,   56 ,  25\r\n"
      ]
    },
    {
      "cell_type": "code",
      "metadata": {
        "colab": {
          "base_uri": "https://localhost:8080/"
        },
        "id": "USRLTBIsvAIZ",
        "outputId": "d706fe84-12cf-4aea-e42c-297a5d1ed1d2"
      },
      "source": [
        "b = [12,   13,   54,   56 ,  25]\r\n",
        "print(kurtosis(b))"
      ],
      "execution_count": null,
      "outputs": [
        {
          "output_type": "stream",
          "text": [
            "-1.7721210214761647\n"
          ],
          "name": "stdout"
        }
      ]
    },
    {
      "cell_type": "markdown",
      "metadata": {
        "id": "DU1M-SPq3HbA"
      },
      "source": [
        "Indictaing negative excess kurtosis. \r\n",
        "\r\n",
        "A distribution with a negative kurtosis value indicates that the distribution has **lighter tails than the normal distribution**."
      ]
    },
    {
      "cell_type": "markdown",
      "metadata": {
        "id": "60hP9h_FbVa5"
      },
      "source": [
        "##9. Determine the outliers in the below dataset using IQR formula.\r\n",
        "1, 99, 100, 101, 103, 109, 110, 201\r\n"
      ]
    },
    {
      "cell_type": "code",
      "metadata": {
        "colab": {
          "base_uri": "https://localhost:8080/"
        },
        "id": "2N78Wg-_bvwd",
        "outputId": "7b0dfdb0-2d82-47d9-a4f4-c3a978118f8a"
      },
      "source": [
        "b = [1, 99, 100, 101, 103, 109, 110, 201]\r\n",
        "q1,q2 = np.percentile(b, [25,75])\r\n",
        "iqr = q2-q1\r\n",
        "print(\"interquartile range of the given data is:\",iqr)"
      ],
      "execution_count": 2,
      "outputs": [
        {
          "output_type": "stream",
          "text": [
            "interquartile range of the given data is: 9.5\n"
          ],
          "name": "stdout"
        }
      ]
    },
    {
      "cell_type": "markdown",
      "metadata": {
        "id": "3DEdfwpIb89X"
      },
      "source": [
        "## 10. Determine the outlier in the below dataset using Z-score.\r\n",
        "\r\n",
        "\r\n",
        "![link text](https://cdn-images-1.medium.com/max/800/0*2NlsLGlMtgtII_hN.)\r\n",
        "\r\n",
        "Considering z_score of 3 as outlier from the above figure\r\n",
        "\r\n",
        "\r\n",
        "       \r\n",
        "\r\n"
      ]
    },
    {
      "cell_type": "code",
      "metadata": {
        "colab": {
          "base_uri": "https://localhost:8080/"
        },
        "id": "tLDDOX83b_-g",
        "outputId": "9d108615-0334-4516-c364-e7fac35946b9"
      },
      "source": [
        "z = np.array([1.5895, 1.6508, 1.7131, 1.7136,1.7212, 1.7296, 1.7343, 1.7663, 1.8018, 1.8394, 1.8869, 1.9357, 1.9482, 2.1038, 10.8135, -0.0012])\r\n",
        "print(z[abs(z)>=3])"
      ],
      "execution_count": 4,
      "outputs": [
        {
          "output_type": "stream",
          "text": [
            "[10.8135]\n"
          ],
          "name": "stdout"
        }
      ]
    },
    {
      "cell_type": "markdown",
      "metadata": {
        "id": "wx9mWWrXcpga"
      },
      "source": [
        "## 11. Below is the mark obtained by some students. Construct a bar chart for it:"
      ]
    },
    {
      "cell_type": "code",
      "metadata": {
        "colab": {
          "base_uri": "https://localhost:8080/",
          "height": 198
        },
        "id": "qzBpZsZgcuyp",
        "outputId": "ebac2194-af0d-4c20-ce50-2d7eaf606b5f"
      },
      "source": [
        "a = {\"name\":[\"Rohan\",\"Bhavya\",\"Sri\",\"Riteish\",\"Neha\"], \"Marks\":[83,72,96,37,64]}\r\n",
        "data = pd.DataFrame(a)\r\n",
        "data"
      ],
      "execution_count": 5,
      "outputs": [
        {
          "output_type": "execute_result",
          "data": {
            "text/html": [
              "<div>\n",
              "<style scoped>\n",
              "    .dataframe tbody tr th:only-of-type {\n",
              "        vertical-align: middle;\n",
              "    }\n",
              "\n",
              "    .dataframe tbody tr th {\n",
              "        vertical-align: top;\n",
              "    }\n",
              "\n",
              "    .dataframe thead th {\n",
              "        text-align: right;\n",
              "    }\n",
              "</style>\n",
              "<table border=\"1\" class=\"dataframe\">\n",
              "  <thead>\n",
              "    <tr style=\"text-align: right;\">\n",
              "      <th></th>\n",
              "      <th>name</th>\n",
              "      <th>Marks</th>\n",
              "    </tr>\n",
              "  </thead>\n",
              "  <tbody>\n",
              "    <tr>\n",
              "      <th>0</th>\n",
              "      <td>Rohan</td>\n",
              "      <td>83</td>\n",
              "    </tr>\n",
              "    <tr>\n",
              "      <th>1</th>\n",
              "      <td>Bhavya</td>\n",
              "      <td>72</td>\n",
              "    </tr>\n",
              "    <tr>\n",
              "      <th>2</th>\n",
              "      <td>Sri</td>\n",
              "      <td>96</td>\n",
              "    </tr>\n",
              "    <tr>\n",
              "      <th>3</th>\n",
              "      <td>Riteish</td>\n",
              "      <td>37</td>\n",
              "    </tr>\n",
              "    <tr>\n",
              "      <th>4</th>\n",
              "      <td>Neha</td>\n",
              "      <td>64</td>\n",
              "    </tr>\n",
              "  </tbody>\n",
              "</table>\n",
              "</div>"
            ],
            "text/plain": [
              "      name  Marks\n",
              "0    Rohan     83\n",
              "1   Bhavya     72\n",
              "2      Sri     96\n",
              "3  Riteish     37\n",
              "4     Neha     64"
            ]
          },
          "metadata": {
            "tags": []
          },
          "execution_count": 5
        }
      ]
    },
    {
      "cell_type": "code",
      "metadata": {
        "id": "Mb4o_QpzdFrJ",
        "outputId": "f9daf6c0-a373-44c5-8a85-8490fbd0fa19",
        "colab": {
          "base_uri": "https://localhost:8080/",
          "height": 295
        }
      },
      "source": [
        "sns.barplot(x=\"name\",y=\"Marks\",data=data)\r\n",
        "plt.title(\"Student's marks\")\r\n",
        "plt.show()"
      ],
      "execution_count": 7,
      "outputs": [
        {
          "output_type": "display_data",
          "data": {
            "image/png": "[encoded data removed]",
            "text/plain": [
              "<Figure size 432x288 with 1 Axes>"
            ]
          },
          "metadata": {
            "tags": [],
            "needs_background": "light"
          }
        }
      ]
    },
    {
      "cell_type": "markdown",
      "metadata": {
        "id": "I4pF4ILOdO_s"
      },
      "source": [
        "## 12. Covariance\r\n",
        "\r\n",
        "Below are some observations obtained from a hospital and shows glucose level of some patients. Check the correlation of the variables and then tell if it has positive, negative or no relation between them. Calculate co-variance and also plot a scatter-plot to see the relation visually.\r\n",
        "\r\n",
        "Covariance is \r\n"
      ]
    }
  ]
}
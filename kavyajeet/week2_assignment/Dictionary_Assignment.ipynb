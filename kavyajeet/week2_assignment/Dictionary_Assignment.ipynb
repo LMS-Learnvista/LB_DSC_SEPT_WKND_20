{
  "nbformat": 4,
  "nbformat_minor": 0,
  "metadata": {
    "colab": {
      "name": "Dictionary_Assignment.ipynb",
      "provenance": [],
      "include_colab_link": true
    },
    "kernelspec": {
      "name": "python3",
      "display_name": "Python 3"
    }
  },
  "cells": [
    {
      "cell_type": "markdown",
      "metadata": {
        "id": "view-in-github",
        "colab_type": "text"
      },
      "source": [
        "<a href=\"https://colab.research.google.com/github/kavyajeetbora/LB_DSC_SEPT_WKND_20/blob/master/kavyajeet/week2_assignment/Dictionary_Assignment.ipynb\" target=\"_parent\"><img src=\"https://colab.research.google.com/assets/colab-badge.svg\" alt=\"Open In Colab\"/></a>"
      ]
    },
    {
      "cell_type": "code",
      "metadata": {
        "id": "2k4ZB9yltJCa",
        "outputId": "03d46730-c0fd-42cb-9953-d991ea9686c8",
        "colab": {
          "base_uri": "https://localhost:8080/"
        }
      },
      "source": [
        "# Initialize a dictionary \"emp_info\" with below details\n",
        "# In - emp_info['Tom']\n",
        "# Out - {'email':'tom_latham019@gmail.com', 'Phone': +1987654321, 'City': 'California'}\n",
        "d = {\"Tom\":{'email':'tom_latham019@gmail.com', 'Phone': +1987654321, 'City': 'California'},\n",
        "     \"Kathy\":{'email':'kathy_abram897@gmail.com', 'Phone': +1887654321, 'City': 'New York'}\n",
        "     }\n",
        "# In - emp_info['Kathy']\n",
        "# Out - {'email':'kathy_abram897@gmail.com', 'Phone': +1887654321, 'City': 'New York'}\n",
        "\n",
        "print(d['Tom'])\n",
        "print(d['Kathy'])"
      ],
      "execution_count": 1,
      "outputs": [
        {
          "output_type": "stream",
          "text": [
            "{'email': 'tom_latham019@gmail.com', 'Phone': 1987654321, 'City': 'California'}\n",
            "{'email': 'kathy_abram897@gmail.com', 'Phone': 1887654321, 'City': 'New York'}\n"
          ],
          "name": "stdout"
        }
      ]
    },
    {
      "cell_type": "code",
      "metadata": {
        "id": "BAUj-S0fqFWG",
        "outputId": "be8be8dd-f184-492e-bb61-bc2128d6ccc1",
        "colab": {
          "base_uri": "https://localhost:8080/"
        }
      },
      "source": [
        "# Create a dictionary out of below inputs\n",
        "# lst1 = ['emp1', 'emp2', 'emp3']\n",
        "# emp_key = ['e_name', 'e_id', 'e_sal']\n",
        "# emp1_val = ['John', 'SG101', '$10,000']\n",
        "# emp2_val = ['Smith', 'SG102', '$9,000']\n",
        "# emp3_val = ['Peter', 'SG103', '$9,500']\n",
        "\n",
        "# Expected Output:- {'emp1':{'e_name':'John', 'e_id':'SG101', 'e_sal':$10,000}, \n",
        "#                    'emp2':{'e_name':'Smith', 'e_id':'SG102', 'e_sal':$9,000}, \n",
        "#                    'emp3':{'e_name':'Peter', 'e_id':'SG103', 'e_sal':$9,500}}\n",
        "\n",
        "d = {\n",
        "    \"emp1\":{\"e_name\":\"John\", \"e_id\":\"SG101\", \"e_sal\":\"$10000\"},\n",
        "    \"emp2\":{\"e_name\":\"Smith\", \"e_id\":\"SG102\", \"e_sal\":\"$9000\"},\n",
        "    \"emp3\":{\"e_name\":\"Peter\", \"e_id\":\"SG103\", \"e_sal\":\"$9500\"},\n",
        "}\n",
        "d"
      ],
      "execution_count": 4,
      "outputs": [
        {
          "output_type": "execute_result",
          "data": {
            "text/plain": [
              "{'emp1': {'e_id': 'SG101', 'e_name': 'John', 'e_sal': '$10000'},\n",
              " 'emp2': {'e_id': 'SG102', 'e_name': 'Smith', 'e_sal': '$9000'},\n",
              " 'emp3': {'e_id': 'SG103', 'e_name': 'Peter', 'e_sal': '$9500'}}"
            ]
          },
          "metadata": {
            "tags": []
          },
          "execution_count": 4
        }
      ]
    },
    {
      "cell_type": "code",
      "metadata": {
        "id": "LxGZ3jbjrBkj",
        "outputId": "a6c9f75c-843c-4f0b-cf69-af2c42b2ad40",
        "colab": {
          "base_uri": "https://localhost:8080/"
        }
      },
      "source": [
        "# Acess the value of key 'history'\n",
        "\n",
        "sampleDict = { \n",
        "   \"class\":{ \n",
        "      \"student\":{ \n",
        "         \"name\":\"Mike\",\n",
        "         \"marks\":{ \n",
        "            \"physics\":70,\n",
        "            \"history\":80\n",
        "         }\n",
        "      }\n",
        "   }\n",
        "}\n",
        "\n",
        "print(sampleDict['class']['student']['marks']['history'])"
      ],
      "execution_count": 6,
      "outputs": [
        {
          "output_type": "stream",
          "text": [
            "80\n"
          ],
          "name": "stdout"
        }
      ]
    },
    {
      "cell_type": "code",
      "metadata": {
        "id": "Vm8UZbyNrKID",
        "outputId": "7f720324-454c-435b-9f21-91693ffc0c14",
        "colab": {
          "base_uri": "https://localhost:8080/"
        }
      },
      "source": [
        "# Initialize dictionary with default values. Inputs are:-\n",
        "# employees = ['Kelly', 'Emma', 'John']\n",
        "# defaults = {\"designation\": 'Application Developer', \"salary\": 8000}\n",
        "\n",
        "#Expected output:- {'Kelly': {'designation': 'Application Developer', 'salary': 8000}, \n",
        "#                   'Emma': {'designation': 'Application Developer', 'salary': 8000}, \n",
        "#                   'John': {'designation': 'Application Developer', 'salary': 8000}}\n",
        "\n",
        "employees = ['Kelly', 'Emma', 'John']\n",
        "d = {}\n",
        "for emp in employees:\n",
        "    d[emp] = {\"designation\": 'Application Developer', \"salary\": 8000}\n",
        "d"
      ],
      "execution_count": 7,
      "outputs": [
        {
          "output_type": "execute_result",
          "data": {
            "text/plain": [
              "{'Emma': {'designation': 'Application Developer', 'salary': 8000},\n",
              " 'John': {'designation': 'Application Developer', 'salary': 8000},\n",
              " 'Kelly': {'designation': 'Application Developer', 'salary': 8000}}"
            ]
          },
          "metadata": {
            "tags": []
          },
          "execution_count": 7
        }
      ]
    },
    {
      "cell_type": "code",
      "metadata": {
        "id": "nmFdbaHBrThC",
        "outputId": "374cce99-cc4c-4bb8-daa8-4f7d29e9bcff",
        "colab": {
          "base_uri": "https://localhost:8080/"
        }
      },
      "source": [
        "# In gene expression, mRNA is transcribed from a DNA template. \n",
        "# The 4 nucleotide bases of A, T, C, G corresponds to the U, A, G, C bases of the mRNA. \n",
        "# Write a function that returns the mRNA transcript given the sequence of a DNA strand.\n",
        "\n",
        "# Use a dictionary to provide the mapping of DNA to RNA bases.\n",
        "\n",
        "\n",
        "def mRNA(DNA):\n",
        "    '''\n",
        "    returns the mRNA transcript given the sequence of a DNA strand\n",
        "    '''\n",
        "    bases = {\"A\":\"U\", \"T\":\"A\", \"C\":\"G\", \"C\":\"G\"}\n",
        "\n",
        "    if DNA in bases.keys():\n",
        "        return bases[DNA]\n",
        "    else:\n",
        "        print(\"mRNA transcript invalid\")\n",
        "        return None\n",
        "\n",
        "print(mRNA(\"A\"))\n",
        "print(mRNA(\"C\"))"
      ],
      "execution_count": 11,
      "outputs": [
        {
          "output_type": "stream",
          "text": [
            "U\n",
            "G\n"
          ],
          "name": "stdout"
        }
      ]
    },
    {
      "cell_type": "code",
      "metadata": {
        "id": "rop1A1pQw6Uk",
        "outputId": "508be84d-cd5d-415a-f7af-1897ecce77c7",
        "colab": {
          "base_uri": "https://localhost:8080/"
        }
      },
      "source": [
        "# Write a function which takes a word as input and returns a dictionary with letters as key and no of time letters are repeated as value.\n",
        "# In - count_letter('google.com')\n",
        "# Out - {'g': 2, 'o': 3, 'l': 1, 'e': 1, '.': 1, 'c': 1, 'm': 1}\n",
        "\n",
        "def count_letter(string):\n",
        "    '''\n",
        "    returns a dictionary containing the count of each letter in a given string\n",
        "    '''\n",
        "    counter = {}\n",
        "    for i in string:\n",
        "        if i not in counter.keys():\n",
        "            counter[i] = 1\n",
        "        else:\n",
        "            counter[i] += 1\n",
        "\n",
        "    return counter\n",
        "\n",
        "count_letter(\"google.com\")"
      ],
      "execution_count": 14,
      "outputs": [
        {
          "output_type": "execute_result",
          "data": {
            "text/plain": [
              "{'.': 1, 'c': 1, 'e': 1, 'g': 2, 'l': 1, 'm': 1, 'o': 3}"
            ]
          },
          "metadata": {
            "tags": []
          },
          "execution_count": 14
        }
      ]
    },
    {
      "cell_type": "markdown",
      "metadata": {
        "id": "aCnYuJkqitBD"
      },
      "source": [
        "Since the dictionary we have created by default stores the values in an unordered way, hence we should use the OrderedDict object from python collection module to store the values in ordered way. \n",
        "\n",
        "[This is explained in this stackoverflow answer](https://stackoverflow.com/a/1872350/6819442)"
      ]
    },
    {
      "cell_type": "code",
      "metadata": {
        "id": "v2ner20ejKQr",
        "outputId": "dcc221b2-e9e6-423f-da18-05c561f1b11c",
        "colab": {
          "base_uri": "https://localhost:8080/"
        }
      },
      "source": [
        "# Write a function which takes a word as input and returns a dictionary with letters as key and no of time letters are repeated as value.\n",
        "# In - count_letter('google.com')\n",
        "# Out - {'g': 2, 'o': 3, 'l': 1, 'e': 1, '.': 1, 'c': 1, 'm': 1}\n",
        "from collections import OrderedDict\n",
        "def count_letter(string):\n",
        "    '''\n",
        "    returns a dictionary containing the count of each letter in a given string\n",
        "    '''\n",
        "    counter = OrderedDict()\n",
        "    for i in string:\n",
        "        if i not in counter.keys():\n",
        "            counter[i] = 1\n",
        "        else:\n",
        "            counter[i] += 1\n",
        "\n",
        "    return counter\n",
        "\n",
        "count_letter(\"google.com\").items()"
      ],
      "execution_count": 16,
      "outputs": [
        {
          "output_type": "execute_result",
          "data": {
            "text/plain": [
              "odict_items([('g', 2), ('o', 3), ('l', 1), ('e', 1), ('.', 1), ('c', 1), ('m', 1)])"
            ]
          },
          "metadata": {
            "tags": []
          },
          "execution_count": 16
        }
      ]
    },
    {
      "cell_type": "code",
      "metadata": {
        "id": "zbHBDqUJkorv",
        "outputId": "ee41a2bc-b0af-442d-d454-127e88fa717f",
        "colab": {
          "base_uri": "https://localhost:8080/"
        }
      },
      "source": [
        "list(count_letter(\"google.com\").keys())"
      ],
      "execution_count": 18,
      "outputs": [
        {
          "output_type": "execute_result",
          "data": {
            "text/plain": [
              "['g', 'o', 'l', 'e', '.', 'c', 'm']"
            ]
          },
          "metadata": {
            "tags": []
          },
          "execution_count": 18
        }
      ]
    },
    {
      "cell_type": "code",
      "metadata": {
        "id": "vAwGIoxdw856",
        "outputId": "cbe134ee-08a4-438c-fac0-46415c9ca514",
        "colab": {
          "base_uri": "https://localhost:8080/"
        }
      },
      "source": [
        "# A DNA strand consisting of the 4 nucleotide bases is usually represented with a string of letters: A,T, C, G. \n",
        "# Write a function that computes the base composition of a given DNA sequence.\n",
        "\n",
        "\n",
        "# In - baseComposition(\"CTATCGGCACCCTTTCAGCA\")\n",
        "# Out - {'A': 4, 'C': 8, 'T': 5,  'G': 3 }\n",
        "\n",
        "\n",
        "# In - baseComposition(\"AGT\")\n",
        "# Out - {'A': 1, 'C': 0, 'T': 1,  'G': 1 }\n",
        "\n",
        "def baseComposition(base_composition):\n",
        "    '''\n",
        "    returns the base composition of a given DNA sequence\n",
        "    '''\n",
        "    composition = {\"A\":0, \"T\":0, \"C\":0, \"G\":0}\n",
        "    for i in base_composition:\n",
        "        composition[i] += 1\n",
        "\n",
        "    return composition\n",
        "    \n",
        "print(baseComposition(\"CTATCGGCACCCTTTCAGCA\"))\n",
        "print(baseComposition(\"AGT\"))"
      ],
      "execution_count": 26,
      "outputs": [
        {
          "output_type": "stream",
          "text": [
            "{'A': 4, 'T': 5, 'C': 8, 'G': 3}\n",
            "{'A': 1, 'T': 1, 'C': 0, 'G': 1}\n"
          ],
          "name": "stdout"
        }
      ]
    },
    {
      "cell_type": "code",
      "metadata": {
        "id": "iVNnSsvaxMDo",
        "outputId": "77499594-5d00-4c7f-a49c-35bceb97c6a2",
        "colab": {
          "base_uri": "https://localhost:8080/"
        }
      },
      "source": [
        "# [MCQ] Suppose \"d\" is an empty dictionary, which statement does not assign \"d\" with {\"Name\":\"Tom\"}? \n",
        "\n",
        "# 1. d = {\"Name\": \"Tom\" }\n",
        "d = {}\n",
        "d = {\"Name\":\"Tom\"}\n",
        "print(d,\"\\n\")\n",
        "\n",
        "# 2. d[\"Name\"] = \"Tom\"\n",
        "d = {}\n",
        "d[\"Name\"] = \"Tom\"\n",
        "print(d,\"\\n\")\n",
        "# 3. d.setdefault(\"Name\",\"Tom\")\n",
        "d = {}\n",
        "d.update({\"Name\": \"Tom\" })\n",
        "print(d,\"\\n\")\n",
        "# 4. d.setdefault(\"Name\", \"Tom\")\n",
        "d = {}\n",
        "d.setdefault(\"Name\", \"Tom\")\n",
        "print(d,\"\\n\")\n",
        "# 5. None of the above.\n",
        "print(\"Answer is none of the above\")"
      ],
      "execution_count": 30,
      "outputs": [
        {
          "output_type": "stream",
          "text": [
            "{'Name': 'Tom'} \n",
            "\n",
            "{'Name': 'Tom'} \n",
            "\n",
            "{'Name': 'Tom'} \n",
            "\n",
            "{'Name': 'Tom'} \n",
            "\n",
            "Answer is none of the above\n"
          ],
          "name": "stdout"
        }
      ]
    },
    {
      "cell_type": "code",
      "metadata": {
        "id": "tOgsXi2axnhF",
        "outputId": "06d2a61c-c4f3-4d36-9305-ba9e13503bee",
        "colab": {
          "base_uri": "https://localhost:8080/"
        }
      },
      "source": [
        "# [MCQ] d = {\"a\":1, \"b\":2}. Which of the statements returns [1,2]? \n",
        "d = {\"a\":1, \"b\":2}\n",
        "# 1. d.keys()\n",
        "# 2. d.values()\n",
        "print(d.values())\n",
        "# 3. d.items()\n",
        "# 4. d.popitem()\n",
        "# 5. None of the above.\n",
        "print(\"Option 2: d.values() method returns [1,2]\")"
      ],
      "execution_count": 35,
      "outputs": [
        {
          "output_type": "stream",
          "text": [
            "dict_values([1, 2])\n",
            "Option 2: d.values() method returns [1,2]\n"
          ],
          "name": "stdout"
        }
      ]
    },
    {
      "cell_type": "code",
      "metadata": {
        "id": "BeNNopkDzK0k"
      },
      "source": [
        "# [MCQ] Which of the following declarations is not valid for 'dict' type?\n",
        "# 1. d = {\"Name\": \"Tom\" }\n",
        "# 2. d = { (1,3,4): 4.5 }\n",
        "# 3. d = { [\"First\", \"Last\"]: (1,3) } # TypeError: unhashable type: 'list'\n",
        "# 4. d = { 1: 0.4 }\n",
        "# 5. None of the above"
      ],
      "execution_count": 39,
      "outputs": []
    },
    {
      "cell_type": "markdown",
      "metadata": {
        "id": "Uw9H2Sm6nSXh"
      },
      "source": [
        "The key in the dictionary should be hashable type.\n",
        "So in option 3, the key is a list which is unhashable type object\n",
        "so a list cannot be set as key in a dictionary.\n",
        "\n",
        "\n",
        "\n",
        "the items whose values cannot be changed as hashable and the objects whose values can be changed as unhashable.\n",
        "\n",
        "For example in Python, all immutable objects can be termed as hashable while as mutable objects can be termed as unhashable. Let us take an example where we can get such error and why we get it.\n",
        "\n",
        "For example when you use a list as a key in the dictionary It cannot be done and we will get an error ’TypeError: unhashable type’\n",
        "\n",
        "[Reference for this answer](https://qr.ae/pNbB33)"
      ]
    },
    {
      "cell_type": "code",
      "metadata": {
        "id": "7kPbKcfMzTHP",
        "outputId": "d76c9275-cf04-4485-fb16-7e250f1fc59e",
        "colab": {
          "base_uri": "https://localhost:8080/"
        }
      },
      "source": [
        "# Write a function reverseLookup(dictionary, value) that takes in a dictionary \n",
        "# and a value as arguments and returns a sorted list of all keys that contains the value. \n",
        "# The function will return an empty list if no match is found.\n",
        "\n",
        "# In - reverseLookup({'a':1, 'b':2, 'c':2}, 1)\n",
        "# Out - ['a']\n",
        "# In - reverseLookup({'a':1, 'b':2, 'c':2}, 2)\n",
        "# Out - ['b', 'c']\n",
        "# In - reverseLookup({'a':1, 'b':2, 'c':2}, 3)\n",
        "# Out - []\n",
        "\n",
        "def reverseLookup(d, value):\n",
        "    keys = list(d.keys())\n",
        "    values = d.values()\n",
        "    output_keys = []\n",
        "    for i,v in enumerate(values):\n",
        "        if value==v:\n",
        "            output_keys.append(keys[i])\n",
        "\n",
        "    return sorted(output_keys)\n",
        "\n",
        "\n",
        "print(reverseLookup({'a':1, 'b':2, 'c':2}, 1))\n",
        "print(reverseLookup({'a':1, 'b':2, 'c':2}, 2))\n",
        "print(reverseLookup({'a':1, 'b':2, 'c':2}, 3))\n",
        "print(reverseLookup({'a':1, 'c':2, 'b':2}, 2))  ## to check sorting of the output list"
      ],
      "execution_count": 46,
      "outputs": [
        {
          "output_type": "stream",
          "text": [
            "['a']\n",
            "['b', 'c']\n",
            "[]\n",
            "['b', 'c']\n"
          ],
          "name": "stdout"
        }
      ]
    },
    {
      "cell_type": "code",
      "metadata": {
        "id": "s87Rvg2HDFYp",
        "outputId": "00602817-6cc1-4762-ded0-991dee87fde4",
        "colab": {
          "base_uri": "https://localhost:8080/"
        }
      },
      "source": [
        "# Write a function invertDictionary(d) that takes in a dictionary as argument and return a dictionary that inverts the keys and the values of the original dictionary.\n",
        "# In - invertDictionary({'a':1, 'b':2, 'c':3, 'd':2})\n",
        "# Out - {1: ['a'], 2: ['b', 'd'], 3: ['c']}\n",
        "# In - invertDictionary({'a':3, 'b':3, 'c':3})\n",
        "# Out - {3: ['a', 'c', 'b']}\n",
        "# In - invertDictionary({'a':2, 'b':1, 'c':2, 'd':1})\n",
        "# Out - {1: ['b', 'd'], 2: ['a', 'c']}\n",
        "\n",
        "\n",
        "def invertDictionary(d):\n",
        "    inverted = {}\n",
        "    for k,v in d.items():\n",
        "        if v in inverted.keys():\n",
        "            inverted[v].append(k)\n",
        "        else:\n",
        "            inverted[v] = [k]\n",
        "    return inverted.items()\n",
        "\n",
        "print(invertDictionary({'a':1, 'b':2, 'c':3, 'd':2}))\n",
        "print(invertDictionary({'a':3, 'b':3, 'c':3}))\n",
        "print(invertDictionary({'a':2, 'b':1, 'c':2, 'd':1}))"
      ],
      "execution_count": 54,
      "outputs": [
        {
          "output_type": "stream",
          "text": [
            "dict_items([(1, ['a']), (2, ['b', 'd']), (3, ['c'])])\n",
            "dict_items([(3, ['a', 'b', 'c'])])\n",
            "dict_items([(2, ['a', 'c']), (1, ['b', 'd'])])\n"
          ],
          "name": "stdout"
        }
      ]
    },
    {
      "cell_type": "code",
      "metadata": {
        "id": "DgYyaZU6Oz7E",
        "outputId": "e20164c3-85b7-4e54-c4c6-b0f900eac7f7",
        "colab": {
          "base_uri": "https://localhost:8080/"
        }
      },
      "source": [
        "# Write a function that converts a sparse vector into a dictionary as described above.\n",
        "# In - convertVector([1, 0, 0, 2, 0, 0, 0, 3, 0, 0, 0, 0, 4])\n",
        "# Out - {0: 1, 3: 2, 7: 3, 12: 4}\n",
        "# In - convertVector([1, 0, 1 , 0, 2, 0, 1, 0, 0, 1, 0])\n",
        "# Out - {0: 1, 2: 1, 4: 2, 6: 1, 9: 1}\n",
        "# In - convertVector([0, 0, 0, 0, 0])\n",
        "# Out - {}\n",
        "\n",
        "def convertVector(vector):\n",
        "    '''\n",
        "    converts a sparse vector into a dictionary\n",
        "    '''\n",
        "    d = {}\n",
        "    for i in range(len(vector)):\n",
        "        if vector[i] != 0:\n",
        "            d[i] = vector[i]\n",
        "    \n",
        "    return d\n",
        "\n",
        "print(convertVector([1, 0, 0, 2, 0, 0, 0, 3, 0, 0, 0, 0, 4]))\n",
        "print(convertVector([1, 0, 1 , 0, 2, 0, 1, 0, 0, 1, 0]))\n",
        "print(convertVector([0, 0, 0, 0, 0]))"
      ],
      "execution_count": 56,
      "outputs": [
        {
          "output_type": "stream",
          "text": [
            "{0: 1, 3: 2, 7: 3, 12: 4}\n",
            "{0: 1, 2: 1, 4: 2, 6: 1, 9: 1}\n",
            "{}\n"
          ],
          "name": "stdout"
        }
      ]
    },
    {
      "cell_type": "code",
      "metadata": {
        "id": "VHxF8Cp4A9Cy",
        "outputId": "deb5b5c5-8ec9-434d-cbaa-d33b481089a6",
        "colab": {
          "base_uri": "https://localhost:8080/"
        }
      },
      "source": [
        "[0]*10\n"
      ],
      "execution_count": 63,
      "outputs": [
        {
          "output_type": "execute_result",
          "data": {
            "text/plain": [
              "[0, 0, 0, 0, 0, 0, 0, 0, 0, 0]"
            ]
          },
          "metadata": {
            "tags": []
          },
          "execution_count": 63
        }
      ]
    },
    {
      "cell_type": "code",
      "metadata": {
        "id": "ETCmEcflTGCI",
        "outputId": "aa1bb127-f65a-4f59-ec86-1e20268e60c7",
        "colab": {
          "base_uri": "https://localhost:8080/",
          "height": 571
        }
      },
      "source": [
        "# Write a function that converts a dictionary back to its sparse vector representation.\n",
        "# In - convertDictionary({0: 1, 3: 2, 7: 3, 12: 4})\n",
        "# Out - [1, 0, 0, 2, 0, 0, 0, 3, 0, 0, 0, 0, 4]\n",
        "# In - convertDictionary({0: 1, 2: 1, 4: 2, 6: 1, 9: 1})\n",
        "# Out - [1, 0, 1, 0, 2, 0, 1, 0, 0, 1]\n",
        "# In - convertDictionary({})\n",
        "# Out - []\n",
        "\n",
        "def convertDictionary(dictionary):\n",
        "    '''\n",
        "    converts a dictionary into a sparse vector\n",
        "    '''\n",
        "    last = max(dictionary.keys())\n",
        "    output = [0]*10\n",
        "    for i in range(last+1):\n",
        "        print(i)\n",
        "        if i in dictionary.keys():\n",
        "            output[i] =  dictionary[i]\n",
        "    return output\n",
        "\n",
        "convertDictionary({0: 1, 3: 2, 7: 3, 12: 4})"
      ],
      "execution_count": 66,
      "outputs": [
        {
          "output_type": "stream",
          "text": [
            "0\n",
            "1\n",
            "2\n",
            "3\n",
            "4\n",
            "5\n",
            "6\n",
            "7\n",
            "8\n",
            "9\n",
            "10\n",
            "11\n",
            "12\n"
          ],
          "name": "stdout"
        },
        {
          "output_type": "error",
          "ename": "IndexError",
          "evalue": "ignored",
          "traceback": [
            "\u001b[0;31m---------------------------------------------------------------------------\u001b[0m",
            "\u001b[0;31mIndexError\u001b[0m                                Traceback (most recent call last)",
            "\u001b[0;32m<ipython-input-66-947d9da71213>\u001b[0m in \u001b[0;36m<module>\u001b[0;34m()\u001b[0m\n\u001b[1;32m     19\u001b[0m     \u001b[0;32mreturn\u001b[0m \u001b[0moutput\u001b[0m\u001b[0;34m\u001b[0m\u001b[0;34m\u001b[0m\u001b[0m\n\u001b[1;32m     20\u001b[0m \u001b[0;34m\u001b[0m\u001b[0m\n\u001b[0;32m---> 21\u001b[0;31m \u001b[0mconvertDictionary\u001b[0m\u001b[0;34m(\u001b[0m\u001b[0;34m{\u001b[0m\u001b[0;36m0\u001b[0m\u001b[0;34m:\u001b[0m \u001b[0;36m1\u001b[0m\u001b[0;34m,\u001b[0m \u001b[0;36m3\u001b[0m\u001b[0;34m:\u001b[0m \u001b[0;36m2\u001b[0m\u001b[0;34m,\u001b[0m \u001b[0;36m7\u001b[0m\u001b[0;34m:\u001b[0m \u001b[0;36m3\u001b[0m\u001b[0;34m,\u001b[0m \u001b[0;36m12\u001b[0m\u001b[0;34m:\u001b[0m \u001b[0;36m4\u001b[0m\u001b[0;34m}\u001b[0m\u001b[0;34m)\u001b[0m\u001b[0;34m\u001b[0m\u001b[0;34m\u001b[0m\u001b[0m\n\u001b[0m",
            "\u001b[0;32m<ipython-input-66-947d9da71213>\u001b[0m in \u001b[0;36mconvertDictionary\u001b[0;34m(dictionary)\u001b[0m\n\u001b[1;32m     16\u001b[0m         \u001b[0mprint\u001b[0m\u001b[0;34m(\u001b[0m\u001b[0mi\u001b[0m\u001b[0;34m)\u001b[0m\u001b[0;34m\u001b[0m\u001b[0;34m\u001b[0m\u001b[0m\n\u001b[1;32m     17\u001b[0m         \u001b[0;32mif\u001b[0m \u001b[0mi\u001b[0m \u001b[0;32min\u001b[0m \u001b[0mdictionary\u001b[0m\u001b[0;34m.\u001b[0m\u001b[0mkeys\u001b[0m\u001b[0;34m(\u001b[0m\u001b[0;34m)\u001b[0m\u001b[0;34m:\u001b[0m\u001b[0;34m\u001b[0m\u001b[0;34m\u001b[0m\u001b[0m\n\u001b[0;32m---> 18\u001b[0;31m             \u001b[0moutput\u001b[0m\u001b[0;34m[\u001b[0m\u001b[0mi\u001b[0m\u001b[0;34m]\u001b[0m \u001b[0;34m=\u001b[0m  \u001b[0mdictionary\u001b[0m\u001b[0;34m[\u001b[0m\u001b[0mi\u001b[0m\u001b[0;34m]\u001b[0m\u001b[0;34m\u001b[0m\u001b[0;34m\u001b[0m\u001b[0m\n\u001b[0m\u001b[1;32m     19\u001b[0m     \u001b[0;32mreturn\u001b[0m \u001b[0moutput\u001b[0m\u001b[0;34m\u001b[0m\u001b[0;34m\u001b[0m\u001b[0m\n\u001b[1;32m     20\u001b[0m \u001b[0;34m\u001b[0m\u001b[0m\n",
            "\u001b[0;31mIndexError\u001b[0m: list assignment index out of range"
          ]
        }
      ]
    },
    {
      "cell_type": "code",
      "metadata": {
        "id": "tTANm2QKZXh3"
      },
      "source": [
        "# Given a Python dictionary, Change Brad’s salary to 8500\n",
        "# sampleDict = {\n",
        "#      'emp1': {'name': 'Jhon', 'salary': 7500},\n",
        "#      'emp2': {'name': 'Emma', 'salary': 8000},\n",
        "#      'emp3': {'name': 'Brad', 'salary': 6500}\n",
        "# }\n",
        "\n",
        "# Expected Output\n",
        "# sampleDict = {\n",
        "#      'emp1': {'name': 'Jhon', 'salary': 7500},\n",
        "#      'emp2': {'name': 'Emma', 'salary': 8000},\n",
        "#      'emp3': {'name': 'Brad', 'salary': 8500}\n",
        "# }\n",
        "\n"
      ],
      "execution_count": null,
      "outputs": []
    },
    {
      "cell_type": "code",
      "metadata": {
        "id": "8dUHXiCVZmUx"
      },
      "source": [
        "# Get the key corresponding to the minimum value from the following dictionary\n",
        "# sampleDict = {\n",
        "#   'Physics': 82,\n",
        "#   'Math': 65,\n",
        "#   'history': 75\n",
        "# }\n",
        "\n",
        "# Expected Output\n",
        "# Math\n",
        "\n"
      ],
      "execution_count": null,
      "outputs": []
    },
    {
      "cell_type": "code",
      "metadata": {
        "id": "AQe5QNGdZ7aJ"
      },
      "source": [
        "# Rename key city to location in the following dictionary\n",
        "# sampleDict = {\n",
        "#   \"name\": \"Kelly\",\n",
        "#   \"age\":25,\n",
        "#   \"salary\": 8000,\n",
        "#   \"city\": \"New york\"\n",
        "# }\n",
        "\n",
        "# Expected Output\n",
        "# {\n",
        "#   \"name\": \"Kelly\",\n",
        "#   \"age\":25,\n",
        "#   \"salary\": 8000,\n",
        "#   \"location\": \"New york\"\n",
        "# }"
      ],
      "execution_count": null,
      "outputs": []
    },
    {
      "cell_type": "code",
      "metadata": {
        "id": "e19_ddO9aNNw"
      },
      "source": [
        "# Check if a value 200 exists in a dictionary\n",
        "# sampleDict = {'a': 100, 'b': 200, 'c': 300}\n",
        "\n",
        "# Expected Output: True"
      ],
      "execution_count": null,
      "outputs": []
    },
    {
      "cell_type": "code",
      "metadata": {
        "id": "yphwjc1gabMa"
      },
      "source": [
        "# Delete set of keys from Python Dictionary\n",
        "# sampleDict = {\n",
        "#   \"name\": \"Kelly\",\n",
        "#   \"age\":25,\n",
        "#   \"salary\": 8000,\n",
        "#   \"city\": \"New york\"\n",
        "  \n",
        "# }\n",
        "# keysToRemove = [\"name\", \"salary\"]\n",
        "\n",
        "# Expected Output:\n",
        "# {'city': 'New york', 'age': 25}"
      ],
      "execution_count": null,
      "outputs": []
    }
  ]
}
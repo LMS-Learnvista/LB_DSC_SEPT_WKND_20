{
  "nbformat": 4,
  "nbformat_minor": 0,
  "metadata": {
    "colab": {
      "name": "Conditional_and_loop_assignment.ipynb",
      "provenance": [],
      "include_colab_link": true
    },
    "kernelspec": {
      "name": "python3",
      "display_name": "Python 3"
    }
  },
  "cells": [
    {
      "cell_type": "markdown",
      "metadata": {
        "id": "view-in-github",
        "colab_type": "text"
      },
      "source": [
        "<a href=\"https://colab.research.google.com/github/kavyajeetbora/LB_DSC_SEPT_WKND_20/blob/master/kavyajeet/week2_assignment/Conditional_and_loop_assignment.ipynb\" target=\"_parent\"><img src=\"https://colab.research.google.com/assets/colab-badge.svg\" alt=\"Open In Colab\"/></a>"
      ]
    },
    {
      "cell_type": "markdown",
      "metadata": {
        "id": "wNRNTbrsc53d"
      },
      "source": [
        "# If - elif - else statement"
      ]
    },
    {
      "cell_type": "code",
      "metadata": {
        "id": "MiPfTnBycxNa",
        "outputId": "a9d7e3ca-ff6c-4028-e1f0-d6c752e64bb6",
        "colab": {
          "base_uri": "https://localhost:8080/"
        }
      },
      "source": [
        "#W. A P. which takes one number from 0 to 9 from the user and prints it in the word. And if the word is not from 0 to 9 then\n",
        "#it should print that number is outside of the range and program should exit.\n",
        "# For exapmple:- \n",
        "# input = 1\n",
        "# output = one\n",
        "x = int(input(\"enter an integer:\"))\n",
        "num_words = {1:\"one\",2:\"two\",3:\"three\",4:\"four\",5:\"five\",6:\"six\",7:\"seven\",8:\"eight\",9:\"nine\"}\n",
        "if x in range(0,11):\n",
        "    print(num_words[x])\n",
        "else:\n",
        "    print(\"Not in the range\")"
      ],
      "execution_count": null,
      "outputs": [
        {
          "output_type": "stream",
          "text": [
            "enter an integer:2\n",
            "two\n"
          ],
          "name": "stdout"
        }
      ]
    },
    {
      "cell_type": "code",
      "metadata": {
        "id": "vEMNOv9zdA39",
        "outputId": "1cfd0060-2397-49b6-b0bb-58122f684955",
        "colab": {
          "base_uri": "https://localhost:8080/"
        }
      },
      "source": [
        "#W. A P. to implement calculator but the operation to be done and two numbers will be taken as input from user:-\n",
        "#Operation console should show below:-\n",
        "#     Please select any one operation from below:-\n",
        "#         * To add enter 1\n",
        "#         * to subtract enter 2\n",
        "#         * To multiply enter 3\n",
        "#         * To divide enter 4\n",
        "#         * To divide and find quotient enter 5\n",
        "#         * To divide and find remainder enter 6\n",
        "#         * To divide and find num1 to the power of num2 enter 7\n",
        "#         * To Come out of the program enter 8\n",
        "while True:\n",
        "    print(\"\\nOnline Calculator Application\")\n",
        "    print(\"-\"*30)\n",
        "    a = float(input(\"enter first number\"))\n",
        "    b = float(input(\"enter second number\"))\n",
        "    operation = int(input(\"Enter the opearation\"))\n",
        "    if operation == 1:\n",
        "        print(\"addition:\",a+b)\n",
        "    elif operation == 2:\n",
        "        print(\"substraction:\",a-b)\n",
        "    elif operation == 3:\n",
        "        print(\"multiplication:\",a*b)\n",
        "    elif operation == 4:\n",
        "        print(\"divide:\",a/b)\n",
        "    elif operation == 5:\n",
        "        print(\"quotient:\",a//b)\n",
        "    elif operation == 6:\n",
        "        print(\"remainder:\",a%b)\n",
        "    elif operation == 7:\n",
        "        print(\"power:\",a**b)\n",
        "    elif operation == 8:\n",
        "        print(\"\\nProgram exited\")\n",
        "        break"
      ],
      "execution_count": null,
      "outputs": [
        {
          "output_type": "stream",
          "text": [
            "\n",
            "Online Calculator Application\n",
            "------------------------------\n",
            "enter first number2\n",
            "enter second number2\n",
            "Enter the opearation8\n",
            "\n",
            "Program exited\n"
          ],
          "name": "stdout"
        }
      ]
    },
    {
      "cell_type": "markdown",
      "metadata": {
        "id": "IRh-W_1OlrHi"
      },
      "source": [
        "### Leap year application\n",
        "\n",
        "Leap year: there is a leap year every year divisible by four except for years which are both divisible by 100 and not divisible by 400"
      ]
    },
    {
      "cell_type": "code",
      "metadata": {
        "id": "1e2gwYLqdC1s",
        "outputId": "4cfd4c3c-8c29-424f-8385-6833b6f7668c",
        "colab": {
          "base_uri": "https://localhost:8080/"
        }
      },
      "source": [
        "#W A P to check whether a year entered by user is an leap year or not?\n",
        "#Check with below input:-\n",
        "    #leap year:- 2012, 1968, 2004, 1200, 1600,2400\n",
        "    #Non-lear year:- 1971, 2006, 1700,1800,1900\n",
        "\n",
        "years = [2012, 1968, 2004, 1200, 1600,2400,1971, 2006, 1700,1800,1900]\n",
        "for year in years:\n",
        "    if str(year).endswith(\"00\"):\n",
        "        if year % 400 == 0:\n",
        "            print(\"The given year:\",year,\" is a leap year\")\n",
        "        else:\n",
        "            print(\"The given year:\",year,\" is not a leap year\")\n",
        "    else:\n",
        "        if year%4==0:\n",
        "            print(\"The given year:\",year,\" is a leap year\")\n",
        "        else:\n",
        "            print(\"The given year:\",year,\" is not a leap year\")"
      ],
      "execution_count": null,
      "outputs": [
        {
          "output_type": "stream",
          "text": [
            "The given year: 2012  is a leap year\n",
            "The given year: 1968  is a leap year\n",
            "The given year: 2004  is a leap year\n",
            "The given year: 1200  is a leap year\n",
            "The given year: 1600  is a leap year\n",
            "The given year: 2400  is a leap year\n",
            "The given year: 1971  is not a leap year\n",
            "The given year: 2006  is not a leap year\n",
            "The given year: 1700  is not a leap year\n",
            "The given year: 1800  is not a leap year\n",
            "The given year: 1900  is not a leap year\n"
          ],
          "name": "stdout"
        }
      ]
    },
    {
      "cell_type": "code",
      "metadata": {
        "id": "_tpXv1EtdEre",
        "outputId": "d31328d7-476a-4a27-fc15-0287a4974597",
        "colab": {
          "base_uri": "https://localhost:8080/"
        }
      },
      "source": [
        "#W A P which takes one number from the user and checks whether it is an even or odd number?, If it even then prints number is \n",
        "#even number else prints that number is odd number.\n",
        "A = int(input(\"Input an integer\"))\n",
        "if A % 2 == 0:\n",
        "    print(\"the number is even\")\n",
        "else:\n",
        "    print(\"the number is odd\")"
      ],
      "execution_count": null,
      "outputs": [
        {
          "output_type": "stream",
          "text": [
            "Input an integer2\n",
            "the number is even\n"
          ],
          "name": "stdout"
        }
      ]
    },
    {
      "cell_type": "code",
      "metadata": {
        "id": "Q1HumymCdG6i",
        "outputId": "7a46c4e2-8833-4449-ad56-d2ab912896cd",
        "colab": {
          "base_uri": "https://localhost:8080/"
        }
      },
      "source": [
        "#W A P which takes two numbers from the user and prints below output:-\n",
        "#     1. num1 is greater than num2 if num1 is greater than num2\n",
        "#     2. num1 is smaller than num2 if num1 is smaller than num2\n",
        "#     3. num1 is equal to num2 if num1 and num2 are equal\n",
        "A = float(input(\"Input a Number\\t\"))\n",
        "B = float(input(\"Input a Number\\t\"))\n",
        "# 1. Do this problem using if - else\n",
        "if A>B:\n",
        "    print(\"A is greater than B\")\n",
        "elif A<B:\n",
        "    print(\"A is smaller than B\")\n",
        "else:\n",
        "    print(\"A is equal to B\") \n",
        "# 2. Do this using ternary operator\n",
        "\n",
        "print(\"A is greater than B\") if A>B else print(\"A is smaller than B\") if A<B else print(\"A is equal to B\")"
      ],
      "execution_count": 7,
      "outputs": [
        {
          "output_type": "stream",
          "text": [
            "Input a Number\t4\n",
            "Input a Number\t5\n",
            "A is smaller than B\n",
            "A is smaller than B\n"
          ],
          "name": "stdout"
        }
      ]
    },
    {
      "cell_type": "code",
      "metadata": {
        "id": "LR6TVB-DdOPf",
        "outputId": "de8c2f77-ed9e-4a5e-d6b8-4161328699f7",
        "colab": {
          "base_uri": "https://localhost:8080/"
        }
      },
      "source": [
        "#W A P which takes three numbers from the user and prints below output:-\n",
        "#     1. num1 is greater than num2 and num3 if num1 is greater than num2 and num3\n",
        "#     2. num2 is greater than num1 and num3 if num2 is greater than num1 and num3\n",
        "#     3. num3 is greater than num1 and num2 if num3 is greater than num1 and num2\n",
        "\n",
        "#Note:- 1. Do this problem using if - elif - else \n",
        "#       2. Do this using ternary operator\n",
        "\n",
        "# a = a if a>b else b\n",
        "A = float(input(\"Input first number\\t\"))\n",
        "B = float(input(\"Input second number\\t\"))\n",
        "C = float(input(\"Input third number\\t\"))\n",
        "# 1. Do this problem using if - else\n",
        "if A>B and A>C:\n",
        "    print(\"A is greater than B and C\")\n",
        "elif A<B and B>C:\n",
        "    print(\"B is greater than A and C\")\n",
        "else:\n",
        "    print(\"C is greater than A and B\") \n",
        "\n",
        "# 2. Do this using ternary operator\n",
        "print(\"A is greater than B and C\") if A>B and A>C else print(\"B is greater than A and C\") if A<B and B>C else print(\"C is greater than A and B\")\n"
      ],
      "execution_count": 9,
      "outputs": [
        {
          "output_type": "stream",
          "text": [
            "Input first number\t2\n",
            "Input second number\t3\n",
            "Input third number\t5\n",
            "C is greater than A and B\n",
            "C is greater than A and B\n"
          ],
          "name": "stdout"
        }
      ]
    },
    {
      "cell_type": "markdown",
      "metadata": {
        "id": "IoOLQMUGdSox"
      },
      "source": [
        "# Loops - for loop, while loop"
      ]
    },
    {
      "cell_type": "code",
      "metadata": {
        "id": "9K23Uld8dQfA",
        "outputId": "c6308d6e-684a-4d1e-b91c-e195706e54e7",
        "colab": {
          "base_uri": "https://localhost:8080/"
        }
      },
      "source": [
        "#Write a Python program to find the length of the my_str using loop:-\n",
        "\n",
        "string = 'Write a Python program to find the length of the my_str'\n",
        "count = 0\n",
        "for i in string:\n",
        "    count +=1\n",
        "print(\"the length of the string is:\",count)\n",
        "#Output:- 55"
      ],
      "execution_count": 10,
      "outputs": [
        {
          "output_type": "stream",
          "text": [
            "the length of the string is: 55\n"
          ],
          "name": "stdout"
        }
      ]
    },
    {
      "cell_type": "code",
      "metadata": {
        "id": "bp6AcqTsdYxy",
        "outputId": "9b71be60-8e98-45cb-cdfc-9e498a707da9",
        "colab": {
          "base_uri": "https://localhost:8080/"
        }
      },
      "source": [
        "#Write a Python program to find the total number of times letter 'p' is appeared in the below string using loop:-\n",
        "    \n",
        "string = 'peter piper picked a peck of pickled peppers.\\n'\n",
        "count = 0\n",
        "character = \"p\"\n",
        "for i in string:\n",
        "    if i == character:\n",
        "        count+=1\n",
        "print(\"the occurence of the character '%s' is\"%(character),count)\n",
        "#Output:- 9"
      ],
      "execution_count": 14,
      "outputs": [
        {
          "output_type": "stream",
          "text": [
            "the occurence of the character 'p' is 9\n"
          ],
          "name": "stdout"
        }
      ]
    },
    {
      "cell_type": "code",
      "metadata": {
        "id": "xvxSBhTJdav1",
        "outputId": "71a69ade-028c-458e-c50e-f09acfac2d6f",
        "colab": {
          "base_uri": "https://localhost:8080/"
        }
      },
      "source": [
        "#Write a Python Program, to print all the indexes of all occurences of letter 'p' appeared in the string using loop:-\n",
        "\n",
        "character = \"p\"    \n",
        "string = 'peter piper picked a peck of pickled peppers.'\n",
        "for i,s in enumerate(string):\n",
        "    if s == character:\n",
        "        print(i)\n",
        "\n",
        "#Output:- \n",
        "# 0\n",
        "# 6\n",
        "# 8\n",
        "# 12\n",
        "# 21\n",
        "# 29\n",
        "# 37\n",
        "# 39\n",
        "# 40"
      ],
      "execution_count": 20,
      "outputs": [
        {
          "output_type": "stream",
          "text": [
            "0\n",
            "6\n",
            "8\n",
            "12\n",
            "21\n",
            "29\n",
            "37\n",
            "39\n",
            "40\n"
          ],
          "name": "stdout"
        }
      ]
    },
    {
      "cell_type": "code",
      "metadata": {
        "id": "79L_feMadbmw",
        "outputId": "64ab268c-32d0-49e5-a238-9aa49b6f92e4",
        "colab": {
          "base_uri": "https://localhost:8080/"
        }
      },
      "source": [
        "#Write a python program to find below output using loop:-\n",
        "#Output:- ['peter', 'piper', 'picked', 'a', 'peck', 'of', 'pickled', 'peppers']\n",
        "string='peter piper picked a peck of pickled peppers.'\n",
        "words = []\n",
        "start_index = 0\n",
        "for i,s in enumerate(string):\n",
        "    if s==\" \":\n",
        "        words.append(string[start_index:i])\n",
        "        start_index=i\n",
        "words.append(string[start_index:])\n",
        "print(words)"
      ],
      "execution_count": 195,
      "outputs": [
        {
          "output_type": "stream",
          "text": [
            "['peter', ' piper', ' picked', ' a', ' peck', ' of', ' pickled', ' peppers.']\n"
          ],
          "name": "stdout"
        }
      ]
    },
    {
      "cell_type": "code",
      "metadata": {
        "id": "vzs5AJ53deVS",
        "outputId": "dece1ff9-2dd2-44b8-fbd1-348bfa181856",
        "colab": {
          "base_uri": "https://localhost:8080/"
        }
      },
      "source": [
        "#Write a python program to find below output using loop:-\n",
        "\n",
        "#Input:- 'peter piper picked a peck of pickled peppers.'\n",
        "#Output:- 'peppers pickled of peck a picked piper peter'\n",
        "string='peter piper picked a peck of pickled peppers.'\n",
        "words = []\n",
        "start_index = 0\n",
        "for i,s in enumerate(string):\n",
        "    if s==\" \":\n",
        "        words.append(string[start_index:i])\n",
        "        start_index=i\n",
        "words.append(string[start_index:])\n",
        "print(words[::-1])"
      ],
      "execution_count": 198,
      "outputs": [
        {
          "output_type": "stream",
          "text": [
            "[' peppers.', ' pickled', ' of', ' peck', ' a', ' picked', ' piper', 'peter']\n"
          ],
          "name": "stdout"
        }
      ]
    },
    {
      "cell_type": "code",
      "metadata": {
        "id": "i-HP7DrCdhwS",
        "outputId": "a53b7c63-8a23-4aca-8fe6-292cf1b429c0",
        "colab": {
          "base_uri": "https://localhost:8080/"
        }
      },
      "source": [
        "#Write a python program to find below output using loop:-\n",
        "\n",
        "#Input:- 'peter piper picked a peck of pickled peppers.'\n",
        "#Output:- '.sreppep delkcip fo kcep a dekcip repip retep'\n",
        "\n",
        "string='peter piper picked a peck of pickled peppers.'\n",
        "a = \"\"\n",
        "for i in range(len(string)):\n",
        "    a += string[len(string)-1-i]\n",
        "print(a)   "
      ],
      "execution_count": 202,
      "outputs": [
        {
          "output_type": "stream",
          "text": [
            ".sreppep delkcip fo kcep a dekcip repip retep\n"
          ],
          "name": "stdout"
        }
      ]
    },
    {
      "cell_type": "code",
      "metadata": {
        "id": "3rt6p0ytdkq0",
        "outputId": "9c451a20-f146-4627-bce7-724828166799",
        "colab": {
          "base_uri": "https://localhost:8080/"
        }
      },
      "source": [
        "#Write a python program to find below output using loop:-\n",
        "\n",
        "#Input:- 'peter piper picked a peck of pickled peppers.'\n",
        "#Output:- 'retep repip dekcip a kcep fo delkcip sreppep'\n",
        "\n",
        "string='peter piper picked a peck of pickled peppers.'\n",
        "index = 0\n",
        "output = \"\"\n",
        "for i in range(len(string)):\n",
        "    if string[i] == \" \":\n",
        "        output += string[index:i+1][::-1]\n",
        "        index = i+1\n",
        "print(output)"
      ],
      "execution_count": 210,
      "outputs": [
        {
          "output_type": "stream",
          "text": [
            " retep repip dekcip a kcep fo delkcip\n"
          ],
          "name": "stdout"
        }
      ]
    },
    {
      "cell_type": "code",
      "metadata": {
        "id": "HdlAWgT2dnKO",
        "outputId": "c3dfee77-9b0b-473f-a89d-19e909b2647b",
        "colab": {
          "base_uri": "https://localhost:8080/"
        }
      },
      "source": [
        "#Write a python program to find below output using loop:-\n",
        "\n",
        "#Input:- 'peter piper picked a peck of pickled peppers.'\n",
        "#Output:- 'Peter Piper Picked A Peck Of Pickled Peppers'\n",
        "\n",
        "string='peter piper picked a peck of pickled peppers.'\n",
        "index = 0\n",
        "output = \"\"\n",
        "for i in range(0,len(string)):\n",
        "    letter = string[i]\n",
        "    if string[i-1] == \" \" or i==0:\n",
        "        letter = letter.upper()\n",
        "        index = i+1\n",
        "    output += letter\n",
        "print(output)"
      ],
      "execution_count": 214,
      "outputs": [
        {
          "output_type": "stream",
          "text": [
            "Peter Piper Picked A Peck Of Pickled Peppers.\n"
          ],
          "name": "stdout"
        }
      ]
    },
    {
      "cell_type": "code",
      "metadata": {
        "id": "OthUuacodrNl",
        "outputId": "12f6a19d-29c2-4c60-c838-f76b87f2729d",
        "colab": {
          "base_uri": "https://localhost:8080/"
        }
      },
      "source": [
        "#Write a python program to find below output using loop:-\n",
        "\n",
        "#Input:- 'Peter Piper Picked A Peck Of Pickled Peppers.'\n",
        "#Output:- 'Peter piper picked a peck of pickled peppers'\n",
        "\n",
        "string='Peter Piper Picked A Peck Of Pickled Peppers.'\n",
        "index = 0\n",
        "output = \"\"\n",
        "for i in range(0,len(string)):\n",
        "    letter = string[i]\n",
        "    if string[i-1] == \" \" or i==0:\n",
        "        letter = letter.lower()\n",
        "        index = i+1\n",
        "    output += letter\n",
        "print(output)"
      ],
      "execution_count": 215,
      "outputs": [
        {
          "output_type": "stream",
          "text": [
            "peter piper picked a peck of pickled peppers.\n"
          ],
          "name": "stdout"
        }
      ]
    },
    {
      "cell_type": "code",
      "metadata": {
        "id": "scmDJE-ldsI9",
        "outputId": "ae74b974-cb4a-4117-f113-0439b75bb085",
        "colab": {
          "base_uri": "https://localhost:8080/"
        }
      },
      "source": [
        "#Write a python program to implement index method using loop. If sub_str is found in my_str then it will print the index\n",
        "# of first occurrence of first character of matching string in my_str:-\n",
        "\n",
        "#Input:- my_str = 'Peter Piper Picked A Peck Of Pickled Peppers.', sub_str = 'Pickl'\n",
        "#Output:- 29\n",
        "string = 'Peter Piper Picked A Peck Of Pickled Peppers.'\n",
        "sub_str = \"Pickl\"\n",
        "for i in range(len(string)):\n",
        "    if string[i:i+len(sub_str)]==sub_str:\n",
        "        print(i)"
      ],
      "execution_count": 216,
      "outputs": [
        {
          "output_type": "stream",
          "text": [
            "29\n"
          ],
          "name": "stdout"
        }
      ]
    },
    {
      "cell_type": "code",
      "metadata": {
        "id": "Kq_fwdb_dvYE",
        "outputId": "21ed5d18-5033-496e-d9c6-ac6363479c38",
        "colab": {
          "base_uri": "https://localhost:8080/"
        }
      },
      "source": [
        "#Write a python program to implement replace method using loop. If sub_str is found in my_str then it will replace the first \n",
        "#occurrence of sub_str with new_str else it will will print sub_str not found:-\n",
        "\n",
        "#Input:- my_str = 'Peter Piper Picked A Peck Of Pickled Peppers.', sub_str = 'Peck', new_str = 'Pack'\n",
        "#Output:- 'Peter Piper Picked A Pack Of Pickled Peppers.'\n",
        "\n",
        "string = 'Peter Piper Picked A Peck Of Pickled Peppers.'\n",
        "sub_str = \"Peck\"\n",
        "new_str = \"Pack\"\n",
        "\n",
        "'''\n",
        "1. Convert the string into list of words\n",
        "'''\n",
        "words = []\n",
        "start_index = 0\n",
        "for i,s in enumerate(string):\n",
        "    if s==\" \":\n",
        "        words.append(string[start_index:i])\n",
        "        start_index=i+1\n",
        "words.append(string[start_index:].strip())\n",
        "\n",
        "\n",
        "'''2. Then find the index of the word to replace:'''\n",
        "for index,word in enumerate(words):\n",
        "    if word == sub_str:\n",
        "        words[index] = new_str\n",
        "\n",
        "'''3. Join the list with a space character to return a sentence'''\n",
        "print(\" \".join(words).strip())\n",
        "\n",
        "\n",
        "'''\n",
        "Note:\n",
        "Using this method, we can replace any length of word in a given sentence multiple times\n",
        "'''"
      ],
      "execution_count": 227,
      "outputs": [
        {
          "output_type": "stream",
          "text": [
            "Peter Piper Picked A Pack Of Pickled Peppers.\n"
          ],
          "name": "stdout"
        }
      ]
    },
    {
      "cell_type": "code",
      "metadata": {
        "id": "4Qes5D0cdyd1",
        "outputId": "a4812f2e-4e26-47e4-ac57-8ccf43a606d9",
        "colab": {
          "base_uri": "https://localhost:8080/"
        }
      },
      "source": [
        "#Write a python program to find below output (implements rjust and ljust) using loop:-\n",
        "\n",
        "#Input:- 'Peter Piper Picked A Peck Of Pickled Peppers.', sub_str = 'Peck', \n",
        "#Output:- '*********************Peck********************'\n",
        "\n",
        "string = \"Peter Piper Picked A Peck Of Pickled Peppers.\"\n",
        "sub_str = \"Peck\"\n",
        "## search the index of the word\n",
        "'''\n",
        "First we search the index of the word in the string and store it in variables:\n",
        "limits -> say from x1 index to x2 index in the given string\n",
        "'''\n",
        "for i in range(len(string)):\n",
        "    if string[i:i+len(sub_str)]==sub_str:\n",
        "        x1,x2 = i,i+len(sub_str)\n",
        "\n",
        "'''\n",
        "Then using those limits, we can put * symbol in the out of this above range\n",
        "and the characters within the range will be equal to the substring value\n",
        "'''\n",
        "output = \"\"\n",
        "for i in range(len(string)):\n",
        "    if i >= x1 and i < x2:\n",
        "        output += sub_str[i-x1]\n",
        "    else:\n",
        "        output += \"*\"\n",
        "print(output)\n",
        "\n",
        "## check\n",
        "answer = \"*********************Peck********************\"\n",
        "print(\"The length of orginal string:\",len(string))\n",
        "print(\"The length of the output string\",len(output))\n",
        "print(\"the length of the answer is:\",len(answer))\n",
        "print(\"Equality check with the answer:\",answer==output)\n",
        "\n",
        "'''This is only for searching one word. \n",
        "It can be updated to multiple words too.'''"
      ],
      "execution_count": 193,
      "outputs": [
        {
          "output_type": "stream",
          "text": [
            "*********************Peck********************\n",
            "The length of orginal string: 45\n",
            "The length of the output string 45\n",
            "the length of the answer is: 45\n",
            "Equality check with the answer: True\n"
          ],
          "name": "stdout"
        }
      ]
    },
    {
      "cell_type": "code",
      "metadata": {
        "id": "DsOrb07Od0lR",
        "outputId": "d1c40e73-fd7a-4224-e6bd-a74911616c49",
        "colab": {
          "base_uri": "https://localhost:8080/"
        }
      },
      "source": [
        "#Write a python program to find below output using loop:-\n",
        "\n",
        "#Input:- 'This is Python class', sep = ' is', \n",
        "#Output:- ['This', 'is', 'Python class']\n",
        "\n",
        "string = \"This is Python class and it is very interesting as well\"\n",
        "sep = \" is\"\n",
        "words = []\n",
        "print(len(string))\n",
        "pointer = 0\n",
        "for i in range(len(string)):\n",
        "    if string[i:i+len(sep)]==sep:\n",
        "        prev_word = string[pointer:i].strip()\n",
        "        words.extend([prev_word,sep.strip()])\n",
        "        pointer = i+len(sep)\n",
        "        print(pointer)\n",
        "if pointer<len(string):\n",
        "    words.append(string[pointer:].strip())\n",
        "print(words)"
      ],
      "execution_count": 120,
      "outputs": [
        {
          "output_type": "stream",
          "text": [
            "55\n",
            "7\n",
            "30\n",
            "['This', 'is', 'Python class and it', 'is', 'very interesting as well']\n"
          ],
          "name": "stdout"
        }
      ]
    }
  ]
}
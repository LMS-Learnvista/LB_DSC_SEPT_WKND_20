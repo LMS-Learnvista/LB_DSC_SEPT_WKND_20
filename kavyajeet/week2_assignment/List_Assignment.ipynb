{
  "nbformat": 4,
  "nbformat_minor": 0,
  "metadata": {
    "colab": {
      "name": "List_Assignment.ipynb",
      "provenance": [],
      "include_colab_link": true
    },
    "kernelspec": {
      "name": "python3",
      "display_name": "Python 3"
    }
  },
  "cells": [
    {
      "cell_type": "markdown",
      "metadata": {
        "id": "view-in-github",
        "colab_type": "text"
      },
      "source": [
        "<a href=\"https://colab.research.google.com/github/kavyajeetbora/LB_DSC_SEPT_WKND_20/blob/master/kavyajeet/week2_assignment/List_Assignment.ipynb\" target=\"_parent\"><img src=\"https://colab.research.google.com/assets/colab-badge.svg\" alt=\"Open In Colab\"/></a>"
      ]
    },
    {
      "cell_type": "code",
      "metadata": {
        "id": "gtlAv2oq9yzd",
        "outputId": "d24d0295-6a77-4ac4-fc2b-e91ba6d1a1ca",
        "colab": {
          "base_uri": "https://localhost:8080/"
        }
      },
      "source": [
        "#Write a Python program to find the sum of all elements in a list using loop.\n",
        "#Input:- [10,20,30,40]\n",
        "#Output:- 100\n",
        "\n",
        "list1 = [10,20,30,40]\n",
        "def sum_of_list_elements(list1):\n",
        "    '''returns multiplication of all elements in a list'''\n",
        "    total = 0\n",
        "    for i in list1:\n",
        "        total += i\n",
        "    return total\n",
        "    \n",
        "print(sum_of_list_elements(list1))"
      ],
      "execution_count": 1,
      "outputs": [
        {
          "output_type": "stream",
          "text": [
            "100\n"
          ],
          "name": "stdout"
        }
      ]
    },
    {
      "cell_type": "code",
      "metadata": {
        "id": "gTbA8psa93Y_",
        "outputId": "8922c34c-e0ed-4128-d54a-200d9131b3d0",
        "colab": {
          "base_uri": "https://localhost:8080/"
        }
      },
      "source": [
        "#Write a Python program to find the multiplication of all elements in a list using loop.\n",
        "#Input:- [10,20,30,40]\n",
        "#Output:- 240000\n",
        "\n",
        "def product_of_list_elements(list1):\n",
        "    '''returns multiplication of all elements in a list'''\n",
        "    prod = 1\n",
        "    for i in list1:\n",
        "        prod *= i\n",
        "    return prod\n",
        "\n",
        "list1 = [10,20,30,40]\n",
        "product_of_list_elements(list1)"
      ],
      "execution_count": 2,
      "outputs": [
        {
          "output_type": "execute_result",
          "data": {
            "text/plain": [
              "240000"
            ]
          },
          "metadata": {
            "tags": []
          },
          "execution_count": 2
        }
      ]
    },
    {
      "cell_type": "code",
      "metadata": {
        "id": "XBCrEtLN94Lj",
        "outputId": "351ca8c8-9f54-4c09-9c96-e145207b595f",
        "colab": {
          "base_uri": "https://localhost:8080/"
        }
      },
      "source": [
        "#Write a Python program to find the largest number from a list using loop.\n",
        "#Input:- [10,100,2321, 1,200,2]\n",
        "#Output:- 2321\n",
        "\n",
        "def maximum_number(list1):\n",
        "    '''\n",
        "    Returns the maximum number from a given list\n",
        "    '''\n",
        "    max = list1[0]\n",
        "    for i in list1:\n",
        "        if i>max:\n",
        "            max=i\n",
        "    \n",
        "    return max\n",
        "\n",
        "list1 = [10,100,2321, 1,200,2]\n",
        "maximum_number(list1)"
      ],
      "execution_count": 3,
      "outputs": [
        {
          "output_type": "execute_result",
          "data": {
            "text/plain": [
              "2321"
            ]
          },
          "metadata": {
            "tags": []
          },
          "execution_count": 3
        }
      ]
    },
    {
      "cell_type": "code",
      "metadata": {
        "id": "l3paUtbH94Vw",
        "outputId": "ae5ec67c-9c74-422f-9602-928aa124b678",
        "colab": {
          "base_uri": "https://localhost:8080/"
        }
      },
      "source": [
        "#Write a Python program to find the smallest number from a list using loop.\n",
        "#Input:- [10,100,2321, 1,200,2]\n",
        "#Output:- 1\n",
        "\n",
        "def minimum_number(list1):\n",
        "    '''\n",
        "    Returns the maximum number from a given list\n",
        "    '''\n",
        "    min = list1[0]\n",
        "    for i in list1:\n",
        "        if i<min:\n",
        "            min=i\n",
        "    return min\n",
        "\n",
        "list1 = [10,100,2321,1,200,2]\n",
        "minimum_number(list1)"
      ],
      "execution_count": 4,
      "outputs": [
        {
          "output_type": "execute_result",
          "data": {
            "text/plain": [
              "1"
            ]
          },
          "metadata": {
            "tags": []
          },
          "execution_count": 4
        }
      ]
    },
    {
      "cell_type": "code",
      "metadata": {
        "id": "JTVgy5VD94cE",
        "outputId": "349eabd0-76a6-45c4-9380-0ed43330bf09",
        "colab": {
          "base_uri": "https://localhost:8080/"
        }
      },
      "source": [
        "#Write a Python program to count the number of strings having length more than 2 and are palindrome in a list using loop.\n",
        "#Input:- ['ab', 'abc', 'aba', 'xyz', '1991']\n",
        "#Output:- 2\n",
        "\n",
        "list1 = ['ab', 'abc', 'aba', 'xyz', '1991']\n",
        "cond = []  ## len more than 2 and are palindrome\n",
        "for i in list1:\n",
        "    if len(i)>2  and i==i[::-1]:\n",
        "        cond.append(i)\n",
        "\n",
        "len(cond)"
      ],
      "execution_count": 5,
      "outputs": [
        {
          "output_type": "execute_result",
          "data": {
            "text/plain": [
              "2"
            ]
          },
          "metadata": {
            "tags": []
          },
          "execution_count": 5
        }
      ]
    },
    {
      "cell_type": "code",
      "metadata": {
        "id": "xs-ZGJbJ94gr",
        "outputId": "81b75428-db7b-4bdb-9415-b4b27b8591f0",
        "colab": {
          "base_uri": "https://localhost:8080/"
        }
      },
      "source": [
        "#Write a Python program to sort a list in ascending order using loop.\n",
        "#Input:- [100,10,1,298,65,483,49876,2,80,9,9213]\n",
        "#Output:- [1,2,9,10,65,80,100,298,483,9213,49876]\n",
        "\n",
        "def sort_list(values):\n",
        "    '''\n",
        "    This functions takes a list and returns a sorted list\n",
        "    '''\n",
        "    if len(values)>0:\n",
        "        sorted = [values[0]]\n",
        "        for value in values[1:]:\n",
        "            i = 0  ## initial index\n",
        "            while value>=sorted[i]:  ## continue the loop, till the value is found within limits\n",
        "                i += 1\n",
        "                if i == len(sorted):\n",
        "                    break\n",
        "\n",
        "            sorted.insert(i,value)\n",
        "        return sorted\n",
        "    else:\n",
        "        print(\"List empty\")\n",
        "        return None\n",
        "\n",
        "\n",
        "a = [100,10,1,298,65,483,49876,2,80,9,9213]\n",
        "print(sort_list(a))"
      ],
      "execution_count": 117,
      "outputs": [
        {
          "output_type": "stream",
          "text": [
            "[1, 2, 9, 10, 65, 80, 100, 298, 483, 9213, 49876]\n"
          ],
          "name": "stdout"
        }
      ]
    },
    {
      "cell_type": "code",
      "metadata": {
        "id": "VhKQJizZ94kg",
        "outputId": "517ee371-1762-4537-95e4-7973fc012327",
        "colab": {
          "base_uri": "https://localhost:8080/"
        }
      },
      "source": [
        "#Write a Python program to get a sorted list in increasing order of last element in each tuple in a given list using loop.\n",
        "#Input:- [(5,4),(9,1),(2,3),(5,9),(7,6),(5,5)]\n",
        "#output:- [(9,1),(2,3),(5,4),(5,5),(7,6),(5,9)]\n",
        "\n",
        "values = [(5,4),(9,1),(2,3),(5,9),(7,6),(5,5)]\n",
        "\n",
        "def sort_tuples(tuples):\n",
        "    '''\n",
        "    This function takes a list of tuples containing two values,\n",
        "    sorts it in ascending order based on the second value of the tuple\n",
        "    and returns a sorted tuple\n",
        "    '''\n",
        "\n",
        "    if len(tuples)>0:\n",
        "        sorted_z = [tuples[0]]\n",
        "\n",
        "        for value in tuples[1:]:\n",
        "            index = 0\n",
        "            while value[1] >= sorted_z[index][1]:\n",
        "                index += 1\n",
        "                if index==len(sorted_z):\n",
        "                    break\n",
        "\n",
        "            sorted_z.insert(index,value)\n",
        "        return sorted_z\n",
        "    else:\n",
        "        print(\"Tuples empty\")\n",
        "        return None\n",
        "\n",
        "a = [(5,4),(9,1),(2,3),(5,9),(7,6),(5,5)]\n",
        "sort_tuples(a)"
      ],
      "execution_count": 128,
      "outputs": [
        {
          "output_type": "execute_result",
          "data": {
            "text/plain": [
              "[(9, 1), (2, 3), (5, 4), (5, 5), (7, 6), (5, 9)]"
            ]
          },
          "metadata": {
            "tags": []
          },
          "execution_count": 128
        }
      ]
    },
    {
      "cell_type": "code",
      "metadata": {
        "id": "YJrCLYp694n_",
        "outputId": "8dba10d1-54a3-49f9-9fa5-8dd2dee6f9f6",
        "colab": {
          "base_uri": "https://localhost:8080/"
        }
      },
      "source": [
        "#Write a Python program to remove duplicate element from a list using loop.\n",
        "#Input:- [10,1,11,1,29,876,768,10,11,1,92,29,876]\n",
        "#Output:- [10,1,11,29,876,768,92]\n",
        "\n",
        "def remove_duplicate(x):\n",
        "    '''\n",
        "    Function to remove duplicate elements from a given list\n",
        "    '''\n",
        "    out = []\n",
        "    for i in x:\n",
        "        if i not in out:\n",
        "            out.append(i)\n",
        "    return out\n",
        "\n",
        "\n",
        "x = [10,1,11,1,29,876,768,10,11,1,92,29,876]\n",
        "print(remove_duplicate(x))"
      ],
      "execution_count": 8,
      "outputs": [
        {
          "output_type": "stream",
          "text": [
            "[10, 1, 11, 29, 876, 768, 92]\n"
          ],
          "name": "stdout"
        }
      ]
    },
    {
      "cell_type": "code",
      "metadata": {
        "id": "koYe4YCu94rh",
        "outputId": "164cf5aa-6146-405f-8e69-ed384c6a3541",
        "colab": {
          "base_uri": "https://localhost:8080/"
        }
      },
      "source": [
        "#Write a Python program to check a list is empty or not?\n",
        "#Input:- []\n",
        "#Output:- List is empty\n",
        "#Input:- [10,20,30]\n",
        "#Output:- List is not empty\n",
        "\n",
        "\n",
        "def is_empty_list(x):\n",
        "    if type(x) is list and len(x)>0:\n",
        "        return \"Lits is not empty\"\n",
        "    else:\n",
        "        return \"Lits is empty\"\n",
        "\n",
        "print(is_empty_list([]))\n",
        "print(is_empty_list([10]))\n",
        "print(is_empty_list([10,20,30]))"
      ],
      "execution_count": 9,
      "outputs": [
        {
          "output_type": "stream",
          "text": [
            "Lits is empty\n",
            "Lits is not empty\n",
            "Lits is not empty\n"
          ],
          "name": "stdout"
        }
      ]
    },
    {
      "cell_type": "code",
      "metadata": {
        "id": "mES1WANa94u5",
        "outputId": "60d55dac-d27f-446a-f4ec-4167de659c8f",
        "colab": {
          "base_uri": "https://localhost:8080/"
        }
      },
      "source": [
        "#Write a Python program to copy a list using loop.\n",
        "#inp_lst = [10,10.20,10+20j, 'Python', [10,20], (10,20)]\n",
        "#out_lst = [10,10.20,10+20j, 'Python', [10,20], (10,20)]\n",
        "\n",
        "def copy_list(list1):\n",
        "    copy = []\n",
        "    for i in list1:\n",
        "        copy.append(i)\n",
        "\n",
        "    return copy\n",
        "\n",
        "x = [10,10.20,10+20j, 'Python', [10,20], (10,20)]\n",
        "y = copy_list(x)\n",
        "print(y)\n",
        "print(id(x), id(y))"
      ],
      "execution_count": 10,
      "outputs": [
        {
          "output_type": "stream",
          "text": [
            "[10, 10.2, (10+20j), 'Python', [10, 20], (10, 20)]\n",
            "139998985979464 139998985979400\n"
          ],
          "name": "stdout"
        }
      ]
    },
    {
      "cell_type": "code",
      "metadata": {
        "id": "CpBh31WO94yi",
        "outputId": "b3a8d263-4c55-426e-ba9f-43554d5d7f09",
        "colab": {
          "base_uri": "https://localhost:8080/"
        }
      },
      "source": [
        "#Write a Python program to find the list of words that are longer than or equal to 4 from a given string.\n",
        "#Input:- 'How much wood would a woodchuck chuck if a woodchuck could chuck wood'\n",
        "#Output:- ['much', 'wood', 'would', 'woodchuck', 'chuck', 'could']\n",
        "#Note:- Duplicate should be avoided.\n",
        "\n",
        "\n",
        "## method 1\n",
        "string = 'How much wood would a woodchuck chuck if a woodchuck could chuck wood'\n",
        "print(list(set([x for x in string.split() if len(x) >=4])))\n",
        "\n",
        "\n",
        "## method 2\n",
        "words = []\n",
        "for i in string.split():\n",
        "    if len(i)>=4 and i not in words:\n",
        "        words.append(i)\n",
        "\n",
        "words"
      ],
      "execution_count": 11,
      "outputs": [
        {
          "output_type": "stream",
          "text": [
            "['could', 'chuck', 'wood', 'would', 'much', 'woodchuck']\n"
          ],
          "name": "stdout"
        },
        {
          "output_type": "execute_result",
          "data": {
            "text/plain": [
              "['much', 'wood', 'would', 'woodchuck', 'chuck', 'could']"
            ]
          },
          "metadata": {
            "tags": []
          },
          "execution_count": 11
        }
      ]
    },
    {
      "cell_type": "code",
      "metadata": {
        "id": "YVfj0fgZ9416",
        "outputId": "b652ae22-72ab-4964-b374-f7b3d7caf1a3",
        "colab": {
          "base_uri": "https://localhost:8080/"
        }
      },
      "source": [
        "#Write a Python program which takes two list as input and returns True if they have at least 3 common elements.\n",
        "#inp_lst1 = [10,20,'Python', 10.20, 10+20j, [10,20,30], (10,20,30)]\n",
        "#inp_lst2 = [(10,20,30),1,20+3j,100.2, 10+20j, [10,20,30],'Python']\n",
        "#Output:- True\n",
        "\n",
        "\n",
        "def common_elements(x1,x2,no_of_common=3):\n",
        "    '''\n",
        "    returns True if two given list have at least 3 common elements\n",
        "    '''\n",
        "    common = 0\n",
        "    for i in x1:\n",
        "        if i in x2:\n",
        "            common+=1\n",
        "        \n",
        "    if common >= no_of_common:\n",
        "        return True\n",
        "    else:\n",
        "        return False\n",
        "    \n",
        "x1 = [10,20,'Python', 10.20, 10+20j, [10,20,30], (10,20,30)]\n",
        "x2 = [(10,20,30),1,20+3j,100.2, 10+20j, [10,20,30],'Python']\n",
        "print(common_elements(x1,x2))"
      ],
      "execution_count": 12,
      "outputs": [
        {
          "output_type": "stream",
          "text": [
            "True\n"
          ],
          "name": "stdout"
        }
      ]
    },
    {
      "cell_type": "code",
      "metadata": {
        "id": "7vwc3pjR945O",
        "outputId": "4a039ce1-ec70-4d73-8cbd-94a7dec23131",
        "colab": {
          "base_uri": "https://localhost:8080/"
        }
      },
      "source": [
        "#Write a Python program to create a 4X4 2D matrix with below elements using loop and list comprehension both.\n",
        "#Output:- [[0,0,0,0],[0,1,2,3],[0,2,4,6],[0,3,6,9]]\n",
        "\n",
        "rows  = 4\n",
        "cols = 4\n",
        "\n",
        "output = []\n",
        "for i in range(rows):\n",
        "    row = []\n",
        "    for j in range(cols):\n",
        "        row.append(i*j)\n",
        "\n",
        "    output.append(row)\n",
        "output"
      ],
      "execution_count": 13,
      "outputs": [
        {
          "output_type": "execute_result",
          "data": {
            "text/plain": [
              "[[0, 0, 0, 0], [0, 1, 2, 3], [0, 2, 4, 6], [0, 3, 6, 9]]"
            ]
          },
          "metadata": {
            "tags": []
          },
          "execution_count": 13
        }
      ]
    },
    {
      "cell_type": "code",
      "metadata": {
        "id": "Pxafor84948b",
        "outputId": "3093069e-bec3-448d-a1b9-2304c9541963",
        "colab": {
          "base_uri": "https://localhost:8080/"
        }
      },
      "source": [
        "#Write a Python program to create a 3X4X6 3D matrix wiith below elements using loop\n",
        "#Output:- \n",
        "# [\n",
        "#     [[0,0,0,0,0,0],[0,0,0,0,0,0],[0,0,0,0,0,0],[0,0,0,0,0,0]],\n",
        "#     [[0,0,0,0,0,0],[1,1,1,1,1,1],[2,2,2,2,2,2],[3,3,3,3,3,3]],\n",
        "#     [[0,0,0,0,0,0],[2,2,2,2,2,2],[4,4,4,4,4,4],[6,6,6,6,6,6]]\n",
        "# ]\n",
        "\n",
        "rows  = 4\n",
        "cols = 4\n",
        "elements = 6\n",
        "\n",
        "output = []\n",
        "for i in range(rows):\n",
        "    row = []\n",
        "    for j in range(cols):\n",
        "        row.append([i*j]*elements)\n",
        "\n",
        "    output.append(row)\n",
        "output"
      ],
      "execution_count": 14,
      "outputs": [
        {
          "output_type": "execute_result",
          "data": {
            "text/plain": [
              "[[[0, 0, 0, 0, 0, 0],\n",
              "  [0, 0, 0, 0, 0, 0],\n",
              "  [0, 0, 0, 0, 0, 0],\n",
              "  [0, 0, 0, 0, 0, 0]],\n",
              " [[0, 0, 0, 0, 0, 0],\n",
              "  [1, 1, 1, 1, 1, 1],\n",
              "  [2, 2, 2, 2, 2, 2],\n",
              "  [3, 3, 3, 3, 3, 3]],\n",
              " [[0, 0, 0, 0, 0, 0],\n",
              "  [2, 2, 2, 2, 2, 2],\n",
              "  [4, 4, 4, 4, 4, 4],\n",
              "  [6, 6, 6, 6, 6, 6]],\n",
              " [[0, 0, 0, 0, 0, 0],\n",
              "  [3, 3, 3, 3, 3, 3],\n",
              "  [6, 6, 6, 6, 6, 6],\n",
              "  [9, 9, 9, 9, 9, 9]]]"
            ]
          },
          "metadata": {
            "tags": []
          },
          "execution_count": 14
        }
      ]
    },
    {
      "cell_type": "code",
      "metadata": {
        "id": "lYNv8gk794_p",
        "outputId": "d12efa24-d4a4-4822-bc7e-31a83184975a",
        "colab": {
          "base_uri": "https://localhost:8080/"
        }
      },
      "source": [
        "#Write a Python program which takes a list of numbers as input and prints a new list after removing even numbers from it.\n",
        "#Input:- [10,21,22,98,87,45,33,1,2,100]\n",
        "#Output:- [21,87,45,33,1]\n",
        "\n",
        "a = [10,21,22,98,87,45,33,1,2,100]\n",
        "[x for x in a if x % 2 != 0]"
      ],
      "execution_count": 15,
      "outputs": [
        {
          "output_type": "execute_result",
          "data": {
            "text/plain": [
              "[21, 87, 45, 33, 1]"
            ]
          },
          "metadata": {
            "tags": []
          },
          "execution_count": 15
        }
      ]
    },
    {
      "cell_type": "code",
      "metadata": {
        "id": "3BaCb-rB95B7",
        "outputId": "a4ed0df6-5c18-476e-cf87-1a4485802dc4",
        "colab": {
          "base_uri": "https://localhost:8080/"
        }
      },
      "source": [
        "#Write a Python program which takes a list from the user and prints it after reshuffling the elements of the list.\n",
        "#Input:- [10,21,22,98,87,45,33,1,2,100]\n",
        "#Output:- [1,87,21,10,33,2,100,45,98,22] (It may be any randon list but with same elements)\n",
        "\n",
        "import random\n",
        "def shuffle_list(list_x):\n",
        "\n",
        "    '''\n",
        "    Takes a list and returns a shuffled list without any replacements\n",
        "    '''\n",
        "    index = []\n",
        "    b = []\n",
        "    while len(b)!=len(list_x):\n",
        "        rand_index = random.randint(0,len(list_x)-1)\n",
        "        if rand_index not in index:\n",
        "            b.append(list_x[rand_index])\n",
        "            index.append(rand_index)\n",
        "\n",
        "    return b\n",
        "\n",
        "a = [10,21,22,98,87,45,33,1,2,100]\n",
        "b = [1,87,21,10,33,2,100,45,98,22,100,1000,1000,200,400,10e10]\n",
        "\n",
        "print(shuffle_list(a))\n",
        "print(shuffle_list(b))"
      ],
      "execution_count": 16,
      "outputs": [
        {
          "output_type": "stream",
          "text": [
            "[21, 10, 22, 33, 45, 100, 98, 87, 2, 1]\n",
            "[87, 1, 100000000000.0, 100, 33, 22, 10, 1000, 21, 45, 98, 2, 400, 1000, 100, 200]\n"
          ],
          "name": "stdout"
        }
      ]
    }
  ]
}
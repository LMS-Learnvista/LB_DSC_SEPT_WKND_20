{
  "nbformat": 4,
  "nbformat_minor": 0,
  "metadata": {
    "colab": {
      "name": "List_Assignment.ipynb",
      "provenance": [],
      "include_colab_link": true
    },
    "kernelspec": {
      "name": "python3",
      "display_name": "Python 3"
    }
  },
  "cells": [
    {
      "cell_type": "markdown",
      "metadata": {
        "id": "view-in-github",
        "colab_type": "text"
      },
      "source": [
        "<a href=\"https://colab.research.google.com/github/kavyajeetbora/LB_DSC_SEPT_WKND_20/blob/master/kavyajeet/week2_assignment/List_Assignment.ipynb\" target=\"_parent\"><img src=\"https://colab.research.google.com/assets/colab-badge.svg\" alt=\"Open In Colab\"/></a>"
      ]
    },
    {
      "cell_type": "code",
      "metadata": {
        "id": "gtlAv2oq9yzd",
        "outputId": "8a0e961d-57af-476a-e715-c77aab2bee38",
        "colab": {
          "base_uri": "https://localhost:8080/"
        }
      },
      "source": [
        "#Write a Python program to find the sum of all elements in a list using loop.\n",
        "#Input:- [10,20,30,40]\n",
        "#Output:- 100\n",
        "\n",
        "list1 = [10,20,30,40]\n",
        "def sum_of_list_elements(list1):\n",
        "    '''returns multiplication of all elements in a list'''\n",
        "    total = 0\n",
        "    for i in list1:\n",
        "        total += i\n",
        "    return total\n",
        "    \n",
        "print(sum_of_list_elements(list1))"
      ],
      "execution_count": 1,
      "outputs": [
        {
          "output_type": "stream",
          "text": [
            "100\n"
          ],
          "name": "stdout"
        }
      ]
    },
    {
      "cell_type": "code",
      "metadata": {
        "id": "gTbA8psa93Y_",
        "outputId": "f0b64d12-7a2d-4e20-ad99-4bec0b59b4cf",
        "colab": {
          "base_uri": "https://localhost:8080/"
        }
      },
      "source": [
        "#Write a Python program to find the multiplication of all elements in a list using loop.\n",
        "#Input:- [10,20,30,40]\n",
        "#Output:- 240000\n",
        "\n",
        "def product_of_list_elements(list1):\n",
        "    '''returns multiplication of all elements in a list'''\n",
        "    prod = 1\n",
        "    for i in list1:\n",
        "        prod *= i\n",
        "    return prod\n",
        "\n",
        "list1 = [10,20,30,40]\n",
        "product_of_list_elements(list1)"
      ],
      "execution_count": 2,
      "outputs": [
        {
          "output_type": "execute_result",
          "data": {
            "text/plain": [
              "240000"
            ]
          },
          "metadata": {
            "tags": []
          },
          "execution_count": 2
        }
      ]
    },
    {
      "cell_type": "code",
      "metadata": {
        "id": "XBCrEtLN94Lj",
        "outputId": "d77c24bb-1c82-4e45-84de-7a0294bf5de8",
        "colab": {
          "base_uri": "https://localhost:8080/"
        }
      },
      "source": [
        "#Write a Python program to find the largest number from a list using loop.\n",
        "#Input:- [10,100,2321, 1,200,2]\n",
        "#Output:- 2321\n",
        "\n",
        "def maximum_number(list1):\n",
        "    '''\n",
        "    Returns the maximum number from a given list\n",
        "    '''\n",
        "    max = list1[0]\n",
        "    for i in list1:\n",
        "        if i>max:\n",
        "            max=i\n",
        "    \n",
        "    return max\n",
        "\n",
        "list1 = [10,100,2321, 1,200,2]\n",
        "maximum_number(list1)"
      ],
      "execution_count": 3,
      "outputs": [
        {
          "output_type": "execute_result",
          "data": {
            "text/plain": [
              "2321"
            ]
          },
          "metadata": {
            "tags": []
          },
          "execution_count": 3
        }
      ]
    },
    {
      "cell_type": "code",
      "metadata": {
        "id": "l3paUtbH94Vw",
        "outputId": "6f0d075f-a317-43a1-8438-0434e238fdd8",
        "colab": {
          "base_uri": "https://localhost:8080/"
        }
      },
      "source": [
        "#Write a Python program to find the smallest number from a list using loop.\n",
        "#Input:- [10,100,2321, 1,200,2]\n",
        "#Output:- 1\n",
        "\n",
        "def minimum_number(list1):\n",
        "    '''\n",
        "    Returns the maximum number from a given list\n",
        "    '''\n",
        "    min = list1[0]\n",
        "    for i in list1:\n",
        "        if i<min:\n",
        "            min=i\n",
        "    return min\n",
        "\n",
        "list1 = [10,100,2321,1,200,2]\n",
        "minimum_number(list1)"
      ],
      "execution_count": 4,
      "outputs": [
        {
          "output_type": "execute_result",
          "data": {
            "text/plain": [
              "1"
            ]
          },
          "metadata": {
            "tags": []
          },
          "execution_count": 4
        }
      ]
    },
    {
      "cell_type": "code",
      "metadata": {
        "id": "JTVgy5VD94cE",
        "outputId": "92a841d8-f175-4cf6-e79d-352a363fc0ca",
        "colab": {
          "base_uri": "https://localhost:8080/"
        }
      },
      "source": [
        "#Write a Python program to count the number of strings having length more than 2 and are palindrome in a list using loop.\n",
        "#Input:- ['ab', 'abc', 'aba', 'xyz', '1991']\n",
        "#Output:- 2\n",
        "\n",
        "list1 = ['ab', 'abc', 'aba', 'xyz', '1991']\n",
        "cond = []  ## len more than 2 and are palindrome\n",
        "for i in list1:\n",
        "    if len(i)>2  and i==i[::-1]:\n",
        "        cond.append(i)\n",
        "\n",
        "len(cond)"
      ],
      "execution_count": 5,
      "outputs": [
        {
          "output_type": "execute_result",
          "data": {
            "text/plain": [
              "2"
            ]
          },
          "metadata": {
            "tags": []
          },
          "execution_count": 5
        }
      ]
    },
    {
      "cell_type": "code",
      "metadata": {
        "id": "xs-ZGJbJ94gr"
      },
      "source": [
        "#Write a Python program to sort a list in ascending order using loop.\n",
        "#Input:- [100,10,1,298,65,483,49876,2,80,9,9213]\n",
        "#Output:- [1,2,9,10,65,80,100,298,483,9213,49876]\n",
        "\n"
      ],
      "execution_count": 6,
      "outputs": []
    },
    {
      "cell_type": "code",
      "metadata": {
        "id": "VhKQJizZ94kg"
      },
      "source": [
        "#Write a Python program to get a sorted list in increasing order of last element in each tuple in a given list using loop.\n",
        "#Input:- [(5,4),(9,1),(2,3),(5,9),(7,6),(5,5)]\n",
        "#output:- [(9,1),(2,3),(5,4),(5,5),(7,6),(5,9)]\n",
        "\n",
        "\n"
      ],
      "execution_count": 7,
      "outputs": []
    },
    {
      "cell_type": "code",
      "metadata": {
        "id": "YJrCLYp694n_",
        "outputId": "2e679f7f-4870-473c-f3de-6217cc87d57e",
        "colab": {
          "base_uri": "https://localhost:8080/"
        }
      },
      "source": [
        "#Write a Python program to remove duplicate element from a list using loop.\n",
        "#Input:- [10,1,11,1,29,876,768,10,11,1,92,29,876]\n",
        "#Output:- [10,1,11,29,876,768,92]\n",
        "\n",
        "def remove_duplicate(x):\n",
        "    '''\n",
        "    Function to remove duplicate elements from a given list\n",
        "    '''\n",
        "    out = []\n",
        "    for i in x:\n",
        "        if i not in out:\n",
        "            out.append(i)\n",
        "    return out\n",
        "\n",
        "\n",
        "x = [10,1,11,1,29,876,768,10,11,1,92,29,876]\n",
        "print(remove_duplicate(x))"
      ],
      "execution_count": 47,
      "outputs": [
        {
          "output_type": "stream",
          "text": [
            "[10, 1, 11, 29, 876, 768, 92]\n"
          ],
          "name": "stdout"
        }
      ]
    },
    {
      "cell_type": "code",
      "metadata": {
        "id": "koYe4YCu94rh",
        "outputId": "d0dbdfa6-c431-4cbb-9c1b-bf920e3a0cff",
        "colab": {
          "base_uri": "https://localhost:8080/"
        }
      },
      "source": [
        "#Write a Python program to check a list is empty or not?\n",
        "#Input:- []\n",
        "#Output:- List is empty\n",
        "#Input:- [10,20,30]\n",
        "#Output:- List is not empty\n",
        "\n",
        "\n",
        "def is_empty_list(x):\n",
        "    if type(x) is list and len(x)>0:\n",
        "        return \"Lits is not empty\"\n",
        "    else:\n",
        "        return \"Lits is empty\"\n",
        "\n",
        "print(is_empty_list([]))\n",
        "print(is_empty_list([10]))\n",
        "print(is_empty_list([10,20,30]))"
      ],
      "execution_count": 46,
      "outputs": [
        {
          "output_type": "stream",
          "text": [
            "Lits is empty\n",
            "Lits is not empty\n",
            "Lits is not empty\n"
          ],
          "name": "stdout"
        }
      ]
    },
    {
      "cell_type": "code",
      "metadata": {
        "id": "mES1WANa94u5",
        "outputId": "a08be735-c9e7-4dcb-8905-1a60b011d67e",
        "colab": {
          "base_uri": "https://localhost:8080/"
        }
      },
      "source": [
        "#Write a Python program to copy a list using loop.\n",
        "#inp_lst = [10,10.20,10+20j, 'Python', [10,20], (10,20)]\n",
        "#out_lst = [10,10.20,10+20j, 'Python', [10,20], (10,20)]\n",
        "\n",
        "def copy_list(list1):\n",
        "    copy = []\n",
        "    for i in list1:\n",
        "        copy.append(i)\n",
        "\n",
        "    return copy\n",
        "\n",
        "x = [10,10.20,10+20j, 'Python', [10,20], (10,20)]\n",
        "y = copy_list(x)\n",
        "print(y)\n",
        "print(id(x), id(y))"
      ],
      "execution_count": 40,
      "outputs": [
        {
          "output_type": "stream",
          "text": [
            "[10, 10.2, (10+20j), 'Python', [10, 20], (10, 20)]\n",
            "140370063772488 140370064118472\n"
          ],
          "name": "stdout"
        }
      ]
    },
    {
      "cell_type": "code",
      "metadata": {
        "id": "CpBh31WO94yi",
        "outputId": "782bdb50-fb4b-4617-8d0b-19523337b1e7",
        "colab": {
          "base_uri": "https://localhost:8080/"
        }
      },
      "source": [
        "#Write a Python program to find the list of words that are longer than or equal to 4 from a given string.\n",
        "#Input:- 'How much wood would a woodchuck chuck if a woodchuck could chuck wood'\n",
        "#Output:- ['much', 'wood', 'would', 'woodchuck', 'chuck', 'could']\n",
        "#Note:- Duplicate should be avoided.\n",
        "\n",
        "\n",
        "## method 1\n",
        "string = 'How much wood would a woodchuck chuck if a woodchuck could chuck wood'\n",
        "print(list(set([x for x in string.split() if len(x) >=4])))\n",
        "\n",
        "\n",
        "## method 2\n",
        "words = []\n",
        "for i in string.split():\n",
        "    if len(i)>=4 and i not in words:\n",
        "        words.append(i)\n",
        "\n",
        "words"
      ],
      "execution_count": 39,
      "outputs": [
        {
          "output_type": "stream",
          "text": [
            "['would', 'wood', 'could', 'chuck', 'woodchuck', 'much']\n"
          ],
          "name": "stdout"
        },
        {
          "output_type": "execute_result",
          "data": {
            "text/plain": [
              "['much', 'wood', 'would', 'woodchuck', 'chuck', 'could']"
            ]
          },
          "metadata": {
            "tags": []
          },
          "execution_count": 39
        }
      ]
    },
    {
      "cell_type": "code",
      "metadata": {
        "id": "YVfj0fgZ9416"
      },
      "source": [
        "#Write a Python program which takes two list as input and returns True if they have at least 3 common elements.\n",
        "#inp_lst1 = [10,20,'Python', 10.20, 10+20j, [10,20,30], (10,20,30)]\n",
        "#inp_lst2 = [(10,20,30),1,20+3j,100.2, 10+20j, [10,20,30],'Python']\n",
        "#Output:- True\n",
        "\n",
        "\n"
      ],
      "execution_count": 12,
      "outputs": []
    },
    {
      "cell_type": "code",
      "metadata": {
        "id": "7vwc3pjR945O"
      },
      "source": [
        "#Write a Python program to create a 4X4 2D matrix with below elements using loop and list comprehension both.\n",
        "#Output:- [[0,0,0,0],[0,1,2,3],[0,2,4,6],[0,3,6,9]]\n",
        "\n",
        "\n"
      ],
      "execution_count": 13,
      "outputs": []
    },
    {
      "cell_type": "code",
      "metadata": {
        "id": "Pxafor84948b"
      },
      "source": [
        "#Write a Python program to create a 3X4X6 3D matrix wiith below elements using loop\n",
        "#Output:- \n",
        "# [\n",
        "#     [[0,0,0,0,0,0],[0,0,0,0,0,0],[0,0,0,0,0,0],[0,0,0,0,0,0]],\n",
        "#     [[0,0,0,0,0,0],[1,1,1,1,1,1],[2,2,2,2,2,2],[3,3,3,3,3,3]],\n",
        "#     [[0,0,0,0,0,0],[2,2,2,2,2,2],[4,4,4,4,4,4],[6,6,6,6,6,6]]\n",
        "# ]\n",
        "\n",
        "rows  = 3\n",
        "cols = 4\n",
        "elements = 6\n",
        "\n",
        "for i in range(6):\n",
        "    \n"
      ],
      "execution_count": 14,
      "outputs": []
    },
    {
      "cell_type": "code",
      "metadata": {
        "id": "lYNv8gk794_p",
        "outputId": "bff5579a-40a0-4ca9-a34a-c5fea8664b30",
        "colab": {
          "base_uri": "https://localhost:8080/"
        }
      },
      "source": [
        "#Write a Python program which takes a list of numbers as input and prints a new list after removing even numbers from it.\n",
        "#Input:- [10,21,22,98,87,45,33,1,2,100]\n",
        "#Output:- [21,87,45,33,1]\n",
        "\n",
        "a = [10,21,22,98,87,45,33,1,2,100]\n",
        "[x for x in a if x % 2 != 0]"
      ],
      "execution_count": 35,
      "outputs": [
        {
          "output_type": "execute_result",
          "data": {
            "text/plain": [
              "[21, 87, 45, 33, 1]"
            ]
          },
          "metadata": {
            "tags": []
          },
          "execution_count": 35
        }
      ]
    },
    {
      "cell_type": "code",
      "metadata": {
        "id": "3BaCb-rB95B7",
        "outputId": "01c816df-ba09-42e5-e5e1-210b7105834d",
        "colab": {
          "base_uri": "https://localhost:8080/"
        }
      },
      "source": [
        "#Write a Python program which takes a list from the user and prints it after reshuffling the elements of the list.\n",
        "#Input:- [10,21,22,98,87,45,33,1,2,100]\n",
        "#Output:- [1,87,21,10,33,2,100,45,98,22] (It may be any randon list but with same elements)\n",
        "\n",
        "import random\n",
        "def shuffle_list(list_x):\n",
        "\n",
        "    '''\n",
        "    Takes a list and returns a shuffled list without any replacements\n",
        "    '''\n",
        "    index = []\n",
        "    b = []\n",
        "    while len(b)!=len(list_x):\n",
        "        rand_index = random.randint(0,len(list_x)-1)\n",
        "        if rand_index not in index:\n",
        "            b.append(list_x[rand_index])\n",
        "            index.append(rand_index)\n",
        "\n",
        "    return b\n",
        "\n",
        "a = [10,21,22,98,87,45,33,1,2,100]\n",
        "b = [1,87,21,10,33,2,100,45,98,22,100,1000,1000,200,400,10e10]\n",
        "\n",
        "print(shuffle_list(a))\n",
        "print(shuffle_list(b))"
      ],
      "execution_count": 33,
      "outputs": [
        {
          "output_type": "stream",
          "text": [
            "[100, 98, 1, 33, 10, 45, 21, 22, 87, 2]\n",
            "[1000, 22, 1, 33, 87, 100000000000.0, 400, 100, 21, 1000, 45, 200, 2, 10, 100, 98]\n"
          ],
          "name": "stdout"
        }
      ]
    }
  ]
}
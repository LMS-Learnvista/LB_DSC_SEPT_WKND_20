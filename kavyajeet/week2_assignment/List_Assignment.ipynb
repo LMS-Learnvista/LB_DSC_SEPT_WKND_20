{
  "nbformat": 4,
  "nbformat_minor": 0,
  "metadata": {
    "colab": {
      "name": "List_Assignment.ipynb",
      "provenance": [],
      "include_colab_link": true
    },
    "kernelspec": {
      "name": "python3",
      "display_name": "Python 3"
    }
  },
  "cells": [
    {
      "cell_type": "markdown",
      "metadata": {
        "id": "view-in-github",
        "colab_type": "text"
      },
      "source": [
        "<a href=\"https://colab.research.google.com/github/kavyajeetbora/LB_DSC_SEPT_WKND_20/blob/master/kavyajeet/week2_assignment/List_Assignment.ipynb\" target=\"_parent\"><img src=\"https://colab.research.google.com/assets/colab-badge.svg\" alt=\"Open In Colab\"/></a>"
      ]
    },
    {
      "cell_type": "code",
      "metadata": {
        "id": "gtlAv2oq9yzd",
        "outputId": "692788f5-3431-4065-eae4-0a4256264d60",
        "colab": {
          "base_uri": "https://localhost:8080/"
        }
      },
      "source": [
        "#Write a Python program to find the sum of all elements in a list using loop.\n",
        "#Input:- [10,20,30,40]\n",
        "#Output:- 100\n",
        "\n",
        "list1 = [10,20,30,40]\n",
        "def sum_of_list_elements(list1):\n",
        "    '''returns multiplication of all elements in a list'''\n",
        "    total = 0\n",
        "    for i in list1:\n",
        "        total += i\n",
        "    return total\n",
        "    \n",
        "print(sum_of_list_elements(list1))"
      ],
      "execution_count": 2,
      "outputs": [
        {
          "output_type": "stream",
          "text": [
            "100\n"
          ],
          "name": "stdout"
        }
      ]
    },
    {
      "cell_type": "code",
      "metadata": {
        "id": "gTbA8psa93Y_",
        "outputId": "2c449a84-db58-48c1-d365-6a955ccc24c3",
        "colab": {
          "base_uri": "https://localhost:8080/"
        }
      },
      "source": [
        "#Write a Python program to find the multiplication of all elements in a list using loop.\n",
        "#Input:- [10,20,30,40]\n",
        "#Output:- 240000\n",
        "\n",
        "def product_of_list_elements(list1):\n",
        "    '''returns multiplication of all elements in a list'''\n",
        "    prod = 1\n",
        "    for i in list1:\n",
        "        prod *= i\n",
        "    return prod\n",
        "\n",
        "list1 = [10,20,30,40]\n",
        "product_of_list_elements(list1)"
      ],
      "execution_count": 3,
      "outputs": [
        {
          "output_type": "execute_result",
          "data": {
            "text/plain": [
              "240000"
            ]
          },
          "metadata": {
            "tags": []
          },
          "execution_count": 3
        }
      ]
    },
    {
      "cell_type": "code",
      "metadata": {
        "id": "XBCrEtLN94Lj",
        "outputId": "63ed05fb-006c-4f3b-aa99-90e335f278a7",
        "colab": {
          "base_uri": "https://localhost:8080/"
        }
      },
      "source": [
        "#Write a Python program to find the largest number from a list using loop.\n",
        "#Input:- [10,100,2321, 1,200,2]\n",
        "#Output:- 2321\n",
        "\n",
        "def maximum_number(list1):\n",
        "    '''\n",
        "    Returns the maximum number from a given list\n",
        "    '''\n",
        "    max = list1[0]\n",
        "    for i in list1:\n",
        "        if i>max:\n",
        "            max=i\n",
        "    \n",
        "    return max\n",
        "\n",
        "list1 = [10,100,2321, 1,200,2]\n",
        "maximum_number(list1)"
      ],
      "execution_count": 10,
      "outputs": [
        {
          "output_type": "execute_result",
          "data": {
            "text/plain": [
              "2321"
            ]
          },
          "metadata": {
            "tags": []
          },
          "execution_count": 10
        }
      ]
    },
    {
      "cell_type": "code",
      "metadata": {
        "id": "l3paUtbH94Vw",
        "outputId": "1a3c5619-4928-4ac7-ac5a-52cfc6fec0da",
        "colab": {
          "base_uri": "https://localhost:8080/"
        }
      },
      "source": [
        "#Write a Python program to find the smallest number from a list using loop.\n",
        "#Input:- [10,100,2321, 1,200,2]\n",
        "#Output:- 1\n",
        "\n",
        "def minimum_number(list1):\n",
        "    '''\n",
        "    Returns the maximum number from a given list\n",
        "    '''\n",
        "    min = list1[0]\n",
        "    for i in list1:\n",
        "        if i<min:\n",
        "            min=i\n",
        "    return min\n",
        "\n",
        "list1 = [10,100,2321,1,200,2]\n",
        "minimum_number(list1)"
      ],
      "execution_count": 6,
      "outputs": [
        {
          "output_type": "execute_result",
          "data": {
            "text/plain": [
              "1"
            ]
          },
          "metadata": {
            "tags": []
          },
          "execution_count": 6
        }
      ]
    },
    {
      "cell_type": "code",
      "metadata": {
        "id": "JTVgy5VD94cE",
        "outputId": "0b4c2e9a-429f-46c9-ff4b-7515000f013a",
        "colab": {
          "base_uri": "https://localhost:8080/"
        }
      },
      "source": [
        "#Write a Python program to count the number of strings having length more than 2 and are palindrome in a list using loop.\n",
        "#Input:- ['ab', 'abc', 'aba', 'xyz', '1991']\n",
        "#Output:- 2\n",
        "\n",
        "list1 = ['ab', 'abc', 'aba', 'xyz', '1991']\n",
        "cond = []  ## len more than 2 and are palindrome\n",
        "for i in list1:\n",
        "    if len(i)>2  and i==i[::-1]:\n",
        "        cond.append(i)\n",
        "\n",
        "len(cond)"
      ],
      "execution_count": 11,
      "outputs": [
        {
          "output_type": "execute_result",
          "data": {
            "text/plain": [
              "2"
            ]
          },
          "metadata": {
            "tags": []
          },
          "execution_count": 11
        }
      ]
    },
    {
      "cell_type": "code",
      "metadata": {
        "id": "xs-ZGJbJ94gr"
      },
      "source": [
        "#Write a Python program to sort a list in ascending order using loop.\n",
        "#Input:- [100,10,1,298,65,483,49876,2,80,9,9213]\n",
        "#Output:- [1,2,9,10,65,80,100,298,483,9213,49876]\n",
        "\n"
      ],
      "execution_count": null,
      "outputs": []
    },
    {
      "cell_type": "code",
      "metadata": {
        "id": "VhKQJizZ94kg"
      },
      "source": [
        "#Write a Python program to get a sorted list in increasing order of last element in each tuple in a given list using loop.\n",
        "#Input:- [(5,4),(9,1),(2,3),(5,9),(7,6),(5,5)]\n",
        "#output:- [(9,1),(2,3),(5,4),(5,5),(7,6),(5,9)]\n",
        "\n",
        "\n"
      ],
      "execution_count": null,
      "outputs": []
    },
    {
      "cell_type": "code",
      "metadata": {
        "id": "YJrCLYp694n_"
      },
      "source": [
        "#Write a Python program to remove fuplicate element from a list using loop.\n",
        "#Input:- [10,1,11,1,29,876,768,10,11,1,92,29,876]\n",
        "#Output:- [10,1,11,29,876,768,92]\n",
        "\n",
        "\n"
      ],
      "execution_count": null,
      "outputs": []
    },
    {
      "cell_type": "code",
      "metadata": {
        "id": "koYe4YCu94rh"
      },
      "source": [
        "#Write a Python program to check a list is empty or not?\n",
        "#Input:- []\n",
        "#Output:- List is empty\n",
        "#Input:- [10,20,30]\n",
        "#Output:- List is not empty\n",
        "\n",
        "\n"
      ],
      "execution_count": null,
      "outputs": []
    },
    {
      "cell_type": "code",
      "metadata": {
        "id": "mES1WANa94u5"
      },
      "source": [
        "#Write a Python program to copy a list using loop.\n",
        "#inp_lst = [10,10.20,10+20j, 'Python', [10,20], (10,20)]\n",
        "#out_lst = [10,10.20,10+20j, 'Python', [10,20], (10,20)]\n",
        "\n",
        "\n"
      ],
      "execution_count": null,
      "outputs": []
    },
    {
      "cell_type": "code",
      "metadata": {
        "id": "CpBh31WO94yi"
      },
      "source": [
        "#Write a Python program to find the list of words that are longer than or equal to 4 from a given string.\n",
        "#Input:- 'How much wood would a woodchuck chuck if a woodchuck could chuck wood'\n",
        "#Output:- ['much', 'wood', 'would', 'woodchuck', 'chuck', 'could']\n",
        "#Note:- Duplicate should be avoided.\n",
        "\n",
        "\n"
      ],
      "execution_count": null,
      "outputs": []
    },
    {
      "cell_type": "code",
      "metadata": {
        "id": "YVfj0fgZ9416"
      },
      "source": [
        "#Write a Python program which takes two list as input and returns True if they have at least 3 common elements.\n",
        "#inp_lst1 = [10,20,'Python', 10.20, 10+20j, [10,20,30], (10,20,30)]\n",
        "#inp_lst2 = [(10,20,30),1,20+3j,100.2, 10+20j, [10,20,30],'Python']\n",
        "#Output:- True\n",
        "\n",
        "\n"
      ],
      "execution_count": null,
      "outputs": []
    },
    {
      "cell_type": "code",
      "metadata": {
        "id": "7vwc3pjR945O"
      },
      "source": [
        "#Write a Python program to create a 4X4 2D matrix with below elements using loop and list comprehension both.\n",
        "#Output:- [[0,0,0,0],[0,1,2,3],[0,2,4,6],[0,3,6,9]]\n",
        "\n",
        "\n"
      ],
      "execution_count": null,
      "outputs": []
    },
    {
      "cell_type": "code",
      "metadata": {
        "id": "Pxafor84948b"
      },
      "source": [
        "#Write a Python program to create a 3X4X6 3D matrix wiith below elements using loop\n",
        "#Output:- \n",
        "# [\n",
        "#     [[0,0,0,0,0,0],[0,0,0,0,0,0],[0,0,0,0,0,0],[0,0,0,0,0,0]],\n",
        "#     [[0,0,0,0,0,0],[1,1,1,1,1,1],[2,2,2,2,2,2],[3,3,3,3,3,3]],\n",
        "#     [[0,0,0,0,0,0],[2,2,2,2,2,2],[4,4,4,4,4,4],[6,6,6,6,6,6]]\n",
        "# ]\n",
        "\n",
        "\n"
      ],
      "execution_count": null,
      "outputs": []
    },
    {
      "cell_type": "code",
      "metadata": {
        "id": "lYNv8gk794_p"
      },
      "source": [
        "#Write a Python program which takes a list of numbers as input and prints a new list after removing even numbers from it.\n",
        "#Input:- [10,21,22,98,87,45,33,1,2,100]\n",
        "#Output:- [21,87,45,33,1]\n",
        "\n",
        "\n"
      ],
      "execution_count": null,
      "outputs": []
    },
    {
      "cell_type": "code",
      "metadata": {
        "id": "3BaCb-rB95B7"
      },
      "source": [
        "#Write a Python program which takes a list from the user and prints it after reshuffling the elements of the list.\n",
        "#Input:- [10,21,22,98,87,45,33,1,2,100]\n",
        "#Output:- [1,87,21,10,33,2,100,45,98,22] (It may be any randon list but with same elements)\n",
        "\n",
        "\n"
      ],
      "execution_count": null,
      "outputs": []
    }
  ]
}
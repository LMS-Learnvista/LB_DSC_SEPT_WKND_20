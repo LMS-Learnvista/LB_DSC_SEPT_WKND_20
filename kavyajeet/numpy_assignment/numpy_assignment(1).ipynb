{
  "nbformat": 4,
  "nbformat_minor": 0,
  "metadata": {
    "colab": {
      "name": "numpy_assignment.ipynb",
      "provenance": []
    },
    "kernelspec": {
      "name": "python3",
      "display_name": "Python 3"
    }
  },
  "cells": [
    {
      "cell_type": "code",
      "metadata": {
        "id": "n0XYfY1_OGvQ"
      },
      "source": [
        "import numpy as np\n",
        "import matplotlib.pyplot as plt"
      ],
      "execution_count": null,
      "outputs": []
    },
    {
      "cell_type": "code",
      "metadata": {
        "colab": {
          "base_uri": "https://localhost:8080/",
          "height": 36
        },
        "id": "roUQ6OdaPPOs",
        "outputId": "e129fd5d-5ff0-40f8-8949-7cf75fec42da"
      },
      "source": [
        "# Write a Python program to print the NumPy version in your system\n",
        "np.version.version"
      ],
      "execution_count": null,
      "outputs": [
        {
          "output_type": "execute_result",
          "data": {
            "application/vnd.google.colaboratory.intrinsic+json": {
              "type": "string"
            },
            "text/plain": [
              "'1.18.5'"
            ]
          },
          "metadata": {
            "tags": []
          },
          "execution_count": 5
        }
      ]
    },
    {
      "cell_type": "code",
      "metadata": {
        "colab": {
          "base_uri": "https://localhost:8080/"
        },
        "id": "x6eRcL54PoYH",
        "outputId": "74fe3d3b-315a-4885-9fa1-c7c4c4b3aae4"
      },
      "source": [
        "# Write a Python program to reverse an array (first element becomes last)\n",
        "a = np.array([1,2,3,4,5,6,7,8,9])\n",
        "print(a)\n",
        "a[::-1]"
      ],
      "execution_count": null,
      "outputs": [
        {
          "output_type": "stream",
          "text": [
            "[1 2 3 4 5 6 7 8 9]\n"
          ],
          "name": "stdout"
        },
        {
          "output_type": "execute_result",
          "data": {
            "text/plain": [
              "array([9, 8, 7, 6, 5, 4, 3, 2, 1])"
            ]
          },
          "metadata": {
            "tags": []
          },
          "execution_count": 10
        }
      ]
    },
    {
      "cell_type": "code",
      "metadata": {
        "colab": {
          "base_uri": "https://localhost:8080/"
        },
        "id": "6XyTOpk3QAgk",
        "outputId": "f79a2335-46ab-43ef-9a9e-586d32e35adc"
      },
      "source": [
        "# Write a Python program to convert a list and tuple into arrays\n",
        "a = (1,2,3,4,5,6)\n",
        "b = [1,2,3,4,5,6]\n",
        "print(type(a),type(b))\n",
        "print(a)\n",
        "print(b)\n",
        "\n",
        "# converting them to arrays\n",
        "a = np.array(a)\n",
        "b = np.array(b)\n",
        "print(type(a),type(b))\n",
        "print(a)\n",
        "print(b)"
      ],
      "execution_count": null,
      "outputs": [
        {
          "output_type": "stream",
          "text": [
            "<class 'tuple'> <class 'list'>\n",
            "(1, 2, 3, 4, 5, 6)\n",
            "[1, 2, 3, 4, 5, 6]\n",
            "<class 'numpy.ndarray'> <class 'numpy.ndarray'>\n",
            "[1 2 3 4 5 6]\n",
            "[1 2 3 4 5 6]\n"
          ],
          "name": "stdout"
        }
      ]
    },
    {
      "cell_type": "code",
      "metadata": {
        "colab": {
          "base_uri": "https://localhost:8080/"
        },
        "id": "arEFOLi_QfxO",
        "outputId": "a7476f86-9770-4d3e-b92b-e190ae74c999"
      },
      "source": [
        "# Write a Python program to find common values between two arrays\n",
        "a = [1,2,3,4,5]\n",
        "b = [9,4,5,2,7,8,1]\n",
        "np.intersect1d(a,b)"
      ],
      "execution_count": null,
      "outputs": [
        {
          "output_type": "execute_result",
          "data": {
            "text/plain": [
              "array([1, 2, 4, 5])"
            ]
          },
          "metadata": {
            "tags": []
          },
          "execution_count": 15
        }
      ]
    },
    {
      "cell_type": "code",
      "metadata": {
        "colab": {
          "base_uri": "https://localhost:8080/"
        },
        "id": "jUk8V-_AQ5iy",
        "outputId": "7659e6f3-2ed5-413c-dcd7-aacbfce3f11e"
      },
      "source": [
        "# Write a Python program compare two arrays using numpy\n",
        "a = np.array([1,2,3,4,5])\n",
        "b = np.array([9,4,5,2,7,8,1])\n",
        "np.array_equal(a,b)"
      ],
      "execution_count": null,
      "outputs": [
        {
          "output_type": "execute_result",
          "data": {
            "text/plain": [
              "False"
            ]
          },
          "metadata": {
            "tags": []
          },
          "execution_count": 24
        }
      ]
    },
    {
      "cell_type": "code",
      "metadata": {
        "colab": {
          "base_uri": "https://localhost:8080/"
        },
        "id": "dp8WPHb1R5Hr",
        "outputId": "56ce72fb-e069-4757-d693-99ed938956be"
      },
      "source": [
        "a = np.array([1,1,1]) == np.array([1,1,1])\n",
        "a"
      ],
      "execution_count": null,
      "outputs": [
        {
          "output_type": "execute_result",
          "data": {
            "text/plain": [
              "array([ True,  True,  True])"
            ]
          },
          "metadata": {
            "tags": []
          },
          "execution_count": 28
        }
      ]
    },
    {
      "cell_type": "code",
      "metadata": {
        "colab": {
          "base_uri": "https://localhost:8080/"
        },
        "id": "oPiVkWnQR889",
        "outputId": "d83408a5-4710-4662-b088-022c3b02a0ab"
      },
      "source": [
        "a.all()"
      ],
      "execution_count": null,
      "outputs": [
        {
          "output_type": "execute_result",
          "data": {
            "text/plain": [
              "True"
            ]
          },
          "metadata": {
            "tags": []
          },
          "execution_count": 29
        }
      ]
    },
    {
      "cell_type": "markdown",
      "metadata": {
        "id": "YkoC4pAwSUcL"
      },
      "source": [
        "**Note:**\n",
        "(A==B).all() will crash if A and B have different lengths\n",
        "\n",
        "[Better solution is to use np.array_equal() function for comparison. ](https://stackoverflow.com/a/10580782/6819442) \n",
        "\n"
      ]
    },
    {
      "cell_type": "code",
      "metadata": {
        "colab": {
          "base_uri": "https://localhost:8080/"
        },
        "id": "Ga5zdONHSX1V",
        "outputId": "770d18fe-e115-42b5-b862-1e595ec35fb9"
      },
      "source": [
        "# Write a Python program to change the dimension of an array\n",
        "a = np.zeros(shape=(10,8))\n",
        "print(a.shape)\n",
        "b = a.reshape(4,20)\n",
        "print(b.shape)"
      ],
      "execution_count": null,
      "outputs": [
        {
          "output_type": "stream",
          "text": [
            "(10, 8)\n",
            "(4, 20)\n"
          ],
          "name": "stdout"
        }
      ]
    },
    {
      "cell_type": "code",
      "metadata": {
        "colab": {
          "base_uri": "https://localhost:8080/"
        },
        "id": "8BtjwVLaTIj2",
        "outputId": "f6243226-aeb1-4af6-cd44-6ee3ba8c99dc"
      },
      "source": [
        "# Write a Python program (using numpy) to sum of all the multiples of 3 or 5 below 100\n",
        "a = np.random.randint(low=1,high=100,size=(5,5))\n",
        "print(\"Original array:\")\n",
        "print(a)\n",
        "print(\"-\"*30)\n",
        "\n",
        "print(\"Filtered array:\")\n",
        "filtered_array = np.where(np.logical_or(a%3==0, a%5==0), a, 0)\n",
        "print(filtered_array)\n",
        "print(\"-\"*30)\n",
        "\n",
        "print(\"Summation of elements divisible by 3 or 5\")\n",
        "filtered_array.sum()"
      ],
      "execution_count": null,
      "outputs": [
        {
          "output_type": "stream",
          "text": [
            "Original array:\n",
            "[[63 79 66 39 69]\n",
            " [31 70 21 24 80]\n",
            " [68 78 84 92  7]\n",
            " [75 91 40 47 46]\n",
            " [42 41 26 59 26]]\n",
            "------------------------------\n",
            "Filtered array:\n",
            "[[63  0 66 39 69]\n",
            " [ 0 70 21 24 80]\n",
            " [ 0 78 84  0  0]\n",
            " [75  0 40  0  0]\n",
            " [42  0  0  0  0]]\n",
            "------------------------------\n",
            "Summation of elements divisible by 3 or 5\n"
          ],
          "name": "stdout"
        },
        {
          "output_type": "execute_result",
          "data": {
            "text/plain": [
              "751"
            ]
          },
          "metadata": {
            "tags": []
          },
          "execution_count": 50
        }
      ]
    },
    {
      "cell_type": "markdown",
      "metadata": {
        "id": "CQnFbCbgVi3n"
      },
      "source": [
        "Solution to this error:\n",
        "\n",
        "[ValueError: The truth value of an array with more than one element is ambiguous. Use a.any() or a.all()](https://stackoverflow.com/questions/10062954/valueerror-the-truth-value-of-an-array-with-more-than-one-element-is-ambiguous)"
      ]
    },
    {
      "cell_type": "code",
      "metadata": {
        "colab": {
          "base_uri": "https://localhost:8080/"
        },
        "id": "_lyPuqnMWPLH",
        "outputId": "d2512092-b44f-4dad-8737-64ed6244b584"
      },
      "source": [
        "# Write a Python program to convert a NumPy array into Python list structure\n",
        "a = np.array([1,2,3,4,5])\n",
        "list(a)"
      ],
      "execution_count": null,
      "outputs": [
        {
          "output_type": "execute_result",
          "data": {
            "text/plain": [
              "[1, 2, 3, 4, 5]"
            ]
          },
          "metadata": {
            "tags": []
          },
          "execution_count": 54
        }
      ]
    },
    {
      "cell_type": "code",
      "metadata": {
        "colab": {
          "base_uri": "https://localhost:8080/"
        },
        "id": "IeFrzhVjWdjO",
        "outputId": "7ac87f8c-6f81-40ff-8d6c-abc6f38f9feb"
      },
      "source": [
        "# Write a Python program to how to add an extra column to a numpy array\n",
        "a = np.random.randint(low=1,high=100,size=(5,5))\n",
        "print(a)\n",
        "b = np.random.randint(low=1,high=100,size=(5,1))\n",
        "print(b)\n",
        "np.hstack((a,b))"
      ],
      "execution_count": null,
      "outputs": [
        {
          "output_type": "stream",
          "text": [
            "[[ 8 98 46 69  9]\n",
            " [18 72  6 74 32]\n",
            " [49 69 49 16 49]\n",
            " [78 62 94 17 63]\n",
            " [32 30 67 29 38]]\n",
            "[[ 8]\n",
            " [90]\n",
            " [42]\n",
            " [19]\n",
            " [81]]\n"
          ],
          "name": "stdout"
        },
        {
          "output_type": "execute_result",
          "data": {
            "text/plain": [
              "array([[ 8, 98, 46, 69,  9,  8],\n",
              "       [18, 72,  6, 74, 32, 90],\n",
              "       [49, 69, 49, 16, 49, 42],\n",
              "       [78, 62, 94, 17, 63, 19],\n",
              "       [32, 30, 67, 29, 38, 81]])"
            ]
          },
          "metadata": {
            "tags": []
          },
          "execution_count": 57
        }
      ]
    },
    {
      "cell_type": "code",
      "metadata": {
        "colab": {
          "base_uri": "https://localhost:8080/"
        },
        "id": "aXcv67oMXwg5",
        "outputId": "e45c1740-de3f-4f8e-a5ab-56e9702b143b"
      },
      "source": [
        "np.append(a,b,axis=1)  ## using append method"
      ],
      "execution_count": null,
      "outputs": [
        {
          "output_type": "execute_result",
          "data": {
            "text/plain": [
              "array([[ 8, 98, 46, 69,  9,  8],\n",
              "       [18, 72,  6, 74, 32, 90],\n",
              "       [49, 69, 49, 16, 49, 42],\n",
              "       [78, 62, 94, 17, 63, 19],\n",
              "       [32, 30, 67, 29, 38, 81]])"
            ]
          },
          "metadata": {
            "tags": []
          },
          "execution_count": 60
        }
      ]
    },
    {
      "cell_type": "code",
      "metadata": {
        "colab": {
          "base_uri": "https://localhost:8080/"
        },
        "id": "dzOBggPeX89k",
        "outputId": "7a922166-ffc7-4046-90e2-ebf0adce191d"
      },
      "source": [
        "# Write a Python program to check whether the numpy array is empty or not\n",
        "a = np.array([])\n",
        "print(\"empty\" if a.size == 0 else \"not empty\")"
      ],
      "execution_count": null,
      "outputs": [
        {
          "output_type": "stream",
          "text": [
            "empty\n"
          ],
          "name": "stdout"
        }
      ]
    },
    {
      "cell_type": "markdown",
      "metadata": {
        "id": "LIznKTpsYq3F"
      },
      "source": [
        "[To check whether a given array is empty or not](https://stackoverflow.com/a/11295857/6819442)"
      ]
    },
    {
      "cell_type": "code",
      "metadata": {
        "colab": {
          "base_uri": "https://localhost:8080/"
        },
        "id": "5Vh3sVEsYzyO",
        "outputId": "f52c5c9c-45b8-4ab8-d974-98f92c7800e4"
      },
      "source": [
        "# Write a Python program to normalize a 3x3 random matrix\n",
        "\n",
        "a = np.random.randint(low=1,high=100,size=(5,5))\n",
        "print(a)\n",
        "def normalize(a):\n",
        "    '''\n",
        "    Returns a normalized version of given array\n",
        "    '''\n",
        "    mean = np.mean(a)\n",
        "    std = np.std(a)\n",
        "    return (a - mean)/std\n",
        "\n",
        "norm_a = normalize(a)\n",
        "print(norm_a)"
      ],
      "execution_count": null,
      "outputs": [
        {
          "output_type": "stream",
          "text": [
            "[[38 24 62 22 27]\n",
            " [13  1 47 28 44]\n",
            " [34 67 18 27 30]\n",
            " [52 29 55 19 27]\n",
            " [51 86 79 62  5]]\n",
            "[[ 0.00555445 -0.64246482  1.11644463 -0.735039   -0.50360355]\n",
            " [-1.15162281 -1.7070679   0.42213827 -0.45731646  0.28327699]\n",
            " [-0.17959391  1.34788008 -0.92018736 -0.50360355 -0.36474227]\n",
            " [ 0.65357372 -0.41102936  0.79243499 -0.87390027 -0.50360355]\n",
            " [ 0.60728663  2.2273348   1.90332517  1.11644463 -1.52191954]]\n"
          ],
          "name": "stdout"
        }
      ]
    },
    {
      "cell_type": "code",
      "metadata": {
        "id": "EM1A_b2YZ5KN"
      },
      "source": [
        "# How to ignore all numpy warnings (not recommended)\n",
        "# np.seterr(all='ignore')"
      ],
      "execution_count": null,
      "outputs": []
    },
    {
      "cell_type": "markdown",
      "metadata": {
        "id": "NSVJKAljabXr"
      },
      "source": [
        "[Set how the numpy errors are handled using np.seterr() function. read more in the documentaion](https://numpy.org/doc/stable/reference/generated/numpy.seterr.html)"
      ]
    },
    {
      "cell_type": "code",
      "metadata": {
        "colab": {
          "base_uri": "https://localhost:8080/"
        },
        "id": "W-quAWqKaGBB",
        "outputId": "0c76e682-9445-46af-d274-42fb2e9b3d8a"
      },
      "source": [
        "# How to swap two rows of an array\n",
        "a = np.random.randint(low=0,high = 10, size=(5,3))\n",
        "print(a)\n",
        "\n",
        "## swap 1st row with 3rd row\n",
        "x = a.copy()\n",
        "x[0,:] = a[2,:]\n",
        "x[2,:] = a[0,:]\n",
        "print(x)"
      ],
      "execution_count": null,
      "outputs": [
        {
          "output_type": "stream",
          "text": [
            "[[2 6 2]\n",
            " [3 5 8]\n",
            " [1 4 3]\n",
            " [4 4 1]\n",
            " [9 0 7]]\n",
            "[[1 4 3]\n",
            " [3 5 8]\n",
            " [2 6 2]\n",
            " [4 4 1]\n",
            " [9 0 7]]\n"
          ],
          "name": "stdout"
        }
      ]
    },
    {
      "cell_type": "code",
      "metadata": {
        "colab": {
          "base_uri": "https://localhost:8080/"
        },
        "id": "0d6TJkrobayu",
        "outputId": "91e46f85-37cf-410a-a793-ccd24d7175f3"
      },
      "source": [
        "y = a.copy()\n",
        "print(\"Original array\")\n",
        "print(a)\n",
        "print(\"-\"*30)\n",
        "## swaping rows\n",
        "y[[0,2],:] = y[[2,0],:]\n",
        "print(\"Swaping 1st and 3rd row\")\n",
        "print(y)\n",
        "print(\"-\"*30)\n",
        "## swaping columns\n",
        "z = a.copy()\n",
        "z[:,[0,2]] = z[:,[2,0]]\n",
        "print(\"Swaping 1st and 3rd column\")\n",
        "print(z)\n",
        "print(\"-\"*30)"
      ],
      "execution_count": null,
      "outputs": [
        {
          "output_type": "stream",
          "text": [
            "Original array\n",
            "[[1 4 3]\n",
            " [3 5 8]\n",
            " [2 6 2]\n",
            " [4 4 1]\n",
            " [9 0 7]]\n",
            "------------------------------\n",
            "Swaping 1st and 3rd row\n",
            "[[2 6 2]\n",
            " [3 5 8]\n",
            " [1 4 3]\n",
            " [4 4 1]\n",
            " [9 0 7]]\n",
            "------------------------------\n",
            "Swaping 1st and 3rd column\n",
            "[[3 4 1]\n",
            " [8 5 3]\n",
            " [2 6 2]\n",
            " [1 4 4]\n",
            " [7 0 9]]\n",
            "------------------------------\n"
          ],
          "name": "stdout"
        }
      ]
    },
    {
      "cell_type": "markdown",
      "metadata": {
        "id": "ag9A4fMndqQ2"
      },
      "source": [
        "[Example on how to swap rows](https://stackoverflow.com/a/54069951/6819442)"
      ]
    },
    {
      "cell_type": "markdown",
      "metadata": {
        "id": "ieeL57FjgyRv"
      },
      "source": [
        "Compute bootstrapped 95% confidence intervals for the mean of a 1D array X (i.e., resample the elements of an array with replacement N times, compute the mean of each sample, and then compute percentiles over the means)"
      ]
    },
    {
      "cell_type": "code",
      "metadata": {
        "colab": {
          "base_uri": "https://localhost:8080/",
          "height": 300
        },
        "id": "WyMPWp1xgvJO",
        "outputId": "46fa1841-62f4-4ad1-a220-5ce9005e59e0"
      },
      "source": [
        "x = np.random.randint(low=0,high=100,size=50)\n",
        "N = 30\n",
        "mean = np.mean(x)\n",
        "print(\"Mean of the given samples:\",mean)\n",
        "means = []\n",
        "for i in range(1000):\n",
        "    s = np.random.choice(x,size=N,replace=True)\n",
        "    means.append(np.mean(s))\n",
        "\n",
        "std_means = np.std(means)\n",
        "mean_UL = mean+1.96*std_means\n",
        "mean_LL = mean-1.96*std_means\n",
        "print(\"95% confidence interval of the means is: {0:.2f} to {1:.2f}\".format(mean_LL,mean_UL))\n",
        "\n",
        "\n",
        "## plotting the distribution of the means with 95% confidence interval\n",
        "graph = plt.hist(means)\n",
        "y_axis_limit = np.max(graph[0])\n",
        "plt.plot([mean_LL,mean_LL],[0,y_axis_limit], label=\"lower limit\")\n",
        "plt.plot([mean_UL,mean_UL],[0,y_axis_limit], label=\"upper limit\")\n",
        "plt.legend()\n",
        "plt.show()"
      ],
      "execution_count": null,
      "outputs": [
        {
          "output_type": "stream",
          "text": [
            "Mean of the given samples: 52.48\n",
            "95% confidence interval of the means is: 42.08 to 62.88\n"
          ],
          "name": "stdout"
        },
        {
          "output_type": "display_data",
          "data": {
            "image/png": "[encoded data removed]",
            "text/plain": [
              "<Figure size 432x288 with 1 Axes>"
            ]
          },
          "metadata": {
            "tags": [],
            "needs_background": "light"
          }
        }
      ]
    },
    {
      "cell_type": "code",
      "metadata": {
        "colab": {
          "base_uri": "https://localhost:8080/"
        },
        "id": "7OZWNlA0d71t",
        "outputId": "4647be6a-e221-47c2-e40e-1c5fdaea0a9e"
      },
      "source": [
        "# Python program to create a random vector of size 10 and sort it\n",
        "a = np.random.randint(low=0,high=100,size=10)\n",
        "print(\"Original array\")\n",
        "print(a)\n",
        "print(\"Sorted array\")\n",
        "print(sorted(a))"
      ],
      "execution_count": null,
      "outputs": [
        {
          "output_type": "stream",
          "text": [
            "Original array\n",
            "[28 23 78 78 63 96 90 58 46  9]\n",
            "Sorted array\n",
            "[9, 23, 28, 46, 58, 63, 78, 78, 90, 96]\n"
          ],
          "name": "stdout"
        }
      ]
    },
    {
      "cell_type": "code",
      "metadata": {
        "colab": {
          "base_uri": "https://localhost:8080/"
        },
        "id": "3P1JZRG-eHLU",
        "outputId": "8737fd28-112b-4815-d711-9c68afb3af1d"
      },
      "source": [
        "# Write a Python program to check two random arrays are equal or not\n",
        "a = np.random.randint(low=0,high=100,size=10)\n",
        "b = np.random.randint(low=0,high=100,size=10)\n",
        "print(\"a:\",a)\n",
        "print(\"b:\",b)\n",
        "np.array_equal(a,b)"
      ],
      "execution_count": null,
      "outputs": [
        {
          "output_type": "stream",
          "text": [
            "a: [92  0 48 87  2 73 43 50 73 32]\n",
            "b: [88 82 45 31 24 50 85 12 44 49]\n"
          ],
          "name": "stdout"
        },
        {
          "output_type": "execute_result",
          "data": {
            "text/plain": [
              "False"
            ]
          },
          "metadata": {
            "tags": []
          },
          "execution_count": 90
        }
      ]
    },
    {
      "cell_type": "code",
      "metadata": {
        "colab": {
          "base_uri": "https://localhost:8080/"
        },
        "id": "wAxbh7b9enKA",
        "outputId": "31bbd701-ab5e-4c8f-e64d-052bf0a72504"
      },
      "source": [
        "# Write a Python program to add, subtract, multiply, divide arguments element-wise\n",
        "a = a = np.random.randint(low=0,high=100,size=10)\n",
        "print(\"a:\",a)\n",
        "print(\"add:\",a+10)\n",
        "print(\"subtract:\",a+10)\n",
        "print(\"multiply:\",a*10)\n",
        "print(\"divide:\",a/10)"
      ],
      "execution_count": null,
      "outputs": [
        {
          "output_type": "stream",
          "text": [
            "a: [23 78 78  9 50 80 33 26  5 71]\n",
            "add: [33 88 88 19 60 90 43 36 15 81]\n",
            "subtract: [33 88 88 19 60 90 43 36 15 81]\n",
            "multiply: [230 780 780  90 500 800 330 260  50 710]\n",
            "divide: [2.3 7.8 7.8 0.9 5.  8.  3.3 2.6 0.5 7.1]\n"
          ],
          "name": "stdout"
        }
      ]
    },
    {
      "cell_type": "code",
      "metadata": {
        "colab": {
          "base_uri": "https://localhost:8080/"
        },
        "id": "lwQ-afyffAim",
        "outputId": "8fb6745f-901e-4e68-83eb-b43ba9165a2c"
      },
      "source": [
        "# Write a Python program to get the dates of yesterday, today and tomorrow\n",
        "\n",
        "today = np.datetime64(\"today\")\n",
        "yesterday = today - np.timedelta64(1,\"D\")\n",
        "tomorrow = today + np.timedelta64(1,\"D\")\n",
        "\n",
        "print(\"Today:\",today)\n",
        "print(\"Yesterday:\",yesterday)\n",
        "print(\"Tomorrow:\",tomorrow)"
      ],
      "execution_count": null,
      "outputs": [
        {
          "output_type": "stream",
          "text": [
            "Today: 2020-12-08\n",
            "Yesterday: 2020-12-07\n",
            "Tomorrow: 2020-12-09\n"
          ],
          "name": "stdout"
        }
      ]
    },
    {
      "cell_type": "markdown",
      "metadata": {
        "id": "KFrRGMb7f4WC"
      },
      "source": [
        "[How to get dates of today, yesterday and tomorrow](https://www.w3resource.com/python-exercises/numpy/python-numpy-datetime-exercise-2.php)"
      ]
    }
  ]
}
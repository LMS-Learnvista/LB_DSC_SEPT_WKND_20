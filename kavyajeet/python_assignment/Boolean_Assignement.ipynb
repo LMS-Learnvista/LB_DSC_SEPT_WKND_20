{
  "nbformat": 4,
  "nbformat_minor": 0,
  "metadata": {
    "colab": {
      "name": "Boolean_Assignement.ipynb",
      "provenance": [],
      "include_colab_link": true
    },
    "kernelspec": {
      "name": "python3",
      "display_name": "Python 3"
    }
  },
  "cells": [
    {
      "cell_type": "markdown",
      "metadata": {
        "id": "view-in-github",
        "colab_type": "text"
      },
      "source": [
        "<a href=\"https://colab.research.google.com/github/kavyajeetbora/LB_DSC_SEPT_WKND_20/blob/master/kavyajeet/python_assignment/Boolean_Assignement.ipynb\" target=\"_parent\"><img src=\"https://colab.research.google.com/assets/colab-badge.svg\" alt=\"Open In Colab\"/></a>"
      ]
    },
    {
      "cell_type": "code",
      "metadata": {
        "id": "7JIFn6BP4M0R",
        "outputId": "ca6ccffe-ddf8-4f9e-db18-da83807c6cea",
        "colab": {
          "base_uri": "https://localhost:8080/"
        }
      },
      "source": [
        "#Declare a boolean value and store it in a variable. \n",
        "a = True\n",
        "b = False\n",
        "#Check the type and print the id of the same.\n",
        "print(type(a), id(a))\n",
        "print(type(b), id(b))"
      ],
      "execution_count": 3,
      "outputs": [
        {
          "output_type": "stream",
          "text": [
            "<class 'bool'> 10302848\n",
            "<class 'bool'> 10300256\n"
          ],
          "name": "stdout"
        }
      ]
    },
    {
      "cell_type": "code",
      "metadata": {
        "id": "o9bjjhN64kAP",
        "outputId": "ecb60fde-1ebf-49ac-a91e-171fe64e80ae",
        "colab": {
          "base_uri": "https://localhost:8080/"
        }
      },
      "source": [
        "#Take one boolean value between 0 - 256.\n",
        "#Assign it to two different variables.\n",
        "a = 4\n",
        "b = 5\n",
        "\n",
        "#Check the id of both the variables. It should come same. Check why?\n",
        "# because of object reusability concept\n",
        "print(id(a)==id(b))"
      ],
      "execution_count": 4,
      "outputs": [
        {
          "output_type": "stream",
          "text": [
            "False\n"
          ],
          "name": "stdout"
        }
      ]
    },
    {
      "cell_type": "code",
      "metadata": {
        "id": "yr4ETGSf4l5y",
        "outputId": "fbf4a0be-1f3a-43ed-f30e-afdd21930fb9",
        "colab": {
          "base_uri": "https://localhost:8080/"
        }
      },
      "source": [
        "#Arithmatic Operations on boolean data\n",
        "#Take two different boolean values.\n",
        "#Store them in two different variables.\n",
        "a = True\n",
        "b = False\n",
        "\n",
        "\n",
        "#Do below operations on them:-\n",
        "#Find sum of both values\n",
        "print(a+b)\n",
        "\n",
        "\n",
        "#Find differce between them\n",
        "print(a-b)\n",
        "\n",
        "\n",
        "#Find the product of both.\n",
        "print(a*b)\n",
        "\n",
        "\n",
        "#Find value after dividing first value with second value\n",
        "# print(a/b) # returns ZeroDivisionError: division by zero\n",
        "\n",
        "#Find the remainder after dividing first value with second value\n",
        "#print(a%b) # returns: ZeroDivisionError: integer division or modulo by zero\n",
        "\n",
        "\n",
        "#Find the quotient after dividing first value with second value\n",
        "#print(a//b) # returns: ZeroDivisionError: integer division or modulo by zero\n",
        "\n",
        "#Find the result of first value to the power of second value.\n",
        "print(a**b)"
      ],
      "execution_count": 5,
      "outputs": [
        {
          "output_type": "stream",
          "text": [
            "1\n",
            "1\n",
            "0\n",
            "1\n"
          ],
          "name": "stdout"
        }
      ]
    },
    {
      "cell_type": "code",
      "metadata": {
        "id": "xG4mX84E4n2O",
        "outputId": "a3dedd67-8295-4166-e9e7-6e85a7222fe7",
        "colab": {
          "base_uri": "https://localhost:8080/"
        }
      },
      "source": [
        "#Comparison Operators on boolean values\n",
        "#Take two different boolean values.\n",
        "#Store them in two different variables.\n",
        "a = True\n",
        "b = False\n",
        "\n",
        "\n",
        "#Do below operations on them:-\n",
        "#Compare these two values with below operator:-\n",
        "#Greater than, '>'\n",
        "print(a>b)\n",
        "\n",
        "\n",
        "#less than, '<'\n",
        "print(a<b)\n",
        "\n",
        "#Greater than or equal to, '>='\n",
        "print(a>=b)\n",
        "\n",
        "#Less than or equal to, '<='    \n",
        "print(a<=b)\n",
        "\n",
        "#Observe their output(return type should be boolean)"
      ],
      "execution_count": 6,
      "outputs": [
        {
          "output_type": "stream",
          "text": [
            "True\n",
            "False\n",
            "True\n",
            "False\n"
          ],
          "name": "stdout"
        }
      ]
    },
    {
      "cell_type": "code",
      "metadata": {
        "id": "TUIo2Z9V4qBJ",
        "outputId": "b90d43fa-bd65-409f-a547-882b9e12d791",
        "colab": {
          "base_uri": "https://localhost:8080/"
        }
      },
      "source": [
        "#Equality Operator\n",
        "#Take two different boolean values.\n",
        "#Store them in two different variables.\n",
        "a = True\n",
        "b = False\n",
        "\n",
        "\n",
        "#Equuate them using equality operator (==, !=)\n",
        "print(a==b)\n",
        "print(a!=b)\n",
        "\n",
        "#Observe the output(return type should be boolean)"
      ],
      "execution_count": 7,
      "outputs": [
        {
          "output_type": "stream",
          "text": [
            "False\n",
            "True\n"
          ],
          "name": "stdout"
        }
      ]
    },
    {
      "cell_type": "code",
      "metadata": {
        "id": "XukEq5E44rxv",
        "outputId": "7e4747e4-59f4-4c1a-e2d9-fe060844e27d",
        "colab": {
          "base_uri": "https://localhost:8080/"
        }
      },
      "source": [
        "#Logical operators\n",
        "#Observe the output of below code\n",
        "#Cross check the output manually\n",
        "\n",
        "print(True and True)        #----------------------------------------->Output is True\n",
        "print(False and True)        #----------------------------------------->Output is False\n",
        "print(True and False)        #----------------------------------------->Output is False\n",
        "print(False and False)       #----------------------------------------->Output is False\n",
        "\n",
        "print(True or True)          #----------------------------------------->Output is True\n",
        "print(False or True)         #----------------------------------------->Output is True\n",
        "print(True or False)         #----------------------------------------->Output is True\n",
        "print(False or False)        #----------------------------------------->Output is False\n",
        "\n",
        "print(not True)              #----------------------------------------->Output is False\n",
        "print(not False)             #----------------------------------------->Output is True"
      ],
      "execution_count": 8,
      "outputs": [
        {
          "output_type": "stream",
          "text": [
            "True\n",
            "False\n",
            "False\n",
            "False\n",
            "True\n",
            "True\n",
            "True\n",
            "False\n",
            "False\n",
            "True\n"
          ],
          "name": "stdout"
        }
      ]
    },
    {
      "cell_type": "markdown",
      "metadata": {
        "id": "bgb65nQefIbP"
      },
      "source": [
        "## **Bitwise operators on booleans**\n",
        "\n",
        "\n",
        "[Tutorial on bitwise operators](https://data-flair.training/blogs/python-bitwise-operators/)"
      ]
    },
    {
      "cell_type": "code",
      "metadata": {
        "id": "02jPgt094vK-",
        "outputId": "02df483f-6d4e-4c14-b9af-7d383cdc940a",
        "colab": {
          "base_uri": "https://localhost:8080/"
        }
      },
      "source": [
        "#Bitwise Operators\n",
        "#Do below operations on the values provided below:-\n",
        "#Bitwise and(&) -----------------------------------------> True, True    -------> Output is True\n",
        "print(True&True)\n",
        "\n",
        "#Bitwise or(|)  -----------------------------------------> True, False   -------> Output is True\n",
        "print(True|False)\n",
        "\n",
        "#Bitwise(^)    NOT -----------------------------------------> True, False   -------> Output is True\n",
        "print(True^False)\n",
        "\n",
        "#Bitwise negation(~) Complement ------------------------------------> True          -------> Output is -2\n",
        "print(~True)\n",
        "\n",
        "#Bitwise left shift  ------------------------------------> True,2        -------> Output is 4\n",
        "print(True<<2)\n",
        "\n",
        "\n",
        "#Bitwise right shift ------------------------------------> True,2        -------> Output is 0\n",
        "print(True>>2)\n",
        "\n",
        "#Cross check the output manually"
      ],
      "execution_count": 9,
      "outputs": [
        {
          "output_type": "stream",
          "text": [
            "True\n",
            "True\n",
            "True\n",
            "-2\n",
            "4\n",
            "0\n"
          ],
          "name": "stdout"
        }
      ]
    },
    {
      "cell_type": "markdown",
      "metadata": {
        "id": "Nj_nzMiTek7R"
      },
      "source": [
        "`print(True<<2)`\n",
        "\n",
        "Here, True has an equivalent integer value of 1. If we shift it by two places to the left, we get 100. This is binary for 4"
      ]
    },
    {
      "cell_type": "code",
      "metadata": {
        "id": "cy5i7sWz4v_c",
        "outputId": "b8115c3c-96fe-4a5a-ade6-34c4478d17bc",
        "colab": {
          "base_uri": "https://localhost:8080/"
        }
      },
      "source": [
        "#What is the output of expression inside print statement. Cross check before running the program.\n",
        "a = True\n",
        "b = True\n",
        "print(a is b)          #True or False?   #\n",
        "print(a is not b)      #True or False?\n",
        "\n",
        "a = False\n",
        "b = False\n",
        "print(a is b)          #True or False?\n",
        "print(a is not b)      #True or False?\n"
      ],
      "execution_count": 10,
      "outputs": [
        {
          "output_type": "stream",
          "text": [
            "True\n",
            "False\n",
            "True\n",
            "False\n"
          ],
          "name": "stdout"
        }
      ]
    },
    {
      "cell_type": "code",
      "metadata": {
        "id": "AOcPQi8544M-",
        "outputId": "889fb2fb-8e46-46e6-8ef4-430b43798500",
        "colab": {
          "base_uri": "https://localhost:8080/"
        }
      },
      "source": [
        "#Membership operation\n",
        "#in, not in are two membership operators and it returns boolean value\n",
        "\n",
        "print(True in [10,10.20,10+20j,'Python', True]) #True\n",
        "print(False in (10,10.20,10+20j,'Python', False)) #True\n",
        "print(True in {1,2,3, True}) #True\n",
        "print(True in {True:100, False:200, True:300}) #True -> value is searched key wise\n",
        "print(False in {True:100, False:200, True:300}) #True"
      ],
      "execution_count": 13,
      "outputs": [
        {
          "output_type": "stream",
          "text": [
            "True\n",
            "True\n",
            "True\n",
            "False\n",
            "True\n"
          ],
          "name": "stdout"
        }
      ]
    }
  ]
}
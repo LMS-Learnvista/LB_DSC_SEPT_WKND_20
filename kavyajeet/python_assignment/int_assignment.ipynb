{
  "nbformat": 4,
  "nbformat_minor": 0,
  "metadata": {
    "colab": {
      "name": "int_assignment.ipynb",
      "provenance": [],
      "include_colab_link": true
    },
    "kernelspec": {
      "name": "python3",
      "display_name": "Python 3"
    }
  },
  "cells": [
    {
      "cell_type": "markdown",
      "metadata": {
        "id": "view-in-github",
        "colab_type": "text"
      },
      "source": [
        "<a href=\"https://colab.research.google.com/github/kavyajeetbora/LB_DSC_SEPT_WKND_20/blob/master/kavyajeet/python_assignment/int_assignment.ipynb\" target=\"_parent\"><img src=\"https://colab.research.google.com/assets/colab-badge.svg\" alt=\"Open In Colab\"/></a>"
      ]
    },
    {
      "cell_type": "code",
      "metadata": {
        "id": "8A5Jw5NR1iEI",
        "outputId": "04b0e567-3a08-4b70-c2ec-b6d4901c4233",
        "colab": {
          "base_uri": "https://localhost:8080/",
          "height": 35
        }
      },
      "source": [
        "#Declare an int value and store it in a variable. \n",
        "a = 4\n",
        "\n",
        "\n",
        "#Check the type and print the id of the same.\n",
        "print(a, type(a), id(a))\n"
      ],
      "execution_count": null,
      "outputs": [
        {
          "output_type": "stream",
          "text": [
            "4 <class 'int'> 10914592\n"
          ],
          "name": "stdout"
        }
      ]
    },
    {
      "cell_type": "code",
      "metadata": {
        "id": "0YU8LFTn1rAX",
        "outputId": "6d90c883-aea2-4342-c278-2a3b9c37112d",
        "colab": {
          "base_uri": "https://localhost:8080/",
          "height": 90
        }
      },
      "source": [
        "#Take one int value between 0 - 256.\n",
        "#Assign it to two different variables.\n",
        "#Check the id of both the variables. It should come same. Check why?\n",
        "a = 45\n",
        "b = 45\n",
        "print(id(a), id(b))\n",
        "print(\"the ids of the two variables are equal ?:\",id(a)==id(b))\n",
        "\n",
        "#Take one int value either less than -5 or greater than 256.\n",
        "#Assign it to two different variables.\n",
        "#Check the id of both the variables. It should come different.Check why?\n",
        "a = -45\n",
        "b = -45\n",
        "print(id(a), id(b))\n",
        "print(\"the ids of the two variables are equal ?:\",id(a)==id(b))"
      ],
      "execution_count": null,
      "outputs": [
        {
          "output_type": "stream",
          "text": [
            "10915904 10915904\n",
            "the ids of the two variables are equal ?: True\n",
            "140610947366992 140610947367408\n",
            "the ids of the two variables are equal ?: False\n"
          ],
          "name": "stdout"
        }
      ]
    },
    {
      "cell_type": "markdown",
      "metadata": {
        "id": "Khy9H8ZbhmzZ"
      },
      "source": [
        "-5 to 256 are already preloaded in python. Hence they have the same memory address. But beyond this range, the values are not loaded by default and they will have different address even if the values are equal."
      ]
    },
    {
      "cell_type": "code",
      "metadata": {
        "id": "YzEIG0ZZ1tSK",
        "outputId": "4895c28c-7947-4253-e194-c9166c4e8f0e",
        "colab": {
          "base_uri": "https://localhost:8080/",
          "height": 145
        }
      },
      "source": [
        "#Arithmatic Operations on integers\n",
        "#Take two different intger values.\n",
        "#Store them in two different variables.\n",
        "a = 140\n",
        "b = 6\n",
        "#Do below operations on them:-\n",
        "\n",
        "#Find sum of both numbers\n",
        "print(a+b)\n",
        "#Find differce between them\n",
        "print(a-b)\n",
        "#Find the product of both numbers.\n",
        "print(a*b)\n",
        "#Find value after dividing first num with second number\n",
        "print(a/b)\n",
        "#Find the remainder after dividing first number with second number\n",
        "print(a%b)\n",
        "#Find the quotient after dividing first number with second number\n",
        "print(int(a/b))\n",
        "#Find the result of first num to the power of second number.\n",
        "print(a**b)"
      ],
      "execution_count": null,
      "outputs": [
        {
          "output_type": "stream",
          "text": [
            "146\n",
            "134\n",
            "840\n",
            "23.333333333333332\n",
            "2\n",
            "23\n",
            "7529536000000\n"
          ],
          "name": "stdout"
        }
      ]
    },
    {
      "cell_type": "code",
      "metadata": {
        "id": "GGM7CdzA1wGn",
        "outputId": "177f03a5-c6a8-4bf0-bce3-3d5ec483fb27",
        "colab": {
          "base_uri": "https://localhost:8080/",
          "height": 90
        }
      },
      "source": [
        "#Comparison Operators on integers\n",
        "#Take two different intger values.\n",
        "#Store them in two different variables.\n",
        "a = 140\n",
        "b = 6\n",
        "#Do below operations on them:-\n",
        "\n",
        "#Compare se two numbers with below operator:-\n",
        "#Greater than, '>'\n",
        "print(a>b)\n",
        "#Smaller than, '<'\n",
        "print(a<b)\n",
        "#Greater than or equal to, '>='\n",
        "(print(a>=b))\n",
        "#Less than or equal to, '<='\n",
        "print(a<=b)\n",
        "#Observe their output(return type should be boolean)"
      ],
      "execution_count": null,
      "outputs": [
        {
          "output_type": "stream",
          "text": [
            "True\n",
            "False\n",
            "True\n",
            "False\n"
          ],
          "name": "stdout"
        }
      ]
    },
    {
      "cell_type": "code",
      "metadata": {
        "id": "9x904sUE1y9t",
        "outputId": "80e936e0-c62a-4e8b-c57d-d32749010404",
        "colab": {
          "base_uri": "https://localhost:8080/",
          "height": 54
        }
      },
      "source": [
        "#Equality Operator\n",
        "#Take two different intger values.\n",
        "#Store them in two different variables.\n",
        "a = 140\n",
        "b = 6\n",
        "#Equuate them using equality operator (==, !=)\n",
        "print(a==b)\n",
        "print(a!=b)\n",
        "#Observe the output(return type should be boolean)"
      ],
      "execution_count": null,
      "outputs": [
        {
          "output_type": "stream",
          "text": [
            "False\n",
            "True\n"
          ],
          "name": "stdout"
        }
      ]
    },
    {
      "cell_type": "code",
      "metadata": {
        "id": "JmQFHUwc11S-",
        "outputId": "a6f11ef2-05e9-4da8-95c0-3570d9bf96db",
        "colab": {
          "base_uri": "https://localhost:8080/",
          "height": 199
        }
      },
      "source": [
        "#Logical operators\n",
        "#Observe the output of below code\n",
        "#Cross check the output manually\n",
        "\n",
        "print(10 and 20)       #----------------------------------------->Output is 20\n",
        "print(0 and 20)        #----------------------------------------->Output is 0\n",
        "print(20 and 0)        #----------------------------------------->Output is 0\n",
        "print(0 and 0)         #----------------------------------------->Output is 0\n",
        "\n",
        "print(25.6 or 20)        #----------------------------------------->Output is 10\n",
        "print(0 or 20)         #----------------------------------------->Output is 20\n",
        "print(20 or 0)         #----------------------------------------->Output is 20\n",
        "print(0 or 0)          #----------------------------------------->Output is 0\n",
        "\n",
        "print(not 10)          #----------------------------------------->Output is False\n",
        "print(not 0)           #----------------------------------------->Output is True"
      ],
      "execution_count": null,
      "outputs": [
        {
          "output_type": "stream",
          "text": [
            "20\n",
            "0\n",
            "0\n",
            "0\n",
            "25.6\n",
            "20\n",
            "20\n",
            "0\n",
            "False\n",
            "True\n"
          ],
          "name": "stdout"
        }
      ]
    },
    {
      "cell_type": "markdown",
      "metadata": {
        "id": "PcfSDEa8sn-n"
      },
      "source": [
        "Bitwise operations\n",
        "\n",
        "**1. The \"&\" operator **\n",
        "\n",
        "![How bitwise is performed](https://cdn.tutsplus.com/active/uploads/legacy/tuts/434_bitwiseOperators/and_example.png)\n",
        "\n",
        "**2. The \"|\" operator**\n",
        "\n",
        "![How bitwise is performed](https://cdn.tutsplus.com/active/uploads/legacy/tuts/434_bitwiseOperators/or_example.PNG)\n",
        "\n",
        "**3. The \"~\" operator**\n",
        "\n",
        "![](https://cdn.tutsplus.com/active/uploads/legacy/tuts/434_bitwiseOperators/twos_complement_37.png)\n",
        "\n",
        "**4. The \"^\" operator: XOR operator:** \n",
        "\n",
        "exclusive or, takes two boolean operands and returns true if and only if the operands are different\n",
        "\n",
        "![](https://cdn.tutsplus.com/active/uploads/legacy/tuts/434_bitwiseOperators/xor_example.png)\n",
        "\n",
        "**5. Left bitshift operator (<<)**\n",
        "\n",
        "This is how it works:\n",
        "\n",
        "On the left side of the operator is the integer that is being shifted, and on the right is how much to shift by. So, for example, 37 << 3 is shifting the number 37 to the left by 3 places. Of course, we're working with the binary representation of 37.\n",
        "\n",
        "![](https://github.com/kavyajeetbora/LB_DSC_SEPT_WKND_20/blob/master/kavyajeet/python_assignment/left%20bitshift.gif?raw=true)\n",
        "\n",
        "- Here we have the number 37 sitting on its nice block of memory 8 bits wide.\n",
        "- let's slide all the digits over to the left by 3, as 37 << 3 \n",
        "- Any empty spots are just replaced with 0s\n",
        "\n",
        "**6. Right bitshit operator (>>)**\n",
        "\n",
        "Similar to left bitshift, The only slight difference is what the empty bits get filled with: \n",
        "\n",
        "If we're starting with a negative number (a binary number where the leftmost bit is a 1), all the empty spaces are filled with a 1. If we're starting with a positive number (where the leftmost bit, or most significant bit, is a 0), then all the empty spaces are filled with a 0. Again, this all goes back to two's complement.\n",
        "\n",
        "\n",
        "\n",
        "\n",
        "More on bits:\n",
        "1. what is the difference between int and uint ? or long and ulong? \n",
        "https://stackoverflow.com/questions/3724242/what-is-the-difference-between-int-and-uint-long-and-ulong\n",
        "\n",
        "2. [For more on bitwise operators](https://code.tutsplus.com/articles/understanding-bitwise-operators--active-11301#:~:text=Bitwise%20operators%20are%20operators%20(just,use%20and%20also%20quite%20useful!)"
      ]
    },
    {
      "cell_type": "code",
      "metadata": {
        "id": "-0tvoulX14Hi",
        "outputId": "0791a50a-9009-47fa-ffaa-116c2b8300ef",
        "colab": {
          "base_uri": "https://localhost:8080/",
          "height": 126
        }
      },
      "source": [
        "#Bitwise Operators\n",
        "#Do below operations on the values provided below:-\n",
        "#Bitwise and (&) -----------------------------------------> 10, 20   -------> Output is 0\n",
        "print(10&20)\n",
        "\n",
        "#Bitwise or (|)  -----------------------------------------> 10, 20   -------> Output is 30\n",
        "print(35 | 20)\n",
        "\n",
        "#Bitwise (^)     -----------------------------------------> 10, 20   -------> Output is 30\n",
        "print(10 ^ 20)\n",
        "\n",
        "#Bitwise negation (~) ------------------------------------> 10       -------> Output is -11\n",
        "print(~10)\n",
        "\n",
        "#Bitwise left shift  ------------------------------------> 10,2     -------> Output is 40\n",
        "print(10<<2)\n",
        "\n",
        "#Bitwise right shift ------------------------------------> 10,2     -------> Output is 2\n",
        "print(10>>2)\n",
        "#Cross check the output manually"
      ],
      "execution_count": null,
      "outputs": [
        {
          "output_type": "stream",
          "text": [
            "0\n",
            "55\n",
            "30\n",
            "-11\n",
            "40\n",
            "2\n"
          ],
          "name": "stdout"
        }
      ]
    },
    {
      "cell_type": "code",
      "metadata": {
        "id": "YCcx-Qx016hg",
        "outputId": "0f0b78fe-808c-491f-fbc2-ad2e6c8e1994",
        "colab": {
          "base_uri": "https://localhost:8080/",
          "height": 90
        }
      },
      "source": [
        "#What is the output of expression inside print statement. Cross check before running the program.\n",
        "a = 10\n",
        "b = 10\n",
        "print(a is b)          #True or False?\n",
        "print(a is not b)      #True or False?\n",
        "\n",
        "a = 1000\n",
        "b = 1000\n",
        "print(a is b)          #True or False?\n",
        "print(a is not b)      #True or False?"
      ],
      "execution_count": null,
      "outputs": [
        {
          "output_type": "stream",
          "text": [
            "True\n",
            "False\n",
            "False\n",
            "True\n"
          ],
          "name": "stdout"
        }
      ]
    },
    {
      "cell_type": "code",
      "metadata": {
        "id": "Un2To3XN1_Il",
        "outputId": "f50a4514-e527-44ae-9815-aefdfa5a11aa",
        "colab": {
          "base_uri": "https://localhost:8080/",
          "height": 35
        }
      },
      "source": [
        "#What is the output of expression inside print statement. Cross check before running the program.\n",
        "print(10+(10*32)//2**5&20+(~(-10))<<2)"
      ],
      "execution_count": null,
      "outputs": [
        {
          "output_type": "stream",
          "text": [
            "20\n"
          ],
          "name": "stdout"
        }
      ]
    },
    {
      "cell_type": "code",
      "metadata": {
        "id": "kGRb5RMd1_1I",
        "outputId": "a13662df-e032-4252-c3ae-095b915b60b5",
        "colab": {
          "base_uri": "https://localhost:8080/",
          "height": 126
        }
      },
      "source": [
        "#Membership operation\n",
        "#in, not in are two membership operators and it returns boolean value\n",
        "\n",
        "print('2' in 'Python2.7.8')\n",
        "print(10 in [10,10.20,10+20j,'Python'])\n",
        "print(10 in (10,10.20,10+20j,'Python'))\n",
        "print(2 in {1,2,3})\n",
        "print(3 in {1:100, 2:200, 3:300})\n",
        "print(10 in range(20))"
      ],
      "execution_count": null,
      "outputs": [
        {
          "output_type": "stream",
          "text": [
            "True\n",
            "True\n",
            "True\n",
            "True\n",
            "True\n",
            "True\n"
          ],
          "name": "stdout"
        }
      ]
    },
    {
      "cell_type": "code",
      "metadata": {
        "id": "Es7iSvL92B9W",
        "outputId": "69043955-80b4-4720-c23f-c6b870e0b34c",
        "colab": {
          "base_uri": "https://localhost:8080/",
          "height": 90
        }
      },
      "source": [
        "#An integer can be represented in binary, octal or hexadecimal form.\n",
        "#Declare one binary, one octal and one hexadecimal value and store them in three different variables.\n",
        "#Convert 9876 to its binary, octal and hexadecimal equivalent and print their corresponding value.\n",
        "\n",
        "number = 9876\n",
        "# binary\n",
        "print(\"The number is:\",number)\n",
        "print(\"binary representation:\",bin(number))\n",
        "print(\"octal representation:\",oct(number))\n",
        "print(\"hexadecimal representation:\",hex(number))"
      ],
      "execution_count": null,
      "outputs": [
        {
          "output_type": "stream",
          "text": [
            "The number is: 9876\n",
            "binary representation: 0b10011010010100\n",
            "octal representation: 0o23224\n",
            "hexadecimal representation: 0x2694\n"
          ],
          "name": "stdout"
        }
      ]
    },
    {
      "cell_type": "code",
      "metadata": {
        "id": "Hm0r03lH2E0i",
        "outputId": "f7f9bed4-b729-43a5-da61-1cc9e611b702",
        "colab": {
          "base_uri": "https://localhost:8080/",
          "height": 235
        }
      },
      "source": [
        "#What will be the outut of following:-\n",
        "a = 0b1010000\n",
        "print(a)\n",
        "\n",
        "b = 0o7436\n",
        "print(b)\n",
        "\n",
        "c = 0xfade\n",
        "print(c)\n",
        "\n",
        "print(bin(80))\n",
        "\n",
        "print(oct(3870))\n",
        "\n",
        "print(hex(64222))\n",
        "\n",
        "print(bin(0b1010000))\n",
        "\n",
        "print(bin(0xfade))\n",
        "\n",
        "print(oct(0xfade))\n",
        "\n",
        "print(oct(0o7436))\n",
        "\n",
        "print(hex(0b1010000))\n",
        "\n",
        "print(hex(0xfade))"
      ],
      "execution_count": null,
      "outputs": [
        {
          "output_type": "stream",
          "text": [
            "80\n",
            "3870\n",
            "64222\n",
            "0b1010000\n",
            "0o7436\n",
            "0xfade\n",
            "0b1010000\n",
            "0b1111101011011110\n",
            "0o175336\n",
            "0o7436\n",
            "0x50\n",
            "0xfade\n"
          ],
          "name": "stdout"
        }
      ]
    }
  ]
}
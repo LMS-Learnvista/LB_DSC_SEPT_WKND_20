{
  "nbformat": 4,
  "nbformat_minor": 0,
  "metadata": {
    "colab": {
      "name": "float_assignment.ipynb",
      "provenance": [],
      "include_colab_link": true
    },
    "kernelspec": {
      "name": "python3",
      "display_name": "Python 3"
    }
  },
  "cells": [
    {
      "cell_type": "markdown",
      "metadata": {
        "id": "view-in-github",
        "colab_type": "text"
      },
      "source": [
        "<a href=\"https://colab.research.google.com/github/kavyajeetbora/LB_DSC_SEPT_WKND_20/blob/master/kavyajeet/python_assignment/float_assignment.ipynb\" target=\"_parent\"><img src=\"https://colab.research.google.com/assets/colab-badge.svg\" alt=\"Open In Colab\"/></a>"
      ]
    },
    {
      "cell_type": "code",
      "metadata": {
        "id": "dlrMB-Qy2taV",
        "outputId": "aa5d69be-c151-4f42-c197-6f66876ce198",
        "colab": {
          "base_uri": "https://localhost:8080/"
        }
      },
      "source": [
        "#Declare a float value and store it in a variable. \n",
        "a=4.0\n",
        "#Check the type and print the id of the same.\n",
        "print(a, type(a), id(a))"
      ],
      "execution_count": null,
      "outputs": [
        {
          "output_type": "stream",
          "text": [
            "4.0 <class 'float'> 140249947440304\n"
          ],
          "name": "stdout"
        }
      ]
    },
    {
      "cell_type": "code",
      "metadata": {
        "id": "IL4fVDHg2wbI",
        "outputId": "6427d008-6b67-45de-b0ab-6b590a886a59",
        "colab": {
          "base_uri": "https://localhost:8080/"
        }
      },
      "source": [
        "#Arithmatic Operations on float\n",
        "#Take two different float values.\n",
        "#Store them in two different variables.\n",
        "\n",
        "a = 4.0\n",
        "b = 0.6\n",
        "\n",
        "#Do below operations on them:-\n",
        "#Find sum of both numbers\n",
        "print(a+b)\n",
        "#Find differce between them\n",
        "print(a-b)\n",
        "#Find the product of both numbers.\n",
        "print(a*b)\n",
        "#Find value after dividing first num with second number\n",
        "print(a/b)\n",
        "#Find the remainder after dividing first number with second number\n",
        "print(\"remainder\",a%b)\n",
        "#Find the quotient after dividing first number with second number\n",
        "print(\"quotient\",a//b)\n",
        "#Find the result of first num to the power of second number.\n",
        "print(a**b)"
      ],
      "execution_count": null,
      "outputs": [
        {
          "output_type": "stream",
          "text": [
            "4.6\n",
            "3.4\n",
            "2.4\n",
            "6.666666666666667\n",
            "remainder 0.40000000000000013\n",
            "quotient 6.0\n",
            "2.2973967099940698\n"
          ],
          "name": "stdout"
        }
      ]
    },
    {
      "cell_type": "code",
      "metadata": {
        "id": "atCFaH6c2492",
        "outputId": "ecd24f69-a14f-4260-9978-eff01511f904",
        "colab": {
          "base_uri": "https://localhost:8080/"
        }
      },
      "source": [
        "#Comparison Operators on float\n",
        "#Take two different float values.\n",
        "#Store them in two different variables.\n",
        "a = 4.0\n",
        "b = 0.6\n",
        "#Do below operations on them:-\n",
        "#Compare these two numbers with below operator:-\n",
        "#Greater than, '>'\n",
        "print(a>b)\n",
        "#Smaller than, '<'\n",
        "print(a<b)\n",
        "#Greater than or equal to, '>='\n",
        "print(a>=b)\n",
        "#Less than or equal to, '<='\n",
        "print(a<=b)\n",
        "#Observe their output(return type should be boolean)"
      ],
      "execution_count": null,
      "outputs": [
        {
          "output_type": "stream",
          "text": [
            "True\n",
            "False\n",
            "True\n",
            "False\n"
          ],
          "name": "stdout"
        }
      ]
    },
    {
      "cell_type": "code",
      "metadata": {
        "id": "agi3U3863A5i",
        "outputId": "dcc84835-28d5-499e-8df0-f13f169fe0bd",
        "colab": {
          "base_uri": "https://localhost:8080/"
        }
      },
      "source": [
        "#Equality Operator\n",
        "#Take two different float values.\n",
        "#Store them in two different variables.\n",
        "a = 4.0\n",
        "b = 0.6\n",
        "#Equuate them using equality operator (==, !=)\n",
        "print(a==b)\n",
        "print(a!=b)\n",
        "#Observe the output(return type should be boolean)"
      ],
      "execution_count": null,
      "outputs": [
        {
          "output_type": "stream",
          "text": [
            "False\n",
            "True\n"
          ],
          "name": "stdout"
        }
      ]
    },
    {
      "cell_type": "code",
      "metadata": {
        "id": "3HLlgaEt3EnJ",
        "outputId": "44a24dbd-527e-4c2c-c94f-9d74428428ed",
        "colab": {
          "base_uri": "https://localhost:8080/"
        }
      },
      "source": [
        "#Logical operators\n",
        "#Observe the output of below code\n",
        "#Cross check the output manually\n",
        "\n",
        "print(10.20 and 20.30)       #both are true and second value taken >Output is 20.3\n",
        "print(0.0 and 20.30)         #First is false so first value taken->Output is 0.0\n",
        "print(20.30 and 0.0)         #Goes to till second and second value is false so second is taken>Output is 0.0\n",
        "print(0.0 and 0.0)           #First is false so first value is taken->Output is 0.0\n",
        "\n",
        "print(10.20 or 20.30)        #First is True so first value is taken>Output is 10.2\n",
        "print(0.0 or 20.30)          #Goes to till second and second is true second value is taken->Output is 20.3\n",
        "print(20.30 or 0.0)          #First is True so first value is taken->Output is 20.3\n",
        "print(0.0 or 0.0)            #Goes to till second and secod is also false and second value is taken>Output is 0.0\n",
        "\n",
        "print(not 10.20)             #-Not of true is false->Output is False\n",
        "print(not 0.0)               #Not of false is True>Output is True"
      ],
      "execution_count": null,
      "outputs": [
        {
          "output_type": "stream",
          "text": [
            "20.3\n",
            "0.0\n",
            "0.0\n",
            "0.0\n",
            "10.2\n",
            "20.3\n",
            "20.3\n",
            "0.0\n",
            "False\n",
            "True\n"
          ],
          "name": "stdout"
        }
      ]
    },
    {
      "cell_type": "markdown",
      "metadata": {
        "id": "Sg4_CEn1thby"
      },
      "source": [
        "Logical operators like and/or when used to compare with floats: \n",
        "0.0 is false rest all the float value is True **bold text**"
      ]
    },
    {
      "cell_type": "markdown",
      "metadata": {
        "id": "YYk4JO2dvuzS"
      },
      "source": [
        "## Object reusability concept \n",
        "Python preloaded values (integer cache)\n",
        "\n",
        "Python by default preloads certain values for example integers between [-5,256] and save it to the same memory address. As the python documentation says:\n",
        "\n",
        "*“The current implementation keeps an array of integer objects for all integers between -5 and 256, when you create an int in that range you actually just get back a reference to the existing object.”*\n",
        "\n",
        "It's called the integer cache\n",
        "\n",
        "Why preloading? Because small integers are more frequently used by loops. Using reference to existing objects instead of creating a new object saves an overhead and make the processing efficient \n",
        "\n",
        "Reference:\n",
        "1. [Read more on stackoverflow:](https://stackoverflow.com/a/55756066/6819442)\n",
        "2. [More on integer cache](https://wsvincent.com/python-wat-integer-cache/)\n",
        "\n",
        "Example for this is:"
      ]
    },
    {
      "cell_type": "code",
      "metadata": {
        "id": "qj3KH_k9wmxn",
        "outputId": "3245a6c5-31df-42d2-a5b8-984cd753ba4f",
        "colab": {
          "base_uri": "https://localhost:8080/"
        }
      },
      "source": [
        "a = 10\n",
        "b = 10\n",
        "print(a, id(a), type(a))\n",
        "print(b, id(b), type(b))\n",
        "print(id(a)==id(b))\n",
        "\n",
        "c = 258\n",
        "d = 258\n",
        "print(c, id(c), type(c))\n",
        "print(d, id(d), type(d))\n",
        "print(id(c)==id(d))\n",
        "\n",
        "# Beyond the range of [-5,256], the variable are stored in different memory address\n",
        "# similarly for the float values, it stores in different memory address:\n",
        "\n",
        "#What is the output of expression inside print statement. Cross check before running the program.\n",
        "a = 10.20\n",
        "b = 10.20\n",
        "print(a is b)          #True or False? True 10.20<256\n",
        "print(a is not b)      #True or False? False\n",
        "# Why the Id of float values are different when the same value is assigned to two different variables\n",
        "# ex: a = 10.5 b=10.5. but id will be same if I assign the variable having float i.e. a=c then both a anc c's\n",
        "# Id are same"
      ],
      "execution_count": null,
      "outputs": [
        {
          "output_type": "stream",
          "text": [
            "10 10914784 <class 'int'>\n",
            "10 10914784 <class 'int'>\n",
            "True\n",
            "258 140249806484784 <class 'int'>\n",
            "258 140249806485072 <class 'int'>\n",
            "False\n"
          ],
          "name": "stdout"
        }
      ]
    },
    {
      "cell_type": "code",
      "metadata": {
        "id": "iTvnIMLd3VLW"
      },
      "source": [
        "#Bitwise operation is not applicable between instances of float.\n",
        "## Why the Id of float values are different when the same value is assigned to two different variables\n",
        "## ex: a = 10.5 b=10.5. but id will be same if I assign the variable having float i.e. a=c then both a anc c's\n",
        "## Id are same\n",
        "#Object reusability concept is not applicable on float values."
      ],
      "execution_count": null,
      "outputs": []
    },
    {
      "cell_type": "code",
      "metadata": {
        "id": "29AVJHpx3YUo",
        "outputId": "aa5224e9-5e04-4fd8-8eda-f9d6e4646ff0",
        "colab": {
          "base_uri": "https://localhost:8080/"
        }
      },
      "source": [
        "#Membership operation\n",
        "#in, not in are two membership operators and it returns boolean value\n",
        "#string can be only checked with string for membership\n",
        "\n",
        "print('2.7' in 'Python2.7.8')              #True\n",
        "print(10.20 in [10,10.20,10+20j,'Python']) #True\n",
        "print(10.20 in (10,10.20,10+20j,'Python')) # True\n",
        "print(20.30 in {1,20.30,30+40j})           # True\n",
        "print(2.3 in {1:100, 2.3:200, 30+40j:300}) # True\n",
        "print(10 in range(20))                     # True"
      ],
      "execution_count": null,
      "outputs": [
        {
          "output_type": "stream",
          "text": [
            "True\n",
            "True\n",
            "True\n",
            "True\n",
            "True\n",
            "True\n"
          ],
          "name": "stdout"
        }
      ]
    }
  ]
}
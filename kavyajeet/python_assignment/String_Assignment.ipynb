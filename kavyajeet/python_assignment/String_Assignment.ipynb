{
  "nbformat": 4,
  "nbformat_minor": 0,
  "metadata": {
    "colab": {
      "name": "String_Assignment.ipynb",
      "provenance": [],
      "collapsed_sections": [],
      "include_colab_link": true
    },
    "kernelspec": {
      "name": "python3",
      "display_name": "Python 3"
    }
  },
  "cells": [
    {
      "cell_type": "markdown",
      "metadata": {
        "id": "view-in-github",
        "colab_type": "text"
      },
      "source": [
        "<a href=\"https://colab.research.google.com/github/kavyajeetbora/LB_DSC_SEPT_WKND_20/blob/master/kavyajeet/python_assignment/String_Assignment.ipynb\" target=\"_parent\"><img src=\"https://colab.research.google.com/assets/colab-badge.svg\" alt=\"Open In Colab\"/></a>"
      ]
    },
    {
      "cell_type": "code",
      "metadata": {
        "id": "OG2JlAXx3VoJ",
        "outputId": "05163c27-1b4d-4777-ac3e-fdb476083e35",
        "colab": {
          "base_uri": "https://localhost:8080/",
          "height": 35
        }
      },
      "source": [
        "#Declare a string and store it in a variable. \n",
        "name = 'Kavyajeet Bora'\n",
        "\n",
        "\n",
        "#Check the type and print the id of the same.\n",
        "print(type(name), id(name))\n",
        "\n"
      ],
      "execution_count": 75,
      "outputs": [
        {
          "output_type": "stream",
          "text": [
            "<class 'str'> 140359488198640\n"
          ],
          "name": "stdout"
        }
      ]
    },
    {
      "cell_type": "markdown",
      "metadata": {
        "id": "mUrZ3v2LMsjV"
      },
      "source": [
        "#Which are valid/invalid strings\n",
        "1. 'This is Python class'\n",
        "valid\n",
        "\n",
        "2. \"This is Python class\"\n",
        "valid\n",
        "\n",
        "3. '''This is Python class'''\n",
        "valid\n",
        "\n",
        "4. \"\"\"This is Python class\"\"\"\n",
        "valid\n",
        "\n",
        "5. 'This is Python's class'\n",
        "invalid\n",
        "\n",
        "6. \"Learnbay provides \"Java\", \"Python\" classes\"\n",
        "invalid\n",
        "\n",
        "7. \"Learnbay provides 'Java', 'Python' classes\"\n",
        "valid\n",
        "\n",
        "8. \"This is Python's class\"\n",
        "valid\n",
        "\n",
        "9. \"\"\"Learnbay provides \"Java\", \"Python\" classes\"\"\"\n",
        "valid\n",
        "\n",
        "10. '''Learnbay provides \"Java\", \"Python\" classes'''\n",
        "valid\n",
        "\n",
        "11. '''Learnbay provides\n",
        "\"Java\", \"Python\" \n",
        "classes'''\n",
        "valid\n",
        "\n",
        "12. 'This is\n",
        "Python \n",
        "class'\n",
        "invalid\n"
      ]
    },
    {
      "cell_type": "code",
      "metadata": {
        "id": "Drx8fhT23g7a",
        "outputId": "fca3e345-9f36-431b-ef3d-9eaf61164f60",
        "colab": {
          "base_uri": "https://localhost:8080/",
          "height": 70
        }
      },
      "source": [
        "#Write the code to get the output mentioned below print statement\n",
        "my_str = \"Although that way may not be obvious at first unless you're Dutch.\"\n",
        "my_str1 = \"Although that way may not be obvious at first unless you're Dutch.\"\n",
        "\n",
        "print(len(my_str))\n",
        "#output:- The length of my_str is 66\n",
        "\n",
        "print(id(my_str)==id(my_str))\n",
        "#output:- id of my_str and my_str1 is same? - True\n",
        "\n",
        "print(type(my_str))\n",
        "#output:- Type of my_str is: str"
      ],
      "execution_count": 76,
      "outputs": [
        {
          "output_type": "stream",
          "text": [
            "66\n",
            "True\n",
            "<class 'str'>\n"
          ],
          "name": "stdout"
        }
      ]
    },
    {
      "cell_type": "code",
      "metadata": {
        "id": "403e-I3A3lCO",
        "outputId": "4a4c914d-8c28-44db-ac41-d83e0604a3b9",
        "colab": {
          "base_uri": "https://localhost:8080/",
          "height": 123
        }
      },
      "source": [
        "#Indexing\n",
        "my_str = \"Although 8 that way may not be obvious at first unless you're Dutch\"\n",
        "#Write the code to get the output,instructions are mentioned below print statement. use indexing\n",
        "\n",
        "print(my_str[0])\n",
        "#output:- The first character in my_str is: A\n",
        "#Note:- Use positive indexing\n",
        "\n",
        "print(my_str[len(my_str)-len(my_str)])\n",
        "#output:- The first character in my_str is: h\n",
        "#Note:- Use len() function.\n",
        "\n",
        "print(\"Q3.\",my_str[10])\n",
        "#output:- The character at index 10 in my_str is: c\n",
        "#Note:- Use positive indexing\n",
        "\n",
        "print(my_str[-1])\n",
        "#output:- The last character in my_str is: h\n",
        "#Note:- Use negative indexing.\n",
        "\n",
        "print(my_str[len(my_str)-1])\n",
        "#output:- The last character in my_str is: h\n",
        "#Note:- Use len() function.\n",
        "\n",
        "print(my_str.find(\"8\"))\n",
        "#output:- The character in my_str is: 8\n",
        "#Note:- Use positive index"
      ],
      "execution_count": 77,
      "outputs": [
        {
          "output_type": "stream",
          "text": [
            "A\n",
            "A\n",
            "Q3.  \n",
            "h\n",
            "h\n",
            "9\n"
          ],
          "name": "stdout"
        }
      ]
    },
    {
      "cell_type": "code",
      "metadata": {
        "id": "NK_QdtsM3luu",
        "outputId": "592f8183-b6d6-4eb1-e153-b1d00fc83ab6",
        "colab": {
          "base_uri": "https://localhost:8080/",
          "height": 265
        }
      },
      "source": [
        "#Slicing\n",
        "my_str = \"Although that way may not be obvious at first unless you're Dutch.\"\n",
        "#Write the code to get the output,instructions are mentioned below print statement. use slicing\n",
        "print(my_str[::])\n",
        "#output:- You have sliced: Although that way may not be obvious at first unless you're Dutch.Without begin, end and step\n",
        "\n",
        "\n",
        "print(my_str[0:len(my_str)])\n",
        "#output:- You have sliced: Although that way may not be obvious at first unless you're Dutch.with begin as 0 end using len and without step\n",
        "\n",
        "\n",
        "print(my_str[::1])\n",
        "#output:- You have sliced: Although that way may not be obvious at first unless you're Dutch.without begin and end but using step\n",
        "\n",
        "\n",
        "print(my_str[0:len(my_str):1])\n",
        "#output:- You have sliced: Although that way may not be obvious at first unless you're Dutch.With begin, end and step\n",
        "\n",
        "\n",
        "print()\n",
        "#output:- You have sliced:   .with using begin and end using postive values and step as negative values.\n",
        "#Slicing command should print empty string.\n",
        "\n",
        "\n",
        "print(my_str[::2])\n",
        "#output:- You have sliced: Atog htwymyntb biu tfrtuls o'eDth\n",
        "\n",
        "\n",
        "print(my_str[::3])\n",
        "#output:- You have sliced: Ahgttam tebo  r lsorDc\n",
        "\n",
        "\n",
        "print(my_str[::-1])\n",
        "#output:- You have sliced: .hctuD er'uoy sselnu tsrif ta suoivbo eb ton yam yaw taht hguohtlA. Use only step\n",
        "\n",
        "\n",
        "print(my_str[-1:-len(my_str)-1:-1])\n",
        "#output:- You have sliced: .hctuD er'uoy sselnu tsrif ta suoivbo eb ton yam yaw taht hguohtlA. Use begin end and step.\n",
        "\n",
        "\n",
        "print(my_str[::-2])\n",
        "#output:- You have sliced: .cu ruysen si asovoe o a a athuhl. use only step\n",
        "\n",
        "\n",
        "print(my_str[-1:-len(my_str)-1:-2])\n",
        "#output:- You have sliced: .cu ruysen si asovoe o a a athuhl. use begin, end and step.\n",
        "\n",
        "\n",
        "print(\"output\",my_str[10:17:-1])\n",
        "#What will be the output? this will give blank string, we have to use negative indexing here because the direction is in reverse direction\n",
        "\n",
        "\n",
        "print(my_str[-50:-56:-1])\n",
        "#output:- You have sliced: yaw ta, Using begin, end and step.\n",
        "\n",
        "print(my_str[-17:-10:1])\n",
        "#output:- You have sliced: ess you. Using begin, end and step.\n"
      ],
      "execution_count": 78,
      "outputs": [
        {
          "output_type": "stream",
          "text": [
            "Although that way may not be obvious at first unless you're Dutch.\n",
            "Although that way may not be obvious at first unless you're Dutch.\n",
            "Although that way may not be obvious at first unless you're Dutch.\n",
            "Although that way may not be obvious at first unless you're Dutch.\n",
            "\n",
            "Atog htwymyntb biu tfrtuls o'eDth\n",
            "Ahgttam tebo  r lsorDc\n",
            ".hctuD er'uoy sselnu tsrif ta suoivbo eb ton yam yaw taht hguohtlA\n",
            ".hctuD er'uoy sselnu tsrif ta suoivbo eb ton yam yaw taht hguohtlA\n",
            ".cu ruysen si asovoe o a a athuhl\n",
            ".cu ruysen si asovoe o a a athuhl\n",
            "output \n",
            "yaw ta\n",
            "ess you\n"
          ],
          "name": "stdout"
        }
      ]
    },
    {
      "cell_type": "code",
      "metadata": {
        "id": "qUSYa5x-3n5j",
        "outputId": "b290e5c6-a50d-42f1-cf23-e991ffd362fb",
        "colab": {
          "base_uri": "https://localhost:8080/",
          "height": 52
        }
      },
      "source": [
        "#Basic operation on string\n",
        "str1 = 'Learnbay'\n",
        "str2 = 'Python'\n",
        "\n",
        "#Write the code to get the output,instructions are mentioned below.\n",
        "#Output is: Learnbay Python\n",
        "print(str1+\" \"+str2)\n",
        "\n",
        "#Error: TypeError: can only concatenate str (not \"int\") to str\n",
        "\n",
        "\n",
        "#Error: TypeError: can only concatenate str (not \"float\") to str\n",
        "\n",
        "\n",
        "\n",
        "#Find below Output\n",
        "#Output is: LearnbayLearnbayLearnbay\n",
        "print(str1*3)\n",
        "\n",
        "#Error: TypeError: can't multiply sequence by non-int of type 'float'\n",
        "\n",
        "\n",
        "#Error: TypeError: can't multiply sequence by non-int of type 'str'\n",
        "\n"
      ],
      "execution_count": 79,
      "outputs": [
        {
          "output_type": "stream",
          "text": [
            "Learnbay Python\n",
            "LearnbayLearnbayLearnbay\n"
          ],
          "name": "stdout"
        }
      ]
    },
    {
      "cell_type": "code",
      "metadata": {
        "id": "gREffmnr3s-p",
        "outputId": "5b5b7878-9896-489f-ade4-be4fdbcffc1e",
        "colab": {
          "base_uri": "https://localhost:8080/",
          "height": 123
        }
      },
      "source": [
        "#Find below Output\n",
        "str1 = 'Python'\n",
        "str2 = 'Python'\n",
        "str3 = 'Python$'\n",
        "str4 = 'Python$'\n",
        "\n",
        "#print True by using identity operator between str1 and str2\n",
        "print(str1==str2)\n",
        "\n",
        "#print False by using identity operator between str1 and str3\n",
        "print(str1==str3)\n",
        "\n",
        "#print False by using identity operator between str4 and str3\n",
        "print(str4==str3)\n",
        "\n",
        "#Check if P is available in str1 and print True by using membership operator\n",
        "print(\"P\" in str1)\n",
        "\n",
        "#Check if $ is available in str3 and print True by using membership operator\n",
        "print(\"$\" in str3)\n",
        "\n",
        "#Check if N is available in str3 and print False by using membership operator\n",
        "print(\"N\" in str3)\n",
        "\n"
      ],
      "execution_count": 80,
      "outputs": [
        {
          "output_type": "stream",
          "text": [
            "True\n",
            "False\n",
            "True\n",
            "True\n",
            "True\n",
            "False\n"
          ],
          "name": "stdout"
        }
      ]
    },
    {
      "cell_type": "code",
      "metadata": {
        "id": "QNFjxDr73u2H"
      },
      "source": [
        "#Complete the below code\n",
        "str1 = 'This is Python class'\n",
        "#write the code to replace 'Python' with 'Java' and you should get below error.\n",
        "#TypeError: 'str' object does not support item assignment. because strings are immutable\n",
        "\n",
        "\n"
      ],
      "execution_count": 81,
      "outputs": []
    },
    {
      "cell_type": "code",
      "metadata": {
        "id": "-JgFbPmn3w3D",
        "outputId": "1b5f7614-9237-4db5-86ef-1750eaea5dcc",
        "colab": {
          "base_uri": "https://localhost:8080/",
          "height": 88
        }
      },
      "source": [
        "str1 = 'A'\n",
        "str2 = 'A'\n",
        "#Compare str1 and str2 and print True using comparison operator\n",
        "print(str1 is str2)\n",
        "\n",
        "#Compare str1 and str2 and print True using equality operator\n",
        "print(str1 == str2)\n",
        "\n",
        "#Compare str1 and str2 and print False using equality operator\n",
        "print(str1 != str2)\n",
        "\n",
        "#Compare str1 and str2 and print False using comparison operator\n",
        "print(str1 is not str2)\n"
      ],
      "execution_count": 82,
      "outputs": [
        {
          "output_type": "stream",
          "text": [
            "True\n",
            "True\n",
            "False\n",
            "False\n"
          ],
          "name": "stdout"
        }
      ]
    },
    {
      "cell_type": "code",
      "metadata": {
        "id": "fJ46_L-53yhW",
        "outputId": "bd3d101a-9e27-41e9-d39a-c87d9b41ef88",
        "colab": {
          "base_uri": "https://localhost:8080/",
          "height": 88
        }
      },
      "source": [
        "str1 = 'A'\n",
        "str2 = 'a'\n",
        "#Compare str1 and str2 and print True using comparison operator\n",
        "print(str1 is str2)\n",
        "\n",
        "#Compare str1 and str2 and print True using equality operator\n",
        "print(str1 == str2)\n",
        "\n",
        "#Compare str1 and str2 and print False using equality operator\n",
        "print(str1 != str2)\n",
        "\n",
        "#Compare str1 and str2 and print False using comparison operator\n",
        "print(str1 is not str2)"
      ],
      "execution_count": 83,
      "outputs": [
        {
          "output_type": "stream",
          "text": [
            "False\n",
            "False\n",
            "True\n",
            "True\n"
          ],
          "name": "stdout"
        }
      ]
    },
    {
      "cell_type": "code",
      "metadata": {
        "id": "e-Lr9va330gi",
        "outputId": "e12aba6a-cf91-4d3b-b478-4fb3ad1516dd",
        "colab": {
          "base_uri": "https://localhost:8080/",
          "height": 52
        }
      },
      "source": [
        "str1 = 'A'\n",
        "str2 = '65'\n",
        "#Compare str1 and str2 using comparison operator and it should give below error.\n",
        "#Error: TypeError: '>=' not supported between instances of 'str' and 'int'\n",
        "\n",
        "#Compare str1 and str2 and print True using equality operator\n",
        "print(str1 != str2)\n",
        "\n",
        "#Compare str1 and str2 and print False using equality operator\n",
        "print(str1 == str2)\n"
      ],
      "execution_count": 84,
      "outputs": [
        {
          "output_type": "stream",
          "text": [
            "True\n",
            "False\n"
          ],
          "name": "stdout"
        }
      ]
    },
    {
      "cell_type": "code",
      "metadata": {
        "id": "JO04jmpN32Im",
        "outputId": "c90cebf9-d8b2-4712-84d7-c29a5bdf1a91",
        "colab": {
          "base_uri": "https://localhost:8080/",
          "height": 88
        }
      },
      "source": [
        "str1 = 'Python'\n",
        "str2 = 'Python'\n",
        "#Compare str1 and str2 and print True using comparison operator\n",
        "print(str1 is str2)\n",
        "\n",
        "#Compare str1 and str2 and print True using equality operator\n",
        "print(str1 == str2)\n",
        "\n",
        "#Compare str1 and str2 and print False using equality operator\n",
        "print(str1 != str2)\n",
        "\n",
        "#Compare str1 and str2 and print False using comparison operator\n",
        "print(str1 is not str2)\n"
      ],
      "execution_count": 85,
      "outputs": [
        {
          "output_type": "stream",
          "text": [
            "True\n",
            "True\n",
            "False\n",
            "False\n"
          ],
          "name": "stdout"
        }
      ]
    },
    {
      "cell_type": "code",
      "metadata": {
        "id": "nmVAYYC_35ip",
        "outputId": "7fc2ba7e-4c40-4d60-9a20-f8f5127f236f",
        "colab": {
          "base_uri": "https://localhost:8080/",
          "height": 88
        }
      },
      "source": [
        "str1 = 'Python'\n",
        "str2 = 'python'\n",
        "\n",
        "#Compare str1 and str2 and print True using comparison operator\n",
        "print(str1 is not str2)\n",
        "\n",
        "#Compare str1 and str2 and print True using equality operator\n",
        "print(str1 != str2)\n",
        "\n",
        "#Compare str1 and str2 and print False using equality operator\n",
        "print(str1 == str2)\n",
        "\n",
        "#Compare str1 and str2 and print False using comparison operator\n",
        "print(str1 is str2)\n"
      ],
      "execution_count": 86,
      "outputs": [
        {
          "output_type": "stream",
          "text": [
            "True\n",
            "True\n",
            "False\n",
            "False\n"
          ],
          "name": "stdout"
        }
      ]
    },
    {
      "cell_type": "code",
      "metadata": {
        "id": "7ulv5ith37OJ",
        "outputId": "8cc1aacf-6321-4628-eacc-e5f37c1bae2d",
        "colab": {
          "base_uri": "https://localhost:8080/",
          "height": 105
        }
      },
      "source": [
        "a = 'Python'\n",
        "b = ''\n",
        "\n",
        "#Apply logical opereators (and, or & not) on above string values and observe the output.\n",
        "print(1,a and b)\n",
        "print()\n",
        "print(2, a or b)\n",
        "print()\n",
        "print(3, a is not b)"
      ],
      "execution_count": 87,
      "outputs": [
        {
          "output_type": "stream",
          "text": [
            "1 \n",
            "\n",
            "2 Python\n",
            "\n",
            "3 True\n"
          ],
          "name": "stdout"
        }
      ]
    },
    {
      "cell_type": "code",
      "metadata": {
        "id": "Yg_gsZBL383n",
        "outputId": "2fd1df40-a3b4-4d77-c3ab-ce6c296ea63e",
        "colab": {
          "base_uri": "https://localhost:8080/",
          "height": 105
        }
      },
      "source": [
        "a = ''\n",
        "b = ''\n",
        "\n",
        "#Apply logical opereators (and, or & not) on above string values and observe the output.\n",
        "print(1,a and b)\n",
        "print()\n",
        "print(2, a or b)\n",
        "print()\n",
        "print(3, a is not b)"
      ],
      "execution_count": 88,
      "outputs": [
        {
          "output_type": "stream",
          "text": [
            "1 \n",
            "\n",
            "2 \n",
            "\n",
            "3 False\n"
          ],
          "name": "stdout"
        }
      ]
    },
    {
      "cell_type": "code",
      "metadata": {
        "id": "cIWkP9Hf3-q5",
        "outputId": "40622ea1-e519-407b-b5f6-8b3b1144b238",
        "colab": {
          "base_uri": "https://localhost:8080/",
          "height": 105
        }
      },
      "source": [
        "a = 'Python'\n",
        "b = 'learnbay'\n",
        "\n",
        "#Apply logical opereators (and, or & not) on above string values and observe the output.\n",
        "print(1,a and b)\n",
        "print()\n",
        "print(2, a or b)\n",
        "print()\n",
        "print(3, a is not b)"
      ],
      "execution_count": 89,
      "outputs": [
        {
          "output_type": "stream",
          "text": [
            "1 learnbay\n",
            "\n",
            "2 Python\n",
            "\n",
            "3 True\n"
          ],
          "name": "stdout"
        }
      ]
    },
    {
      "cell_type": "code",
      "metadata": {
        "id": "Y0Ot_E704AX5",
        "outputId": "0255e558-1022-4f28-fd89-75369eea951e",
        "colab": {
          "base_uri": "https://localhost:8080/",
          "height": 229
        }
      },
      "source": [
        "my_str = \"Although 8 that way may not be obvious at first unless you're Dutch\"\n",
        "\n",
        "#Write the code to get the total count of 't' in above string. Use find() and index() method.\n",
        "print(1, my_str.count(\"t\"))\n",
        "print()\n",
        "\n",
        "# #Write the code to get the index of '8' in my_str. Use find() and index() method.\n",
        "print(2, my_str.index('8'))\n",
        "print()\n",
        "\n",
        "# #What will be the output of below code?\n",
        "print(3, my_str.find('the'))\n",
        "print()\n",
        "\n",
        "# # print(my_str.index('the'))\n",
        "\n",
        "\n",
        "print(4, my_str.find('t', 9, 15))\n",
        "print()\n",
        "\n",
        "print(5, my_str.rfind('u'))\n",
        "print()\n",
        "\n",
        "print(6, my_str.rindex('u'))\n",
        "print()"
      ],
      "execution_count": 90,
      "outputs": [
        {
          "output_type": "stream",
          "text": [
            "1 7\n",
            "\n",
            "2 9\n",
            "\n",
            "3 -1\n",
            "\n",
            "4 11\n",
            "\n",
            "5 63\n",
            "\n",
            "6 63\n",
            "\n"
          ],
          "name": "stdout"
        }
      ]
    },
    {
      "cell_type": "code",
      "metadata": {
        "id": "Gommq59Q4CMi",
        "outputId": "21649902-da23-4a07-dacf-d46502e2f308",
        "colab": {
          "base_uri": "https://localhost:8080/",
          "height": 52
        }
      },
      "source": [
        "#W A P which applies strip() method if any string, which will be taken from user, starts and ends with space, or applies \n",
        "#rrstrip() method if that string only ends with space or applies lstrip() method if that string only starts with a space.\n",
        "\n",
        "#For example:-\n",
        "#input:- '    Python   '\n",
        "#output:- 'Python'\n",
        "text = input(\"Enter a text\")\n",
        "print(text.strip())\n",
        "\n",
        "#input:- '    Python'\n",
        "#output:- 'Python'\n",
        "\n",
        "#input:- 'Python   '\n",
        "#output:- 'Python'"
      ],
      "execution_count": 91,
      "outputs": [
        {
          "output_type": "stream",
          "text": [
            "Enter a textHello world\n",
            "Hello world\n"
          ],
          "name": "stdout"
        }
      ]
    },
    {
      "cell_type": "code",
      "metadata": {
        "id": "9IUy-cpS4Dtt",
        "outputId": "9e61d945-54e6-4bd9-eeda-9531a3d33b47",
        "colab": {
          "base_uri": "https://localhost:8080/",
          "height": 70
        }
      },
      "source": [
        "my_str = \"Although 8 that way may not be obvious at first unless you're Dutch\"\n",
        "\n",
        "#Write the code to convert all alphabets in my_str into upper case.\n",
        "print(my_str.upper())\n",
        "\n",
        "#Write the code to convert all alphabets in my_str into lower case.\n",
        "print(my_str.lower())\n",
        "\n",
        "#Write the code to swap the cases of all alphabets in my_str.(lower to upper and upper to lower)\n",
        "print(my_str.swapcase())"
      ],
      "execution_count": 92,
      "outputs": [
        {
          "output_type": "stream",
          "text": [
            "ALTHOUGH 8 THAT WAY MAY NOT BE OBVIOUS AT FIRST UNLESS YOU'RE DUTCH\n",
            "although 8 that way may not be obvious at first unless you're dutch\n",
            "aLTHOUGH 8 THAT WAY MAY NOT BE OBVIOUS AT FIRST UNLESS YOU'RE dUTCH\n"
          ],
          "name": "stdout"
        }
      ]
    },
    {
      "cell_type": "code",
      "metadata": {
        "id": "-BjS-z674HKW",
        "outputId": "4eb63972-0d7a-40ad-c9ae-3773aa9e58ab",
        "colab": {
          "base_uri": "https://localhost:8080/",
          "height": 52
        }
      },
      "source": [
        "#Write the code which takes one string from user and \n",
        "# if it starts with small case letter then convert it to corresponding capital letter \n",
        "#otherwise \n",
        "# if starts with capital letters then convert first character of every word in that string into capital.\n",
        "\n",
        "## sample input text:\n",
        "## The Pixel 4a is a big upgrade over the Pixel 3a in pretty much every way.\n",
        "## AND \n",
        "## google promises “all-day” battery life for the Pixel 4a, which should be good enough for most people.\n",
        "text = input(\"Enter a string:\")\n",
        "if text[0].islower():\n",
        "    print(text.capitalize())\n",
        "else:\n",
        "    print(text.title())"
      ],
      "execution_count": 93,
      "outputs": [
        {
          "output_type": "stream",
          "text": [
            "Enter a string:google promises “all-day” battery life for the Pixel 4a, which should be good enough for most people.\n",
            "Google promises “all-day” battery life for the pixel 4a, which should be good enough for most people.\n"
          ],
          "name": "stdout"
        }
      ]
    },
    {
      "cell_type": "code",
      "metadata": {
        "id": "-MCuDy5J4JQS",
        "outputId": "ff8ef352-55f1-4a0f-95e2-7eb0df528789",
        "colab": {
          "base_uri": "https://localhost:8080/",
          "height": 194
        }
      },
      "source": [
        "#Take a string from user and check if it is:-\n",
        "#     1. alphanumeric\n",
        "#     2. alphabets\n",
        "#     3. digit\n",
        "#     4. all letters are in lower case\n",
        "#     5. all letters are in upper case\n",
        "#     6. in title case\n",
        "#     7. a space character\n",
        "#     8. numeric\n",
        "#     9. all number elements in string are decimal\n",
        "\n",
        "\n",
        "text = input(\"Enter a text:\")\n",
        "print(\"is alphanumber:\", text.isalnum())\n",
        "print(\"is alphabhets:\", text.isalpha())\n",
        "print(\"is digit:\", text.isdigit())\n",
        "print(\"is lower:\", text.islower())\n",
        "print(\"is upper:\", text.isupper())\n",
        "print(\"is title case:\", text.istitle())\n",
        "print(\"Any space character:\", bool(text.find(\" \")))\n",
        "print(\"is Numeric:\", text.isnumeric())\n",
        "print(\"All numbers in the string are decimal ?\", text.isnumeric())\n"
      ],
      "execution_count": 94,
      "outputs": [
        {
          "output_type": "stream",
          "text": [
            "Enter a text:Hello123\n",
            "is alphanumber: True\n",
            "is alphabhets: False\n",
            "is digit: False\n",
            "is lower: False\n",
            "is upper: False\n",
            "is title case: True\n",
            "Any space character: True\n",
            "is Numeric: False\n",
            "All numbers in the string are decimal ? False\n"
          ],
          "name": "stdout"
        }
      ]
    },
    {
      "cell_type": "markdown",
      "metadata": {
        "id": "xKI2U_XlUUFu"
      },
      "source": [
        "[Difference between is digit and is decimal in python ?](https://stackoverflow.com/questions/22789392/str-isdecimal-and-str-isdigit-difference-example#:~:text=the%20function%20str.-,isdecimal()%20and%20str.,some%20other%20unicode%2Dsupported%20chars.)\n",
        "\n",
        "\n",
        "\n",
        "**Valid identifier defination:** A Python identifier is a name used to identify a variable, function, class, module or other object. An identifier starts with a letter A to Z or a to z or an underscore (_) followed by zero or more letters, underscores and digits (0 to 9)"
      ]
    },
    {
      "cell_type": "code",
      "metadata": {
        "id": "tiTN-4ik4KAG",
        "outputId": "4d042f48-19e2-4c89-9c16-395406b86778",
        "colab": {
          "base_uri": "https://localhost:8080/",
          "height": 141
        }
      },
      "source": [
        "import keyword\n",
        "#W A P which takes a string as an input and prints True if the string is valid identifier else returns False.\n",
        "#Sample Input:- 'abc', 'abc1', 'ab1c', '1abc', 'abc$', '_abc', 'if'\n",
        "vars = ['abc', 'abc1', 'ab1c', '1abc', 'abc$', '_abc', 'if']\n",
        "text = \"90variable\"\n",
        "for i in vars:\n",
        "    print(\"Is\",i,\"a valid identifier?\",i.isidentifier() and not keyword.iskeyword(i))"
      ],
      "execution_count": 95,
      "outputs": [
        {
          "output_type": "stream",
          "text": [
            "Is abc a valid identifier? True\n",
            "Is abc1 a valid identifier? True\n",
            "Is ab1c a valid identifier? True\n",
            "Is 1abc a valid identifier? False\n",
            "Is abc$ a valid identifier? False\n",
            "Is _abc a valid identifier? True\n",
            "Is if a valid identifier? False\n"
          ],
          "name": "stdout"
        }
      ]
    },
    {
      "cell_type": "code",
      "metadata": {
        "id": "tAMkSIN84MPe",
        "outputId": "1d8319b8-0c84-4601-9dc9-ab89c61b170b",
        "colab": {
          "base_uri": "https://localhost:8080/",
          "height": 88
        }
      },
      "source": [
        "#What will be output of below code?\n",
        "s = chr(65) + chr(97)\n",
        "print(s.isprintable())\n",
        "\n",
        "s = chr(27) + chr(97)\n",
        "print(s.isprintable())\n",
        "\n",
        "s = '\\n'\n",
        "print(s.isprintable())\n",
        "\n",
        "s = ''\n",
        "print(s.isprintable())"
      ],
      "execution_count": 96,
      "outputs": [
        {
          "output_type": "stream",
          "text": [
            "True\n",
            "False\n",
            "False\n",
            "True\n"
          ],
          "name": "stdout"
        }
      ]
    },
    {
      "cell_type": "code",
      "metadata": {
        "id": "pU9Os0mD4Pk1",
        "outputId": "a94dd145-42fa-4eb4-a574-24f8263d19d0",
        "colab": {
          "base_uri": "https://localhost:8080/",
          "height": 123
        }
      },
      "source": [
        "def isascii(text):\n",
        "    return all([ord(x)<128 for x in text])\n",
        "\n",
        "#What will be output of below code?\n",
        "my_string = '  '\n",
        "print(my_string,\"is ascii:\",isascii(my_string))\n",
        "\n",
        "my_string = 'Studytonight'\n",
        "print(my_string,\"is ascii:\",isascii(my_string))\n",
        "\n",
        "my_string = 'Study tonight'\n",
        "print(isascii(my_string))\n",
        "\n",
        "my_string = 'Studytonight@123'\n",
        "print(my_string,\"is ascii:\",isascii(my_string))\n",
        "\n",
        "my_string = '°'\n",
        "print(my_string,\"is ascii:\",isascii(my_string))\n",
        "\n",
        "my_string = 'ö'\n",
        "print(my_string,\"is ascii:\",isascii(my_string))"
      ],
      "execution_count": 103,
      "outputs": [
        {
          "output_type": "stream",
          "text": [
            "   is ascii: True\n",
            "Studytonight is ascii: True\n",
            "True\n",
            "Studytonight@123 is ascii: True\n",
            "° is ascii: False\n",
            "ö is ascii: False\n"
          ],
          "name": "stdout"
        }
      ]
    },
    {
      "cell_type": "code",
      "metadata": {
        "id": "VsLV8FF74QTB",
        "outputId": "d0ee7062-1b57-49f6-f365-7f17f2204d75",
        "colab": {
          "base_uri": "https://localhost:8080/",
          "height": 35
        }
      },
      "source": [
        "#What will be the output of below code?\n",
        "firstString = \"der Fluß\"\n",
        "secondString = \"der Fluss\"\n",
        "\n",
        "if firstString.casefold() == secondString.casefold():\n",
        "    print('The strings are equal.')\n",
        "else:\n",
        "    print('The strings are not equal.')"
      ],
      "execution_count": 104,
      "outputs": [
        {
          "output_type": "stream",
          "text": [
            "The strings are equal.\n"
          ],
          "name": "stdout"
        }
      ]
    },
    {
      "cell_type": "markdown",
      "metadata": {
        "id": "hTmXbcTflu47"
      },
      "source": [
        "**ljust** method returns the string left justified in a string of length width. Padding is done using the specified fillchar (default is a space). \n",
        "\n",
        "*The original string is returned if width is less than len(s)*"
      ]
    },
    {
      "cell_type": "code",
      "metadata": {
        "id": "1m0U7jLa4Wjf",
        "outputId": "983c61ef-4150-4395-a72d-9ca4a5b91e93",
        "colab": {
          "base_uri": "https://localhost:8080/",
          "height": 70
        }
      },
      "source": [
        "#Write the code to get below output\n",
        "#O/P 1:- python** (using ljust method)\n",
        "string = \"python\"\n",
        "print(string.ljust(len(string)+2,'*'))\n",
        "\n",
        "#Write the code to get below output\n",
        "#O/P 1:- **python (using rjust method)\n",
        "string = \"python\"\n",
        "print(string.rjust(len(string)+2,'*'))\n",
        "\n",
        "#Write the code to get below output\n",
        "#O/P 1:- **python** (using rjust method)\n",
        "string = \"python\"\n",
        "print(string.center(len(string)+4,'*'))\n"
      ],
      "execution_count": 127,
      "outputs": [
        {
          "output_type": "stream",
          "text": [
            "python**\n",
            "**python\n",
            "**python**\n"
          ],
          "name": "stdout"
        }
      ]
    },
    {
      "cell_type": "code",
      "metadata": {
        "id": "cRVkvW6s4YKK",
        "outputId": "c40b8c2f-f14e-4205-a51f-f2a7f93e3950",
        "colab": {
          "base_uri": "https://localhost:8080/",
          "height": 35
        }
      },
      "source": [
        "#Write a Python program to find the length of the my_str:-\n",
        "\n",
        "input = 'Write a Python program to find the length of the my_str'\n",
        "#Output:- 55\n",
        "print(len(input))"
      ],
      "execution_count": 128,
      "outputs": [
        {
          "output_type": "stream",
          "text": [
            "55\n"
          ],
          "name": "stdout"
        }
      ]
    },
    {
      "cell_type": "code",
      "metadata": {
        "id": "SjABWI284Zuz",
        "outputId": "84a17762-106b-458f-8019-5ea608776770",
        "colab": {
          "base_uri": "https://localhost:8080/",
          "height": 35
        }
      },
      "source": [
        "#Write a Python program to find the total number of times letter 'p' is appeared in the below string:-\n",
        "    \n",
        "input = 'peter piper picked a peck of pickled peppers.'\n",
        "#Output:- 9\n",
        "print(input.count(\"p\"))"
      ],
      "execution_count": 108,
      "outputs": [
        {
          "output_type": "stream",
          "text": [
            "9\n"
          ],
          "name": "stdout"
        }
      ]
    },
    {
      "cell_type": "code",
      "metadata": {
        "id": "-iZtqbEo4bQp",
        "outputId": "86ea05fc-a928-4441-cda9-33a6f2582cbf",
        "colab": {
          "base_uri": "https://localhost:8080/",
          "height": 176
        }
      },
      "source": [
        "#Write a Python Program, to print all the indexes of all occurences of letter 'p' appeared in the string:-\n",
        "    \n",
        "input= 'peter piper picked a peck of pickled peppers.'\n",
        "#Output:- \n",
        "# 0\n",
        "# 6\n",
        "# 8\n",
        "# 12\n",
        "# 21\n",
        "# 29\n",
        "# 37\n",
        "# 39\n",
        "# 40\n",
        "\n",
        "for i,chr in enumerate(input):\n",
        "    if chr==\"p\":\n",
        "        print(i)"
      ],
      "execution_count": 129,
      "outputs": [
        {
          "output_type": "stream",
          "text": [
            "0\n",
            "6\n",
            "8\n",
            "12\n",
            "21\n",
            "29\n",
            "37\n",
            "39\n",
            "40\n"
          ],
          "name": "stdout"
        }
      ]
    },
    {
      "cell_type": "code",
      "metadata": {
        "id": "_A8Eu8f84daM",
        "outputId": "9aad2059-9c8d-4b1e-ad95-f8fc4b32f15d",
        "colab": {
          "base_uri": "https://localhost:8080/",
          "height": 35
        }
      },
      "source": [
        "#Write a python program to find below output:-\n",
        "\n",
        "#Input:- 'peter piper picked a peck of pickled peppers.'\n",
        "#Output:- ['peter', 'piper', 'picked', 'a', 'peck', 'of', 'pickled', 'peppers.']\n",
        "\n",
        "input= 'peter piper picked a peck of pickled peppers.'\n",
        "print(input.split())"
      ],
      "execution_count": 130,
      "outputs": [
        {
          "output_type": "stream",
          "text": [
            "['peter', 'piper', 'picked', 'a', 'peck', 'of', 'pickled', 'peppers.']\n"
          ],
          "name": "stdout"
        }
      ]
    },
    {
      "cell_type": "code",
      "metadata": {
        "id": "juh7tQuL4fNc",
        "outputId": "b5a3f3b1-8467-49cf-98e9-0620db175040",
        "colab": {
          "base_uri": "https://localhost:8080/",
          "height": 35
        }
      },
      "source": [
        "#Write a python program to find below output:-\n",
        "\n",
        "#Input:- 'peter piper picked a peck of pickled peppers.'\n",
        "#Output:- 'peppers. pickled of peck a picked piper peter'\n",
        "input= 'peter piper picked a peck of pickled peppers.'\n",
        "print(input.split()[::-1])"
      ],
      "execution_count": 131,
      "outputs": [
        {
          "output_type": "stream",
          "text": [
            "['peppers.', 'pickled', 'of', 'peck', 'a', 'picked', 'piper', 'peter']\n"
          ],
          "name": "stdout"
        }
      ]
    },
    {
      "cell_type": "code",
      "metadata": {
        "id": "aaHQYz194fW7",
        "outputId": "13342d3f-73bc-4bb1-ef7f-428ebb5e28cc",
        "colab": {
          "base_uri": "https://localhost:8080/",
          "height": 35
        }
      },
      "source": [
        "#Write a python program to find below output:-\n",
        "\n",
        "#Input:- 'peter piper picked a peck of pickled peppers.'\n",
        "#Output:- '.sreppep delkcip fo kcep a dekcip repip retep'\n",
        "input= 'peter piper picked a peck of pickled peppers.'\n",
        "print(input[::-1])"
      ],
      "execution_count": 132,
      "outputs": [
        {
          "output_type": "stream",
          "text": [
            ".sreppep delkcip fo kcep a dekcip repip retep\n"
          ],
          "name": "stdout"
        }
      ]
    },
    {
      "cell_type": "code",
      "metadata": {
        "id": "LSgj9glC4feI",
        "outputId": "79bccb13-2176-419e-9841-fd003370d9cb",
        "colab": {
          "base_uri": "https://localhost:8080/",
          "height": 35
        }
      },
      "source": [
        "#Write a python program to find below output:-\n",
        "\n",
        "#Input:- 'peter piper picked a peck of pickled peppers.'\n",
        "#Output:- 'retep repip dekcip a kcep fo delkcip .sreppep'\n",
        "input= 'peter piper picked a peck of pickled peppers.'\n",
        "print(input[::-1].split()[::-1])"
      ],
      "execution_count": 133,
      "outputs": [
        {
          "output_type": "stream",
          "text": [
            "['retep', 'repip', 'dekcip', 'a', 'kcep', 'fo', 'delkcip', '.sreppep']\n"
          ],
          "name": "stdout"
        }
      ]
    },
    {
      "cell_type": "code",
      "metadata": {
        "id": "WUxPAkY94foo",
        "outputId": "4f9a7209-7b4f-4034-fc3b-5efa1d42baf6",
        "colab": {
          "base_uri": "https://localhost:8080/",
          "height": 35
        }
      },
      "source": [
        "#Write a python program to find below output:-\n",
        "\n",
        "#Input:- 'peter piper picked a peck of pickled peppers.'\n",
        "#Output:- 'Peter Piper Picked A Peck Of Pickled Peppers.'\n",
        "\n",
        "input= 'peter piper picked a peck of pickled peppers.'\n",
        "print(input.title())"
      ],
      "execution_count": 134,
      "outputs": [
        {
          "output_type": "stream",
          "text": [
            "Peter Piper Picked A Peck Of Pickled Peppers.\n"
          ],
          "name": "stdout"
        }
      ]
    },
    {
      "cell_type": "code",
      "metadata": {
        "id": "IT1NSPxA4mww",
        "outputId": "ef77bebe-72bc-4321-9d81-409db85c91a8",
        "colab": {
          "base_uri": "https://localhost:8080/",
          "height": 35
        }
      },
      "source": [
        "#Write a python program to find below output:-\n",
        "\n",
        "#Input:- 'Peter Piper Picked A Peck Of Pickled Peppers.'\n",
        "#Output:- 'Peter piper picked a peck of pickled peppers.'\n",
        "\n",
        "input= 'Peter Piper Picked A Peck Of Pickled Peppers.'\n",
        "print(input.lower())"
      ],
      "execution_count": 136,
      "outputs": [
        {
          "output_type": "stream",
          "text": [
            "peter piper picked a peck of pickled peppers.\n"
          ],
          "name": "stdout"
        }
      ]
    },
    {
      "cell_type": "code",
      "metadata": {
        "id": "3Gg65vSc4m3C",
        "outputId": "f41dfcc4-354c-4bf8-bbda-e5ef113ebbd7",
        "colab": {
          "base_uri": "https://localhost:8080/",
          "height": 35
        }
      },
      "source": [
        "#Write a python program to implement index method. If sub_str is found in my_str then it will print the index\n",
        "# of first occurrence of first character of matching string in my_str:-\n",
        "\n",
        "#Input:- my_str = 'Peter Piper Picked A Peck Of Pickled Peppers.', sub_str = 'Pickl'\n",
        "#Output:- 29\n",
        "\n",
        "input = 'Peter Piper Picked A Peck Of Pickled Peppers.'\n",
        "print(input.index(\"Pickl\"))"
      ],
      "execution_count": 139,
      "outputs": [
        {
          "output_type": "stream",
          "text": [
            "29\n"
          ],
          "name": "stdout"
        }
      ]
    },
    {
      "cell_type": "code",
      "metadata": {
        "id": "iFRhp_JI4m6k",
        "outputId": "1c53df45-2412-4d35-89f9-9a4890fe2254",
        "colab": {
          "base_uri": "https://localhost:8080/",
          "height": 35
        }
      },
      "source": [
        "#Write a python program to implement replace method. If sub_str is found in my_str then it will replace the first \n",
        "#occurrence of sub_str with new_str else it will will print sub_str not found:-\n",
        "\n",
        "#Input:- my_str = 'Peter Piper Picked A Peck Of Pickled Peppers.', sub_str = 'Peck', new_str = 'Pack'\n",
        "#Output:- 'Peter Piper Picked A Pack Of Pickled Peppers.'\n",
        "\n",
        "input = 'Peter Piper Picked A Peck Of Pickled Peppers.'\n",
        "print(input.replace(\"Peck\",\"Pack\"))"
      ],
      "execution_count": 140,
      "outputs": [
        {
          "output_type": "stream",
          "text": [
            "Peter Piper Picked A Pack Of Pickled Peppers.\n"
          ],
          "name": "stdout"
        }
      ]
    },
    {
      "cell_type": "code",
      "metadata": {
        "id": "dQ9YhBBc4m9V",
        "outputId": "cf089a6a-85ae-4e03-e343-f2c47bdf923e",
        "colab": {
          "base_uri": "https://localhost:8080/",
          "height": 52
        }
      },
      "source": [
        "#Write a python program to find below output (implements rjust and ljust):-\n",
        "\n",
        "#Input:- 'Peter Piper Picked A Peck Of Pickled Peppers.', sub_str = 'Peck', \n",
        "#Output:- '*********************Peck********************'\n",
        "input = 'Peter Piper Picked A Peck Of Pickled Peppers.'\n",
        "sub_str = \"Peck\"\n",
        "print(sub_str.center(len(input),\"*\"))\n",
        "\n",
        "# checking\n",
        "# print('*********************Peck********************'==sub_str.center(len(input),\"*\"))\n"
      ],
      "execution_count": 144,
      "outputs": [
        {
          "output_type": "stream",
          "text": [
            "*********************Peck********************\n",
            "True\n"
          ],
          "name": "stdout"
        }
      ]
    }
  ]
}
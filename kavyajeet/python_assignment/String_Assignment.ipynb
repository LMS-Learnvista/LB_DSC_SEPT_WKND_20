{
  "nbformat": 4,
  "nbformat_minor": 0,
  "metadata": {
    "colab": {
      "name": "String_Assignment.ipynb",
      "provenance": [],
      "collapsed_sections": [],
      "include_colab_link": true
    },
    "kernelspec": {
      "name": "python3",
      "display_name": "Python 3"
    }
  },
  "cells": [
    {
      "cell_type": "markdown",
      "metadata": {
        "id": "view-in-github",
        "colab_type": "text"
      },
      "source": [
        "<a href=\"https://colab.research.google.com/github/kavyajeetbora/LB_DSC_SEPT_WKND_20/blob/master/kavyajeet/python_assignment/String_Assignment.ipynb\" target=\"_parent\"><img src=\"https://colab.research.google.com/assets/colab-badge.svg\" alt=\"Open In Colab\"/></a>"
      ]
    },
    {
      "cell_type": "code",
      "metadata": {
        "id": "OG2JlAXx3VoJ",
        "outputId": "414c620a-9060-4879-b60f-6bca9c61f86c",
        "colab": {
          "base_uri": "https://localhost:8080/",
          "height": 35
        }
      },
      "source": [
        "#Declare a string and store it in a variable. \n",
        "name = 'Kavyajeet Bora'\n",
        "\n",
        "\n",
        "#Check the type and print the id of the same.\n",
        "print(type(name), id(name))\n",
        "\n"
      ],
      "execution_count": 1,
      "outputs": [
        {
          "output_type": "stream",
          "text": [
            "<class 'str'> 140359629089392\n"
          ],
          "name": "stdout"
        }
      ]
    },
    {
      "cell_type": "markdown",
      "metadata": {
        "id": "mUrZ3v2LMsjV"
      },
      "source": [
        "#Which are valid/invalid strings\n",
        "1. 'This is Python class'\n",
        "valid\n",
        "\n",
        "2. \"This is Python class\"\n",
        "valid\n",
        "\n",
        "3. '''This is Python class'''\n",
        "valid\n",
        "\n",
        "4. \"\"\"This is Python class\"\"\"\n",
        "valid\n",
        "\n",
        "5. 'This is Python's class'\n",
        "invalid\n",
        "\n",
        "6. \"Learnbay provides \"Java\", \"Python\" classes\"\n",
        "invalid\n",
        "\n",
        "7. \"Learnbay provides 'Java', 'Python' classes\"\n",
        "valid\n",
        "\n",
        "8. \"This is Python's class\"\n",
        "valid\n",
        "\n",
        "9. \"\"\"Learnbay provides \"Java\", \"Python\" classes\"\"\"\n",
        "valid\n",
        "\n",
        "10. '''Learnbay provides \"Java\", \"Python\" classes'''\n",
        "valid\n",
        "\n",
        "11. '''Learnbay provides\n",
        "\"Java\", \"Python\" \n",
        "classes'''\n",
        "valid\n",
        "\n",
        "12. 'This is\n",
        "Python \n",
        "class'\n",
        "invalid\n"
      ]
    },
    {
      "cell_type": "code",
      "metadata": {
        "id": "Drx8fhT23g7a",
        "outputId": "208efb06-a107-4103-a580-6d3f12be92f3",
        "colab": {
          "base_uri": "https://localhost:8080/",
          "height": 72
        }
      },
      "source": [
        "#Write the code to get the output mentioned below print statement\n",
        "my_str = \"Although that way may not be obvious at first unless you're Dutch.\"\n",
        "my_str1 = \"Although that way may not be obvious at first unless you're Dutch.\"\n",
        "\n",
        "print(len(my_str))\n",
        "#output:- The length of my_str is 66\n",
        "\n",
        "print(id(my_str)==id(my_str))\n",
        "#output:- id of my_str and my_str1 is same? - True\n",
        "\n",
        "print(type(my_str))\n",
        "#output:- Type of my_str is: str"
      ],
      "execution_count": 2,
      "outputs": [
        {
          "output_type": "stream",
          "text": [
            "66\n",
            "True\n",
            "<class 'str'>\n"
          ],
          "name": "stdout"
        }
      ]
    },
    {
      "cell_type": "code",
      "metadata": {
        "id": "403e-I3A3lCO",
        "outputId": "091ae573-ef4e-4778-9eda-767096830c51",
        "colab": {
          "base_uri": "https://localhost:8080/",
          "height": 126
        }
      },
      "source": [
        "#Indexing\n",
        "my_str = \"Although 8 that way may not be obvious at first unless you're Dutch\"\n",
        "#Write the code to get the output,instructions are mentioned below print statement. use indexing\n",
        "\n",
        "print(my_str[0])\n",
        "#output:- The first character in my_str is: A\n",
        "#Note:- Use positive indexing\n",
        "\n",
        "print(my_str[len(my_str)-len(my_str)])\n",
        "#output:- The first character in my_str is: h\n",
        "#Note:- Use len() function.\n",
        "\n",
        "print(\"Q3.\",my_str[10])\n",
        "#output:- The character at index 10 in my_str is: c\n",
        "#Note:- Use positive indexing\n",
        "\n",
        "print(my_str[-1])\n",
        "#output:- The last character in my_str is: h\n",
        "#Note:- Use negative indexing.\n",
        "\n",
        "print(my_str[len(my_str)-1])\n",
        "#output:- The last character in my_str is: h\n",
        "#Note:- Use len() function.\n",
        "\n",
        "print(my_str.find(\"8\"))\n",
        "#output:- The character in my_str is: 8\n",
        "#Note:- Use positive index"
      ],
      "execution_count": 3,
      "outputs": [
        {
          "output_type": "stream",
          "text": [
            "A\n",
            "A\n",
            "Q3.  \n",
            "h\n",
            "h\n",
            "9\n"
          ],
          "name": "stdout"
        }
      ]
    },
    {
      "cell_type": "code",
      "metadata": {
        "id": "NK_QdtsM3luu",
        "outputId": "94bf9831-06a8-43c1-ae0b-543ce27dfb13",
        "colab": {
          "base_uri": "https://localhost:8080/",
          "height": 272
        }
      },
      "source": [
        "#Slicing\n",
        "my_str = \"Although that way may not be obvious at first unless you're Dutch.\"\n",
        "#Write the code to get the output,instructions are mentioned below print statement. use slicing\n",
        "print(my_str[::])\n",
        "#output:- You have sliced: Although that way may not be obvious at first unless you're Dutch.Without begin, end and step\n",
        "\n",
        "\n",
        "print(my_str[0:len(my_str)])\n",
        "#output:- You have sliced: Although that way may not be obvious at first unless you're Dutch.with begin as 0 end using len and without step\n",
        "\n",
        "\n",
        "print(my_str[::1])\n",
        "#output:- You have sliced: Although that way may not be obvious at first unless you're Dutch.without begin and end but using step\n",
        "\n",
        "\n",
        "print(my_str[0:len(my_str):1])\n",
        "#output:- You have sliced: Although that way may not be obvious at first unless you're Dutch.With begin, end and step\n",
        "\n",
        "\n",
        "print()\n",
        "#output:- You have sliced:   .with using begin and end using postive values and step as negative values.\n",
        "#Slicing command should print empty string.\n",
        "\n",
        "\n",
        "print(my_str[::2])\n",
        "#output:- You have sliced: Atog htwymyntb biu tfrtuls o'eDth\n",
        "\n",
        "\n",
        "print(my_str[::3])\n",
        "#output:- You have sliced: Ahgttam tebo  r lsorDc\n",
        "\n",
        "\n",
        "print(my_str[::-1])\n",
        "#output:- You have sliced: .hctuD er'uoy sselnu tsrif ta suoivbo eb ton yam yaw taht hguohtlA. Use only step\n",
        "\n",
        "\n",
        "print(my_str[-1:-len(my_str)-1:-1])\n",
        "#output:- You have sliced: .hctuD er'uoy sselnu tsrif ta suoivbo eb ton yam yaw taht hguohtlA. Use begin end and step.\n",
        "\n",
        "\n",
        "print(my_str[::-2])\n",
        "#output:- You have sliced: .cu ruysen si asovoe o a a athuhl. use only step\n",
        "\n",
        "\n",
        "print(my_str[-1:-len(my_str)-1:-2])\n",
        "#output:- You have sliced: .cu ruysen si asovoe o a a athuhl. use begin, end and step.\n",
        "\n",
        "\n",
        "print(\"output\",my_str[10:17:-1])\n",
        "#What will be the output? this will give blank string, we have to use negative indexing here because the direction is in reverse direction\n",
        "\n",
        "\n",
        "print(my_str[-50:-56:-1])\n",
        "#output:- You have sliced: yaw ta, Using begin, end and step.\n",
        "\n",
        "print(my_str[-17:-10:1])\n",
        "#output:- You have sliced: ess you. Using begin, end and step.\n"
      ],
      "execution_count": 4,
      "outputs": [
        {
          "output_type": "stream",
          "text": [
            "Although that way may not be obvious at first unless you're Dutch.\n",
            "Although that way may not be obvious at first unless you're Dutch.\n",
            "Although that way may not be obvious at first unless you're Dutch.\n",
            "Although that way may not be obvious at first unless you're Dutch.\n",
            "\n",
            "Atog htwymyntb biu tfrtuls o'eDth\n",
            "Ahgttam tebo  r lsorDc\n",
            ".hctuD er'uoy sselnu tsrif ta suoivbo eb ton yam yaw taht hguohtlA\n",
            ".hctuD er'uoy sselnu tsrif ta suoivbo eb ton yam yaw taht hguohtlA\n",
            ".cu ruysen si asovoe o a a athuhl\n",
            ".cu ruysen si asovoe o a a athuhl\n",
            "output \n",
            "yaw ta\n",
            "ess you\n"
          ],
          "name": "stdout"
        }
      ]
    },
    {
      "cell_type": "code",
      "metadata": {
        "id": "qUSYa5x-3n5j",
        "outputId": "be37d50a-6394-4f32-e256-a9e8d6a00627",
        "colab": {
          "base_uri": "https://localhost:8080/",
          "height": 54
        }
      },
      "source": [
        "#Basic operation on string\n",
        "str1 = 'Learnbay'\n",
        "str2 = 'Python'\n",
        "\n",
        "#Write the code to get the output,instructions are mentioned below.\n",
        "#Output is: Learnbay Python\n",
        "print(str1+\" \"+str2)\n",
        "\n",
        "#Error: TypeError: can only concatenate str (not \"int\") to str\n",
        "\n",
        "\n",
        "#Error: TypeError: can only concatenate str (not \"float\") to str\n",
        "\n",
        "\n",
        "\n",
        "#Find below Output\n",
        "#Output is: LearnbayLearnbayLearnbay\n",
        "print(str1*3)\n",
        "\n",
        "#Error: TypeError: can't multiply sequence by non-int of type 'float'\n",
        "\n",
        "\n",
        "#Error: TypeError: can't multiply sequence by non-int of type 'str'\n",
        "\n"
      ],
      "execution_count": 5,
      "outputs": [
        {
          "output_type": "stream",
          "text": [
            "Learnbay Python\n",
            "LearnbayLearnbayLearnbay\n"
          ],
          "name": "stdout"
        }
      ]
    },
    {
      "cell_type": "code",
      "metadata": {
        "id": "gREffmnr3s-p",
        "outputId": "84a2af7e-1d80-4711-a5ab-c39ddae0fe4a",
        "colab": {
          "base_uri": "https://localhost:8080/",
          "height": 126
        }
      },
      "source": [
        "#Find below Output\n",
        "str1 = 'Python'\n",
        "str2 = 'Python'\n",
        "str3 = 'Python$'\n",
        "str4 = 'Python$'\n",
        "\n",
        "#print True by using identity operator between str1 and str2\n",
        "print(str1==str2)\n",
        "\n",
        "#print False by using identity operator between str1 and str3\n",
        "print(str1==str3)\n",
        "\n",
        "#print False by using identity operator between str4 and str3\n",
        "print(str4==str3)\n",
        "\n",
        "#Check if P is available in str1 and print True by using membership operator\n",
        "print(\"P\" in str1)\n",
        "\n",
        "#Check if $ is available in str3 and print True by using membership operator\n",
        "print(\"$\" in str3)\n",
        "\n",
        "#Check if N is available in str3 and print False by using membership operator\n",
        "print(\"N\" in str3)\n",
        "\n"
      ],
      "execution_count": 6,
      "outputs": [
        {
          "output_type": "stream",
          "text": [
            "True\n",
            "False\n",
            "True\n",
            "True\n",
            "True\n",
            "False\n"
          ],
          "name": "stdout"
        }
      ]
    },
    {
      "cell_type": "code",
      "metadata": {
        "id": "QNFjxDr73u2H"
      },
      "source": [
        "#Complete the below code\n",
        "str1 = 'This is Python class'\n",
        "#write the code to replace 'Python' with 'Java' and you should get below error.\n",
        "#TypeError: 'str' object does not support item assignment. because strings are immutable\n",
        "\n",
        "\n"
      ],
      "execution_count": 7,
      "outputs": []
    },
    {
      "cell_type": "code",
      "metadata": {
        "id": "-JgFbPmn3w3D",
        "outputId": "65aba074-cfbe-4296-be7a-4423fdaa404c",
        "colab": {
          "base_uri": "https://localhost:8080/",
          "height": 90
        }
      },
      "source": [
        "str1 = 'A'\n",
        "str2 = 'A'\n",
        "#Compare str1 and str2 and print True using comparison operator\n",
        "print(str1 is str2)\n",
        "\n",
        "#Compare str1 and str2 and print True using equality operator\n",
        "print(str1 == str2)\n",
        "\n",
        "#Compare str1 and str2 and print False using equality operator\n",
        "print(str1 != str2)\n",
        "\n",
        "#Compare str1 and str2 and print False using comparison operator\n",
        "print(str1 is not str2)\n"
      ],
      "execution_count": 8,
      "outputs": [
        {
          "output_type": "stream",
          "text": [
            "True\n",
            "True\n",
            "False\n",
            "False\n"
          ],
          "name": "stdout"
        }
      ]
    },
    {
      "cell_type": "code",
      "metadata": {
        "id": "fJ46_L-53yhW",
        "outputId": "0c6c3073-c0dd-470c-8525-1b1713c400f2",
        "colab": {
          "base_uri": "https://localhost:8080/",
          "height": 90
        }
      },
      "source": [
        "str1 = 'A'\n",
        "str2 = 'a'\n",
        "#Compare str1 and str2 and print True using comparison operator\n",
        "print(str1 is str2)\n",
        "\n",
        "#Compare str1 and str2 and print True using equality operator\n",
        "print(str1 == str2)\n",
        "\n",
        "#Compare str1 and str2 and print False using equality operator\n",
        "print(str1 != str2)\n",
        "\n",
        "#Compare str1 and str2 and print False using comparison operator\n",
        "print(str1 is not str2)"
      ],
      "execution_count": 9,
      "outputs": [
        {
          "output_type": "stream",
          "text": [
            "False\n",
            "False\n",
            "True\n",
            "True\n"
          ],
          "name": "stdout"
        }
      ]
    },
    {
      "cell_type": "code",
      "metadata": {
        "id": "e-Lr9va330gi",
        "outputId": "762bc712-bc02-4e70-9278-07fd8a81ce01",
        "colab": {
          "base_uri": "https://localhost:8080/",
          "height": 54
        }
      },
      "source": [
        "str1 = 'A'\n",
        "str2 = '65'\n",
        "#Compare str1 and str2 using comparison operator and it should give below error.\n",
        "#Error: TypeError: '>=' not supported between instances of 'str' and 'int'\n",
        "\n",
        "#Compare str1 and str2 and print True using equality operator\n",
        "print(str1 != str2)\n",
        "\n",
        "#Compare str1 and str2 and print False using equality operator\n",
        "print(str1 == str2)\n"
      ],
      "execution_count": 23,
      "outputs": [
        {
          "output_type": "stream",
          "text": [
            "True\n",
            "False\n"
          ],
          "name": "stdout"
        }
      ]
    },
    {
      "cell_type": "code",
      "metadata": {
        "id": "JO04jmpN32Im",
        "outputId": "5ac57c2b-b6e2-4eb3-c2d5-fca6ba55fed0",
        "colab": {
          "base_uri": "https://localhost:8080/",
          "height": 90
        }
      },
      "source": [
        "str1 = 'Python'\n",
        "str2 = 'Python'\n",
        "#Compare str1 and str2 and print True using comparison operator\n",
        "print(str1 is str2)\n",
        "\n",
        "#Compare str1 and str2 and print True using equality operator\n",
        "print(str1 == str2)\n",
        "\n",
        "#Compare str1 and str2 and print False using equality operator\n",
        "print(str1 != str2)\n",
        "\n",
        "#Compare str1 and str2 and print False using comparison operator\n",
        "print(str1 is not str2)\n"
      ],
      "execution_count": 24,
      "outputs": [
        {
          "output_type": "stream",
          "text": [
            "True\n",
            "True\n",
            "False\n",
            "False\n"
          ],
          "name": "stdout"
        }
      ]
    },
    {
      "cell_type": "code",
      "metadata": {
        "id": "nmVAYYC_35ip",
        "outputId": "e802bb7c-c9f3-4c9e-930e-5adc73674bb6",
        "colab": {
          "base_uri": "https://localhost:8080/",
          "height": 90
        }
      },
      "source": [
        "str1 = 'Python'\n",
        "str2 = 'python'\n",
        "\n",
        "#Compare str1 and str2 and print True using comparison operator\n",
        "print(str1 is not str2)\n",
        "\n",
        "#Compare str1 and str2 and print True using equality operator\n",
        "print(str1 != str2)\n",
        "\n",
        "#Compare str1 and str2 and print False using equality operator\n",
        "print(str1 == str2)\n",
        "\n",
        "#Compare str1 and str2 and print False using comparison operator\n",
        "print(str1 is str2)\n"
      ],
      "execution_count": 25,
      "outputs": [
        {
          "output_type": "stream",
          "text": [
            "True\n",
            "True\n",
            "False\n",
            "False\n"
          ],
          "name": "stdout"
        }
      ]
    },
    {
      "cell_type": "code",
      "metadata": {
        "id": "7ulv5ith37OJ",
        "outputId": "0bf6b6ff-48b8-4789-ec9f-9c96ef13aabe",
        "colab": {
          "base_uri": "https://localhost:8080/",
          "height": 108
        }
      },
      "source": [
        "a = 'Python'\n",
        "b = ''\n",
        "\n",
        "#Apply logical opereators (and, or & not) on above string values and observe the output.\n",
        "print(1,a and b)\n",
        "print()\n",
        "print(2, a or b)\n",
        "print()\n",
        "print(3, a is not b)"
      ],
      "execution_count": 28,
      "outputs": [
        {
          "output_type": "stream",
          "text": [
            "1 \n",
            "\n",
            "2 Python\n",
            "\n",
            "3 True\n"
          ],
          "name": "stdout"
        }
      ]
    },
    {
      "cell_type": "code",
      "metadata": {
        "id": "Yg_gsZBL383n",
        "outputId": "018fbd67-4265-47dc-b985-04f42dfb698a",
        "colab": {
          "base_uri": "https://localhost:8080/",
          "height": 108
        }
      },
      "source": [
        "a = ''\n",
        "b = ''\n",
        "\n",
        "#Apply logical opereators (and, or & not) on above string values and observe the output.\n",
        "print(1,a and b)\n",
        "print()\n",
        "print(2, a or b)\n",
        "print()\n",
        "print(3, a is not b)"
      ],
      "execution_count": 29,
      "outputs": [
        {
          "output_type": "stream",
          "text": [
            "1 \n",
            "\n",
            "2 \n",
            "\n",
            "3 False\n"
          ],
          "name": "stdout"
        }
      ]
    },
    {
      "cell_type": "code",
      "metadata": {
        "id": "cIWkP9Hf3-q5",
        "outputId": "5a9c9a01-0c2e-4700-c0bb-e1f946bfea35",
        "colab": {
          "base_uri": "https://localhost:8080/",
          "height": 108
        }
      },
      "source": [
        "a = 'Python'\n",
        "b = 'learnbay'\n",
        "\n",
        "#Apply logical opereators (and, or & not) on above string values and observe the output.\n",
        "print(1,a and b)\n",
        "print()\n",
        "print(2, a or b)\n",
        "print()\n",
        "print(3, a is not b)"
      ],
      "execution_count": 30,
      "outputs": [
        {
          "output_type": "stream",
          "text": [
            "1 learnbay\n",
            "\n",
            "2 Python\n",
            "\n",
            "3 True\n"
          ],
          "name": "stdout"
        }
      ]
    },
    {
      "cell_type": "code",
      "metadata": {
        "id": "Y0Ot_E704AX5",
        "outputId": "571401d8-257d-4240-97bb-210f7247408f",
        "colab": {
          "base_uri": "https://localhost:8080/",
          "height": 235
        }
      },
      "source": [
        "my_str = \"Although 8 that way may not be obvious at first unless you're Dutch\"\n",
        "\n",
        "#Write the code to get the total count of 't' in above string. Use find() and index() method.\n",
        "print(1, my_str.count(\"t\"))\n",
        "print()\n",
        "\n",
        "# #Write the code to get the index of '8' in my_str. Use find() and index() method.\n",
        "print(2, my_str.index('8'))\n",
        "print()\n",
        "\n",
        "# #What will be the output of below code?\n",
        "print(3, my_str.find('the'))\n",
        "print()\n",
        "\n",
        "# # print(my_str.index('the'))\n",
        "\n",
        "\n",
        "print(4, my_str.find('t', 9, 15))\n",
        "print()\n",
        "\n",
        "print(5, my_str.rfind('u'))\n",
        "print()\n",
        "\n",
        "print(6, my_str.rindex('u'))\n",
        "print()"
      ],
      "execution_count": 37,
      "outputs": [
        {
          "output_type": "stream",
          "text": [
            "1 7\n",
            "\n",
            "2 9\n",
            "\n",
            "3 -1\n",
            "\n",
            "4 11\n",
            "\n",
            "5 63\n",
            "\n",
            "6 63\n",
            "\n"
          ],
          "name": "stdout"
        }
      ]
    },
    {
      "cell_type": "code",
      "metadata": {
        "id": "Gommq59Q4CMi",
        "outputId": "a4a9a98c-9af9-4809-a04e-f84844b3e755",
        "colab": {
          "base_uri": "https://localhost:8080/",
          "height": 54
        }
      },
      "source": [
        "#W A P which applies strip() method if any string, which will be taken from user, starts and ends with space, or applies \n",
        "#rrstrip() method if that string only ends with space or applies lstrip() method if that string only starts with a space.\n",
        "\n",
        "#For example:-\n",
        "#input:- '    Python   '\n",
        "#output:- 'Python'\n",
        "text = input(\"Enter a text\")\n",
        "print(text.strip())\n",
        "\n",
        "#input:- '    Python'\n",
        "#output:- 'Python'\n",
        "\n",
        "#input:- 'Python   '\n",
        "#output:- 'Python'"
      ],
      "execution_count": 38,
      "outputs": [
        {
          "output_type": "stream",
          "text": [
            "Enter a text          Python\n",
            "Python\n"
          ],
          "name": "stdout"
        }
      ]
    },
    {
      "cell_type": "code",
      "metadata": {
        "id": "9IUy-cpS4Dtt",
        "outputId": "ff9ad7f6-474f-4ca7-d1ed-aec5696b393c",
        "colab": {
          "base_uri": "https://localhost:8080/",
          "height": 72
        }
      },
      "source": [
        "my_str = \"Although 8 that way may not be obvious at first unless you're Dutch\"\n",
        "\n",
        "#Write the code to convert all alphabets in my_str into upper case.\n",
        "print(my_str.upper())\n",
        "\n",
        "#Write the code to convert all alphabets in my_str into lower case.\n",
        "print(my_str.lower())\n",
        "\n",
        "#Write the code to swap the cases of all alphabets in my_str.(lower to upper and upper to lower)\n",
        "print(my_str.swapcase())\n",
        "\n"
      ],
      "execution_count": 39,
      "outputs": [
        {
          "output_type": "stream",
          "text": [
            "ALTHOUGH 8 THAT WAY MAY NOT BE OBVIOUS AT FIRST UNLESS YOU'RE DUTCH\n",
            "although 8 that way may not be obvious at first unless you're dutch\n",
            "aLTHOUGH 8 THAT WAY MAY NOT BE OBVIOUS AT FIRST UNLESS YOU'RE dUTCH\n"
          ],
          "name": "stdout"
        }
      ]
    },
    {
      "cell_type": "code",
      "metadata": {
        "id": "-BjS-z674HKW",
        "outputId": "81f7c438-6da3-486d-e38a-2f541689f941",
        "colab": {
          "base_uri": "https://localhost:8080/",
          "height": 54
        }
      },
      "source": [
        "#Write the code which takes one string from user and \n",
        "# if it starts with small case letter then convert it to corresponding capital letter \n",
        "#otherwise \n",
        "# if starts with capital letters then convert first character of every word in that string into capital.\n",
        "\n",
        "## sample input text:\n",
        "## The Pixel 4a is a big upgrade over the Pixel 3a in pretty much every way.\n",
        "## AND \n",
        "## google promises “all-day” battery life for the Pixel 4a, which should be good enough for most people.\n",
        "text = input(\"Enter a string:\")\n",
        "if text[0].islower():\n",
        "    print(text.capitalize())\n",
        "else:\n",
        "    print(text.title())"
      ],
      "execution_count": 44,
      "outputs": [
        {
          "output_type": "stream",
          "text": [
            "Enter a string:The Pixel 4a is a big upgrade over the Pixel 3a in pretty much every way.\n",
            "The Pixel 4A Is A Big Upgrade Over The Pixel 3A In Pretty Much Every Way.\n"
          ],
          "name": "stdout"
        }
      ]
    },
    {
      "cell_type": "code",
      "metadata": {
        "id": "-MCuDy5J4JQS",
        "outputId": "bdd9c729-47d3-4d27-a21c-7bb2e1516082",
        "colab": {
          "base_uri": "https://localhost:8080/",
          "height": 199
        }
      },
      "source": [
        "#Take a string from user and check if it is:-\n",
        "#     1. alphanumeric\n",
        "#     2. alphabets\n",
        "#     3. digit\n",
        "#     4. all letters are in lower case\n",
        "#     5. all letters are in upper case\n",
        "#     6. in title case\n",
        "#     7. a space character\n",
        "#     8. numeric\n",
        "#     9. all number elements in string are decimal\n",
        "\n",
        "\n",
        "text = input(\"Enter a text:\")\n",
        "print(\"is alphanumber:\", text.isalnum())\n",
        "print(\"is alphabhets:\", text.isalpha())\n",
        "print(\"is digit:\", text.isdigit())\n",
        "print(\"is lower:\", text.islower())\n",
        "print(\"is upper:\", text.isupper())\n",
        "print(\"is title case:\", text.istitle())\n",
        "print(\"Any space character:\", bool(text.find(\" \")))\n",
        "print(\"is Numeric:\", text.isnumeric())\n",
        "print(\"All numbers in the string are decimal ?\", text.isnumeric())\n"
      ],
      "execution_count": 46,
      "outputs": [
        {
          "output_type": "stream",
          "text": [
            "Enter a text:Enter a string:The Pixel 4a is a big upgrade over the Pixel 3a in pretty much every way\n",
            "is alphanumber: False\n",
            "is alphabhets: False\n",
            "is digit: False\n",
            "is lower: False\n",
            "is upper: False\n",
            "is title case: False\n",
            "Any space character: True\n",
            "is Numeric: False\n",
            "All numbers in the string are decimal ? False\n"
          ],
          "name": "stdout"
        }
      ]
    },
    {
      "cell_type": "code",
      "metadata": {
        "id": "tiTN-4ik4KAG"
      },
      "source": [
        "#W A P which takes a string as an input and prints True if the string is valid identifier else returns False.\n",
        "#Sample Input:- 'abc', 'abc1', 'ab1c', '1abc', 'abc$', '_abc', 'if'\n",
        "\n"
      ],
      "execution_count": null,
      "outputs": []
    },
    {
      "cell_type": "code",
      "metadata": {
        "id": "tAMkSIN84MPe"
      },
      "source": [
        "#What will be output of below code?\n",
        "s = chr(65) + chr(97)\n",
        "print(s.isprintable())\n",
        "\n",
        "s = chr(27) + chr(97)\n",
        "print(s.isprintable())\n",
        "\n",
        "s = '\\n'\n",
        "print(s.isprintable())\n",
        "\n",
        "s = ''\n",
        "print(s.isprintable())"
      ],
      "execution_count": null,
      "outputs": []
    },
    {
      "cell_type": "code",
      "metadata": {
        "id": "pU9Os0mD4Pk1"
      },
      "source": [
        "#What will be output of below code?\n",
        "my_string = '  '\n",
        "print(my_string.isascii())\n",
        "\n",
        "my_string = 'Studytonight'\n",
        "print(my_string.isascii())\n",
        "\n",
        "my_string = 'Study tonight'\n",
        "print(my_string.isascii())\n",
        "\n",
        "my_string = 'Studytonight@123'\n",
        "print(my_string.isascii())\n",
        "\n",
        "my_string = '°'\n",
        "print(my_string.isascii())\n",
        "\n",
        "my_string = 'ö'\n",
        "print(my_string.isascii())"
      ],
      "execution_count": null,
      "outputs": []
    },
    {
      "cell_type": "code",
      "metadata": {
        "id": "VsLV8FF74QTB"
      },
      "source": [
        "#What will be the output of below code?\n",
        "firstString = \"der Fluß\"\n",
        "secondString = \"der Fluss\"\n",
        "\n",
        "if firstString.casefold() == secondString.casefold():\n",
        "    print('The strings are equal.')\n",
        "else:\n",
        "    print('The strings are not equal.')"
      ],
      "execution_count": null,
      "outputs": []
    },
    {
      "cell_type": "code",
      "metadata": {
        "id": "1m0U7jLa4Wjf"
      },
      "source": [
        "#Write the code to get below output\n",
        "#O/P 1:- python** (using ljust method)\n",
        "\n",
        "\n",
        "#Write the code to get below output\n",
        "#O/P 1:- **python (using rjust method)\n",
        "\n",
        "\n",
        "#Write the code to get below output\n",
        "#O/P 1:- **python** (using rjust method)"
      ],
      "execution_count": null,
      "outputs": []
    },
    {
      "cell_type": "code",
      "metadata": {
        "id": "cRVkvW6s4YKK"
      },
      "source": [
        "#Write a Python program to find the length of the my_str:-\n",
        "\n",
        "#Input:- 'Write a Python program to find the length of the my_str'\n",
        "#Output:- 55\n"
      ],
      "execution_count": null,
      "outputs": []
    },
    {
      "cell_type": "code",
      "metadata": {
        "id": "SjABWI284Zuz"
      },
      "source": [
        "#Write a Python program to find the total number of times letter 'p' is appeared in the below string:-\n",
        "    \n",
        "#Input:- 'peter piper picked a peck of pickled peppers.'\n",
        "#Output:- 9\n",
        "\n"
      ],
      "execution_count": null,
      "outputs": []
    },
    {
      "cell_type": "code",
      "metadata": {
        "id": "-iZtqbEo4bQp"
      },
      "source": [
        "#Write a Python Program, to print all the indexes of all occurences of letter 'p' appeared in the string:-\n",
        "    \n",
        "#Input:- 'peter piper picked a peck of pickled peppers.'\n",
        "#Output:- \n",
        "# 0\n",
        "# 6\n",
        "# 8\n",
        "# 12\n",
        "# 21\n",
        "# 29\n",
        "# 37\n",
        "# 39\n",
        "# 40\n"
      ],
      "execution_count": null,
      "outputs": []
    },
    {
      "cell_type": "code",
      "metadata": {
        "id": "_A8Eu8f84daM"
      },
      "source": [
        "#Write a python program to find below output:-\n",
        "\n",
        "#Input:- 'peter piper picked a peck of pickled peppers.'\n",
        "#Output:- ['peter', 'piper', 'picked', 'a', 'peck', 'of', 'pickled', 'peppers.']\n",
        "\n"
      ],
      "execution_count": null,
      "outputs": []
    },
    {
      "cell_type": "code",
      "metadata": {
        "id": "juh7tQuL4fNc"
      },
      "source": [
        "#Write a python program to find below output:-\n",
        "\n",
        "#Input:- 'peter piper picked a peck of pickled peppers.'\n",
        "#Output:- 'peppers. pickled of peck a picked piper peter'\n",
        "\n"
      ],
      "execution_count": null,
      "outputs": []
    },
    {
      "cell_type": "code",
      "metadata": {
        "id": "aaHQYz194fW7"
      },
      "source": [
        "#Write a python program to find below output:-\n",
        "\n",
        "#Input:- 'peter piper picked a peck of pickled peppers.'\n",
        "#Output:- '.sreppep delkcip fo kcep a dekcip repip retep'\n",
        "\n"
      ],
      "execution_count": null,
      "outputs": []
    },
    {
      "cell_type": "code",
      "metadata": {
        "id": "LSgj9glC4feI"
      },
      "source": [
        "#Write a python program to find below output:-\n",
        "\n",
        "#Input:- 'peter piper picked a peck of pickled peppers.'\n",
        "#Output:- 'retep repip dekcip a kcep fo delkcip .sreppep'"
      ],
      "execution_count": null,
      "outputs": []
    },
    {
      "cell_type": "code",
      "metadata": {
        "id": "WUxPAkY94foo"
      },
      "source": [
        "#Write a python program to find below output:-\n",
        "\n",
        "#Input:- 'peter piper picked a peck of pickled peppers.'\n",
        "#Output:- 'Peter Piper Picked A Peck Of Pickled Peppers.'\n",
        "\n"
      ],
      "execution_count": null,
      "outputs": []
    },
    {
      "cell_type": "code",
      "metadata": {
        "id": "IT1NSPxA4mww"
      },
      "source": [
        "#Write a python program to find below output:-\n",
        "\n",
        "#Input:- 'Peter Piper Picked A Peck Of Pickled Peppers.'\n",
        "#Output:- 'Peter piper picked a peck of pickled peppers.'\n",
        "\n"
      ],
      "execution_count": null,
      "outputs": []
    },
    {
      "cell_type": "code",
      "metadata": {
        "id": "3Gg65vSc4m3C"
      },
      "source": [
        "#Write a python program to implement index method. If sub_str is found in my_str then it will print the index\n",
        "# of first occurrence of first character of matching string in my_str:-\n",
        "\n",
        "#Input:- my_str = 'Peter Piper Picked A Peck Of Pickled Peppers.', sub_str = 'Pickl'\n",
        "#Output:- 29\n",
        "\n"
      ],
      "execution_count": null,
      "outputs": []
    },
    {
      "cell_type": "code",
      "metadata": {
        "id": "iFRhp_JI4m6k"
      },
      "source": [
        "#Write a python program to implement replace method. If sub_str is found in my_str then it will replace the first \n",
        "#occurrence of sub_str with new_str else it will will print sub_str not found:-\n",
        "\n",
        "#Input:- my_str = 'Peter Piper Picked A Peck Of Pickled Peppers.', sub_str = 'Peck', new_str = 'Pack'\n",
        "#Output:- 'Peter Piper Picked A Pack Of Pickled Peppers.'\n",
        "\n"
      ],
      "execution_count": null,
      "outputs": []
    },
    {
      "cell_type": "code",
      "metadata": {
        "id": "dQ9YhBBc4m9V"
      },
      "source": [
        "#Write a python program to find below output (implements rjust and ljust):-\n",
        "\n",
        "#Input:- 'Peter Piper Picked A Peck Of Pickled Peppers.', sub_str = 'Peck', \n",
        "#Output:- '*********************Peck********************'\n",
        "\n",
        "\n"
      ],
      "execution_count": null,
      "outputs": []
    },
    {
      "cell_type": "code",
      "metadata": {
        "id": "w37BRLdt4tYT"
      },
      "source": [
        ""
      ],
      "execution_count": null,
      "outputs": []
    },
    {
      "cell_type": "code",
      "metadata": {
        "id": "W64gCpeu4vaF"
      },
      "source": [
        ""
      ],
      "execution_count": null,
      "outputs": []
    }
  ]
}
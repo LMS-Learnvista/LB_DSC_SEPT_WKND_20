{
 "cells": [
  {
   "cell_type": "code",
   "execution_count": null,
   "metadata": {},
   "outputs": [],
   "source": [
    "#Declare a string and store it in a variable. \n",
    "\n",
    "str1 = input(\"enter a string: \")\n",
    "print(str1)\n",
    "#Check the type and print the id of the same.\n",
    "print(type(str1),id(str1))"
   ]
  },
  {
   "cell_type": "code",
   "execution_count": 5,
   "metadata": {},
   "outputs": [
    {
     "name": "stdout",
     "output_type": "stream",
     "text": [
      "Learnbay provides\n",
      "\"Java\", \"Python\" \n",
      "classes\n"
     ]
    }
   ],
   "source": [
    "# #Which are valid/invalid strings\n",
    "# 1. 'This is Python class'\n",
    "# valid/invalid\n",
    "# valid\n",
    "# 2. \"This is Python class\"\n",
    "# valid/invalid\n",
    "# valid\n",
    "# 3. '''This is Python class'''\n",
    "# valid/invalid\n",
    "# valid\n",
    "# 4. \"\"\"This is Python class\"\"\"\n",
    "# valid/invalid\n",
    "# valid\n",
    "# 5. 'This is Python's class'\n",
    "# valid/invalid\n",
    "# invalid\n",
    "# 6. \"Learnbay provides \"Java\", \"Python\" classes\"\n",
    "# valid/invalid\n",
    "# invalid\n",
    "# 7. \"Learnbay provides 'Java', 'Python' classes\"\n",
    "# valid/invalid\n",
    "# valid\n",
    "# 8. \"This is Python's class\"\n",
    "# valid/invalid\n",
    "# valid\n",
    "# 9. \"\"\"Learnbay provides \"Java\", \"Python\" classes\"\"\"\n",
    "# valid/invalid\n",
    "# valid\n",
    "# 10. '''Learnbay provides \"Java\", \"Python\" classes'''\n",
    "# valid/invalid   #\n",
    "# valid\n",
    "# 11. '''Learnbay provides\n",
    "# \"Java\", \"Python\" \n",
    "# classes'''\n",
    "# valid/invalid\n",
    "# valid\n",
    "# 12. 'This is\n",
    "# Python \n",
    "# class'\n",
    "# valid/invalid\n",
    "# invalid"
   ]
  },
  {
   "cell_type": "code",
   "execution_count": 9,
   "metadata": {},
   "outputs": [
    {
     "name": "stdout",
     "output_type": "stream",
     "text": [
      "80867376 80868272\n"
     ]
    }
   ],
   "source": [
    "my_str = \"Although that way may not be obvious at first unless you're Dutch.\"\n",
    "my_str1 = \"Although that way may not be obvious at first unless you're Dutch.\"\n",
    "print(id(my_str),id(my_str1))\n",
    "#     if id(my_str) == id(my_str1):\n",
    "#   print(\"True\")\n",
    "# else:\n",
    "#   print(\"false\")"
   ]
  },
  {
   "cell_type": "code",
   "execution_count": 16,
   "metadata": {},
   "outputs": [
    {
     "name": "stdout",
     "output_type": "stream",
     "text": [
      "The first character in my_str is: h\n",
      "1\n",
      "67\n"
     ]
    }
   ],
   "source": [
    "my_str = \"Although 8 that way may not be obvious at first unless you're Dutch\"\n",
    "#Write the code to get the output,instructions are mentioned below print statement. use indexing\n",
    "\n",
    "print(\"The first character in my_str is:\" , my_str[7])\n",
    "print(my_str.count(\"c\"))\n",
    "print(len(my_str))\n",
    "#output:- The first character in my_str is: A"
   ]
  },
  {
   "cell_type": "code",
   "execution_count": 18,
   "metadata": {},
   "outputs": [
    {
     "name": "stdout",
     "output_type": "stream",
     "text": [
      ".\n"
     ]
    }
   ],
   "source": [
    "my_str = \"Although that way may not be obvious at first unless you're Dutch.\"\n",
    "len(my_str)\n",
    "print(my_str[65:64:-1])"
   ]
  }
 ],
 "metadata": {
  "kernelspec": {
   "display_name": "Python 3",
   "language": "python",
   "name": "python3"
  },
  "language_info": {
   "codemirror_mode": {
    "name": "ipython",
    "version": 3
   },
   "file_extension": ".py",
   "mimetype": "text/x-python",
   "name": "python",
   "nbconvert_exporter": "python",
   "pygments_lexer": "ipython3",
   "version": "3.8.3"
  }
 },
 "nbformat": 4,
 "nbformat_minor": 4
}

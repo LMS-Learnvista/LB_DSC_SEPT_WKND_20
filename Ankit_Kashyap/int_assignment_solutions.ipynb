{
 "cells": [
  {
   "cell_type": "code",
   "execution_count": 1,
   "metadata": {
    "id": "8A5Jw5NR1iEI"
   },
   "outputs": [
    {
     "name": "stdout",
     "output_type": "stream",
     "text": [
      "5 <class 'int'> 140726867173904\n"
     ]
    }
   ],
   "source": [
    "#Declare an int value and store it in a variable. \n",
    "\n",
    "var=int(5)\n",
    "\n",
    "#Check the type and print the id of the same.\n",
    "\n",
    "print(var,type(var),id(var))"
   ]
  },
  {
   "cell_type": "code",
   "execution_count": 6,
   "metadata": {
    "id": "0YU8LFTn1rAX"
   },
   "outputs": [
    {
     "name": "stdout",
     "output_type": "stream",
     "text": [
      "var1 25 140726867174544\n",
      "var2 25 140726867174544\n",
      "var3 1000 570189963856\n",
      "var4 1000 570189963728\n"
     ]
    }
   ],
   "source": [
    "#Take one int value between 0 - 256.\n",
    "#Assign it to two different variables.\n",
    "var1=25\n",
    "var2=25\n",
    "#Check the id of both the variables. It should come same. Check why?  -----> Object Reusability\n",
    "print(\"var1\",var1,id(var1))\n",
    "print(\"var2\",var2,id(var2))\n",
    "\n",
    "\n",
    "\n",
    "#Take one int value either less than -5 or greater than 256.\n",
    "#Assign it to two different variables.\n",
    "var3=1000\n",
    "var4=1000\n",
    "#Check the id of both the variables. It should come different.Check why?  -------> -----> Object Reusability\n",
    "print(\"var3\",var3,id(var3))\n",
    "print(\"var4\",var4,id(var4))\n",
    "\n"
   ]
  },
  {
   "cell_type": "code",
   "execution_count": 7,
   "metadata": {
    "id": "YzEIG0ZZ1tSK"
   },
   "outputs": [
    {
     "name": "stdout",
     "output_type": "stream",
     "text": [
      "Sum:  59\n",
      "Difference:  35\n",
      "Product:  564\n",
      "Division:  3.9166666666666665\n",
      "Remainder:  11\n",
      "Quotient:  3\n",
      "Power:  116191483108948578241\n"
     ]
    }
   ],
   "source": [
    "#Arithmatic Operations on integers\n",
    "#Take two different intger values.\n",
    "#Store them in two different variables.\n",
    "a=47\n",
    "b=12\n",
    "#Do below operations on them:-\n",
    "    #Find sum of both numbers\n",
    "print(\"Sum: \",a+b)\n",
    "    #Find differce between them\n",
    "print(\"Difference: \",a-b)\n",
    "    #Find the product of both numbers.\n",
    "print(\"Product: \",a*b)\n",
    "    #Find value after dividing first num with second number\n",
    "print(\"Division: \",a/b)\n",
    "    #Find the remainder after dividing first number with second number\n",
    "print(\"Remainder: \",a%b)\n",
    "    #Find the quotient after dividing first number with second number\n",
    "print(\"Quotient: \",a//b)\n",
    "    #Find the result of first num to the power of second number.\n",
    "print(\"Power: \",a**b)"
   ]
  },
  {
   "cell_type": "code",
   "execution_count": 8,
   "metadata": {
    "id": "GGM7CdzA1wGn"
   },
   "outputs": [
    {
     "name": "stdout",
     "output_type": "stream",
     "text": [
      "True <class 'bool'>\n",
      "False <class 'bool'>\n",
      "True <class 'bool'>\n",
      "False <class 'bool'>\n"
     ]
    }
   ],
   "source": [
    "#Comparison Operators on integers\n",
    "#Take two different intger values.\n",
    "#Store them in two different variables.\n",
    "a=54\n",
    "b=15\n",
    "#Do below operations on them:-\n",
    "    #Compare se two numbers with below operator:-\n",
    "        #Greater than, '>'\n",
    "c=a>b\n",
    "print(c,type(c))\n",
    "        #Smaller than, '<'\n",
    "d=a<b\n",
    "print(d,type(d))\n",
    "        #Greater than or equal to, '>='\n",
    "e=a>=b\n",
    "print(e,type(e))\n",
    "        #Less than or equal to, '<='\n",
    "f=a<=b\n",
    "print(f,type(f))\n",
    "#Observe their output(return type should be boolean)"
   ]
  },
  {
   "cell_type": "code",
   "execution_count": 9,
   "metadata": {
    "id": "9x904sUE1y9t"
   },
   "outputs": [
    {
     "name": "stdout",
     "output_type": "stream",
     "text": [
      "False <class 'bool'>\n",
      "True <class 'bool'>\n"
     ]
    }
   ],
   "source": [
    "#Equality Operator\n",
    "#Take two different intger values.\n",
    "#Store them in two different variables.\n",
    "a=54\n",
    "b=15\n",
    "#Equuate them using equality operator (==, !=)\n",
    "g=a==b\n",
    "print(g,type(g))\n",
    "\n",
    "h=a!=b\n",
    "print(h,type(h))\n",
    "#Observe the output(return type should be boolean)"
   ]
  },
  {
   "cell_type": "code",
   "execution_count": 10,
   "metadata": {
    "id": "JmQFHUwc11S-"
   },
   "outputs": [
    {
     "name": "stdout",
     "output_type": "stream",
     "text": [
      "20\n",
      "0\n",
      "0\n",
      "0\n",
      "10\n",
      "20\n",
      "20\n",
      "0\n",
      "False\n",
      "True\n"
     ]
    }
   ],
   "source": [
    "#Logical operators\n",
    "#Observe the output of below code\n",
    "#Cross check the output manually\n",
    "\n",
    "print(10 and 20)       #----------------------------------------->Output is 20\n",
    "print(0 and 20)        #----------------------------------------->Output is 0\n",
    "print(20 and 0)        #----------------------------------------->Output is 0\n",
    "print(0 and 0)         #----------------------------------------->Output is 0\n",
    "\n",
    "print(10 or 20)        #----------------------------------------->Output is 10\n",
    "print(0 or 20)         #----------------------------------------->Output is 20\n",
    "print(20 or 0)         #----------------------------------------->Output is 20\n",
    "print(0 or 0)          #----------------------------------------->Output is 0\n",
    "\n",
    "print(not 10)          #----------------------------------------->Output is False\n",
    "print(not 0)           #----------------------------------------->Output is True"
   ]
  },
  {
   "cell_type": "code",
   "execution_count": 12,
   "metadata": {
    "id": "-0tvoulX14Hi"
   },
   "outputs": [
    {
     "name": "stdout",
     "output_type": "stream",
     "text": [
      "0\n",
      "30\n",
      "30\n",
      "-11\n",
      "40\n",
      "2\n"
     ]
    }
   ],
   "source": [
    "#Bitwise Operators\n",
    "#Do below operations on the values provided below:-\n",
    "    #Bitwise and(&) -----------------------------------------> 10, 20-------> Output is 0\n",
    "print(10&20)\n",
    "    #Bitwise or(|)  -----------------------------------------> 10, 20   -------> Output is 30\n",
    "print(10|20)\n",
    "    #Bitwise(^)     -----------------------------------------> 10, 20   -------> Output is 30\n",
    "print(10^20)\n",
    "    #Bitwise negation(~) ------------------------------------> 10       -------> Output is -11\n",
    "print(~10)\n",
    "    #Bitwise left shift  ------------------------------------> 10,2     -------> Output is 40\n",
    "print(10<<2)\n",
    "    #Bitwise right shift ------------------------------------> 10,2     -------> Output is 2\n",
    "print(10>>2)\n",
    "#Cross check the output manually"
   ]
  },
  {
   "cell_type": "code",
   "execution_count": 13,
   "metadata": {
    "id": "YCcx-Qx016hg"
   },
   "outputs": [
    {
     "name": "stdout",
     "output_type": "stream",
     "text": [
      "True\n",
      "False\n",
      "False\n",
      "True\n"
     ]
    }
   ],
   "source": [
    "#What is the output of expression inside print statement. Cross check before running the program.\n",
    "a = 10\n",
    "b = 10\n",
    "print(a is b)          #True or False? ----> True\n",
    "print(a is not b)      #True or False? ----> False\n",
    "\n",
    "a = 1000\n",
    "b = 1000\n",
    "print(a is b)          #True or False?-----> False\n",
    "print(a is not b)      #True or False?-----> True"
   ]
  },
  {
   "cell_type": "code",
   "execution_count": 14,
   "metadata": {
    "id": "Un2To3XN1_Il"
   },
   "outputs": [
    {
     "name": "stdout",
     "output_type": "stream",
     "text": [
      "20\n"
     ]
    }
   ],
   "source": [
    "#What is the output of expression inside print statement. Cross check before running the program.\n",
    "print(10+(10*32)//2**5&20+(~(-10))<<2) #20"
   ]
  },
  {
   "cell_type": "code",
   "execution_count": 15,
   "metadata": {
    "id": "kGRb5RMd1_1I"
   },
   "outputs": [
    {
     "name": "stdout",
     "output_type": "stream",
     "text": [
      "True\n",
      "True\n",
      "True\n",
      "True\n",
      "True\n",
      "True\n"
     ]
    }
   ],
   "source": [
    "#Membership operation\n",
    "#in, not in are two membership operators and it returns boolean value\n",
    "\n",
    "print('2' in 'Python2.7.8') #True\n",
    "print(10 in [10,10.20,10+20j,'Python']) #True\n",
    "print(10 in (10,10.20,10+20j,'Python')) #True\n",
    "print(2 in {1,2,3})                     #True\n",
    "print(3 in {1:100, 2:200, 3:300})       #True\n",
    "print(10 in range(20))                  #True"
   ]
  },
  {
   "cell_type": "code",
   "execution_count": 18,
   "metadata": {
    "id": "Es7iSvL92B9W"
   },
   "outputs": [
    {
     "name": "stdout",
     "output_type": "stream",
     "text": [
      "18 3978 41259\n",
      "Binary of 9876:  0b10011010010100\n",
      "Octal of 9876:  0o23224\n",
      "Hexadecimal of 9876:  0x2694\n"
     ]
    }
   ],
   "source": [
    "#An integer can be represented in binary, octal or hexadecimal form.\n",
    "#Declare one binary, one octal and one hexadecimal value and store them in three different variables.\n",
    "a=0b10010\n",
    "b=0o7612\n",
    "c=0xa12b\n",
    "print(a,b,c)\n",
    "#Convert 9876 to its binary, octal and hexadecimal equivalent and print their corresponding value.\n",
    "print(\"Binary of 9876: \",bin(9876))\n",
    "print(\"Octal of 9876: \",oct(9876))\n",
    "print(\"Hexadecimal of 9876: \",hex(9876))"
   ]
  },
  {
   "cell_type": "code",
   "execution_count": 19,
   "metadata": {
    "id": "Hm0r03lH2E0i"
   },
   "outputs": [
    {
     "name": "stdout",
     "output_type": "stream",
     "text": [
      "80\n",
      "3870\n",
      "64222\n",
      "0b1010000\n",
      "0o7436\n",
      "0xfade\n",
      "0b1010000\n",
      "0b1111101011011110\n",
      "0o175336\n",
      "0o7436\n",
      "0x50\n",
      "0xfade\n"
     ]
    }
   ],
   "source": [
    "#What will be the outut of following:-\n",
    "a = 0b1010000\n",
    "print(a)            # 80\n",
    "\n",
    "b = 0o7436\n",
    "print(b)            # 3870\n",
    "\n",
    "c = 0xfade\n",
    "print(c)            # 64222\n",
    "\n",
    "print(bin(80))      # 0b1010000\n",
    "\n",
    "print(oct(3870))    # 0o7436\n",
    "\n",
    "print(hex(64222))   # 0xfade\n",
    "\n",
    "print(bin(0b1010000))# 0b1010000\n",
    "\n",
    "print(bin(0xfade))   # 0b1111101011011110\n",
    "\n",
    "print(oct(0xfade))  # 0o175336\n",
    "\n",
    "print(oct(0o7436))  # 0o7436\n",
    "\n",
    "print(hex(0b1010000))  # 0x50\n",
    "\n",
    "print(hex(0xfade))   #0xfade"
   ]
  }
 ],
 "metadata": {
  "colab": {
   "name": "int_assignment.ipynb",
   "provenance": []
  },
  "kernelspec": {
   "display_name": "Python 3",
   "language": "python",
   "name": "python3"
  },
  "language_info": {
   "codemirror_mode": {
    "name": "ipython",
    "version": 3
   },
   "file_extension": ".py",
   "mimetype": "text/x-python",
   "name": "python",
   "nbconvert_exporter": "python",
   "pygments_lexer": "ipython3",
   "version": "3.7.4"
  }
 },
 "nbformat": 4,
 "nbformat_minor": 1
}

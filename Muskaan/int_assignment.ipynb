{
  "nbformat": 4,
  "nbformat_minor": 0,
  "metadata": {
    "colab": {
      "name": "sol_int_assignment.ipynb",
      "provenance": [],
      "collapsed_sections": []
    },
    "kernelspec": {
      "name": "python3",
      "display_name": "Python 3"
    }
  },
  "cells": [
    {
      "cell_type": "code",
      "metadata": {
        "id": "8A5Jw5NR1iEI",
        "outputId": "901f1f58-bd27-4fa6-c509-13e634bbb013",
        "colab": {
          "base_uri": "https://localhost:8080/"
        }
      },
      "source": [
        "#Declare an int value and store it in a variable. \n",
        "a=int(21)\n",
        "\n",
        "\n",
        "#Check the type and print the id of the same.\n",
        "print(type(a),id(a))\n"
      ],
      "execution_count": null,
      "outputs": [
        {
          "output_type": "stream",
          "text": [
            "<class 'int'> 10915136\n"
          ],
          "name": "stdout"
        }
      ]
    },
    {
      "cell_type": "code",
      "metadata": {
        "id": "0YU8LFTn1rAX",
        "outputId": "7198bd97-9664-4f09-8089-512856d4f096",
        "colab": {
          "base_uri": "https://localhost:8080/"
        }
      },
      "source": [
        "#Take one int value between 0 - 256.\n",
        "#Assign it to two different variables.\n",
        "#Check the id of both the variables. It should come same. Check why?\n",
        "\n",
        "a=21\n",
        "b=21\n",
        "print(id(a),id(b))\n",
        "#because in case of integer there is concept of object resuability\n",
        "\n",
        "\n",
        "#Take one int value either less than -5 or greater than 256.\n",
        "a=-6\n",
        "b=-6\n",
        "print(id(a),id(b))\n",
        "#because the concept of memory management that is automatic in python in case of integer is specific to a range .it cant deal with infinite numbers because it is not possible to manage these large data\n",
        "#Assign it to two different variables.\n",
        "#Check the id of both the variables. It should come different.Check why?\n",
        "\n",
        "\n"
      ],
      "execution_count": null,
      "outputs": [
        {
          "output_type": "stream",
          "text": [
            "10915136 10915136\n",
            "140563102763056 140563102761520\n"
          ],
          "name": "stdout"
        }
      ]
    },
    {
      "cell_type": "code",
      "metadata": {
        "id": "YzEIG0ZZ1tSK",
        "outputId": "2f9a1eb3-4ee4-4b20-e51f-ef0ec13676f4",
        "colab": {
          "base_uri": "https://localhost:8080/"
        }
      },
      "source": [
        "#Arithmatic Operations on integers\n",
        "#Take two different intger values.\n",
        "a=24\n",
        "b=8\n",
        "#Store them in two different variables.\n",
        "#Do below operations on them:-\n",
        "    #Find sum of both numbers\n",
        "print(a+b)\n",
        "    #Find differce between them\n",
        "print(a-b)\n",
        "    #Find the product of both numbers.\n",
        "print(a*b)\n",
        "    #Find value after dividing first num with second number\n",
        "print(a/b)\n",
        "    #Find the remainder after dividing first number with second number\n",
        "print(a%b)\n",
        "    #Find the quotient after dividing first number with second number\\\n",
        "print(a//b)\n",
        "    #Find the result of first num to the power of second number.\n",
        "print(a**b)"
      ],
      "execution_count": null,
      "outputs": [
        {
          "output_type": "stream",
          "text": [
            "32\n",
            "16\n",
            "192\n",
            "3.0\n",
            "0\n",
            "3\n",
            "110075314176\n"
          ],
          "name": "stdout"
        }
      ]
    },
    {
      "cell_type": "code",
      "metadata": {
        "id": "GGM7CdzA1wGn",
        "outputId": "527be28a-20c5-4772-a20f-258f531172ee",
        "colab": {
          "base_uri": "https://localhost:8080/"
        }
      },
      "source": [
        "#Comparison Operators on integers\n",
        "#Take two different intger values.\n",
        "a=24\n",
        "b=8\n",
        "#Store them in two different variables.\n",
        "#Do below operations on them:-\n",
        "    #Compare se two numbers with below operator:-\n",
        "        #Greater than, '>'\n",
        "print(a>b)\n",
        "        #Smaller than, '<'\n",
        "print(a<b)\n",
        "        #Greater than or equal to, '>='\n",
        "print(a>=b)\n",
        "        #Less than or equal to, '<='\n",
        "print(a<=b)\n",
        "#Observe their output(return type should be boolean)"
      ],
      "execution_count": null,
      "outputs": [
        {
          "output_type": "stream",
          "text": [
            "True\n",
            "False\n",
            "True\n",
            "False\n"
          ],
          "name": "stdout"
        }
      ]
    },
    {
      "cell_type": "code",
      "metadata": {
        "id": "9x904sUE1y9t",
        "outputId": "21f9742c-52a7-42fc-d29c-4e47fe45de08",
        "colab": {
          "base_uri": "https://localhost:8080/"
        }
      },
      "source": [
        "#Equality Operator\n",
        "#Take two different intger values.\n",
        "a=20\n",
        "b=40\n",
        "#Store them in two different variables.\n",
        "#Equuate them using equality operator (==, !=)\n",
        "print(a==b)\n",
        "print(a!=b)\n",
        "#Observe the output(return type should be boolean)"
      ],
      "execution_count": null,
      "outputs": [
        {
          "output_type": "stream",
          "text": [
            "False\n",
            "True\n"
          ],
          "name": "stdout"
        }
      ]
    },
    {
      "cell_type": "code",
      "metadata": {
        "id": "JmQFHUwc11S-",
        "outputId": "4df7aa61-2395-4c61-f7da-1bb8dff61edf",
        "colab": {
          "base_uri": "https://localhost:8080/"
        }
      },
      "source": [
        "#Logical operators\n",
        "#Observe the output of below code\n",
        "#Cross check the output manually\n",
        "\n",
        "print(10 and 20)        #----------------------------------------->Output is 20      preferce to false\n",
        "print(0 and 20)        #----------------------------------------->Output is 0        \n",
        "print(20 and 0)        #----------------------------------------->Output is 0\n",
        "print(0 and 0)         #----------------------------------------->Output is 0\n",
        "\n",
        "print(10 or 20)        #----------------------------------------->Output is 10       preferce to true\n",
        "print(0 or 20)         #----------------------------------------->Output is 20\n",
        "print(20 or 0)         #----------------------------------------->Output is 20\n",
        "print(0 or 0)          #----------------------------------------->Output is 0\n",
        "\n",
        "print(not 10)          #----------------------------------------->Output is False      reverse\n",
        "print(not 0)           #----------------------------------------->Output is True"
      ],
      "execution_count": null,
      "outputs": [
        {
          "output_type": "stream",
          "text": [
            "20\n",
            "0\n",
            "0\n",
            "0\n",
            "10\n",
            "20\n",
            "20\n",
            "0\n",
            "False\n",
            "True\n"
          ],
          "name": "stdout"
        }
      ]
    },
    {
      "cell_type": "code",
      "metadata": {
        "id": "-0tvoulX14Hi",
        "outputId": "09c8027a-c779-4cd3-b43e-2de419a3a93a",
        "colab": {
          "base_uri": "https://localhost:8080/"
        }
      },
      "source": [
        "#Bitwise Operators\n",
        "#Do below operations on the values provided below:-\n",
        "    #Bitwise and(&) -----------------------------------------> 10, 20   -------> Output is 0\n",
        "print(10 & 20)\n",
        "    #Bitwise or(|)  -----------------------------------------> 10, 20   -------> Output is 30\n",
        "print(10 & 20)\n",
        "    #Bitwise(^)     -----------------------------------------> 10, 20   -------> Output is 30\n",
        "print(10 ^ 20)    \n",
        "    #Bitwise negation(~) ------------------------------------> 10       -------> Output is -11\n",
        "print(~10)    \n",
        "    #Bitwise left shift  ------------------------------------> 10,2     -------> Output is 40\n",
        "print((10 << 2))    \n",
        "    #Bitwise right shift ------------------------------------> 10,2     -------> Output is 2\n",
        "print(10 >> 2)    \n",
        "#Cross check the output manually"
      ],
      "execution_count": null,
      "outputs": [
        {
          "output_type": "stream",
          "text": [
            "0\n",
            "0\n",
            "30\n",
            "-11\n",
            "40\n",
            "2\n"
          ],
          "name": "stdout"
        }
      ]
    },
    {
      "cell_type": "code",
      "metadata": {
        "id": "YCcx-Qx016hg",
        "outputId": "3b38776e-83dc-4f3c-f648-18bc1cdfc749",
        "colab": {
          "base_uri": "https://localhost:8080/"
        }
      },
      "source": [
        "#What is the output of expression inside print statement. Cross check before running the program.\n",
        "a = 10\n",
        "b = 10\n",
        "print(a is b)          #True or False?\n",
        "print(a is not b)      #True or False?\n",
        "#range of integer is between -5 to 256 for object resuability\n",
        "a = 1000\n",
        "b = 1000\n",
        "print(a is b)          #True or False?\n",
        "print(a is not b)      #True or False?"
      ],
      "execution_count": null,
      "outputs": [
        {
          "output_type": "stream",
          "text": [
            "True\n",
            "False\n",
            "False\n",
            "True\n"
          ],
          "name": "stdout"
        }
      ]
    },
    {
      "cell_type": "code",
      "metadata": {
        "id": "Un2To3XN1_Il",
        "outputId": "f1b001bd-61ab-4253-df52-e574b7d81fe8",
        "colab": {
          "base_uri": "https://localhost:8080/"
        }
      },
      "source": [
        "#What is the output of expression inside print statement. Cross check before running the program.\n",
        "print(10+(10*32)//2**5&20+(~(-10))<<2)"
      ],
      "execution_count": null,
      "outputs": [
        {
          "output_type": "stream",
          "text": [
            "20\n"
          ],
          "name": "stdout"
        }
      ]
    },
    {
      "cell_type": "code",
      "metadata": {
        "id": "kGRb5RMd1_1I",
        "outputId": "85205a06-3f9b-4899-c1e6-6c6137ad1d37",
        "colab": {
          "base_uri": "https://localhost:8080/"
        }
      },
      "source": [
        "#Membership operation\n",
        "#in, not in are two membership operators and it returns boolean value\n",
        "\n",
        "print('2' in 'Python2.7.8')\n",
        "print(10 in [10,10.20,10+20j,'Python'])\n",
        "print(10 in (10,10.20,10+20j,'Python'))\n",
        "print(2 in {1,2,3})\n",
        "print(3 in {1:100, 2:200, 3:300})\n",
        "print(10 in range(20))"
      ],
      "execution_count": null,
      "outputs": [
        {
          "output_type": "stream",
          "text": [
            "True\n",
            "True\n",
            "True\n",
            "True\n",
            "True\n",
            "True\n"
          ],
          "name": "stdout"
        }
      ]
    },
    {
      "cell_type": "code",
      "metadata": {
        "id": "Es7iSvL92B9W",
        "outputId": "25107f8d-a449-48c7-a87f-2d3343b4b60c",
        "colab": {
          "base_uri": "https://localhost:8080/"
        }
      },
      "source": [
        "#An integer can be represented in binary, octal or hexadecimal form.\n",
        "#Declare one binary, one octal and one hexadecimal value and store them in three different variables.\n",
        "a=0b10010\n",
        "b=0o6547\n",
        "c=0xfede\n",
        "#Convert 9876 to its binary, octal and hexadecimal equivalent and print their corresponding value.\n",
        "a=9876\n",
        "print(bin(a))\n",
        "print(oct(a))\n",
        "print(hex(a))"
      ],
      "execution_count": null,
      "outputs": [
        {
          "output_type": "stream",
          "text": [
            "0b10011010010100\n",
            "0o23224\n",
            "0x2694\n"
          ],
          "name": "stdout"
        }
      ]
    },
    {
      "cell_type": "code",
      "metadata": {
        "id": "Hm0r03lH2E0i",
        "outputId": "7af9dbdf-035a-40d9-ade2-427311278920",
        "colab": {
          "base_uri": "https://localhost:8080/"
        }
      },
      "source": [
        "#What will be the outut of following:-\n",
        "a = 0b1010000\n",
        "print(a)\n",
        "\n",
        "b = 0o7436\n",
        "print(b)\n",
        "\n",
        "c = 0xfade\n",
        "print(c)\n",
        "\n",
        "print(bin(80))\n",
        "\n",
        "print(oct(3870))\n",
        "\n",
        "print(hex(64222))\n",
        "\n",
        "print(bin(0b1010000))\n",
        "\n",
        "print(bin(0xfade))\n",
        "\n",
        "print(hex(0xfade))\n",
        "\n",
        "print(oct(0o7436))\n",
        "\n",
        "print(hex(0b1010000))\n",
        "\n",
        "print(hex(0xfade))"
      ],
      "execution_count": null,
      "outputs": [
        {
          "output_type": "stream",
          "text": [
            "80\n",
            "3870\n",
            "64222\n",
            "0b1010000\n",
            "0o7436\n",
            "0xfade\n",
            "0b1010000\n",
            "0b1111101011011110\n",
            "0xfade\n",
            "0o7436\n",
            "0x50\n",
            "0xfade\n"
          ],
          "name": "stdout"
        }
      ]
    }
  ]
}
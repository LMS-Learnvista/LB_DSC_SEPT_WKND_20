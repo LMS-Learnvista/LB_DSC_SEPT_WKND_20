{
  "nbformat": 4,
  "nbformat_minor": 0,
  "metadata": {
    "colab": {
      "name": "Boolean_Assignement.ipynb",
      "provenance": []
    },
    "kernelspec": {
      "name": "python3",
      "display_name": "Python 3"
    }
  },
  "cells": [
    {
      "cell_type": "code",
      "metadata": {
        "id": "7JIFn6BP4M0R",
        "outputId": "9b15f832-a2bd-4a80-da96-14f8ea1adb88",
        "colab": {
          "base_uri": "https://localhost:8080/"
        }
      },
      "source": [
        "#Declare a boolean value and store it in a variable. \n",
        "\n",
        "a=True\n",
        "\n",
        "#Check the type and print the id of the same.\n",
        "print(type(a),id(a))\n",
        "\n"
      ],
      "execution_count": 2,
      "outputs": [
        {
          "output_type": "stream",
          "text": [
            "<class 'bool'> 10302848\n"
          ],
          "name": "stdout"
        }
      ]
    },
    {
      "cell_type": "code",
      "metadata": {
        "id": "o9bjjhN64kAP",
        "outputId": "1e08adcd-afd6-4645-dc27-f3b576e961cf",
        "colab": {
          "base_uri": "https://localhost:8080/"
        }
      },
      "source": [
        "#Take one boolean value between 0 - 256.\n",
        "#Assign it to two different variables.\n",
        "\n",
        "a=bool(21)\n",
        "b=bool(21)\n",
        "\n",
        "\n",
        "#Check the id of both the variables. It should come same. Check why?\n",
        "\n",
        "print(id(a)==id(b))\n",
        "\n",
        "\n",
        "\n"
      ],
      "execution_count": 6,
      "outputs": [
        {
          "output_type": "stream",
          "text": [
            "True\n"
          ],
          "name": "stdout"
        }
      ]
    },
    {
      "cell_type": "code",
      "metadata": {
        "id": "yr4ETGSf4l5y",
        "outputId": "66ff657c-daaf-4cce-9163-e9df3cd1f294",
        "colab": {
          "base_uri": "https://localhost:8080/"
        }
      },
      "source": [
        "#Arithmatic Operations on boolean data\n",
        "#Take two different boolean values.\n",
        "#Store them in two different variables.\n",
        "a=bool(21)\n",
        "b=bool(5)\n",
        "\n",
        "\n",
        "#Do below operations on them:-\n",
        "    #Find sum of both values\n",
        "print(a+b) \n",
        "\n",
        "\n",
        "    #Find differce between them\n",
        "print(a-b) \n",
        "\n",
        "\n",
        "    #Find the product of both.\n",
        "print(a*b) \n",
        "\n",
        "\n",
        "    #Find value after dividing first value with second value\n",
        "    \n",
        "print(a/b) \n",
        "    \n",
        "    #Find the remainder after dividing first value with second value\n",
        "print(a%b)     \n",
        "\n",
        "    \n",
        "    #Find the quotient after dividing first value with second value\n",
        "print(a//b)     \n",
        "\n",
        "    \n",
        "    #Find the result of first value to the power of second value.\n",
        "    \n",
        "print(a**b) \n",
        "\n",
        "\n",
        "\n",
        "\n",
        "\n",
        "\n",
        "\n",
        "\n",
        "\n",
        "    "
      ],
      "execution_count": 9,
      "outputs": [
        {
          "output_type": "stream",
          "text": [
            "2\n",
            "0\n",
            "1\n",
            "1.0\n",
            "0\n",
            "1\n",
            "1\n"
          ],
          "name": "stdout"
        }
      ]
    },
    {
      "cell_type": "code",
      "metadata": {
        "id": "xG4mX84E4n2O",
        "outputId": "a374e6bb-db68-4585-8f2c-e9e28c3a2789",
        "colab": {
          "base_uri": "https://localhost:8080/"
        }
      },
      "source": [
        "#Comparison Operators on boolean values\n",
        "#Take two different boolean values.\n",
        "a=bool(21)\n",
        "b=bool(5)\n",
        "#Store them in two different variables.\n",
        "\n",
        "\n",
        "\n",
        "#Do below operations on them:-\n",
        "    #Compare these two values with below operator:-\n",
        "        #Greater than, '>'\n",
        "    \n",
        "print(a>b)\n",
        "\n",
        "        #less than, '<'\n",
        "print(a<b)\n",
        "\n",
        "        #Greater than or equal to, '>='\n",
        "print(a>=b)\n",
        "\n",
        "        #Less than or equal to, '<='    \n",
        "print(a<=b)\n",
        "\n",
        "#Observe their output(return type should be boolean)\n",
        "\n",
        "\n",
        "\n",
        "\n",
        "\n",
        "\n",
        "\n",
        "\n"
      ],
      "execution_count": 10,
      "outputs": [
        {
          "output_type": "stream",
          "text": [
            "False\n",
            "False\n",
            "True\n",
            "True\n"
          ],
          "name": "stdout"
        }
      ]
    },
    {
      "cell_type": "code",
      "metadata": {
        "id": "TUIo2Z9V4qBJ",
        "outputId": "a89c19c8-20fa-4ab5-bd42-598e676e08d0",
        "colab": {
          "base_uri": "https://localhost:8080/"
        }
      },
      "source": [
        "#Equality Operator\n",
        "#Take two different boolean values.\n",
        "a=bool(5)\n",
        "b=bool(21)\n",
        "#Store them in two different variables.\n",
        "\n",
        "\n",
        "\n",
        "#Equuate them using equality operator (==, !=)\n",
        "\n",
        "print(a==b)\n",
        "\n",
        "#Observe the output(return type should be boolean)\n",
        "print(a!=b)\n",
        "\n",
        "\n",
        "\n",
        "\n",
        "\n"
      ],
      "execution_count": 11,
      "outputs": [
        {
          "output_type": "stream",
          "text": [
            "True\n",
            "False\n"
          ],
          "name": "stdout"
        }
      ]
    },
    {
      "cell_type": "code",
      "metadata": {
        "id": "XukEq5E44rxv",
        "outputId": "606a9f5f-337d-4d00-eeef-371b611cc6b7",
        "colab": {
          "base_uri": "https://localhost:8080/"
        }
      },
      "source": [
        "#Logical operators\n",
        "#Observe the output of below code\n",
        "#Cross check the output manually\n",
        "\n",
        "print(True and True)        #----------------------------------------->Output is True\n",
        "print(False and True)        #----------------------------------------->Output is False\n",
        "print(True and False)        #----------------------------------------->Output is False\n",
        "print(False and False)       #----------------------------------------->Output is False\n",
        "\n",
        "print(True or True)          #----------------------------------------->Output is True\n",
        "print(False or True)         #----------------------------------------->Output is True\n",
        "print(True or False)         #----------------------------------------->Output is True\n",
        "print(False or False)        #----------------------------------------->Output is False\n",
        "\n",
        "print(not True)              #----------------------------------------->Output is False\n",
        "print(not False)             #----------------------------------------->Output is True"
      ],
      "execution_count": 12,
      "outputs": [
        {
          "output_type": "stream",
          "text": [
            "True\n",
            "False\n",
            "False\n",
            "False\n",
            "True\n",
            "True\n",
            "True\n",
            "False\n",
            "False\n",
            "True\n"
          ],
          "name": "stdout"
        }
      ]
    },
    {
      "cell_type": "code",
      "metadata": {
        "id": "02jPgt094vK-",
        "outputId": "98a1bcaa-9de1-408f-b7c8-c0ee4b41336f",
        "colab": {
          "base_uri": "https://localhost:8080/"
        }
      },
      "source": [
        "#Bitwise Operators\n",
        "#Do below operations on the values provided below:-\n",
        "    #Bitwise and(&) -----------------------------------------> True, True    -------> Output is True\n",
        "print(True & True)\n",
        "\n",
        "\n",
        "    #Bitwise or(|)  -----------------------------------------> True, False   -------> Output is True\n",
        "\n",
        "print(True | False)\n",
        "\n",
        "    #Bitwise(^)     -----------------------------------------> True, False   -------> Output is True\n",
        "\n",
        "print(True ^ False)  \n",
        "\n",
        "    #Bitwise negation(~) ------------------------------------> True          -------> Output is -2\n",
        "\n",
        "print(~True)   \n",
        "\n",
        "    #Bitwise left shift  ------------------------------------> True,2        -------> Output is 4\n",
        "\n",
        "print(True<<2)\n",
        "\n",
        "    #Bitwise right shift ------------------------------------> True,2        -------> Output is 0\n",
        "\n",
        "print(True>>2)\n",
        "\n",
        "#Cross check the output manually\n",
        "\n",
        "\n",
        "\n",
        "\n",
        "\n",
        "\n",
        "\n",
        "\n",
        "\n"
      ],
      "execution_count": 13,
      "outputs": [
        {
          "output_type": "stream",
          "text": [
            "True\n",
            "True\n",
            "True\n",
            "-2\n",
            "4\n",
            "0\n"
          ],
          "name": "stdout"
        }
      ]
    },
    {
      "cell_type": "code",
      "metadata": {
        "id": "cy5i7sWz4v_c",
        "outputId": "d466f948-730b-41e1-9aa0-48c52e9f7d2a",
        "colab": {
          "base_uri": "https://localhost:8080/"
        }
      },
      "source": [
        "#What is the output of expression inside print statement. Cross check before running the program.\n",
        "a = True\n",
        "b = True\n",
        "print(a is b)          #True or False?   #\n",
        "print(a is not b)      #True or False?\n",
        "\n",
        "a = False\n",
        "b = False\n",
        "print(a is b)          #True or False?\n",
        "print(a is not b)      #True or False?\n"
      ],
      "execution_count": 7,
      "outputs": [
        {
          "output_type": "stream",
          "text": [
            "True\n",
            "False\n",
            "True\n",
            "False\n"
          ],
          "name": "stdout"
        }
      ]
    },
    {
      "cell_type": "code",
      "metadata": {
        "id": "AOcPQi8544M-",
        "outputId": "1db6b452-1854-46a5-ae10-43a320d5dabe",
        "colab": {
          "base_uri": "https://localhost:8080/"
        }
      },
      "source": [
        "#Membership operation\n",
        "#in, not in are two membership operators and it returns boolean value\n",
        "\n",
        "print(True in [10,10.20,10+20j,'Python', True])\n",
        "print(False in (10,10.20,10+20j,'Python', False))\n",
        "print(True in {1,2,3, True})\n",
        "print(True in {True:100, False:200, True:300})\n",
        "print(False in {True:100, False:200, True:300})"
      ],
      "execution_count": 1,
      "outputs": [
        {
          "output_type": "stream",
          "text": [
            "True\n",
            "True\n",
            "True\n",
            "True\n",
            "True\n"
          ],
          "name": "stdout"
        }
      ]
    },
    {
      "cell_type": "code",
      "metadata": {
        "id": "MPa1Lpco46Ja"
      },
      "source": [
        ""
      ],
      "execution_count": null,
      "outputs": []
    }
  ]
}